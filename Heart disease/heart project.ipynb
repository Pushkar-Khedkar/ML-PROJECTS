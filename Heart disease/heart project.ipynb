{
 "cells": [
  {
   "cell_type": "code",
   "execution_count": 1,
   "metadata": {},
   "outputs": [],
   "source": [
    "import pandas as pd\n",
    "import numpy as np\n",
    "import seaborn as sns\n",
    "import matplotlib.pyplot as plt\n",
    "from sklearn.metrics import classification_report"
   ]
  },
  {
   "cell_type": "code",
   "execution_count": 2,
   "metadata": {},
   "outputs": [],
   "source": [
    "df = pd.read_csv(\"heart.csv\")"
   ]
  },
  {
   "cell_type": "code",
   "execution_count": 3,
   "metadata": {},
   "outputs": [
    {
     "data": {
      "text/html": [
       "<div>\n",
       "<style scoped>\n",
       "    .dataframe tbody tr th:only-of-type {\n",
       "        vertical-align: middle;\n",
       "    }\n",
       "\n",
       "    .dataframe tbody tr th {\n",
       "        vertical-align: top;\n",
       "    }\n",
       "\n",
       "    .dataframe thead th {\n",
       "        text-align: right;\n",
       "    }\n",
       "</style>\n",
       "<table border=\"1\" class=\"dataframe\">\n",
       "  <thead>\n",
       "    <tr style=\"text-align: right;\">\n",
       "      <th></th>\n",
       "      <th>age</th>\n",
       "      <th>sex</th>\n",
       "      <th>cp</th>\n",
       "      <th>trestbps</th>\n",
       "      <th>chol</th>\n",
       "      <th>fbs</th>\n",
       "      <th>restecg</th>\n",
       "      <th>thalach</th>\n",
       "      <th>exang</th>\n",
       "      <th>oldpeak</th>\n",
       "      <th>slope</th>\n",
       "      <th>ca</th>\n",
       "      <th>thal</th>\n",
       "      <th>target</th>\n",
       "    </tr>\n",
       "  </thead>\n",
       "  <tbody>\n",
       "    <tr>\n",
       "      <th>0</th>\n",
       "      <td>63</td>\n",
       "      <td>1</td>\n",
       "      <td>3</td>\n",
       "      <td>145</td>\n",
       "      <td>233</td>\n",
       "      <td>1</td>\n",
       "      <td>0</td>\n",
       "      <td>150</td>\n",
       "      <td>0</td>\n",
       "      <td>2.3</td>\n",
       "      <td>0</td>\n",
       "      <td>0</td>\n",
       "      <td>1</td>\n",
       "      <td>1</td>\n",
       "    </tr>\n",
       "    <tr>\n",
       "      <th>1</th>\n",
       "      <td>37</td>\n",
       "      <td>1</td>\n",
       "      <td>2</td>\n",
       "      <td>130</td>\n",
       "      <td>250</td>\n",
       "      <td>0</td>\n",
       "      <td>1</td>\n",
       "      <td>187</td>\n",
       "      <td>0</td>\n",
       "      <td>3.5</td>\n",
       "      <td>0</td>\n",
       "      <td>0</td>\n",
       "      <td>2</td>\n",
       "      <td>1</td>\n",
       "    </tr>\n",
       "    <tr>\n",
       "      <th>2</th>\n",
       "      <td>41</td>\n",
       "      <td>0</td>\n",
       "      <td>1</td>\n",
       "      <td>130</td>\n",
       "      <td>204</td>\n",
       "      <td>0</td>\n",
       "      <td>0</td>\n",
       "      <td>172</td>\n",
       "      <td>0</td>\n",
       "      <td>1.4</td>\n",
       "      <td>2</td>\n",
       "      <td>0</td>\n",
       "      <td>2</td>\n",
       "      <td>1</td>\n",
       "    </tr>\n",
       "    <tr>\n",
       "      <th>3</th>\n",
       "      <td>56</td>\n",
       "      <td>1</td>\n",
       "      <td>1</td>\n",
       "      <td>120</td>\n",
       "      <td>236</td>\n",
       "      <td>0</td>\n",
       "      <td>1</td>\n",
       "      <td>178</td>\n",
       "      <td>0</td>\n",
       "      <td>0.8</td>\n",
       "      <td>2</td>\n",
       "      <td>0</td>\n",
       "      <td>2</td>\n",
       "      <td>1</td>\n",
       "    </tr>\n",
       "    <tr>\n",
       "      <th>4</th>\n",
       "      <td>57</td>\n",
       "      <td>0</td>\n",
       "      <td>0</td>\n",
       "      <td>120</td>\n",
       "      <td>354</td>\n",
       "      <td>0</td>\n",
       "      <td>1</td>\n",
       "      <td>163</td>\n",
       "      <td>1</td>\n",
       "      <td>0.6</td>\n",
       "      <td>2</td>\n",
       "      <td>0</td>\n",
       "      <td>2</td>\n",
       "      <td>1</td>\n",
       "    </tr>\n",
       "  </tbody>\n",
       "</table>\n",
       "</div>"
      ],
      "text/plain": [
       "   age  sex  cp  trestbps  chol  fbs  restecg  thalach  exang  oldpeak  slope  \\\n",
       "0   63    1   3       145   233    1        0      150      0      2.3      0   \n",
       "1   37    1   2       130   250    0        1      187      0      3.5      0   \n",
       "2   41    0   1       130   204    0        0      172      0      1.4      2   \n",
       "3   56    1   1       120   236    0        1      178      0      0.8      2   \n",
       "4   57    0   0       120   354    0        1      163      1      0.6      2   \n",
       "\n",
       "   ca  thal  target  \n",
       "0   0     1       1  \n",
       "1   0     2       1  \n",
       "2   0     2       1  \n",
       "3   0     2       1  \n",
       "4   0     2       1  "
      ]
     },
     "execution_count": 3,
     "metadata": {},
     "output_type": "execute_result"
    }
   ],
   "source": [
    "df.head()"
   ]
  },
  {
   "cell_type": "code",
   "execution_count": 4,
   "metadata": {},
   "outputs": [
    {
     "data": {
      "text/plain": [
       "<matplotlib.axes._subplots.AxesSubplot at 0x1f6fe76de08>"
      ]
     },
     "execution_count": 4,
     "metadata": {},
     "output_type": "execute_result"
    },
    {
     "data": {
      "image/png": "[encoded data removed]",
      "text/plain": [
       "<Figure size 720x720 with 1 Axes>"
      ]
     },
     "metadata": {
      "needs_background": "light"
     },
     "output_type": "display_data"
    }
   ],
   "source": [
    "plt.figure(figsize=(10,10))\n",
    "sns.boxplot(data=df)"
   ]
  },
  {
   "cell_type": "code",
   "execution_count": 5,
   "metadata": {},
   "outputs": [
    {
     "data": {
      "text/plain": [
       "(303, 14)"
      ]
     },
     "execution_count": 5,
     "metadata": {},
     "output_type": "execute_result"
    }
   ],
   "source": [
    "df.shape"
   ]
  },
  {
   "cell_type": "markdown",
   "metadata": {},
   "source": [
    "## outlier treatment"
   ]
  },
  {
   "cell_type": "code",
   "execution_count": 6,
   "metadata": {},
   "outputs": [],
   "source": [
    "def trestbps_(x):\n",
    "    if x>170:\n",
    "        x=np.nan\n",
    "    else:\n",
    "        x=x\n",
    "    return x\n",
    "def chol_(x):\n",
    "    if x>370:\n",
    "        x=np.nan\n",
    "    else:\n",
    "        x=x\n",
    "    return x\n",
    "def thalach_(x):\n",
    "    if x<100:\n",
    "        x=np.nan\n",
    "    else:\n",
    "        x=x\n",
    "    return x"
   ]
  },
  {
   "cell_type": "code",
   "execution_count": 7,
   "metadata": {},
   "outputs": [],
   "source": [
    "temp = df[\"trestbps\"]\n",
    "temp= temp.apply(lambda x:trestbps_(x))\n",
    "temp.dropna(inplace=True)\n",
    "mean_= temp.mean()\n",
    "df[\"trestbps\"]= df[\"trestbps\"].apply(lambda x:trestbps_(x))\n",
    "df[\"trestbps\"].fillna(mean_,inplace=True)"
   ]
  },
  {
   "cell_type": "code",
   "execution_count": 8,
   "metadata": {},
   "outputs": [],
   "source": [
    "temp = df[\"chol\"]\n",
    "temp= temp.apply(lambda x:chol_(x))\n",
    "temp.dropna(inplace=True)\n",
    "mean_= temp.mean()\n",
    "df[\"chol\"]= df[\"chol\"].apply(lambda x:chol_(x))\n",
    "df[\"chol\"].fillna(mean_,inplace=True)"
   ]
  },
  {
   "cell_type": "code",
   "execution_count": 9,
   "metadata": {},
   "outputs": [],
   "source": [
    "temp = df[\"thalach\"]\n",
    "temp= temp.apply(lambda x:thalach_(x))\n",
    "temp.dropna(inplace=True)\n",
    "mean_= temp.mean()\n",
    "df[\"thalach\"]= df[\"thalach\"].apply(lambda x:thalach_(x))\n",
    "df[\"thalach\"].fillna(mean_,inplace=True)"
   ]
  },
  {
   "cell_type": "code",
   "execution_count": 10,
   "metadata": {},
   "outputs": [
    {
     "data": {
      "text/plain": [
       "<matplotlib.axes._subplots.AxesSubplot at 0x1f6febdab88>"
      ]
     },
     "execution_count": 10,
     "metadata": {},
     "output_type": "execute_result"
    },
    {
     "data": {
      "image/png": "[encoded data removed]",
      "text/plain": [
       "<Figure size 720x720 with 1 Axes>"
      ]
     },
     "metadata": {
      "needs_background": "light"
     },
     "output_type": "display_data"
    }
   ],
   "source": [
    "plt.figure(figsize=(10,10))\n",
    "sns.boxplot(data=df)"
   ]
  },
  {
   "cell_type": "markdown",
   "metadata": {},
   "source": [
    "### Checking class balance"
   ]
  },
  {
   "cell_type": "code",
   "execution_count": 11,
   "metadata": {},
   "outputs": [],
   "source": [
    "df_class_balance= pd.DataFrame(df[\"target\"].value_counts()*100/df.shape[0])"
   ]
  },
  {
   "cell_type": "code",
   "execution_count": 12,
   "metadata": {},
   "outputs": [],
   "source": [
    "df_class_balance.rename( columns = {\"target\":\"percentage\"}, inplace=True)"
   ]
  },
  {
   "cell_type": "code",
   "execution_count": 13,
   "metadata": {},
   "outputs": [],
   "source": [
    "df_class_balance.reset_index(inplace=True)"
   ]
  },
  {
   "cell_type": "code",
   "execution_count": 14,
   "metadata": {},
   "outputs": [],
   "source": [
    "df_class_balance.rename( columns = {\"index\":\"class\"}, inplace=True)"
   ]
  },
  {
   "cell_type": "code",
   "execution_count": 15,
   "metadata": {},
   "outputs": [
    {
     "data": {
      "text/html": [
       "<div>\n",
       "<style scoped>\n",
       "    .dataframe tbody tr th:only-of-type {\n",
       "        vertical-align: middle;\n",
       "    }\n",
       "\n",
       "    .dataframe tbody tr th {\n",
       "        vertical-align: top;\n",
       "    }\n",
       "\n",
       "    .dataframe thead th {\n",
       "        text-align: right;\n",
       "    }\n",
       "</style>\n",
       "<table border=\"1\" class=\"dataframe\">\n",
       "  <thead>\n",
       "    <tr style=\"text-align: right;\">\n",
       "      <th></th>\n",
       "      <th>class</th>\n",
       "      <th>percentage</th>\n",
       "    </tr>\n",
       "  </thead>\n",
       "  <tbody>\n",
       "    <tr>\n",
       "      <th>0</th>\n",
       "      <td>1</td>\n",
       "      <td>54.455446</td>\n",
       "    </tr>\n",
       "    <tr>\n",
       "      <th>1</th>\n",
       "      <td>0</td>\n",
       "      <td>45.544554</td>\n",
       "    </tr>\n",
       "  </tbody>\n",
       "</table>\n",
       "</div>"
      ],
      "text/plain": [
       "   class  percentage\n",
       "0      1   54.455446\n",
       "1      0   45.544554"
      ]
     },
     "execution_count": 15,
     "metadata": {},
     "output_type": "execute_result"
    }
   ],
   "source": [
    "df_class_balance      "
   ]
  },
  {
   "cell_type": "markdown",
   "metadata": {},
   "source": [
    "## EDA"
   ]
  },
  {
   "cell_type": "code",
   "execution_count": 16,
   "metadata": {},
   "outputs": [
    {
     "data": {
      "text/plain": [
       "Index(['age', 'sex', 'cp', 'trestbps', 'chol', 'fbs', 'restecg', 'thalach',\n",
       "       'exang', 'oldpeak', 'slope', 'ca', 'thal', 'target'],\n",
       "      dtype='object')"
      ]
     },
     "execution_count": 16,
     "metadata": {},
     "output_type": "execute_result"
    }
   ],
   "source": [
    "df.columns"
   ]
  },
  {
   "cell_type": "code",
   "execution_count": 17,
   "metadata": {},
   "outputs": [
    {
     "data": {
      "text/plain": [
       "age         0\n",
       "sex         0\n",
       "cp          0\n",
       "trestbps    0\n",
       "chol        0\n",
       "fbs         0\n",
       "restecg     0\n",
       "thalach     0\n",
       "exang       0\n",
       "oldpeak     0\n",
       "slope       0\n",
       "ca          0\n",
       "thal        0\n",
       "target      0\n",
       "dtype: int64"
      ]
     },
     "execution_count": 17,
     "metadata": {},
     "output_type": "execute_result"
    }
   ],
   "source": [
    "df.isnull().sum()"
   ]
  },
  {
   "cell_type": "code",
   "execution_count": 18,
   "metadata": {},
   "outputs": [
    {
     "data": {
      "text/html": [
       "<div>\n",
       "<style scoped>\n",
       "    .dataframe tbody tr th:only-of-type {\n",
       "        vertical-align: middle;\n",
       "    }\n",
       "\n",
       "    .dataframe tbody tr th {\n",
       "        vertical-align: top;\n",
       "    }\n",
       "\n",
       "    .dataframe thead th {\n",
       "        text-align: right;\n",
       "    }\n",
       "</style>\n",
       "<table border=\"1\" class=\"dataframe\">\n",
       "  <thead>\n",
       "    <tr style=\"text-align: right;\">\n",
       "      <th></th>\n",
       "      <th>age</th>\n",
       "      <th>sex</th>\n",
       "      <th>cp</th>\n",
       "      <th>trestbps</th>\n",
       "      <th>chol</th>\n",
       "      <th>fbs</th>\n",
       "      <th>restecg</th>\n",
       "      <th>thalach</th>\n",
       "      <th>exang</th>\n",
       "      <th>oldpeak</th>\n",
       "      <th>slope</th>\n",
       "      <th>ca</th>\n",
       "      <th>thal</th>\n",
       "      <th>target</th>\n",
       "    </tr>\n",
       "  </thead>\n",
       "  <tbody>\n",
       "    <tr>\n",
       "      <th>0</th>\n",
       "      <td>63</td>\n",
       "      <td>1</td>\n",
       "      <td>3</td>\n",
       "      <td>145.000000</td>\n",
       "      <td>233.0</td>\n",
       "      <td>1</td>\n",
       "      <td>0</td>\n",
       "      <td>150.0</td>\n",
       "      <td>0</td>\n",
       "      <td>2.3</td>\n",
       "      <td>0</td>\n",
       "      <td>0</td>\n",
       "      <td>1</td>\n",
       "      <td>1</td>\n",
       "    </tr>\n",
       "    <tr>\n",
       "      <th>1</th>\n",
       "      <td>37</td>\n",
       "      <td>1</td>\n",
       "      <td>2</td>\n",
       "      <td>130.000000</td>\n",
       "      <td>250.0</td>\n",
       "      <td>0</td>\n",
       "      <td>1</td>\n",
       "      <td>187.0</td>\n",
       "      <td>0</td>\n",
       "      <td>3.5</td>\n",
       "      <td>0</td>\n",
       "      <td>0</td>\n",
       "      <td>2</td>\n",
       "      <td>1</td>\n",
       "    </tr>\n",
       "    <tr>\n",
       "      <th>2</th>\n",
       "      <td>41</td>\n",
       "      <td>0</td>\n",
       "      <td>1</td>\n",
       "      <td>130.000000</td>\n",
       "      <td>204.0</td>\n",
       "      <td>0</td>\n",
       "      <td>0</td>\n",
       "      <td>172.0</td>\n",
       "      <td>0</td>\n",
       "      <td>1.4</td>\n",
       "      <td>2</td>\n",
       "      <td>0</td>\n",
       "      <td>2</td>\n",
       "      <td>1</td>\n",
       "    </tr>\n",
       "    <tr>\n",
       "      <th>3</th>\n",
       "      <td>56</td>\n",
       "      <td>1</td>\n",
       "      <td>1</td>\n",
       "      <td>120.000000</td>\n",
       "      <td>236.0</td>\n",
       "      <td>0</td>\n",
       "      <td>1</td>\n",
       "      <td>178.0</td>\n",
       "      <td>0</td>\n",
       "      <td>0.8</td>\n",
       "      <td>2</td>\n",
       "      <td>0</td>\n",
       "      <td>2</td>\n",
       "      <td>1</td>\n",
       "    </tr>\n",
       "    <tr>\n",
       "      <th>4</th>\n",
       "      <td>57</td>\n",
       "      <td>0</td>\n",
       "      <td>0</td>\n",
       "      <td>120.000000</td>\n",
       "      <td>354.0</td>\n",
       "      <td>0</td>\n",
       "      <td>1</td>\n",
       "      <td>163.0</td>\n",
       "      <td>1</td>\n",
       "      <td>0.6</td>\n",
       "      <td>2</td>\n",
       "      <td>0</td>\n",
       "      <td>2</td>\n",
       "      <td>1</td>\n",
       "    </tr>\n",
       "    <tr>\n",
       "      <th>5</th>\n",
       "      <td>57</td>\n",
       "      <td>1</td>\n",
       "      <td>0</td>\n",
       "      <td>140.000000</td>\n",
       "      <td>192.0</td>\n",
       "      <td>0</td>\n",
       "      <td>1</td>\n",
       "      <td>148.0</td>\n",
       "      <td>0</td>\n",
       "      <td>0.4</td>\n",
       "      <td>1</td>\n",
       "      <td>0</td>\n",
       "      <td>1</td>\n",
       "      <td>1</td>\n",
       "    </tr>\n",
       "    <tr>\n",
       "      <th>6</th>\n",
       "      <td>56</td>\n",
       "      <td>0</td>\n",
       "      <td>1</td>\n",
       "      <td>140.000000</td>\n",
       "      <td>294.0</td>\n",
       "      <td>0</td>\n",
       "      <td>0</td>\n",
       "      <td>153.0</td>\n",
       "      <td>0</td>\n",
       "      <td>1.3</td>\n",
       "      <td>1</td>\n",
       "      <td>0</td>\n",
       "      <td>2</td>\n",
       "      <td>1</td>\n",
       "    </tr>\n",
       "    <tr>\n",
       "      <th>7</th>\n",
       "      <td>44</td>\n",
       "      <td>1</td>\n",
       "      <td>1</td>\n",
       "      <td>120.000000</td>\n",
       "      <td>263.0</td>\n",
       "      <td>0</td>\n",
       "      <td>1</td>\n",
       "      <td>173.0</td>\n",
       "      <td>0</td>\n",
       "      <td>0.0</td>\n",
       "      <td>2</td>\n",
       "      <td>0</td>\n",
       "      <td>3</td>\n",
       "      <td>1</td>\n",
       "    </tr>\n",
       "    <tr>\n",
       "      <th>8</th>\n",
       "      <td>52</td>\n",
       "      <td>1</td>\n",
       "      <td>2</td>\n",
       "      <td>130.095238</td>\n",
       "      <td>199.0</td>\n",
       "      <td>1</td>\n",
       "      <td>1</td>\n",
       "      <td>162.0</td>\n",
       "      <td>0</td>\n",
       "      <td>0.5</td>\n",
       "      <td>2</td>\n",
       "      <td>0</td>\n",
       "      <td>3</td>\n",
       "      <td>1</td>\n",
       "    </tr>\n",
       "    <tr>\n",
       "      <th>9</th>\n",
       "      <td>57</td>\n",
       "      <td>1</td>\n",
       "      <td>2</td>\n",
       "      <td>150.000000</td>\n",
       "      <td>168.0</td>\n",
       "      <td>0</td>\n",
       "      <td>1</td>\n",
       "      <td>174.0</td>\n",
       "      <td>0</td>\n",
       "      <td>1.6</td>\n",
       "      <td>2</td>\n",
       "      <td>0</td>\n",
       "      <td>2</td>\n",
       "      <td>1</td>\n",
       "    </tr>\n",
       "  </tbody>\n",
       "</table>\n",
       "</div>"
      ],
      "text/plain": [
       "   age  sex  cp    trestbps   chol  fbs  restecg  thalach  exang  oldpeak  \\\n",
       "0   63    1   3  145.000000  233.0    1        0    150.0      0      2.3   \n",
       "1   37    1   2  130.000000  250.0    0        1    187.0      0      3.5   \n",
       "2   41    0   1  130.000000  204.0    0        0    172.0      0      1.4   \n",
       "3   56    1   1  120.000000  236.0    0        1    178.0      0      0.8   \n",
       "4   57    0   0  120.000000  354.0    0        1    163.0      1      0.6   \n",
       "5   57    1   0  140.000000  192.0    0        1    148.0      0      0.4   \n",
       "6   56    0   1  140.000000  294.0    0        0    153.0      0      1.3   \n",
       "7   44    1   1  120.000000  263.0    0        1    173.0      0      0.0   \n",
       "8   52    1   2  130.095238  199.0    1        1    162.0      0      0.5   \n",
       "9   57    1   2  150.000000  168.0    0        1    174.0      0      1.6   \n",
       "\n",
       "   slope  ca  thal  target  \n",
       "0      0   0     1       1  \n",
       "1      0   0     2       1  \n",
       "2      2   0     2       1  \n",
       "3      2   0     2       1  \n",
       "4      2   0     2       1  \n",
       "5      1   0     1       1  \n",
       "6      1   0     2       1  \n",
       "7      2   0     3       1  \n",
       "8      2   0     3       1  \n",
       "9      2   0     2       1  "
      ]
     },
     "execution_count": 18,
     "metadata": {},
     "output_type": "execute_result"
    }
   ],
   "source": [
    "df.head(10)"
   ]
  },
  {
   "cell_type": "code",
   "execution_count": 19,
   "metadata": {},
   "outputs": [
    {
     "data": {
      "text/plain": [
       "age           int64\n",
       "sex           int64\n",
       "cp            int64\n",
       "trestbps    float64\n",
       "chol        float64\n",
       "fbs           int64\n",
       "restecg       int64\n",
       "thalach     float64\n",
       "exang         int64\n",
       "oldpeak     float64\n",
       "slope         int64\n",
       "ca            int64\n",
       "thal          int64\n",
       "target        int64\n",
       "dtype: object"
      ]
     },
     "execution_count": 19,
     "metadata": {},
     "output_type": "execute_result"
    }
   ],
   "source": [
    "df.dtypes"
   ]
  },
  {
   "cell_type": "code",
   "execution_count": 20,
   "metadata": {},
   "outputs": [
    {
     "data": {
      "text/plain": [
       "<matplotlib.lines.Line2D at 0x1f6fc87af48>"
      ]
     },
     "execution_count": 20,
     "metadata": {},
     "output_type": "execute_result"
    },
    {
     "data": {
      "image/png": "[encoded data removed]",
      "text/plain": [
       "<Figure size 432x288 with 1 Axes>"
      ]
     },
     "metadata": {
      "needs_background": "light"
     },
     "output_type": "display_data"
    }
   ],
   "source": [
    "sns.scatterplot(x=\"age\",y=\"chol\",hue=\"target\",data=df)\n",
    "plt.axvline(x=55, color=\"b\", linestyle='solid')\n",
    "plt.axhline(y=350, color=\"b\", linestyle='solid')"
   ]
  },
  {
   "cell_type": "code",
   "execution_count": 21,
   "metadata": {},
   "outputs": [
    {
     "data": {
      "text/plain": [
       "<matplotlib.axes._subplots.AxesSubplot at 0x1f6feecaf08>"
      ]
     },
     "execution_count": 21,
     "metadata": {},
     "output_type": "execute_result"
    },
    {
     "data": {
      "image/png": "[encoded data removed]",
      "text/plain": [
       "<Figure size 432x288 with 1 Axes>"
      ]
     },
     "metadata": {
      "needs_background": "light"
     },
     "output_type": "display_data"
    }
   ],
   "source": [
    "sns.lineplot(x=\"age\",y= \"thalach\", hue=\"target\", data=df)"
   ]
  },
  {
   "cell_type": "markdown",
   "metadata": {},
   "source": [
    "## plain logostic regression"
   ]
  },
  {
   "cell_type": "code",
   "execution_count": 22,
   "metadata": {},
   "outputs": [],
   "source": [
    "from sklearn.linear_model import LogisticRegression\n",
    "from sklearn.metrics import r2_score , mean_squared_error\n",
    "from sklearn.model_selection import train_test_split\n",
    "from sklearn.metrics import precision_score, recall_score, fbeta_score, confusion_matrix"
   ]
  },
  {
   "cell_type": "code",
   "execution_count": 23,
   "metadata": {},
   "outputs": [
    {
     "name": "stdout",
     "output_type": "stream",
     "text": [
      "(242, 13)\n",
      "(61, 13)\n",
      "(242,)\n",
      "(61,)\n"
     ]
    }
   ],
   "source": [
    "#train_test_split\n",
    "x=df.drop(columns=[\"target\"])\n",
    "y=df[\"target\"]\n",
    "x_train,x_test,y_train,y_test = train_test_split(x,y, test_size=0.2,random_state=51)\n",
    "print(x_train.shape)\n",
    "print(x_test.shape)\n",
    "print(y_train.shape)\n",
    "print(y_test.shape)"
   ]
  },
  {
   "cell_type": "code",
   "execution_count": 24,
   "metadata": {},
   "outputs": [],
   "source": [
    "log_model = LogisticRegression(max_iter=1000)"
   ]
  },
  {
   "cell_type": "code",
   "execution_count": 25,
   "metadata": {},
   "outputs": [
    {
     "data": {
      "text/plain": [
       "LogisticRegression(max_iter=1000)"
      ]
     },
     "execution_count": 25,
     "metadata": {},
     "output_type": "execute_result"
    }
   ],
   "source": [
    "log_model.fit(x_train,y_train)"
   ]
  },
  {
   "cell_type": "code",
   "execution_count": 26,
   "metadata": {},
   "outputs": [],
   "source": [
    "y_train_pred= log_model.predict(x_train)"
   ]
  },
  {
   "cell_type": "code",
   "execution_count": 27,
   "metadata": {},
   "outputs": [],
   "source": [
    "y_train_pred_proba = log_model.predict_proba(x_train)"
   ]
  },
  {
   "cell_type": "code",
   "execution_count": 28,
   "metadata": {},
   "outputs": [
    {
     "data": {
      "text/plain": [
       "array([[ 85,  23],\n",
       "       [ 11, 123]], dtype=int64)"
      ]
     },
     "execution_count": 28,
     "metadata": {},
     "output_type": "execute_result"
    }
   ],
   "source": [
    "confusion_matrix(y_train,y_train_pred)"
   ]
  },
  {
   "cell_type": "code",
   "execution_count": 29,
   "metadata": {},
   "outputs": [],
   "source": [
    "p=[]\n",
    "r=[]\n",
    "def all_scores(y_true,y_pred):\n",
    "    precision= precision_score(y_true,y_pred)\n",
    "    recall = recall_score(y_true,y_pred)\n",
    "    f1_score = fbeta_score(y_true,y_pred,beta=1)\n",
    "    print(\"Precision:{} Recall:{} f1 score:{}\".format(precision,recall,f1_score))\n",
    "    p.append(precision)\n",
    "    r.append(recall)"
   ]
  },
  {
   "cell_type": "code",
   "execution_count": 30,
   "metadata": {},
   "outputs": [
    {
     "name": "stdout",
     "output_type": "stream",
     "text": [
      "Precision:0.8424657534246576 Recall:0.917910447761194 f1 score:0.8785714285714287\n"
     ]
    }
   ],
   "source": [
    "all_scores(y_train,y_train_pred)   #results for plain logistic regression trainingset"
   ]
  },
  {
   "cell_type": "code",
   "execution_count": 31,
   "metadata": {},
   "outputs": [],
   "source": [
    "y_test_pred = log_model.predict(x_test)"
   ]
  },
  {
   "cell_type": "code",
   "execution_count": 32,
   "metadata": {},
   "outputs": [
    {
     "name": "stdout",
     "output_type": "stream",
     "text": [
      "Precision:0.7941176470588235 Recall:0.8709677419354839 f1 score:0.8307692307692308\n"
     ]
    }
   ],
   "source": [
    "all_scores(y_test,y_test_pred)"
   ]
  },
  {
   "cell_type": "code",
   "execution_count": 33,
   "metadata": {},
   "outputs": [],
   "source": [
    "def threshold_change(predicted_proba,threshold):\n",
    "    l=[]\n",
    "    for i in range(0,len(predicted_proba)):\n",
    "        if predicted_proba[i][0] >=threshold:\n",
    "            l.append(0)\n",
    "        else:\n",
    "            l.append(1)\n",
    "    y_pred_proba= np.array(l)\n",
    "    return y_pred_proba"
   ]
  },
  {
   "cell_type": "code",
   "execution_count": 34,
   "metadata": {},
   "outputs": [
    {
     "data": {
      "text/plain": [
       "array([0, 0, 0, 1, 0, 1, 1, 1, 0, 1, 0, 1, 1, 1, 0, 0, 1, 1, 1, 0, 1, 1,\n",
       "       1, 0, 1, 0, 1, 1, 1, 0, 1, 1, 1, 1, 1, 1, 1, 1, 1, 0, 0, 1, 0, 1,\n",
       "       0, 0, 1, 1, 0, 0, 1, 0, 1, 1, 0, 0, 0, 1, 1, 0, 0, 1, 1, 1, 1, 0,\n",
       "       1, 1, 1, 0, 0, 1, 1, 1, 0, 0, 1, 0, 1, 0, 1, 1, 1, 1, 0, 1, 1, 1,\n",
       "       1, 1, 1, 0, 1, 1, 0, 0, 1, 0, 0, 1, 0, 1, 0, 1, 0, 1, 1, 1, 0, 0,\n",
       "       1, 1, 1, 0, 0, 0, 0, 0, 0, 0, 1, 1, 1, 0, 1, 1, 0, 1, 1, 0, 0, 1,\n",
       "       0, 1, 1, 0, 1, 0, 1, 1, 0, 1, 1, 1, 1, 0, 1, 0, 0, 1, 1, 1, 0, 1,\n",
       "       1, 0, 1, 0, 0, 1, 1, 1, 0, 1, 0, 1, 1, 1, 1, 0, 1, 0, 0, 1, 0, 1,\n",
       "       1, 1, 0, 0, 0, 1, 1, 0, 1, 0, 1, 0, 0, 0, 0, 1, 0, 1, 1, 1, 1, 1,\n",
       "       1, 1, 1, 0, 1, 1, 1, 1, 1, 1, 1, 0, 1, 1, 0, 1, 1, 0, 0, 0, 0, 1,\n",
       "       0, 0, 1, 0, 0, 1, 0, 1, 1, 1, 0, 1, 1, 1, 1, 1, 1, 1, 1, 0, 0, 1])"
      ]
     },
     "execution_count": 34,
     "metadata": {},
     "output_type": "execute_result"
    }
   ],
   "source": [
    "threshold_change(y_train_pred_proba,0.5)"
   ]
  },
  {
   "cell_type": "code",
   "execution_count": 35,
   "metadata": {},
   "outputs": [
    {
     "name": "stdout",
     "output_type": "stream",
     "text": [
      "threshold:0.1\n",
      "Precision:0.9622641509433962 Recall:0.3805970149253731 f1 score:0.5454545454545454\n",
      "threshold:0.2\n",
      "Precision:0.9285714285714286 Recall:0.582089552238806 f1 score:0.7155963302752294\n",
      "threshold:0.3\n",
      "Precision:0.9122807017543859 Recall:0.7761194029850746 f1 score:0.8387096774193548\n",
      "threshold:0.4\n",
      "Precision:0.8676470588235294 Recall:0.8805970149253731 f1 score:0.874074074074074\n",
      "threshold:0.5\n",
      "Precision:0.8424657534246576 Recall:0.917910447761194 f1 score:0.8785714285714287\n",
      "threshold:0.6\n",
      "Precision:0.802547770700637 Recall:0.9402985074626866 f1 score:0.865979381443299\n",
      "threshold:0.7\n",
      "Precision:0.7839506172839507 Recall:0.9477611940298507 f1 score:0.8581081081081082\n",
      "threshold:0.8\n",
      "Precision:0.7456647398843931 Recall:0.9626865671641791 f1 score:0.8403908794788273\n",
      "threshold:0.9\n",
      "Precision:0.6947368421052632 Recall:0.9850746268656716 f1 score:0.8148148148148148\n"
     ]
    }
   ],
   "source": [
    "thrsh = np.arange(1,10)/10\n",
    "for j in thrsh:\n",
    "    print(\"threshold:{}\".format(j))\n",
    "    y_train_pred_probs = threshold_change(y_train_pred_proba,j)\n",
    "    all_scores(y_train,y_train_pred_probs)"
   ]
  },
  {
   "cell_type": "markdown",
   "metadata": {},
   "source": [
    "## GridsearchCV on log model"
   ]
  },
  {
   "cell_type": "code",
   "execution_count": 36,
   "metadata": {},
   "outputs": [],
   "source": [
    "from sklearn.model_selection import GridSearchCV"
   ]
  },
  {
   "cell_type": "code",
   "execution_count": 37,
   "metadata": {},
   "outputs": [],
   "source": [
    "parameters = {\"C\":[i for i in np.arange(1,11)/10], \"class_weight\":[None,\"balanced\"]}"
   ]
  },
  {
   "cell_type": "code",
   "execution_count": null,
   "metadata": {},
   "outputs": [],
   "source": []
  },
  {
   "cell_type": "code",
   "execution_count": 38,
   "metadata": {},
   "outputs": [],
   "source": [
    "gs_log = GridSearchCV(log_model, param_grid=parameters, cv=10)"
   ]
  },
  {
   "cell_type": "code",
   "execution_count": 39,
   "metadata": {},
   "outputs": [
    {
     "name": "stderr",
     "output_type": "stream",
     "text": [
      "C:\\Users\\Pushkar\\anaconda3\\lib\\site-packages\\sklearn\\linear_model\\_logistic.py:765: ConvergenceWarning: lbfgs failed to converge (status=1):\n",
      "STOP: TOTAL NO. of ITERATIONS REACHED LIMIT.\n",
      "\n",
      "Increase the number of iterations (max_iter) or scale the data as shown in:\n",
      "    https://scikit-learn.org/stable/modules/preprocessing.html\n",
      "Please also refer to the documentation for alternative solver options:\n",
      "    https://scikit-learn.org/stable/modules/linear_model.html#logistic-regression\n",
      "  extra_warning_msg=_LOGISTIC_SOLVER_CONVERGENCE_MSG)\n"
     ]
    },
    {
     "data": {
      "text/plain": [
       "GridSearchCV(cv=10, estimator=LogisticRegression(max_iter=1000),\n",
       "             param_grid={'C': [0.1, 0.2, 0.3, 0.4, 0.5, 0.6, 0.7, 0.8, 0.9,\n",
       "                               1.0],\n",
       "                         'class_weight': [None, 'balanced']})"
      ]
     },
     "execution_count": 39,
     "metadata": {},
     "output_type": "execute_result"
    }
   ],
   "source": [
    "gs_log.fit(x_train,y_train)"
   ]
  },
  {
   "cell_type": "code",
   "execution_count": 40,
   "metadata": {},
   "outputs": [
    {
     "data": {
      "text/plain": [
       "LogisticRegression(C=0.2, class_weight='balanced', max_iter=1000)"
      ]
     },
     "execution_count": 40,
     "metadata": {},
     "output_type": "execute_result"
    }
   ],
   "source": [
    "gs_log.best_estimator_"
   ]
  },
  {
   "cell_type": "code",
   "execution_count": 41,
   "metadata": {},
   "outputs": [],
   "source": [
    "log_model= LogisticRegression(C=0.1, class_weight='balanced', dual=False,\n",
    "                   fit_intercept=True, intercept_scaling=1, l1_ratio=None,\n",
    "                   max_iter=1000, multi_class='auto', n_jobs=None, penalty='l2',\n",
    "                   random_state=None, solver='lbfgs', tol=0.0001, verbose=0,\n",
    "                   warm_start=False)"
   ]
  },
  {
   "cell_type": "code",
   "execution_count": 42,
   "metadata": {},
   "outputs": [
    {
     "data": {
      "text/plain": [
       "LogisticRegression(C=0.1, class_weight='balanced', max_iter=1000)"
      ]
     },
     "execution_count": 42,
     "metadata": {},
     "output_type": "execute_result"
    }
   ],
   "source": [
    "log_model.fit(x_train,y_train)"
   ]
  },
  {
   "cell_type": "code",
   "execution_count": 43,
   "metadata": {},
   "outputs": [
    {
     "name": "stdout",
     "output_type": "stream",
     "text": [
      "train\n",
      "precision:0.8378378378378378\n",
      "recall:0.9253731343283582\n",
      "\n",
      "\n",
      "test\n",
      "precision:0.8\n",
      "recall:0.9032258064516129\n"
     ]
    }
   ],
   "source": [
    "y_pred_train = log_model.predict(x_train)\n",
    "y_pred_test = log_model.predict(x_test)\n",
    "precision_train= precision_score(y_train,y_pred_train)\n",
    "recall_train=recall_score(y_train,y_pred_train)\n",
    "precision_test=precision_score(y_test,y_pred_test)\n",
    "recall_test=recall_score(y_test,y_pred_test)\n",
    "print(\"train\")\n",
    "print(f\"precision:{precision_train}\")\n",
    "print(f\"recall:{recall_train}\")\n",
    "print(\"\\n\")\n",
    "print(\"test\")\n",
    "print(f\"precision:{precision_test}\")\n",
    "print(f\"recall:{recall_test}\")"
   ]
  },
  {
   "cell_type": "markdown",
   "metadata": {},
   "source": [
    "## lets try standardizing"
   ]
  },
  {
   "cell_type": "code",
   "execution_count": 44,
   "metadata": {},
   "outputs": [],
   "source": [
    "from sklearn.preprocessing import StandardScaler"
   ]
  },
  {
   "cell_type": "code",
   "execution_count": 45,
   "metadata": {},
   "outputs": [],
   "source": [
    "sc=StandardScaler()\n",
    "x_train = sc.fit_transform(x_train)\n",
    "x_test = sc.transform(x_test)"
   ]
  },
  {
   "cell_type": "code",
   "execution_count": 46,
   "metadata": {},
   "outputs": [],
   "source": [
    "y_train_pred= log_model.predict(x_train)\n",
    "y_test_pred = log_model.predict(x_test)"
   ]
  },
  {
   "cell_type": "code",
   "execution_count": 47,
   "metadata": {},
   "outputs": [
    {
     "name": "stdout",
     "output_type": "stream",
     "text": [
      "Precision:0.7005347593582888 Recall:0.9776119402985075 f1 score:0.8161993769470405\n"
     ]
    }
   ],
   "source": [
    "all_scores(y_train,y_train_pred) "
   ]
  },
  {
   "cell_type": "code",
   "execution_count": 48,
   "metadata": {},
   "outputs": [
    {
     "name": "stdout",
     "output_type": "stream",
     "text": [
      "Precision:0.6818181818181818 Recall:0.967741935483871 f1 score:0.8\n"
     ]
    }
   ],
   "source": [
    "all_scores(y_test,y_test_pred)"
   ]
  },
  {
   "cell_type": "code",
   "execution_count": 49,
   "metadata": {},
   "outputs": [],
   "source": [
    "# performance is getting bad after standardizing, not a good idea"
   ]
  },
  {
   "cell_type": "markdown",
   "metadata": {},
   "source": [
    "## AUC-ROC CURVE"
   ]
  },
  {
   "cell_type": "code",
   "execution_count": 50,
   "metadata": {},
   "outputs": [],
   "source": [
    "y_test_proba = log_model.predict_proba(x_test)"
   ]
  },
  {
   "cell_type": "markdown",
   "metadata": {},
   "source": [
    "from sklearn.metrics import roc_curve"
   ]
  },
  {
   "cell_type": "code",
   "execution_count": 51,
   "metadata": {},
   "outputs": [],
   "source": [
    "from sklearn.metrics import roc_curve\n",
    "fpr, tpr, thresholds = roc_curve(y_train, [a[1] for a in y_train_pred_proba])\n",
    "fprte, tprte, thresholdste = roc_curve(y_test, [j[1] for j in y_test_proba])"
   ]
  },
  {
   "cell_type": "code",
   "execution_count": 52,
   "metadata": {},
   "outputs": [
    {
     "data": {
      "text/plain": [
       "<matplotlib.axes._subplots.AxesSubplot at 0x1f6ff30be48>"
      ]
     },
     "execution_count": 52,
     "metadata": {},
     "output_type": "execute_result"
    },
    {
     "data": {
      "image/png": "[encoded data removed]",
      "text/plain": [
       "<Figure size 432x288 with 1 Axes>"
      ]
     },
     "metadata": {
      "needs_background": "light"
     },
     "output_type": "display_data"
    }
   ],
   "source": [
    "sns.lineplot(x=fpr, y=tpr)"
   ]
  },
  {
   "cell_type": "code",
   "execution_count": 53,
   "metadata": {},
   "outputs": [
    {
     "data": {
      "text/plain": [
       "<matplotlib.axes._subplots.AxesSubplot at 0x1f6ff394508>"
      ]
     },
     "execution_count": 53,
     "metadata": {},
     "output_type": "execute_result"
    },
    {
     "data": {
      "image/png": "[encoded data removed]",
      "text/plain": [
       "<Figure size 432x288 with 1 Axes>"
      ]
     },
     "metadata": {
      "needs_background": "light"
     },
     "output_type": "display_data"
    }
   ],
   "source": [
    "sns.lineplot(x=fprte, y=tprte)"
   ]
  },
  {
   "cell_type": "code",
   "execution_count": 54,
   "metadata": {},
   "outputs": [],
   "source": [
    "df_roc1= pd.DataFrame(thresholds, columns=[\"thresholds train\"])"
   ]
  },
  {
   "cell_type": "code",
   "execution_count": 55,
   "metadata": {},
   "outputs": [],
   "source": [
    "df_roc1[\"tpr\"] = tpr"
   ]
  },
  {
   "cell_type": "code",
   "execution_count": 56,
   "metadata": {},
   "outputs": [],
   "source": [
    "df_roc1[\"fpr\"] = fpr"
   ]
  },
  {
   "cell_type": "code",
   "execution_count": 57,
   "metadata": {},
   "outputs": [
    {
     "data": {
      "text/html": [
       "<div>\n",
       "<style scoped>\n",
       "    .dataframe tbody tr th:only-of-type {\n",
       "        vertical-align: middle;\n",
       "    }\n",
       "\n",
       "    .dataframe tbody tr th {\n",
       "        vertical-align: top;\n",
       "    }\n",
       "\n",
       "    .dataframe thead th {\n",
       "        text-align: right;\n",
       "    }\n",
       "</style>\n",
       "<table border=\"1\" class=\"dataframe\">\n",
       "  <thead>\n",
       "    <tr style=\"text-align: right;\">\n",
       "      <th></th>\n",
       "      <th>thresholds train</th>\n",
       "      <th>tpr</th>\n",
       "      <th>fpr</th>\n",
       "    </tr>\n",
       "  </thead>\n",
       "  <tbody>\n",
       "    <tr>\n",
       "      <th>0</th>\n",
       "      <td>1.995522</td>\n",
       "      <td>0.000000</td>\n",
       "      <td>0.000000</td>\n",
       "    </tr>\n",
       "    <tr>\n",
       "      <th>1</th>\n",
       "      <td>0.995522</td>\n",
       "      <td>0.007463</td>\n",
       "      <td>0.000000</td>\n",
       "    </tr>\n",
       "    <tr>\n",
       "      <th>2</th>\n",
       "      <td>0.965232</td>\n",
       "      <td>0.194030</td>\n",
       "      <td>0.000000</td>\n",
       "    </tr>\n",
       "    <tr>\n",
       "      <th>3</th>\n",
       "      <td>0.962604</td>\n",
       "      <td>0.194030</td>\n",
       "      <td>0.009259</td>\n",
       "    </tr>\n",
       "    <tr>\n",
       "      <th>4</th>\n",
       "      <td>0.937558</td>\n",
       "      <td>0.283582</td>\n",
       "      <td>0.009259</td>\n",
       "    </tr>\n",
       "    <tr>\n",
       "      <th>5</th>\n",
       "      <td>0.931973</td>\n",
       "      <td>0.283582</td>\n",
       "      <td>0.018519</td>\n",
       "    </tr>\n",
       "    <tr>\n",
       "      <th>6</th>\n",
       "      <td>0.888658</td>\n",
       "      <td>0.410448</td>\n",
       "      <td>0.018519</td>\n",
       "    </tr>\n",
       "    <tr>\n",
       "      <th>7</th>\n",
       "      <td>0.888626</td>\n",
       "      <td>0.410448</td>\n",
       "      <td>0.027778</td>\n",
       "    </tr>\n",
       "    <tr>\n",
       "      <th>8</th>\n",
       "      <td>0.883299</td>\n",
       "      <td>0.425373</td>\n",
       "      <td>0.027778</td>\n",
       "    </tr>\n",
       "    <tr>\n",
       "      <th>9</th>\n",
       "      <td>0.878619</td>\n",
       "      <td>0.425373</td>\n",
       "      <td>0.037037</td>\n",
       "    </tr>\n",
       "    <tr>\n",
       "      <th>10</th>\n",
       "      <td>0.875249</td>\n",
       "      <td>0.440299</td>\n",
       "      <td>0.037037</td>\n",
       "    </tr>\n",
       "    <tr>\n",
       "      <th>11</th>\n",
       "      <td>0.870537</td>\n",
       "      <td>0.440299</td>\n",
       "      <td>0.046296</td>\n",
       "    </tr>\n",
       "    <tr>\n",
       "      <th>12</th>\n",
       "      <td>0.805978</td>\n",
       "      <td>0.574627</td>\n",
       "      <td>0.046296</td>\n",
       "    </tr>\n",
       "    <tr>\n",
       "      <th>13</th>\n",
       "      <td>0.803778</td>\n",
       "      <td>0.574627</td>\n",
       "      <td>0.055556</td>\n",
       "    </tr>\n",
       "    <tr>\n",
       "      <th>14</th>\n",
       "      <td>0.793071</td>\n",
       "      <td>0.597015</td>\n",
       "      <td>0.055556</td>\n",
       "    </tr>\n",
       "    <tr>\n",
       "      <th>15</th>\n",
       "      <td>0.792978</td>\n",
       "      <td>0.597015</td>\n",
       "      <td>0.064815</td>\n",
       "    </tr>\n",
       "    <tr>\n",
       "      <th>16</th>\n",
       "      <td>0.751762</td>\n",
       "      <td>0.716418</td>\n",
       "      <td>0.064815</td>\n",
       "    </tr>\n",
       "    <tr>\n",
       "      <th>17</th>\n",
       "      <td>0.746768</td>\n",
       "      <td>0.716418</td>\n",
       "      <td>0.074074</td>\n",
       "    </tr>\n",
       "    <tr>\n",
       "      <th>18</th>\n",
       "      <td>0.741810</td>\n",
       "      <td>0.731343</td>\n",
       "      <td>0.074074</td>\n",
       "    </tr>\n",
       "    <tr>\n",
       "      <th>19</th>\n",
       "      <td>0.738228</td>\n",
       "      <td>0.731343</td>\n",
       "      <td>0.083333</td>\n",
       "    </tr>\n",
       "    <tr>\n",
       "      <th>20</th>\n",
       "      <td>0.709541</td>\n",
       "      <td>0.776119</td>\n",
       "      <td>0.083333</td>\n",
       "    </tr>\n",
       "    <tr>\n",
       "      <th>21</th>\n",
       "      <td>0.701724</td>\n",
       "      <td>0.776119</td>\n",
       "      <td>0.092593</td>\n",
       "    </tr>\n",
       "    <tr>\n",
       "      <th>22</th>\n",
       "      <td>0.687560</td>\n",
       "      <td>0.813433</td>\n",
       "      <td>0.092593</td>\n",
       "    </tr>\n",
       "    <tr>\n",
       "      <th>23</th>\n",
       "      <td>0.676216</td>\n",
       "      <td>0.813433</td>\n",
       "      <td>0.129630</td>\n",
       "    </tr>\n",
       "    <tr>\n",
       "      <th>24</th>\n",
       "      <td>0.675131</td>\n",
       "      <td>0.820896</td>\n",
       "      <td>0.129630</td>\n",
       "    </tr>\n",
       "    <tr>\n",
       "      <th>25</th>\n",
       "      <td>0.667466</td>\n",
       "      <td>0.820896</td>\n",
       "      <td>0.138889</td>\n",
       "    </tr>\n",
       "    <tr>\n",
       "      <th>26</th>\n",
       "      <td>0.654899</td>\n",
       "      <td>0.835821</td>\n",
       "      <td>0.138889</td>\n",
       "    </tr>\n",
       "    <tr>\n",
       "      <th>27</th>\n",
       "      <td>0.641705</td>\n",
       "      <td>0.835821</td>\n",
       "      <td>0.157407</td>\n",
       "    </tr>\n",
       "    <tr>\n",
       "      <th>28</th>\n",
       "      <td>0.634273</td>\n",
       "      <td>0.858209</td>\n",
       "      <td>0.157407</td>\n",
       "    </tr>\n",
       "    <tr>\n",
       "      <th>29</th>\n",
       "      <td>0.623318</td>\n",
       "      <td>0.858209</td>\n",
       "      <td>0.166667</td>\n",
       "    </tr>\n",
       "    <tr>\n",
       "      <th>30</th>\n",
       "      <td>0.623028</td>\n",
       "      <td>0.873134</td>\n",
       "      <td>0.166667</td>\n",
       "    </tr>\n",
       "    <tr>\n",
       "      <th>31</th>\n",
       "      <td>0.610139</td>\n",
       "      <td>0.880597</td>\n",
       "      <td>0.166667</td>\n",
       "    </tr>\n",
       "    <tr>\n",
       "      <th>32</th>\n",
       "      <td>0.599533</td>\n",
       "      <td>0.880597</td>\n",
       "      <td>0.175926</td>\n",
       "    </tr>\n",
       "    <tr>\n",
       "      <th>33</th>\n",
       "      <td>0.585939</td>\n",
       "      <td>0.895522</td>\n",
       "      <td>0.175926</td>\n",
       "    </tr>\n",
       "    <tr>\n",
       "      <th>34</th>\n",
       "      <td>0.568273</td>\n",
       "      <td>0.895522</td>\n",
       "      <td>0.185185</td>\n",
       "    </tr>\n",
       "    <tr>\n",
       "      <th>35</th>\n",
       "      <td>0.549706</td>\n",
       "      <td>0.910448</td>\n",
       "      <td>0.185185</td>\n",
       "    </tr>\n",
       "    <tr>\n",
       "      <th>36</th>\n",
       "      <td>0.538225</td>\n",
       "      <td>0.910448</td>\n",
       "      <td>0.212963</td>\n",
       "    </tr>\n",
       "    <tr>\n",
       "      <th>37</th>\n",
       "      <td>0.517604</td>\n",
       "      <td>0.917910</td>\n",
       "      <td>0.212963</td>\n",
       "    </tr>\n",
       "    <tr>\n",
       "      <th>38</th>\n",
       "      <td>0.442205</td>\n",
       "      <td>0.917910</td>\n",
       "      <td>0.268519</td>\n",
       "    </tr>\n",
       "    <tr>\n",
       "      <th>39</th>\n",
       "      <td>0.435336</td>\n",
       "      <td>0.925373</td>\n",
       "      <td>0.268519</td>\n",
       "    </tr>\n",
       "    <tr>\n",
       "      <th>40</th>\n",
       "      <td>0.422418</td>\n",
       "      <td>0.925373</td>\n",
       "      <td>0.287037</td>\n",
       "    </tr>\n",
       "    <tr>\n",
       "      <th>41</th>\n",
       "      <td>0.400364</td>\n",
       "      <td>0.940299</td>\n",
       "      <td>0.287037</td>\n",
       "    </tr>\n",
       "    <tr>\n",
       "      <th>42</th>\n",
       "      <td>0.338544</td>\n",
       "      <td>0.940299</td>\n",
       "      <td>0.324074</td>\n",
       "    </tr>\n",
       "    <tr>\n",
       "      <th>43</th>\n",
       "      <td>0.316629</td>\n",
       "      <td>0.947761</td>\n",
       "      <td>0.324074</td>\n",
       "    </tr>\n",
       "    <tr>\n",
       "      <th>44</th>\n",
       "      <td>0.236408</td>\n",
       "      <td>0.947761</td>\n",
       "      <td>0.351852</td>\n",
       "    </tr>\n",
       "    <tr>\n",
       "      <th>45</th>\n",
       "      <td>0.228356</td>\n",
       "      <td>0.955224</td>\n",
       "      <td>0.351852</td>\n",
       "    </tr>\n",
       "    <tr>\n",
       "      <th>46</th>\n",
       "      <td>0.210729</td>\n",
       "      <td>0.955224</td>\n",
       "      <td>0.388889</td>\n",
       "    </tr>\n",
       "    <tr>\n",
       "      <th>47</th>\n",
       "      <td>0.209703</td>\n",
       "      <td>0.962687</td>\n",
       "      <td>0.388889</td>\n",
       "    </tr>\n",
       "    <tr>\n",
       "      <th>48</th>\n",
       "      <td>0.208019</td>\n",
       "      <td>0.962687</td>\n",
       "      <td>0.407407</td>\n",
       "    </tr>\n",
       "    <tr>\n",
       "      <th>49</th>\n",
       "      <td>0.189903</td>\n",
       "      <td>0.977612</td>\n",
       "      <td>0.407407</td>\n",
       "    </tr>\n",
       "    <tr>\n",
       "      <th>50</th>\n",
       "      <td>0.168606</td>\n",
       "      <td>0.977612</td>\n",
       "      <td>0.462963</td>\n",
       "    </tr>\n",
       "    <tr>\n",
       "      <th>51</th>\n",
       "      <td>0.159087</td>\n",
       "      <td>0.985075</td>\n",
       "      <td>0.462963</td>\n",
       "    </tr>\n",
       "    <tr>\n",
       "      <th>52</th>\n",
       "      <td>0.104468</td>\n",
       "      <td>0.985075</td>\n",
       "      <td>0.537037</td>\n",
       "    </tr>\n",
       "    <tr>\n",
       "      <th>53</th>\n",
       "      <td>0.099356</td>\n",
       "      <td>0.992537</td>\n",
       "      <td>0.537037</td>\n",
       "    </tr>\n",
       "    <tr>\n",
       "      <th>54</th>\n",
       "      <td>0.077413</td>\n",
       "      <td>0.992537</td>\n",
       "      <td>0.620370</td>\n",
       "    </tr>\n",
       "    <tr>\n",
       "      <th>55</th>\n",
       "      <td>0.075009</td>\n",
       "      <td>1.000000</td>\n",
       "      <td>0.620370</td>\n",
       "    </tr>\n",
       "    <tr>\n",
       "      <th>56</th>\n",
       "      <td>0.001273</td>\n",
       "      <td>1.000000</td>\n",
       "      <td>1.000000</td>\n",
       "    </tr>\n",
       "  </tbody>\n",
       "</table>\n",
       "</div>"
      ],
      "text/plain": [
       "    thresholds train       tpr       fpr\n",
       "0           1.995522  0.000000  0.000000\n",
       "1           0.995522  0.007463  0.000000\n",
       "2           0.965232  0.194030  0.000000\n",
       "3           0.962604  0.194030  0.009259\n",
       "4           0.937558  0.283582  0.009259\n",
       "5           0.931973  0.283582  0.018519\n",
       "6           0.888658  0.410448  0.018519\n",
       "7           0.888626  0.410448  0.027778\n",
       "8           0.883299  0.425373  0.027778\n",
       "9           0.878619  0.425373  0.037037\n",
       "10          0.875249  0.440299  0.037037\n",
       "11          0.870537  0.440299  0.046296\n",
       "12          0.805978  0.574627  0.046296\n",
       "13          0.803778  0.574627  0.055556\n",
       "14          0.793071  0.597015  0.055556\n",
       "15          0.792978  0.597015  0.064815\n",
       "16          0.751762  0.716418  0.064815\n",
       "17          0.746768  0.716418  0.074074\n",
       "18          0.741810  0.731343  0.074074\n",
       "19          0.738228  0.731343  0.083333\n",
       "20          0.709541  0.776119  0.083333\n",
       "21          0.701724  0.776119  0.092593\n",
       "22          0.687560  0.813433  0.092593\n",
       "23          0.676216  0.813433  0.129630\n",
       "24          0.675131  0.820896  0.129630\n",
       "25          0.667466  0.820896  0.138889\n",
       "26          0.654899  0.835821  0.138889\n",
       "27          0.641705  0.835821  0.157407\n",
       "28          0.634273  0.858209  0.157407\n",
       "29          0.623318  0.858209  0.166667\n",
       "30          0.623028  0.873134  0.166667\n",
       "31          0.610139  0.880597  0.166667\n",
       "32          0.599533  0.880597  0.175926\n",
       "33          0.585939  0.895522  0.175926\n",
       "34          0.568273  0.895522  0.185185\n",
       "35          0.549706  0.910448  0.185185\n",
       "36          0.538225  0.910448  0.212963\n",
       "37          0.517604  0.917910  0.212963\n",
       "38          0.442205  0.917910  0.268519\n",
       "39          0.435336  0.925373  0.268519\n",
       "40          0.422418  0.925373  0.287037\n",
       "41          0.400364  0.940299  0.287037\n",
       "42          0.338544  0.940299  0.324074\n",
       "43          0.316629  0.947761  0.324074\n",
       "44          0.236408  0.947761  0.351852\n",
       "45          0.228356  0.955224  0.351852\n",
       "46          0.210729  0.955224  0.388889\n",
       "47          0.209703  0.962687  0.388889\n",
       "48          0.208019  0.962687  0.407407\n",
       "49          0.189903  0.977612  0.407407\n",
       "50          0.168606  0.977612  0.462963\n",
       "51          0.159087  0.985075  0.462963\n",
       "52          0.104468  0.985075  0.537037\n",
       "53          0.099356  0.992537  0.537037\n",
       "54          0.077413  0.992537  0.620370\n",
       "55          0.075009  1.000000  0.620370\n",
       "56          0.001273  1.000000  1.000000"
      ]
     },
     "execution_count": 57,
     "metadata": {},
     "output_type": "execute_result"
    }
   ],
   "source": [
    "df_roc1"
   ]
  },
  {
   "cell_type": "code",
   "execution_count": 58,
   "metadata": {},
   "outputs": [],
   "source": [
    "df_roc2= pd.DataFrame(thresholdste, columns=[\"thresholds test\"])"
   ]
  },
  {
   "cell_type": "code",
   "execution_count": 59,
   "metadata": {},
   "outputs": [],
   "source": [
    "df_roc2[\"tpr\"] = tprte"
   ]
  },
  {
   "cell_type": "code",
   "execution_count": 60,
   "metadata": {},
   "outputs": [],
   "source": [
    "df_roc2[\"fpr\"] = fprte"
   ]
  },
  {
   "cell_type": "code",
   "execution_count": 61,
   "metadata": {},
   "outputs": [
    {
     "data": {
      "text/html": [
       "<div>\n",
       "<style scoped>\n",
       "    .dataframe tbody tr th:only-of-type {\n",
       "        vertical-align: middle;\n",
       "    }\n",
       "\n",
       "    .dataframe tbody tr th {\n",
       "        vertical-align: top;\n",
       "    }\n",
       "\n",
       "    .dataframe thead th {\n",
       "        text-align: right;\n",
       "    }\n",
       "</style>\n",
       "<table border=\"1\" class=\"dataframe\">\n",
       "  <thead>\n",
       "    <tr style=\"text-align: right;\">\n",
       "      <th></th>\n",
       "      <th>thresholds test</th>\n",
       "      <th>tpr</th>\n",
       "      <th>fpr</th>\n",
       "    </tr>\n",
       "  </thead>\n",
       "  <tbody>\n",
       "    <tr>\n",
       "      <th>0</th>\n",
       "      <td>1.994698</td>\n",
       "      <td>0.000000</td>\n",
       "      <td>0.000000</td>\n",
       "    </tr>\n",
       "    <tr>\n",
       "      <th>1</th>\n",
       "      <td>0.994698</td>\n",
       "      <td>0.032258</td>\n",
       "      <td>0.000000</td>\n",
       "    </tr>\n",
       "    <tr>\n",
       "      <th>2</th>\n",
       "      <td>0.974147</td>\n",
       "      <td>0.387097</td>\n",
       "      <td>0.000000</td>\n",
       "    </tr>\n",
       "    <tr>\n",
       "      <th>3</th>\n",
       "      <td>0.972134</td>\n",
       "      <td>0.387097</td>\n",
       "      <td>0.066667</td>\n",
       "    </tr>\n",
       "    <tr>\n",
       "      <th>4</th>\n",
       "      <td>0.941434</td>\n",
       "      <td>0.580645</td>\n",
       "      <td>0.066667</td>\n",
       "    </tr>\n",
       "    <tr>\n",
       "      <th>5</th>\n",
       "      <td>0.938162</td>\n",
       "      <td>0.580645</td>\n",
       "      <td>0.100000</td>\n",
       "    </tr>\n",
       "    <tr>\n",
       "      <th>6</th>\n",
       "      <td>0.893191</td>\n",
       "      <td>0.709677</td>\n",
       "      <td>0.100000</td>\n",
       "    </tr>\n",
       "    <tr>\n",
       "      <th>7</th>\n",
       "      <td>0.892211</td>\n",
       "      <td>0.709677</td>\n",
       "      <td>0.133333</td>\n",
       "    </tr>\n",
       "    <tr>\n",
       "      <th>8</th>\n",
       "      <td>0.885299</td>\n",
       "      <td>0.741935</td>\n",
       "      <td>0.133333</td>\n",
       "    </tr>\n",
       "    <tr>\n",
       "      <th>9</th>\n",
       "      <td>0.847289</td>\n",
       "      <td>0.741935</td>\n",
       "      <td>0.200000</td>\n",
       "    </tr>\n",
       "    <tr>\n",
       "      <th>10</th>\n",
       "      <td>0.828485</td>\n",
       "      <td>0.838710</td>\n",
       "      <td>0.200000</td>\n",
       "    </tr>\n",
       "    <tr>\n",
       "      <th>11</th>\n",
       "      <td>0.801299</td>\n",
       "      <td>0.838710</td>\n",
       "      <td>0.233333</td>\n",
       "    </tr>\n",
       "    <tr>\n",
       "      <th>12</th>\n",
       "      <td>0.731576</td>\n",
       "      <td>0.903226</td>\n",
       "      <td>0.233333</td>\n",
       "    </tr>\n",
       "    <tr>\n",
       "      <th>13</th>\n",
       "      <td>0.727635</td>\n",
       "      <td>0.903226</td>\n",
       "      <td>0.300000</td>\n",
       "    </tr>\n",
       "    <tr>\n",
       "      <th>14</th>\n",
       "      <td>0.708052</td>\n",
       "      <td>0.935484</td>\n",
       "      <td>0.300000</td>\n",
       "    </tr>\n",
       "    <tr>\n",
       "      <th>15</th>\n",
       "      <td>0.698619</td>\n",
       "      <td>0.935484</td>\n",
       "      <td>0.333333</td>\n",
       "    </tr>\n",
       "    <tr>\n",
       "      <th>16</th>\n",
       "      <td>0.694609</td>\n",
       "      <td>0.967742</td>\n",
       "      <td>0.333333</td>\n",
       "    </tr>\n",
       "    <tr>\n",
       "      <th>17</th>\n",
       "      <td>0.371165</td>\n",
       "      <td>0.967742</td>\n",
       "      <td>0.633333</td>\n",
       "    </tr>\n",
       "    <tr>\n",
       "      <th>18</th>\n",
       "      <td>0.307154</td>\n",
       "      <td>1.000000</td>\n",
       "      <td>0.633333</td>\n",
       "    </tr>\n",
       "    <tr>\n",
       "      <th>19</th>\n",
       "      <td>0.060715</td>\n",
       "      <td>1.000000</td>\n",
       "      <td>1.000000</td>\n",
       "    </tr>\n",
       "  </tbody>\n",
       "</table>\n",
       "</div>"
      ],
      "text/plain": [
       "    thresholds test       tpr       fpr\n",
       "0          1.994698  0.000000  0.000000\n",
       "1          0.994698  0.032258  0.000000\n",
       "2          0.974147  0.387097  0.000000\n",
       "3          0.972134  0.387097  0.066667\n",
       "4          0.941434  0.580645  0.066667\n",
       "5          0.938162  0.580645  0.100000\n",
       "6          0.893191  0.709677  0.100000\n",
       "7          0.892211  0.709677  0.133333\n",
       "8          0.885299  0.741935  0.133333\n",
       "9          0.847289  0.741935  0.200000\n",
       "10         0.828485  0.838710  0.200000\n",
       "11         0.801299  0.838710  0.233333\n",
       "12         0.731576  0.903226  0.233333\n",
       "13         0.727635  0.903226  0.300000\n",
       "14         0.708052  0.935484  0.300000\n",
       "15         0.698619  0.935484  0.333333\n",
       "16         0.694609  0.967742  0.333333\n",
       "17         0.371165  0.967742  0.633333\n",
       "18         0.307154  1.000000  0.633333\n",
       "19         0.060715  1.000000  1.000000"
      ]
     },
     "execution_count": 61,
     "metadata": {},
     "output_type": "execute_result"
    }
   ],
   "source": [
    "df_roc2"
   ]
  },
  {
   "cell_type": "markdown",
   "metadata": {},
   "source": [
    "## 0.58 best threshold with recall : (tpr) = 0.83 , precision = 1-(fpr) = 0.87"
   ]
  },
  {
   "cell_type": "code",
   "execution_count": 62,
   "metadata": {},
   "outputs": [
    {
     "name": "stdout",
     "output_type": "stream",
     "text": [
      "threshold:0.9955221378093251\n",
      "Precision:0.5583333333333333 Recall:1.0 f1 score:0.7165775401069518\n",
      "threshold:0.96523229102314\n",
      "Precision:0.6203703703703703 Recall:1.0 f1 score:0.7657142857142858\n",
      "threshold:0.9626037552237743\n",
      "Precision:0.6203703703703703 Recall:1.0 f1 score:0.7657142857142858\n",
      "threshold:0.937557982104052\n",
      "Precision:0.6504854368932039 Recall:1.0 f1 score:0.788235294117647\n",
      "threshold:0.931973019853308\n",
      "Precision:0.6600985221674877 Recall:1.0 f1 score:0.7952522255192879\n",
      "threshold:0.8886578934316371\n",
      "Precision:0.6984126984126984 Recall:0.9850746268656716 f1 score:0.8173374613003096\n",
      "threshold:0.8886260680585361\n",
      "Precision:0.6984126984126984 Recall:0.9850746268656716 f1 score:0.8173374613003096\n",
      "threshold:0.8832985734283567\n",
      "Precision:0.7021276595744681 Recall:0.9850746268656716 f1 score:0.8198757763975155\n",
      "threshold:0.8786188225436611\n",
      "Precision:0.7058823529411765 Recall:0.9850746268656716 f1 score:0.8224299065420562\n",
      "threshold:0.8752494946806437\n",
      "Precision:0.7058823529411765 Recall:0.9850746268656716 f1 score:0.8224299065420562\n",
      "threshold:0.8705367295121504\n",
      "Precision:0.7096774193548387 Recall:0.9850746268656716 f1 score:0.8250000000000001\n",
      "threshold:0.8059777617439017\n",
      "Precision:0.7471264367816092 Recall:0.9701492537313433 f1 score:0.8441558441558441\n",
      "threshold:0.8037784649827854\n",
      "Precision:0.7471264367816092 Recall:0.9701492537313433 f1 score:0.8441558441558441\n",
      "threshold:0.7930714484907481\n",
      "Precision:0.7456647398843931 Recall:0.9626865671641791 f1 score:0.8403908794788273\n",
      "threshold:0.7929775190143366\n",
      "Precision:0.7456647398843931 Recall:0.9626865671641791 f1 score:0.8403908794788273\n",
      "threshold:0.7517619324910036\n",
      "Precision:0.774390243902439 Recall:0.9477611940298507 f1 score:0.8523489932885906\n",
      "threshold:0.746768164062894\n",
      "Precision:0.774390243902439 Recall:0.9477611940298507 f1 score:0.8523489932885906\n",
      "threshold:0.741810041972787\n",
      "Precision:0.774390243902439 Recall:0.9477611940298507 f1 score:0.8523489932885906\n",
      "threshold:0.7382283767669834\n",
      "Precision:0.7791411042944786 Recall:0.9477611940298507 f1 score:0.8552188552188552\n",
      "threshold:0.7095410113323685\n",
      "Precision:0.7839506172839507 Recall:0.9477611940298507 f1 score:0.8581081081081082\n",
      "threshold:0.7017235693105487\n",
      "Precision:0.7839506172839507 Recall:0.9477611940298507 f1 score:0.8581081081081082\n",
      "threshold:0.6875599816695462\n",
      "Precision:0.7839506172839507 Recall:0.9477611940298507 f1 score:0.8581081081081082\n",
      "threshold:0.6762156654745514\n",
      "Precision:0.782608695652174 Recall:0.9402985074626866 f1 score:0.8542372881355933\n",
      "threshold:0.6751307732367627\n",
      "Precision:0.782608695652174 Recall:0.9402985074626866 f1 score:0.8542372881355933\n",
      "threshold:0.6674660042287491\n",
      "Precision:0.782608695652174 Recall:0.9402985074626866 f1 score:0.8542372881355933\n",
      "threshold:0.6548985850586065\n",
      "Precision:0.7924528301886793 Recall:0.9402985074626866 f1 score:0.8600682593856656\n",
      "threshold:0.6417052762090143\n",
      "Precision:0.7974683544303798 Recall:0.9402985074626866 f1 score:0.8630136986301371\n",
      "threshold:0.6342734063943355\n",
      "Precision:0.7974683544303798 Recall:0.9402985074626866 f1 score:0.8630136986301371\n",
      "threshold:0.6233184608927712\n",
      "Precision:0.7974683544303798 Recall:0.9402985074626866 f1 score:0.8630136986301371\n",
      "threshold:0.6230278059770786\n",
      "Precision:0.7974683544303798 Recall:0.9402985074626866 f1 score:0.8630136986301371\n",
      "threshold:0.6101387345593403\n",
      "Precision:0.802547770700637 Recall:0.9402985074626866 f1 score:0.865979381443299\n",
      "threshold:0.5995333049334831\n",
      "Precision:0.8012820512820513 Recall:0.9328358208955224 f1 score:0.8620689655172415\n",
      "threshold:0.5859391011080525\n",
      "Precision:0.8 Recall:0.9253731343283582 f1 score:0.8581314878892734\n",
      "threshold:0.5682733232834613\n",
      "Precision:0.8051948051948052 Recall:0.9253731343283582 f1 score:0.8611111111111112\n",
      "threshold:0.5497062077820629\n",
      "Precision:0.8145695364238411 Recall:0.917910447761194 f1 score:0.8631578947368421\n",
      "threshold:0.5382250955071699\n",
      "Precision:0.82 Recall:0.917910447761194 f1 score:0.8661971830985915\n",
      "threshold:0.5176039514143684\n",
      "Precision:0.825503355704698 Recall:0.917910447761194 f1 score:0.8692579505300354\n",
      "threshold:0.4422051867190466\n",
      "Precision:0.8581560283687943 Recall:0.9029850746268657 f1 score:0.88\n",
      "threshold:0.43533593111535696\n",
      "Precision:0.8571428571428571 Recall:0.8955223880597015 f1 score:0.8759124087591241\n",
      "threshold:0.42241751552194784\n",
      "Precision:0.8633093525179856 Recall:0.8955223880597015 f1 score:0.8791208791208792\n",
      "threshold:0.40036367260285005\n",
      "Precision:0.8676470588235294 Recall:0.8805970149253731 f1 score:0.874074074074074\n",
      "threshold:0.3385435683514391\n",
      "Precision:0.8809523809523809 Recall:0.8283582089552238 f1 score:0.8538461538461538\n",
      "threshold:0.31662915142446796\n",
      "Precision:0.9083333333333333 Recall:0.8134328358208955 f1 score:0.858267716535433\n",
      "threshold:0.23640751903104623\n",
      "Precision:0.9285714285714286 Recall:0.6791044776119403 f1 score:0.7844827586206897\n",
      "threshold:0.22835613752586942\n",
      "Precision:0.925531914893617 Recall:0.6492537313432836 f1 score:0.763157894736842\n",
      "threshold:0.21072939345569233\n",
      "Precision:0.9204545454545454 Recall:0.6044776119402985 f1 score:0.7297297297297297\n",
      "threshold:0.20970337762913854\n",
      "Precision:0.9204545454545454 Recall:0.6044776119402985 f1 score:0.7297297297297297\n",
      "threshold:0.20801921962595\n",
      "Precision:0.9195402298850575 Recall:0.5970149253731343 f1 score:0.7239819004524887\n",
      "threshold:0.18990319293887603\n",
      "Precision:0.9375 Recall:0.5597014925373134 f1 score:0.7009345794392523\n",
      "threshold:0.16860567987767097\n",
      "Precision:0.935064935064935 Recall:0.5373134328358209 f1 score:0.6824644549763033\n",
      "threshold:0.1590869183325788\n",
      "Precision:0.9305555555555556 Recall:0.5 f1 score:0.6504854368932039\n",
      "threshold:0.1044682453844279\n",
      "Precision:0.9636363636363636 Recall:0.39552238805970147 f1 score:0.5608465608465608\n",
      "threshold:0.09935633359183822\n",
      "Precision:0.9622641509433962 Recall:0.3805970149253731 f1 score:0.5454545454545454\n",
      "threshold:0.07741253870474886\n",
      "Precision:0.9545454545454546 Recall:0.31343283582089554 f1 score:0.4719101123595506\n",
      "threshold:0.07500874833220882\n",
      "Precision:0.9545454545454546 Recall:0.31343283582089554 f1 score:0.4719101123595506\n"
     ]
    }
   ],
   "source": [
    "thrsh = thresholds[1:len(thresholds)-1]\n",
    "for j in thrsh:\n",
    "    print(\"threshold:{}\".format(j))\n",
    "    y_train_pred_probs = threshold_change(y_train_pred_proba,j)\n",
    "    all_scores(y_train,y_train_pred_probs)"
   ]
  },
  {
   "cell_type": "code",
   "execution_count": 63,
   "metadata": {},
   "outputs": [
    {
     "data": {
      "text/plain": [
       "array([1.99552214e+00, 9.95522138e-01, 9.65232291e-01, 9.62603755e-01,\n",
       "       9.37557982e-01, 9.31973020e-01, 8.88657893e-01, 8.88626068e-01,\n",
       "       8.83298573e-01, 8.78618823e-01, 8.75249495e-01, 8.70536730e-01,\n",
       "       8.05977762e-01, 8.03778465e-01, 7.93071448e-01, 7.92977519e-01,\n",
       "       7.51761932e-01, 7.46768164e-01, 7.41810042e-01, 7.38228377e-01,\n",
       "       7.09541011e-01, 7.01723569e-01, 6.87559982e-01, 6.76215665e-01,\n",
       "       6.75130773e-01, 6.67466004e-01, 6.54898585e-01, 6.41705276e-01,\n",
       "       6.34273406e-01, 6.23318461e-01, 6.23027806e-01, 6.10138735e-01,\n",
       "       5.99533305e-01, 5.85939101e-01, 5.68273323e-01, 5.49706208e-01,\n",
       "       5.38225096e-01, 5.17603951e-01, 4.42205187e-01, 4.35335931e-01,\n",
       "       4.22417516e-01, 4.00363673e-01, 3.38543568e-01, 3.16629151e-01,\n",
       "       2.36407519e-01, 2.28356138e-01, 2.10729393e-01, 2.09703378e-01,\n",
       "       2.08019220e-01, 1.89903193e-01, 1.68605680e-01, 1.59086918e-01,\n",
       "       1.04468245e-01, 9.93563336e-02, 7.74125387e-02, 7.50087483e-02,\n",
       "       1.27318104e-03])"
      ]
     },
     "execution_count": 63,
     "metadata": {},
     "output_type": "execute_result"
    }
   ],
   "source": [
    "thresholds"
   ]
  },
  {
   "cell_type": "code",
   "execution_count": 64,
   "metadata": {},
   "outputs": [],
   "source": [
    "p=[]\n",
    "r=[]\n",
    "def all_scores(y_true,y_pred):\n",
    "    precision= precision_score(y_true,y_pred)\n",
    "    recall = recall_score(y_true,y_pred)\n",
    "    f1_score = fbeta_score(y_true,y_pred,beta=1)\n",
    "    print(\"Precision:{}  Recall:{}  f1 score:{}\".format(precision,recall,f1_score))\n",
    "    p.append(precision)\n",
    "    r.append(recall)"
   ]
  },
  {
   "cell_type": "code",
   "execution_count": 65,
   "metadata": {},
   "outputs": [
    {
     "name": "stdout",
     "output_type": "stream",
     "text": [
      "threshold:0.9955221378093251\n",
      "Precision:0.5583333333333333  Recall:1.0  f1 score:0.7165775401069518\n",
      "threshold:0.96523229102314\n",
      "Precision:0.6203703703703703  Recall:1.0  f1 score:0.7657142857142858\n",
      "threshold:0.9626037552237743\n",
      "Precision:0.6203703703703703  Recall:1.0  f1 score:0.7657142857142858\n",
      "threshold:0.937557982104052\n",
      "Precision:0.6504854368932039  Recall:1.0  f1 score:0.788235294117647\n",
      "threshold:0.931973019853308\n",
      "Precision:0.6600985221674877  Recall:1.0  f1 score:0.7952522255192879\n",
      "threshold:0.8886578934316371\n",
      "Precision:0.6984126984126984  Recall:0.9850746268656716  f1 score:0.8173374613003096\n",
      "threshold:0.8886260680585361\n",
      "Precision:0.6984126984126984  Recall:0.9850746268656716  f1 score:0.8173374613003096\n",
      "threshold:0.8832985734283567\n",
      "Precision:0.7021276595744681  Recall:0.9850746268656716  f1 score:0.8198757763975155\n",
      "threshold:0.8786188225436611\n",
      "Precision:0.7058823529411765  Recall:0.9850746268656716  f1 score:0.8224299065420562\n",
      "threshold:0.8752494946806437\n",
      "Precision:0.7058823529411765  Recall:0.9850746268656716  f1 score:0.8224299065420562\n",
      "threshold:0.8705367295121504\n",
      "Precision:0.7096774193548387  Recall:0.9850746268656716  f1 score:0.8250000000000001\n",
      "threshold:0.8059777617439017\n",
      "Precision:0.7471264367816092  Recall:0.9701492537313433  f1 score:0.8441558441558441\n",
      "threshold:0.8037784649827854\n",
      "Precision:0.7471264367816092  Recall:0.9701492537313433  f1 score:0.8441558441558441\n",
      "threshold:0.7930714484907481\n",
      "Precision:0.7456647398843931  Recall:0.9626865671641791  f1 score:0.8403908794788273\n",
      "threshold:0.7929775190143366\n",
      "Precision:0.7456647398843931  Recall:0.9626865671641791  f1 score:0.8403908794788273\n",
      "threshold:0.7517619324910036\n",
      "Precision:0.774390243902439  Recall:0.9477611940298507  f1 score:0.8523489932885906\n",
      "threshold:0.746768164062894\n",
      "Precision:0.774390243902439  Recall:0.9477611940298507  f1 score:0.8523489932885906\n",
      "threshold:0.741810041972787\n",
      "Precision:0.774390243902439  Recall:0.9477611940298507  f1 score:0.8523489932885906\n",
      "threshold:0.7382283767669834\n",
      "Precision:0.7791411042944786  Recall:0.9477611940298507  f1 score:0.8552188552188552\n",
      "threshold:0.7095410113323685\n",
      "Precision:0.7839506172839507  Recall:0.9477611940298507  f1 score:0.8581081081081082\n",
      "threshold:0.7017235693105487\n",
      "Precision:0.7839506172839507  Recall:0.9477611940298507  f1 score:0.8581081081081082\n",
      "threshold:0.6875599816695462\n",
      "Precision:0.7839506172839507  Recall:0.9477611940298507  f1 score:0.8581081081081082\n",
      "threshold:0.6762156654745514\n",
      "Precision:0.782608695652174  Recall:0.9402985074626866  f1 score:0.8542372881355933\n",
      "threshold:0.6751307732367627\n",
      "Precision:0.782608695652174  Recall:0.9402985074626866  f1 score:0.8542372881355933\n",
      "threshold:0.6674660042287491\n",
      "Precision:0.782608695652174  Recall:0.9402985074626866  f1 score:0.8542372881355933\n",
      "threshold:0.6548985850586065\n",
      "Precision:0.7924528301886793  Recall:0.9402985074626866  f1 score:0.8600682593856656\n",
      "threshold:0.6417052762090143\n",
      "Precision:0.7974683544303798  Recall:0.9402985074626866  f1 score:0.8630136986301371\n",
      "threshold:0.6342734063943355\n",
      "Precision:0.7974683544303798  Recall:0.9402985074626866  f1 score:0.8630136986301371\n",
      "threshold:0.6233184608927712\n",
      "Precision:0.7974683544303798  Recall:0.9402985074626866  f1 score:0.8630136986301371\n",
      "threshold:0.6230278059770786\n",
      "Precision:0.7974683544303798  Recall:0.9402985074626866  f1 score:0.8630136986301371\n",
      "threshold:0.6101387345593403\n",
      "Precision:0.802547770700637  Recall:0.9402985074626866  f1 score:0.865979381443299\n",
      "threshold:0.5995333049334831\n",
      "Precision:0.8012820512820513  Recall:0.9328358208955224  f1 score:0.8620689655172415\n",
      "threshold:0.5859391011080525\n",
      "Precision:0.8  Recall:0.9253731343283582  f1 score:0.8581314878892734\n",
      "threshold:0.5682733232834613\n",
      "Precision:0.8051948051948052  Recall:0.9253731343283582  f1 score:0.8611111111111112\n",
      "threshold:0.5497062077820629\n",
      "Precision:0.8145695364238411  Recall:0.917910447761194  f1 score:0.8631578947368421\n",
      "threshold:0.5382250955071699\n",
      "Precision:0.82  Recall:0.917910447761194  f1 score:0.8661971830985915\n",
      "threshold:0.5176039514143684\n",
      "Precision:0.825503355704698  Recall:0.917910447761194  f1 score:0.8692579505300354\n",
      "threshold:0.4422051867190466\n",
      "Precision:0.8581560283687943  Recall:0.9029850746268657  f1 score:0.88\n",
      "threshold:0.43533593111535696\n",
      "Precision:0.8571428571428571  Recall:0.8955223880597015  f1 score:0.8759124087591241\n",
      "threshold:0.42241751552194784\n",
      "Precision:0.8633093525179856  Recall:0.8955223880597015  f1 score:0.8791208791208792\n",
      "threshold:0.40036367260285005\n",
      "Precision:0.8676470588235294  Recall:0.8805970149253731  f1 score:0.874074074074074\n",
      "threshold:0.3385435683514391\n",
      "Precision:0.8809523809523809  Recall:0.8283582089552238  f1 score:0.8538461538461538\n",
      "threshold:0.31662915142446796\n",
      "Precision:0.9083333333333333  Recall:0.8134328358208955  f1 score:0.858267716535433\n",
      "threshold:0.23640751903104623\n",
      "Precision:0.9285714285714286  Recall:0.6791044776119403  f1 score:0.7844827586206897\n",
      "threshold:0.22835613752586942\n",
      "Precision:0.925531914893617  Recall:0.6492537313432836  f1 score:0.763157894736842\n",
      "threshold:0.21072939345569233\n",
      "Precision:0.9204545454545454  Recall:0.6044776119402985  f1 score:0.7297297297297297\n",
      "threshold:0.20970337762913854\n",
      "Precision:0.9204545454545454  Recall:0.6044776119402985  f1 score:0.7297297297297297\n",
      "threshold:0.20801921962595\n",
      "Precision:0.9195402298850575  Recall:0.5970149253731343  f1 score:0.7239819004524887\n",
      "threshold:0.18990319293887603\n",
      "Precision:0.9375  Recall:0.5597014925373134  f1 score:0.7009345794392523\n",
      "threshold:0.16860567987767097\n",
      "Precision:0.935064935064935  Recall:0.5373134328358209  f1 score:0.6824644549763033\n",
      "threshold:0.1590869183325788\n",
      "Precision:0.9305555555555556  Recall:0.5  f1 score:0.6504854368932039\n",
      "threshold:0.1044682453844279\n",
      "Precision:0.9636363636363636  Recall:0.39552238805970147  f1 score:0.5608465608465608\n",
      "threshold:0.09935633359183822\n",
      "Precision:0.9622641509433962  Recall:0.3805970149253731  f1 score:0.5454545454545454\n",
      "threshold:0.07741253870474886\n",
      "Precision:0.9545454545454546  Recall:0.31343283582089554  f1 score:0.4719101123595506\n",
      "threshold:0.07500874833220882\n",
      "Precision:0.9545454545454546  Recall:0.31343283582089554  f1 score:0.4719101123595506\n"
     ]
    }
   ],
   "source": [
    "thrsh = thresholds[1:len(thresholds)-1]\n",
    "for j in thrsh:\n",
    "    print(\"threshold:{}\".format(j))\n",
    "    y_train_pred_probs = threshold_change(y_train_pred_proba,j)\n",
    "    all_scores(y_train,y_train_pred_probs)"
   ]
  },
  {
   "cell_type": "code",
   "execution_count": 66,
   "metadata": {},
   "outputs": [
    {
     "data": {
      "text/plain": [
       "<matplotlib.axes._subplots.AxesSubplot at 0x1f6ff4517c8>"
      ]
     },
     "execution_count": 66,
     "metadata": {},
     "output_type": "execute_result"
    },
    {
     "data": {
      "image/png": "[encoded data removed]",
      "text/plain": [
       "<Figure size 432x288 with 1 Axes>"
      ]
     },
     "metadata": {
      "needs_background": "light"
     },
     "output_type": "display_data"
    }
   ],
   "source": [
    "sns.lineplot(x=np.array(thrsh),y=np.array(p) , color=\"b\")\n",
    "sns.lineplot(x=np.array(thrsh),y=np.array(r) , color=\"r\")"
   ]
  },
  {
   "cell_type": "markdown",
   "metadata": {},
   "source": [
    "## Decision Tree Classifier"
   ]
  },
  {
   "cell_type": "code",
   "execution_count": 67,
   "metadata": {},
   "outputs": [],
   "source": [
    "from sklearn.tree import DecisionTreeClassifier"
   ]
  },
  {
   "cell_type": "code",
   "execution_count": 68,
   "metadata": {},
   "outputs": [],
   "source": [
    "dtc =  DecisionTreeClassifier()"
   ]
  },
  {
   "cell_type": "code",
   "execution_count": 69,
   "metadata": {},
   "outputs": [
    {
     "name": "stdout",
     "output_type": "stream",
     "text": [
      "train1\n",
      "Precision:0.7984496124031008  Recall:0.7686567164179104  f1 score:0.7832699619771862\n",
      "test1\n",
      "Precision:0.7419354838709677  Recall:0.7419354838709677  f1 score:0.7419354838709677\n",
      "\n",
      "\n",
      "train2\n",
      "Precision:0.7206703910614525  Recall:0.9626865671641791  f1 score:0.8242811501597443\n",
      "test2\n",
      "Precision:0.6739130434782609  Recall:1.0  f1 score:0.8051948051948052\n",
      "\n",
      "\n",
      "train3\n",
      "Precision:0.8818897637795275  Recall:0.835820895522388  f1 score:0.8582375478927202\n",
      "test3\n",
      "Precision:0.8333333333333334  Recall:0.8064516129032258  f1 score:0.819672131147541\n",
      "\n",
      "\n",
      "train4\n",
      "Precision:0.8905109489051095  Recall:0.9104477611940298  f1 score:0.9003690036900369\n",
      "test4\n",
      "Precision:0.7352941176470589  Recall:0.8064516129032258  f1 score:0.7692307692307693\n",
      "\n",
      "\n",
      "train5\n",
      "Precision:0.9477611940298507  Recall:0.9477611940298507  f1 score:0.9477611940298507\n",
      "test5\n",
      "Precision:0.7  Recall:0.6774193548387096  f1 score:0.6885245901639343\n",
      "\n",
      "\n",
      "train6\n",
      "Precision:0.9637681159420289  Recall:0.9925373134328358  f1 score:0.9779411764705882\n",
      "test6\n",
      "Precision:0.7272727272727273  Recall:0.7741935483870968  f1 score:0.7500000000000001\n",
      "\n",
      "\n",
      "train7\n",
      "Precision:0.9851851851851852  Recall:0.9925373134328358  f1 score:0.9888475836431226\n",
      "test7\n",
      "Precision:0.71875  Recall:0.7419354838709677  f1 score:0.7301587301587302\n",
      "\n",
      "\n",
      "train8\n",
      "Precision:1.0  Recall:1.0  f1 score:1.0\n",
      "test8\n",
      "Precision:0.75  Recall:0.7741935483870968  f1 score:0.7619047619047619\n",
      "\n",
      "\n",
      "train9\n",
      "Precision:1.0  Recall:1.0  f1 score:1.0\n",
      "test9\n",
      "Precision:0.7931034482758621  Recall:0.7419354838709677  f1 score:0.7666666666666667\n",
      "\n",
      "\n",
      "train10\n",
      "Precision:1.0  Recall:1.0  f1 score:1.0\n",
      "test10\n",
      "Precision:0.8214285714285714  Recall:0.7419354838709677  f1 score:0.7796610169491526\n",
      "\n",
      "\n"
     ]
    }
   ],
   "source": [
    "pltr=[]\n",
    "rltr=[]\n",
    "plte=[]\n",
    "rlte=[]\n",
    "max_depth_ = np.arange(1,11)\n",
    "for d in max_depth_:\n",
    "    dtc = DecisionTreeClassifier(max_depth=d)\n",
    "    dtc.fit(x_train,y_train)\n",
    "    y_train_pred= dtc.predict(x_train)\n",
    "    precisionlist_element_train = precision_score(y_train,y_train_pred)\n",
    "    recalllist_element_train = recall_score(y_train,y_train_pred)\n",
    "    pltr.append(precisionlist_element_train)\n",
    "    rltr.append(recalllist_element_train)\n",
    "    print(f\"train{d}\")\n",
    "    all_scores(y_train,y_train_pred)\n",
    "    y_test_pred= dtc.predict(x_test)\n",
    "    precision_element_test = precision_score(y_test,y_test_pred)\n",
    "    recalllist_element_test = recall_score(y_test,y_test_pred)\n",
    "    plte.append(precision_element_test)\n",
    "    rlte.append(recalllist_element_test)\n",
    "    print(f\"test{d}\")\n",
    "    all_scores(y_test,y_test_pred)\n",
    "    print(\"\\n\")"
   ]
  },
  {
   "cell_type": "code",
   "execution_count": 70,
   "metadata": {},
   "outputs": [
    {
     "name": "stdout",
     "output_type": "stream",
     "text": [
      "Precision:1.0  Recall:1.0  f1 score:1.0\n"
     ]
    }
   ],
   "source": [
    "all_scores(y_train,y_train_pred)"
   ]
  },
  {
   "cell_type": "code",
   "execution_count": 71,
   "metadata": {},
   "outputs": [],
   "source": [
    "y_test_pred= dtc.predict(x_test)"
   ]
  },
  {
   "cell_type": "code",
   "execution_count": 72,
   "metadata": {},
   "outputs": [
    {
     "name": "stdout",
     "output_type": "stream",
     "text": [
      "Precision:0.8214285714285714  Recall:0.7419354838709677  f1 score:0.7796610169491526\n"
     ]
    }
   ],
   "source": [
    "all_scores(y_test,y_test_pred)"
   ]
  },
  {
   "cell_type": "code",
   "execution_count": 73,
   "metadata": {},
   "outputs": [
    {
     "data": {
      "text/plain": [
       "<matplotlib.axes._subplots.AxesSubplot at 0x1f6ff665208>"
      ]
     },
     "execution_count": 73,
     "metadata": {},
     "output_type": "execute_result"
    },
    {
     "data": {
      "image/png": "[encoded data removed]",
      "text/plain": [
       "<Figure size 432x288 with 1 Axes>"
      ]
     },
     "metadata": {
      "needs_background": "light"
     },
     "output_type": "display_data"
    }
   ],
   "source": [
    "sns.lineplot(x=max_depth_,y=pltr,color=\"b\")\n",
    "sns.lineplot(x=max_depth_,y=rltr,color=\"r\")"
   ]
  },
  {
   "cell_type": "code",
   "execution_count": 74,
   "metadata": {},
   "outputs": [
    {
     "data": {
      "text/plain": [
       "<matplotlib.axes._subplots.AxesSubplot at 0x1f6ff451308>"
      ]
     },
     "execution_count": 74,
     "metadata": {},
     "output_type": "execute_result"
    },
    {
     "data": {
      "image/png": "[encoded data removed]",
      "text/plain": [
       "<Figure size 432x288 with 1 Axes>"
      ]
     },
     "metadata": {
      "needs_background": "light"
     },
     "output_type": "display_data"
    }
   ],
   "source": [
    "sns.lineplot(x=max_depth_,y=plte,color=\"b\")\n",
    "sns.lineplot(x=max_depth_,y=rlte,color=\"r\")"
   ]
  },
  {
   "cell_type": "markdown",
   "metadata": {},
   "source": [
    "# GridsearchCV"
   ]
  },
  {
   "cell_type": "code",
   "execution_count": 75,
   "metadata": {},
   "outputs": [],
   "source": [
    "parameters={\"criterion\":[\"gini\",\"entropy\"], \"max_depth\":[i for i in np.arange(1,16)]}"
   ]
  },
  {
   "cell_type": "code",
   "execution_count": 76,
   "metadata": {},
   "outputs": [],
   "source": [
    "from sklearn.model_selection import GridSearchCV "
   ]
  },
  {
   "cell_type": "code",
   "execution_count": 77,
   "metadata": {},
   "outputs": [],
   "source": [
    "gs = GridSearchCV(dtc, param_grid =parameters, cv=10, n_jobs=-1)"
   ]
  },
  {
   "cell_type": "code",
   "execution_count": 78,
   "metadata": {},
   "outputs": [
    {
     "data": {
      "text/plain": [
       "GridSearchCV(cv=10, estimator=DecisionTreeClassifier(max_depth=10), n_jobs=-1,\n",
       "             param_grid={'criterion': ['gini', 'entropy'],\n",
       "                         'max_depth': [1, 2, 3, 4, 5, 6, 7, 8, 9, 10, 11, 12,\n",
       "                                       13, 14, 15]})"
      ]
     },
     "execution_count": 78,
     "metadata": {},
     "output_type": "execute_result"
    }
   ],
   "source": [
    "gs.fit(x_train,y_train)"
   ]
  },
  {
   "cell_type": "code",
   "execution_count": 79,
   "metadata": {},
   "outputs": [
    {
     "data": {
      "text/plain": [
       "DecisionTreeClassifier(criterion='entropy', max_depth=3)"
      ]
     },
     "execution_count": 79,
     "metadata": {},
     "output_type": "execute_result"
    }
   ],
   "source": [
    "gs.best_estimator_"
   ]
  },
  {
   "cell_type": "code",
   "execution_count": 80,
   "metadata": {},
   "outputs": [
    {
     "data": {
      "text/plain": [
       "0.7853333333333333"
      ]
     },
     "execution_count": 80,
     "metadata": {},
     "output_type": "execute_result"
    }
   ],
   "source": [
    "gs.best_score_"
   ]
  },
  {
   "cell_type": "code",
   "execution_count": 82,
   "metadata": {},
   "outputs": [],
   "source": [
    "dtc =  DecisionTreeClassifier(ccp_alpha=0.0, class_weight=None, criterion='entropy',\n",
    "                       max_depth=3, max_features=None, max_leaf_nodes=None,\n",
    "                       min_impurity_decrease=0.0, min_impurity_split=None,\n",
    "                       min_samples_leaf=1, min_samples_split=2,\n",
    "                       min_weight_fraction_leaf=0.0,\n",
    "                       random_state=None, splitter='best')"
   ]
  },
  {
   "cell_type": "code",
   "execution_count": 83,
   "metadata": {},
   "outputs": [
    {
     "data": {
      "text/plain": [
       "DecisionTreeClassifier(criterion='entropy', max_depth=3)"
      ]
     },
     "execution_count": 83,
     "metadata": {},
     "output_type": "execute_result"
    }
   ],
   "source": [
    "dtc.fit(x_train,y_train)"
   ]
  },
  {
   "cell_type": "code",
   "execution_count": 84,
   "metadata": {},
   "outputs": [],
   "source": [
    "y_test_pred = dtc.predict(x_test)"
   ]
  },
  {
   "cell_type": "code",
   "execution_count": 85,
   "metadata": {},
   "outputs": [],
   "source": [
    "precision = precision_score(y_test,y_test_pred)"
   ]
  },
  {
   "cell_type": "code",
   "execution_count": 86,
   "metadata": {},
   "outputs": [
    {
     "data": {
      "text/plain": [
       "0.8125"
      ]
     },
     "execution_count": 86,
     "metadata": {},
     "output_type": "execute_result"
    }
   ],
   "source": [
    "precision"
   ]
  },
  {
   "cell_type": "code",
   "execution_count": 87,
   "metadata": {},
   "outputs": [],
   "source": [
    "recall = recall_score(y_test,y_test_pred)"
   ]
  },
  {
   "cell_type": "code",
   "execution_count": 88,
   "metadata": {},
   "outputs": [
    {
     "data": {
      "text/plain": [
       "0.8387096774193549"
      ]
     },
     "execution_count": 88,
     "metadata": {},
     "output_type": "execute_result"
    }
   ],
   "source": [
    "recall"
   ]
  },
  {
   "cell_type": "markdown",
   "metadata": {},
   "source": [
    "## 3 is the max_depth, where recall is 0.83 and precision is 0.81."
   ]
  },
  {
   "cell_type": "markdown",
   "metadata": {},
   "source": [
    "# Random Forest Classifier"
   ]
  },
  {
   "cell_type": "code",
   "execution_count": 89,
   "metadata": {},
   "outputs": [],
   "source": [
    "from sklearn.ensemble import RandomForestClassifier\n",
    "RFC = RandomForestClassifier()"
   ]
  },
  {
   "cell_type": "code",
   "execution_count": 90,
   "metadata": {},
   "outputs": [
    {
     "name": "stdout",
     "output_type": "stream",
     "text": [
      "(242, 13)\n",
      "(61, 13)\n",
      "(242,)\n",
      "(61,)\n"
     ]
    }
   ],
   "source": [
    "#train_test_split\n",
    "x=df.drop(columns=[\"target\"])\n",
    "y=df[\"target\"]\n",
    "x_train,x_test,y_train,y_test = train_test_split(x,y, test_size=0.2,random_state=51)\n",
    "print(x_train.shape)\n",
    "print(x_test.shape)\n",
    "print(y_train.shape)\n",
    "print(y_test.shape)"
   ]
  },
  {
   "cell_type": "code",
   "execution_count": 91,
   "metadata": {},
   "outputs": [
    {
     "data": {
      "text/plain": [
       "RandomForestClassifier()"
      ]
     },
     "execution_count": 91,
     "metadata": {},
     "output_type": "execute_result"
    }
   ],
   "source": [
    "RFC.fit(x_train,y_train)"
   ]
  },
  {
   "cell_type": "code",
   "execution_count": 92,
   "metadata": {},
   "outputs": [],
   "source": [
    "parameters={\"criterion\":[\"gini\",\"entropy\"], \"max_depth\":[i for i in np.arange(1,16)]}"
   ]
  },
  {
   "cell_type": "code",
   "execution_count": 93,
   "metadata": {},
   "outputs": [],
   "source": [
    "gs = GridSearchCV(RFC, param_grid = parameters, cv=10 ,n_jobs=-1)"
   ]
  },
  {
   "cell_type": "code",
   "execution_count": 94,
   "metadata": {},
   "outputs": [
    {
     "data": {
      "text/plain": [
       "{'criterion': ['gini', 'entropy'],\n",
       " 'max_depth': [1, 2, 3, 4, 5, 6, 7, 8, 9, 10, 11, 12, 13, 14, 15]}"
      ]
     },
     "execution_count": 94,
     "metadata": {},
     "output_type": "execute_result"
    }
   ],
   "source": [
    "parameters"
   ]
  },
  {
   "cell_type": "code",
   "execution_count": 95,
   "metadata": {},
   "outputs": [
    {
     "data": {
      "text/plain": [
       "GridSearchCV(cv=10, estimator=RandomForestClassifier(), n_jobs=-1,\n",
       "             param_grid={'criterion': ['gini', 'entropy'],\n",
       "                         'max_depth': [1, 2, 3, 4, 5, 6, 7, 8, 9, 10, 11, 12,\n",
       "                                       13, 14, 15]})"
      ]
     },
     "execution_count": 95,
     "metadata": {},
     "output_type": "execute_result"
    }
   ],
   "source": [
    "gs.fit(x_train,y_train)"
   ]
  },
  {
   "cell_type": "code",
   "execution_count": 96,
   "metadata": {},
   "outputs": [
    {
     "data": {
      "text/plain": [
       "0.8425"
      ]
     },
     "execution_count": 96,
     "metadata": {},
     "output_type": "execute_result"
    }
   ],
   "source": [
    "gs.best_score_"
   ]
  },
  {
   "cell_type": "code",
   "execution_count": 97,
   "metadata": {},
   "outputs": [
    {
     "data": {
      "text/plain": [
       "RandomForestClassifier(max_depth=13)"
      ]
     },
     "execution_count": 97,
     "metadata": {},
     "output_type": "execute_result"
    }
   ],
   "source": [
    "gs.best_estimator_"
   ]
  },
  {
   "cell_type": "code",
   "execution_count": 98,
   "metadata": {},
   "outputs": [],
   "source": [
    "RFC =RandomForestClassifier(bootstrap=True, ccp_alpha=0.0, class_weight=None,\n",
    "                       criterion='gini', max_depth=11, max_features='auto',\n",
    "                       max_leaf_nodes=None, max_samples=None,\n",
    "                       min_impurity_decrease=0.0, min_impurity_split=None,\n",
    "                       min_samples_leaf=1, min_samples_split=2,\n",
    "                       min_weight_fraction_leaf=0.0, n_estimators=100,\n",
    "                       n_jobs=None, oob_score=False, random_state=None,\n",
    "                       verbose=0, warm_start=False)"
   ]
  },
  {
   "cell_type": "code",
   "execution_count": 99,
   "metadata": {},
   "outputs": [
    {
     "data": {
      "text/plain": [
       "RandomForestClassifier(max_depth=11)"
      ]
     },
     "execution_count": 99,
     "metadata": {},
     "output_type": "execute_result"
    }
   ],
   "source": [
    "RFC.fit(x_train,y_train)"
   ]
  },
  {
   "cell_type": "code",
   "execution_count": 100,
   "metadata": {},
   "outputs": [
    {
     "name": "stdout",
     "output_type": "stream",
     "text": [
      "train\n",
      "precision:1.0\n",
      "recall:1.0\n",
      "\n",
      "\n",
      "test\n",
      "precision:0.8\n",
      "recall:0.9032258064516129\n"
     ]
    }
   ],
   "source": [
    "y_pred_train = RFC.predict(x_train)\n",
    "y_pred_test = RFC.predict(x_test)\n",
    "precision_train= precision_score(y_train,y_pred_train)\n",
    "recall_train=recall_score(y_train,y_pred_train)\n",
    "precision_test=precision_score(y_test,y_pred_test)\n",
    "recall_test=recall_score(y_test,y_pred_test)\n",
    "print(\"train\")\n",
    "print(f\"precision:{precision_train}\")\n",
    "print(f\"recall:{recall_train}\")\n",
    "print(\"\\n\")\n",
    "print(\"test\")\n",
    "print(f\"precision:{precision_test}\")\n",
    "print(f\"recall:{recall_test}\")"
   ]
  },
  {
   "cell_type": "markdown",
   "metadata": {},
   "source": [
    "# Applying gradient boosting classifier"
   ]
  },
  {
   "cell_type": "code",
   "execution_count": 101,
   "metadata": {},
   "outputs": [],
   "source": [
    "from sklearn.ensemble import GradientBoostingClassifier"
   ]
  },
  {
   "cell_type": "code",
   "execution_count": 102,
   "metadata": {},
   "outputs": [],
   "source": [
    "XG = GradientBoostingClassifier()"
   ]
  },
  {
   "cell_type": "code",
   "execution_count": 103,
   "metadata": {},
   "outputs": [
    {
     "data": {
      "text/plain": [
       "GradientBoostingClassifier()"
      ]
     },
     "execution_count": 103,
     "metadata": {},
     "output_type": "execute_result"
    }
   ],
   "source": [
    "XG.fit(x_train,y_train)"
   ]
  },
  {
   "cell_type": "code",
   "execution_count": 104,
   "metadata": {},
   "outputs": [],
   "source": [
    "y_pred_test= XG.predict(x_test)"
   ]
  },
  {
   "cell_type": "code",
   "execution_count": 105,
   "metadata": {},
   "outputs": [],
   "source": [
    "precision = precision_score(y_test,y_pred_test)"
   ]
  },
  {
   "cell_type": "code",
   "execution_count": 106,
   "metadata": {},
   "outputs": [
    {
     "data": {
      "text/plain": [
       "0.8064516129032258"
      ]
     },
     "execution_count": 106,
     "metadata": {},
     "output_type": "execute_result"
    }
   ],
   "source": [
    "precision"
   ]
  },
  {
   "cell_type": "code",
   "execution_count": 107,
   "metadata": {},
   "outputs": [],
   "source": [
    "recall = recall_score(y_test,y_pred_test)"
   ]
  },
  {
   "cell_type": "code",
   "execution_count": 108,
   "metadata": {},
   "outputs": [
    {
     "data": {
      "text/plain": [
       "0.8064516129032258"
      ]
     },
     "execution_count": 108,
     "metadata": {},
     "output_type": "execute_result"
    }
   ],
   "source": [
    "recall"
   ]
  },
  {
   "cell_type": "code",
   "execution_count": 109,
   "metadata": {},
   "outputs": [],
   "source": [
    "params = {\"max_depth\":[i for i in np.arange(1,10)],\"criterion\":[\"friedman_mse\", \"mse\", \"mae\"],\"learning_rate\":[0.001,0.01,0.1,0.2]}"
   ]
  },
  {
   "cell_type": "code",
   "execution_count": 110,
   "metadata": {},
   "outputs": [],
   "source": [
    "GS = GridSearchCV(XG, param_grid = params , n_jobs=-1)"
   ]
  },
  {
   "cell_type": "code",
   "execution_count": 111,
   "metadata": {},
   "outputs": [
    {
     "data": {
      "text/plain": [
       "GridSearchCV(estimator=GradientBoostingClassifier(), n_jobs=-1,\n",
       "             param_grid={'criterion': ['friedman_mse', 'mse', 'mae'],\n",
       "                         'learning_rate': [0.001, 0.01, 0.1, 0.2],\n",
       "                         'max_depth': [1, 2, 3, 4, 5, 6, 7, 8, 9]})"
      ]
     },
     "execution_count": 111,
     "metadata": {},
     "output_type": "execute_result"
    }
   ],
   "source": [
    "GS.fit(x_train,y_train)"
   ]
  },
  {
   "cell_type": "code",
   "execution_count": 112,
   "metadata": {},
   "outputs": [
    {
     "data": {
      "text/plain": [
       "GradientBoostingClassifier(max_depth=1)"
      ]
     },
     "execution_count": 112,
     "metadata": {},
     "output_type": "execute_result"
    }
   ],
   "source": [
    "GS.best_estimator_"
   ]
  },
  {
   "cell_type": "code",
   "execution_count": 114,
   "metadata": {},
   "outputs": [],
   "source": [
    "XG = GradientBoostingClassifier(ccp_alpha=0.0, criterion='mse', init=None,\n",
    "                           learning_rate=0.1, loss='deviance', max_depth=5,\n",
    "                           max_features=None, max_leaf_nodes=None,\n",
    "                           min_impurity_decrease=0.0, min_impurity_split=None,\n",
    "                           min_samples_leaf=1, min_samples_split=2,\n",
    "                           min_weight_fraction_leaf=0.0, n_estimators=100,\n",
    "                           n_iter_no_change=None,\n",
    "                           random_state=None, subsample=1.0, tol=0.0001,\n",
    "                           validation_fraction=0.1, verbose=0,\n",
    "                           warm_start=False)"
   ]
  },
  {
   "cell_type": "code",
   "execution_count": 115,
   "metadata": {},
   "outputs": [
    {
     "data": {
      "text/plain": [
       "GradientBoostingClassifier(criterion='mse', max_depth=5)"
      ]
     },
     "execution_count": 115,
     "metadata": {},
     "output_type": "execute_result"
    }
   ],
   "source": [
    "XG.fit(x_train,y_train)"
   ]
  },
  {
   "cell_type": "code",
   "execution_count": 116,
   "metadata": {},
   "outputs": [],
   "source": [
    "precision = precision_score(y_test,y_pred_test)\n",
    "recall = recall_score(y_test,y_pred_test)"
   ]
  },
  {
   "cell_type": "code",
   "execution_count": 117,
   "metadata": {},
   "outputs": [
    {
     "name": "stdout",
     "output_type": "stream",
     "text": [
      "0.8064516129032258\n",
      "0.8064516129032258\n"
     ]
    }
   ],
   "source": [
    "print(precision)\n",
    "print(recall)"
   ]
  },
  {
   "cell_type": "code",
   "execution_count": null,
   "metadata": {},
   "outputs": [],
   "source": []
  },
  {
   "cell_type": "code",
   "execution_count": null,
   "metadata": {},
   "outputs": [],
   "source": []
  }
 ],
 "metadata": {
  "kernelspec": {
   "display_name": "Python 3",
   "language": "python",
   "name": "python3"
  },
  "language_info": {
   "codemirror_mode": {
    "name": "ipython",
    "version": 3
   },
   "file_extension": ".py",
   "mimetype": "text/x-python",
   "name": "python",
   "nbconvert_exporter": "python",
   "pygments_lexer": "ipython3",
   "version": "3.7.6"
  }
 },
 "nbformat": 4,
 "nbformat_minor": 4
}
