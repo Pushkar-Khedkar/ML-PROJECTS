{
 "cells": [
  {
   "cell_type": "code",
   "execution_count": 1,
   "metadata": {},
   "outputs": [],
   "source": [
    "import pandas as pd\n",
    "import numpy as np\n",
    "import seaborn as sns\n",
    "import matplotlib.pyplot as plt\n",
    "from sklearn.metrics import classification_report"
   ]
  },
  {
   "cell_type": "code",
   "execution_count": 2,
   "metadata": {},
   "outputs": [],
   "source": [
    "df = pd.read_csv(\"heart.csv\")"
   ]
  },
  {
   "cell_type": "code",
   "execution_count": 3,
   "metadata": {},
   "outputs": [
    {
     "data": {
      "text/html": [
       "<div>\n",
       "<style scoped>\n",
       "    .dataframe tbody tr th:only-of-type {\n",
       "        vertical-align: middle;\n",
       "    }\n",
       "\n",
       "    .dataframe tbody tr th {\n",
       "        vertical-align: top;\n",
       "    }\n",
       "\n",
       "    .dataframe thead th {\n",
       "        text-align: right;\n",
       "    }\n",
       "</style>\n",
       "<table border=\"1\" class=\"dataframe\">\n",
       "  <thead>\n",
       "    <tr style=\"text-align: right;\">\n",
       "      <th></th>\n",
       "      <th>age</th>\n",
       "      <th>sex</th>\n",
       "      <th>cp</th>\n",
       "      <th>trestbps</th>\n",
       "      <th>chol</th>\n",
       "      <th>fbs</th>\n",
       "      <th>restecg</th>\n",
       "      <th>thalach</th>\n",
       "      <th>exang</th>\n",
       "      <th>oldpeak</th>\n",
       "      <th>slope</th>\n",
       "      <th>ca</th>\n",
       "      <th>thal</th>\n",
       "      <th>target</th>\n",
       "    </tr>\n",
       "  </thead>\n",
       "  <tbody>\n",
       "    <tr>\n",
       "      <th>0</th>\n",
       "      <td>63</td>\n",
       "      <td>1</td>\n",
       "      <td>3</td>\n",
       "      <td>145</td>\n",
       "      <td>233</td>\n",
       "      <td>1</td>\n",
       "      <td>0</td>\n",
       "      <td>150</td>\n",
       "      <td>0</td>\n",
       "      <td>2.3</td>\n",
       "      <td>0</td>\n",
       "      <td>0</td>\n",
       "      <td>1</td>\n",
       "      <td>1</td>\n",
       "    </tr>\n",
       "    <tr>\n",
       "      <th>1</th>\n",
       "      <td>37</td>\n",
       "      <td>1</td>\n",
       "      <td>2</td>\n",
       "      <td>130</td>\n",
       "      <td>250</td>\n",
       "      <td>0</td>\n",
       "      <td>1</td>\n",
       "      <td>187</td>\n",
       "      <td>0</td>\n",
       "      <td>3.5</td>\n",
       "      <td>0</td>\n",
       "      <td>0</td>\n",
       "      <td>2</td>\n",
       "      <td>1</td>\n",
       "    </tr>\n",
       "    <tr>\n",
       "      <th>2</th>\n",
       "      <td>41</td>\n",
       "      <td>0</td>\n",
       "      <td>1</td>\n",
       "      <td>130</td>\n",
       "      <td>204</td>\n",
       "      <td>0</td>\n",
       "      <td>0</td>\n",
       "      <td>172</td>\n",
       "      <td>0</td>\n",
       "      <td>1.4</td>\n",
       "      <td>2</td>\n",
       "      <td>0</td>\n",
       "      <td>2</td>\n",
       "      <td>1</td>\n",
       "    </tr>\n",
       "    <tr>\n",
       "      <th>3</th>\n",
       "      <td>56</td>\n",
       "      <td>1</td>\n",
       "      <td>1</td>\n",
       "      <td>120</td>\n",
       "      <td>236</td>\n",
       "      <td>0</td>\n",
       "      <td>1</td>\n",
       "      <td>178</td>\n",
       "      <td>0</td>\n",
       "      <td>0.8</td>\n",
       "      <td>2</td>\n",
       "      <td>0</td>\n",
       "      <td>2</td>\n",
       "      <td>1</td>\n",
       "    </tr>\n",
       "    <tr>\n",
       "      <th>4</th>\n",
       "      <td>57</td>\n",
       "      <td>0</td>\n",
       "      <td>0</td>\n",
       "      <td>120</td>\n",
       "      <td>354</td>\n",
       "      <td>0</td>\n",
       "      <td>1</td>\n",
       "      <td>163</td>\n",
       "      <td>1</td>\n",
       "      <td>0.6</td>\n",
       "      <td>2</td>\n",
       "      <td>0</td>\n",
       "      <td>2</td>\n",
       "      <td>1</td>\n",
       "    </tr>\n",
       "  </tbody>\n",
       "</table>\n",
       "</div>"
      ],
      "text/plain": [
       "   age  sex  cp  trestbps  chol  fbs  restecg  thalach  exang  oldpeak  slope  \\\n",
       "0   63    1   3       145   233    1        0      150      0      2.3      0   \n",
       "1   37    1   2       130   250    0        1      187      0      3.5      0   \n",
       "2   41    0   1       130   204    0        0      172      0      1.4      2   \n",
       "3   56    1   1       120   236    0        1      178      0      0.8      2   \n",
       "4   57    0   0       120   354    0        1      163      1      0.6      2   \n",
       "\n",
       "   ca  thal  target  \n",
       "0   0     1       1  \n",
       "1   0     2       1  \n",
       "2   0     2       1  \n",
       "3   0     2       1  \n",
       "4   0     2       1  "
      ]
     },
     "execution_count": 3,
     "metadata": {},
     "output_type": "execute_result"
    }
   ],
   "source": [
    "df.head()"
   ]
  },
  {
   "cell_type": "code",
   "execution_count": 4,
   "metadata": {},
   "outputs": [
    {
     "data": {
      "text/plain": [
       "(303, 14)"
      ]
     },
     "execution_count": 4,
     "metadata": {},
     "output_type": "execute_result"
    }
   ],
   "source": [
    "df.shape"
   ]
  },
  {
   "cell_type": "markdown",
   "metadata": {},
   "source": [
    "### Checking class balance"
   ]
  },
  {
   "cell_type": "code",
   "execution_count": 5,
   "metadata": {},
   "outputs": [],
   "source": [
    "df_class_balance= pd.DataFrame(df[\"target\"].value_counts()*100/df.shape[0])"
   ]
  },
  {
   "cell_type": "code",
   "execution_count": 6,
   "metadata": {},
   "outputs": [],
   "source": [
    "df_class_balance.rename( columns = {\"target\":\"percentage\"}, inplace=True)"
   ]
  },
  {
   "cell_type": "code",
   "execution_count": 7,
   "metadata": {},
   "outputs": [],
   "source": [
    "df_class_balance.reset_index(inplace=True)"
   ]
  },
  {
   "cell_type": "code",
   "execution_count": 8,
   "metadata": {},
   "outputs": [],
   "source": [
    "df_class_balance.rename( columns = {\"index\":\"class\"}, inplace=True)"
   ]
  },
  {
   "cell_type": "code",
   "execution_count": 9,
   "metadata": {},
   "outputs": [
    {
     "data": {
      "text/html": [
       "<div>\n",
       "<style scoped>\n",
       "    .dataframe tbody tr th:only-of-type {\n",
       "        vertical-align: middle;\n",
       "    }\n",
       "\n",
       "    .dataframe tbody tr th {\n",
       "        vertical-align: top;\n",
       "    }\n",
       "\n",
       "    .dataframe thead th {\n",
       "        text-align: right;\n",
       "    }\n",
       "</style>\n",
       "<table border=\"1\" class=\"dataframe\">\n",
       "  <thead>\n",
       "    <tr style=\"text-align: right;\">\n",
       "      <th></th>\n",
       "      <th>class</th>\n",
       "      <th>percentage</th>\n",
       "    </tr>\n",
       "  </thead>\n",
       "  <tbody>\n",
       "    <tr>\n",
       "      <th>0</th>\n",
       "      <td>1</td>\n",
       "      <td>54.455446</td>\n",
       "    </tr>\n",
       "    <tr>\n",
       "      <th>1</th>\n",
       "      <td>0</td>\n",
       "      <td>45.544554</td>\n",
       "    </tr>\n",
       "  </tbody>\n",
       "</table>\n",
       "</div>"
      ],
      "text/plain": [
       "   class  percentage\n",
       "0      1   54.455446\n",
       "1      0   45.544554"
      ]
     },
     "execution_count": 9,
     "metadata": {},
     "output_type": "execute_result"
    }
   ],
   "source": [
    "df_class_balance      "
   ]
  },
  {
   "cell_type": "markdown",
   "metadata": {},
   "source": [
    "## EDA"
   ]
  },
  {
   "cell_type": "code",
   "execution_count": 10,
   "metadata": {},
   "outputs": [
    {
     "data": {
      "text/plain": [
       "Index(['age', 'sex', 'cp', 'trestbps', 'chol', 'fbs', 'restecg', 'thalach',\n",
       "       'exang', 'oldpeak', 'slope', 'ca', 'thal', 'target'],\n",
       "      dtype='object')"
      ]
     },
     "execution_count": 10,
     "metadata": {},
     "output_type": "execute_result"
    }
   ],
   "source": [
    "df.columns"
   ]
  },
  {
   "cell_type": "code",
   "execution_count": 11,
   "metadata": {},
   "outputs": [
    {
     "data": {
      "text/plain": [
       "age         0\n",
       "sex         0\n",
       "cp          0\n",
       "trestbps    0\n",
       "chol        0\n",
       "fbs         0\n",
       "restecg     0\n",
       "thalach     0\n",
       "exang       0\n",
       "oldpeak     0\n",
       "slope       0\n",
       "ca          0\n",
       "thal        0\n",
       "target      0\n",
       "dtype: int64"
      ]
     },
     "execution_count": 11,
     "metadata": {},
     "output_type": "execute_result"
    }
   ],
   "source": [
    "df.isnull().sum()"
   ]
  },
  {
   "cell_type": "code",
   "execution_count": 12,
   "metadata": {},
   "outputs": [
    {
     "data": {
      "text/html": [
       "<div>\n",
       "<style scoped>\n",
       "    .dataframe tbody tr th:only-of-type {\n",
       "        vertical-align: middle;\n",
       "    }\n",
       "\n",
       "    .dataframe tbody tr th {\n",
       "        vertical-align: top;\n",
       "    }\n",
       "\n",
       "    .dataframe thead th {\n",
       "        text-align: right;\n",
       "    }\n",
       "</style>\n",
       "<table border=\"1\" class=\"dataframe\">\n",
       "  <thead>\n",
       "    <tr style=\"text-align: right;\">\n",
       "      <th></th>\n",
       "      <th>age</th>\n",
       "      <th>sex</th>\n",
       "      <th>cp</th>\n",
       "      <th>trestbps</th>\n",
       "      <th>chol</th>\n",
       "      <th>fbs</th>\n",
       "      <th>restecg</th>\n",
       "      <th>thalach</th>\n",
       "      <th>exang</th>\n",
       "      <th>oldpeak</th>\n",
       "      <th>slope</th>\n",
       "      <th>ca</th>\n",
       "      <th>thal</th>\n",
       "      <th>target</th>\n",
       "    </tr>\n",
       "  </thead>\n",
       "  <tbody>\n",
       "    <tr>\n",
       "      <th>0</th>\n",
       "      <td>63</td>\n",
       "      <td>1</td>\n",
       "      <td>3</td>\n",
       "      <td>145</td>\n",
       "      <td>233</td>\n",
       "      <td>1</td>\n",
       "      <td>0</td>\n",
       "      <td>150</td>\n",
       "      <td>0</td>\n",
       "      <td>2.3</td>\n",
       "      <td>0</td>\n",
       "      <td>0</td>\n",
       "      <td>1</td>\n",
       "      <td>1</td>\n",
       "    </tr>\n",
       "    <tr>\n",
       "      <th>1</th>\n",
       "      <td>37</td>\n",
       "      <td>1</td>\n",
       "      <td>2</td>\n",
       "      <td>130</td>\n",
       "      <td>250</td>\n",
       "      <td>0</td>\n",
       "      <td>1</td>\n",
       "      <td>187</td>\n",
       "      <td>0</td>\n",
       "      <td>3.5</td>\n",
       "      <td>0</td>\n",
       "      <td>0</td>\n",
       "      <td>2</td>\n",
       "      <td>1</td>\n",
       "    </tr>\n",
       "    <tr>\n",
       "      <th>2</th>\n",
       "      <td>41</td>\n",
       "      <td>0</td>\n",
       "      <td>1</td>\n",
       "      <td>130</td>\n",
       "      <td>204</td>\n",
       "      <td>0</td>\n",
       "      <td>0</td>\n",
       "      <td>172</td>\n",
       "      <td>0</td>\n",
       "      <td>1.4</td>\n",
       "      <td>2</td>\n",
       "      <td>0</td>\n",
       "      <td>2</td>\n",
       "      <td>1</td>\n",
       "    </tr>\n",
       "    <tr>\n",
       "      <th>3</th>\n",
       "      <td>56</td>\n",
       "      <td>1</td>\n",
       "      <td>1</td>\n",
       "      <td>120</td>\n",
       "      <td>236</td>\n",
       "      <td>0</td>\n",
       "      <td>1</td>\n",
       "      <td>178</td>\n",
       "      <td>0</td>\n",
       "      <td>0.8</td>\n",
       "      <td>2</td>\n",
       "      <td>0</td>\n",
       "      <td>2</td>\n",
       "      <td>1</td>\n",
       "    </tr>\n",
       "    <tr>\n",
       "      <th>4</th>\n",
       "      <td>57</td>\n",
       "      <td>0</td>\n",
       "      <td>0</td>\n",
       "      <td>120</td>\n",
       "      <td>354</td>\n",
       "      <td>0</td>\n",
       "      <td>1</td>\n",
       "      <td>163</td>\n",
       "      <td>1</td>\n",
       "      <td>0.6</td>\n",
       "      <td>2</td>\n",
       "      <td>0</td>\n",
       "      <td>2</td>\n",
       "      <td>1</td>\n",
       "    </tr>\n",
       "    <tr>\n",
       "      <th>5</th>\n",
       "      <td>57</td>\n",
       "      <td>1</td>\n",
       "      <td>0</td>\n",
       "      <td>140</td>\n",
       "      <td>192</td>\n",
       "      <td>0</td>\n",
       "      <td>1</td>\n",
       "      <td>148</td>\n",
       "      <td>0</td>\n",
       "      <td>0.4</td>\n",
       "      <td>1</td>\n",
       "      <td>0</td>\n",
       "      <td>1</td>\n",
       "      <td>1</td>\n",
       "    </tr>\n",
       "    <tr>\n",
       "      <th>6</th>\n",
       "      <td>56</td>\n",
       "      <td>0</td>\n",
       "      <td>1</td>\n",
       "      <td>140</td>\n",
       "      <td>294</td>\n",
       "      <td>0</td>\n",
       "      <td>0</td>\n",
       "      <td>153</td>\n",
       "      <td>0</td>\n",
       "      <td>1.3</td>\n",
       "      <td>1</td>\n",
       "      <td>0</td>\n",
       "      <td>2</td>\n",
       "      <td>1</td>\n",
       "    </tr>\n",
       "    <tr>\n",
       "      <th>7</th>\n",
       "      <td>44</td>\n",
       "      <td>1</td>\n",
       "      <td>1</td>\n",
       "      <td>120</td>\n",
       "      <td>263</td>\n",
       "      <td>0</td>\n",
       "      <td>1</td>\n",
       "      <td>173</td>\n",
       "      <td>0</td>\n",
       "      <td>0.0</td>\n",
       "      <td>2</td>\n",
       "      <td>0</td>\n",
       "      <td>3</td>\n",
       "      <td>1</td>\n",
       "    </tr>\n",
       "    <tr>\n",
       "      <th>8</th>\n",
       "      <td>52</td>\n",
       "      <td>1</td>\n",
       "      <td>2</td>\n",
       "      <td>172</td>\n",
       "      <td>199</td>\n",
       "      <td>1</td>\n",
       "      <td>1</td>\n",
       "      <td>162</td>\n",
       "      <td>0</td>\n",
       "      <td>0.5</td>\n",
       "      <td>2</td>\n",
       "      <td>0</td>\n",
       "      <td>3</td>\n",
       "      <td>1</td>\n",
       "    </tr>\n",
       "    <tr>\n",
       "      <th>9</th>\n",
       "      <td>57</td>\n",
       "      <td>1</td>\n",
       "      <td>2</td>\n",
       "      <td>150</td>\n",
       "      <td>168</td>\n",
       "      <td>0</td>\n",
       "      <td>1</td>\n",
       "      <td>174</td>\n",
       "      <td>0</td>\n",
       "      <td>1.6</td>\n",
       "      <td>2</td>\n",
       "      <td>0</td>\n",
       "      <td>2</td>\n",
       "      <td>1</td>\n",
       "    </tr>\n",
       "  </tbody>\n",
       "</table>\n",
       "</div>"
      ],
      "text/plain": [
       "   age  sex  cp  trestbps  chol  fbs  restecg  thalach  exang  oldpeak  slope  \\\n",
       "0   63    1   3       145   233    1        0      150      0      2.3      0   \n",
       "1   37    1   2       130   250    0        1      187      0      3.5      0   \n",
       "2   41    0   1       130   204    0        0      172      0      1.4      2   \n",
       "3   56    1   1       120   236    0        1      178      0      0.8      2   \n",
       "4   57    0   0       120   354    0        1      163      1      0.6      2   \n",
       "5   57    1   0       140   192    0        1      148      0      0.4      1   \n",
       "6   56    0   1       140   294    0        0      153      0      1.3      1   \n",
       "7   44    1   1       120   263    0        1      173      0      0.0      2   \n",
       "8   52    1   2       172   199    1        1      162      0      0.5      2   \n",
       "9   57    1   2       150   168    0        1      174      0      1.6      2   \n",
       "\n",
       "   ca  thal  target  \n",
       "0   0     1       1  \n",
       "1   0     2       1  \n",
       "2   0     2       1  \n",
       "3   0     2       1  \n",
       "4   0     2       1  \n",
       "5   0     1       1  \n",
       "6   0     2       1  \n",
       "7   0     3       1  \n",
       "8   0     3       1  \n",
       "9   0     2       1  "
      ]
     },
     "execution_count": 12,
     "metadata": {},
     "output_type": "execute_result"
    }
   ],
   "source": [
    "df.head(10)"
   ]
  },
  {
   "cell_type": "code",
   "execution_count": 13,
   "metadata": {},
   "outputs": [
    {
     "data": {
      "text/plain": [
       "age           int64\n",
       "sex           int64\n",
       "cp            int64\n",
       "trestbps      int64\n",
       "chol          int64\n",
       "fbs           int64\n",
       "restecg       int64\n",
       "thalach       int64\n",
       "exang         int64\n",
       "oldpeak     float64\n",
       "slope         int64\n",
       "ca            int64\n",
       "thal          int64\n",
       "target        int64\n",
       "dtype: object"
      ]
     },
     "execution_count": 13,
     "metadata": {},
     "output_type": "execute_result"
    }
   ],
   "source": [
    "df.dtypes"
   ]
  },
  {
   "cell_type": "code",
   "execution_count": 14,
   "metadata": {},
   "outputs": [
    {
     "data": {
      "text/plain": [
       "<matplotlib.lines.Line2D at 0x274db64e848>"
      ]
     },
     "execution_count": 14,
     "metadata": {},
     "output_type": "execute_result"
    },
    {
     "data": {
      "image/png": "[encoded data removed]",
      "text/plain": [
       "<Figure size 432x288 with 1 Axes>"
      ]
     },
     "metadata": {
      "needs_background": "light"
     },
     "output_type": "display_data"
    }
   ],
   "source": [
    "sns.scatterplot(x=\"age\",y=\"chol\",hue=\"target\",data=df)\n",
    "plt.axvline(x=55, color=\"b\", linestyle='solid')\n",
    "plt.axhline(y=350, color=\"b\", linestyle='solid')"
   ]
  },
  {
   "cell_type": "code",
   "execution_count": 15,
   "metadata": {},
   "outputs": [
    {
     "data": {
      "text/plain": [
       "<matplotlib.axes._subplots.AxesSubplot at 0x274dbeeeb88>"
      ]
     },
     "execution_count": 15,
     "metadata": {},
     "output_type": "execute_result"
    },
    {
     "data": {
      "image/png": "[encoded data removed]",
      "text/plain": [
       "<Figure size 432x288 with 1 Axes>"
      ]
     },
     "metadata": {
      "needs_background": "light"
     },
     "output_type": "display_data"
    }
   ],
   "source": [
    "sns.lineplot(x=\"age\",y= \"thalach\", hue=\"target\", data=df)"
   ]
  },
  {
   "cell_type": "code",
   "execution_count": null,
   "metadata": {},
   "outputs": [],
   "source": []
  },
  {
   "cell_type": "markdown",
   "metadata": {},
   "source": [
    "## plain logostic regression"
   ]
  },
  {
   "cell_type": "code",
   "execution_count": 16,
   "metadata": {},
   "outputs": [],
   "source": [
    "from sklearn.linear_model import LogisticRegression\n",
    "from sklearn.metrics import r2_score , mean_squared_error\n",
    "from sklearn.model_selection import train_test_split\n",
    "from sklearn.metrics import precision_score, recall_score, fbeta_score, confusion_matrix"
   ]
  },
  {
   "cell_type": "code",
   "execution_count": 159,
   "metadata": {},
   "outputs": [
    {
     "name": "stdout",
     "output_type": "stream",
     "text": [
      "(242, 13)\n",
      "(61, 13)\n",
      "(242,)\n",
      "(61,)\n"
     ]
    }
   ],
   "source": [
    "#train_test_split\n",
    "x=df.drop(columns=[\"target\"])\n",
    "y=df[\"target\"]\n",
    "x_train,x_test,y_train,y_test = train_test_split(x,y, test_size=0.2,random_state=51)\n",
    "print(x_train.shape)\n",
    "print(x_test.shape)\n",
    "print(y_train.shape)\n",
    "print(y_test.shape)"
   ]
  },
  {
   "cell_type": "code",
   "execution_count": 18,
   "metadata": {},
   "outputs": [],
   "source": [
    "log_model = LogisticRegression()"
   ]
  },
  {
   "cell_type": "code",
   "execution_count": 19,
   "metadata": {},
   "outputs": [
    {
     "name": "stderr",
     "output_type": "stream",
     "text": [
      "C:\\Users\\Pushkar\\anaconda3\\lib\\site-packages\\sklearn\\linear_model\\_logistic.py:940: ConvergenceWarning: lbfgs failed to converge (status=1):\n",
      "STOP: TOTAL NO. of ITERATIONS REACHED LIMIT.\n",
      "\n",
      "Increase the number of iterations (max_iter) or scale the data as shown in:\n",
      "    https://scikit-learn.org/stable/modules/preprocessing.html\n",
      "Please also refer to the documentation for alternative solver options:\n",
      "    https://scikit-learn.org/stable/modules/linear_model.html#logistic-regression\n",
      "  extra_warning_msg=_LOGISTIC_SOLVER_CONVERGENCE_MSG)\n"
     ]
    },
    {
     "data": {
      "text/plain": [
       "LogisticRegression(C=1.0, class_weight=None, dual=False, fit_intercept=True,\n",
       "                   intercept_scaling=1, l1_ratio=None, max_iter=100,\n",
       "                   multi_class='auto', n_jobs=None, penalty='l2',\n",
       "                   random_state=None, solver='lbfgs', tol=0.0001, verbose=0,\n",
       "                   warm_start=False)"
      ]
     },
     "execution_count": 19,
     "metadata": {},
     "output_type": "execute_result"
    }
   ],
   "source": [
    "log_model.fit(x_train,y_train)"
   ]
  },
  {
   "cell_type": "code",
   "execution_count": 20,
   "metadata": {},
   "outputs": [],
   "source": [
    "y_train_pred= log_model.predict(x_train)"
   ]
  },
  {
   "cell_type": "code",
   "execution_count": 21,
   "metadata": {},
   "outputs": [],
   "source": [
    "y_train_pred_proba = log_model.predict_proba(x_train)"
   ]
  },
  {
   "cell_type": "code",
   "execution_count": 22,
   "metadata": {},
   "outputs": [
    {
     "data": {
      "text/plain": [
       "array([[ 83,  25],\n",
       "       [ 10, 124]], dtype=int64)"
      ]
     },
     "execution_count": 22,
     "metadata": {},
     "output_type": "execute_result"
    }
   ],
   "source": [
    "confusion_matrix(y_train,y_train_pred)"
   ]
  },
  {
   "cell_type": "code",
   "execution_count": 23,
   "metadata": {},
   "outputs": [],
   "source": [
    "p=[]\n",
    "r=[]\n",
    "def all_scores(y_true,y_pred):\n",
    "    precision= precision_score(y_true,y_pred)\n",
    "    recall = recall_score(y_true,y_pred)\n",
    "    f1_score = fbeta_score(y_true,y_pred,beta=1)\n",
    "    print(\"Precision:{} Recall:{} f1 score:{}\".format(precision,recall,f1_score))\n",
    "    p.append(precision)\n",
    "    r.append(recall)"
   ]
  },
  {
   "cell_type": "code",
   "execution_count": 24,
   "metadata": {},
   "outputs": [
    {
     "name": "stdout",
     "output_type": "stream",
     "text": [
      "Precision:0.8322147651006712 Recall:0.9253731343283582 f1 score:0.8763250883392225\n"
     ]
    }
   ],
   "source": [
    "all_scores(y_train,y_train_pred)   #results for plain logistic regression trainingset"
   ]
  },
  {
   "cell_type": "code",
   "execution_count": 25,
   "metadata": {},
   "outputs": [],
   "source": [
    "y_test_pred = log_model.predict(x_test)"
   ]
  },
  {
   "cell_type": "code",
   "execution_count": 26,
   "metadata": {},
   "outputs": [
    {
     "name": "stdout",
     "output_type": "stream",
     "text": [
      "Precision:0.8055555555555556 Recall:0.9354838709677419 f1 score:0.8656716417910448\n"
     ]
    }
   ],
   "source": [
    "all_scores(y_test,y_test_pred)"
   ]
  },
  {
   "cell_type": "code",
   "execution_count": 27,
   "metadata": {},
   "outputs": [],
   "source": [
    "def threshold_change(predicted_proba,threshold):\n",
    "    l=[]\n",
    "    for i in range(0,len(predicted_proba)):\n",
    "        if predicted_proba[i][0] >=threshold:\n",
    "            l.append(0)\n",
    "        else:\n",
    "            l.append(1)\n",
    "    y_pred_proba= np.array(l)\n",
    "    return y_pred_proba"
   ]
  },
  {
   "cell_type": "code",
   "execution_count": 28,
   "metadata": {},
   "outputs": [
    {
     "data": {
      "text/plain": [
       "array([0, 0, 0, 1, 0, 1, 1, 1, 0, 1, 0, 1, 1, 1, 0, 0, 1, 1, 1, 0, 1, 1,\n",
       "       1, 0, 1, 0, 1, 1, 1, 0, 1, 1, 1, 1, 1, 1, 1, 1, 1, 0, 0, 1, 0, 1,\n",
       "       0, 0, 1, 1, 0, 0, 1, 0, 1, 1, 1, 0, 0, 1, 1, 0, 0, 1, 1, 1, 1, 0,\n",
       "       1, 1, 1, 0, 0, 1, 1, 1, 1, 0, 1, 0, 1, 0, 1, 1, 1, 1, 0, 1, 1, 1,\n",
       "       1, 0, 1, 0, 1, 1, 0, 0, 1, 0, 0, 1, 0, 1, 0, 1, 0, 1, 1, 1, 0, 0,\n",
       "       1, 1, 1, 0, 0, 0, 0, 0, 0, 0, 1, 1, 1, 1, 1, 1, 0, 1, 1, 0, 0, 1,\n",
       "       0, 1, 1, 0, 1, 0, 1, 1, 0, 1, 1, 1, 1, 0, 1, 0, 0, 1, 1, 1, 0, 1,\n",
       "       1, 0, 1, 0, 0, 1, 1, 1, 0, 1, 1, 1, 1, 1, 1, 0, 1, 0, 0, 1, 0, 1,\n",
       "       1, 1, 0, 0, 0, 1, 1, 0, 1, 0, 1, 0, 0, 0, 0, 1, 0, 1, 1, 1, 1, 1,\n",
       "       1, 1, 1, 0, 1, 1, 1, 1, 1, 1, 1, 0, 1, 1, 0, 1, 1, 0, 0, 0, 0, 1,\n",
       "       0, 0, 1, 0, 0, 1, 0, 1, 1, 1, 0, 1, 1, 1, 1, 1, 1, 1, 1, 0, 0, 1])"
      ]
     },
     "execution_count": 28,
     "metadata": {},
     "output_type": "execute_result"
    }
   ],
   "source": [
    "threshold_change(y_train_pred_proba,0.5)"
   ]
  },
  {
   "cell_type": "code",
   "execution_count": 29,
   "metadata": {},
   "outputs": [
    {
     "name": "stdout",
     "output_type": "stream",
     "text": [
      "threshold:0.1\n",
      "Precision:0.9423076923076923 Recall:0.3656716417910448 f1 score:0.5268817204301075\n",
      "threshold:0.2\n",
      "Precision:0.9080459770114943 Recall:0.5895522388059702 f1 score:0.7149321266968326\n",
      "threshold:0.3\n",
      "Precision:0.9203539823008849 Recall:0.7761194029850746 f1 score:0.8421052631578947\n",
      "threshold:0.4\n",
      "Precision:0.8778625954198473 Recall:0.8582089552238806 f1 score:0.8679245283018869\n",
      "threshold:0.5\n",
      "Precision:0.8322147651006712 Recall:0.9253731343283582 f1 score:0.8763250883392225\n",
      "threshold:0.6\n",
      "Precision:0.8076923076923077 Recall:0.9402985074626866 f1 score:0.8689655172413794\n",
      "threshold:0.7\n",
      "Precision:0.7839506172839507 Recall:0.9477611940298507 f1 score:0.8581081081081082\n",
      "threshold:0.8\n",
      "Precision:0.735632183908046 Recall:0.9552238805970149 f1 score:0.8311688311688311\n",
      "threshold:0.9\n",
      "Precision:0.7058823529411765 Recall:0.9850746268656716 f1 score:0.8224299065420562\n"
     ]
    }
   ],
   "source": [
    "thrsh = np.arange(1,10)/10\n",
    "for j in thrsh:\n",
    "    print(\"threshold:{}\".format(j))\n",
    "    y_train_pred_probs = threshold_change(y_train_pred_proba,j)\n",
    "    all_scores(y_train,y_train_pred_probs)"
   ]
  },
  {
   "cell_type": "markdown",
   "metadata": {},
   "source": [
    "## GridsearchCV on log model"
   ]
  },
  {
   "cell_type": "code",
   "execution_count": 92,
   "metadata": {},
   "outputs": [],
   "source": [
    "from sklearn.model_selection import GridSearchCV"
   ]
  },
  {
   "cell_type": "code",
   "execution_count": 116,
   "metadata": {},
   "outputs": [],
   "source": [
    "parameters = {\"C\":[i for i in np.arange(1,11)/10], \"class_weight\":[None,\"balanced\"]}"
   ]
  },
  {
   "cell_type": "code",
   "execution_count": null,
   "metadata": {},
   "outputs": [],
   "source": []
  },
  {
   "cell_type": "code",
   "execution_count": 117,
   "metadata": {},
   "outputs": [],
   "source": [
    "gs_log = GridSearchCV(log_model, param_grid=parameters)"
   ]
  },
  {
   "cell_type": "code",
   "execution_count": 118,
   "metadata": {},
   "outputs": [
    {
     "data": {
      "text/plain": [
       "GridSearchCV(cv=None, error_score=nan,\n",
       "             estimator=LogisticRegression(C=1.0, class_weight=None, dual=False,\n",
       "                                          fit_intercept=True,\n",
       "                                          intercept_scaling=1, l1_ratio=None,\n",
       "                                          max_iter=100, multi_class='auto',\n",
       "                                          n_jobs=None, penalty='l2',\n",
       "                                          random_state=None, solver='lbfgs',\n",
       "                                          tol=0.0001, verbose=0,\n",
       "                                          warm_start=False),\n",
       "             iid='deprecated', n_jobs=None,\n",
       "             param_grid={'C': [0.1, 0.2, 0.3, 0.4, 0.5, 0.6, 0.7, 0.8, 0.9,\n",
       "                               1.0],\n",
       "                         'class_weight': [None, 'balanced']},\n",
       "             pre_dispatch='2*n_jobs', refit=True, return_train_score=False,\n",
       "             scoring=None, verbose=0)"
      ]
     },
     "execution_count": 118,
     "metadata": {},
     "output_type": "execute_result"
    }
   ],
   "source": [
    "gs_log.fit(x_train,y_train)"
   ]
  },
  {
   "cell_type": "code",
   "execution_count": 120,
   "metadata": {},
   "outputs": [
    {
     "data": {
      "text/plain": [
       "LogisticRegression(C=0.1, class_weight='balanced', dual=False,\n",
       "                   fit_intercept=True, intercept_scaling=1, l1_ratio=None,\n",
       "                   max_iter=100, multi_class='auto', n_jobs=None, penalty='l2',\n",
       "                   random_state=None, solver='lbfgs', tol=0.0001, verbose=0,\n",
       "                   warm_start=False)"
      ]
     },
     "execution_count": 120,
     "metadata": {},
     "output_type": "execute_result"
    }
   ],
   "source": [
    "gs_log.best_estimator_"
   ]
  },
  {
   "cell_type": "code",
   "execution_count": 121,
   "metadata": {},
   "outputs": [],
   "source": [
    "log_model= LogisticRegression(C=0.1, class_weight='balanced', dual=False,\n",
    "                   fit_intercept=True, intercept_scaling=1, l1_ratio=None,\n",
    "                   max_iter=100, multi_class='auto', n_jobs=None, penalty='l2',\n",
    "                   random_state=None, solver='lbfgs', tol=0.0001, verbose=0,\n",
    "                   warm_start=False)"
   ]
  },
  {
   "cell_type": "code",
   "execution_count": 122,
   "metadata": {},
   "outputs": [
    {
     "data": {
      "text/plain": [
       "LogisticRegression(C=0.1, class_weight='balanced', dual=False,\n",
       "                   fit_intercept=True, intercept_scaling=1, l1_ratio=None,\n",
       "                   max_iter=100, multi_class='auto', n_jobs=None, penalty='l2',\n",
       "                   random_state=None, solver='lbfgs', tol=0.0001, verbose=0,\n",
       "                   warm_start=False)"
      ]
     },
     "execution_count": 122,
     "metadata": {},
     "output_type": "execute_result"
    }
   ],
   "source": [
    "log_model.fit(x_train,y_train)"
   ]
  },
  {
   "cell_type": "code",
   "execution_count": 128,
   "metadata": {},
   "outputs": [
    {
     "name": "stdout",
     "output_type": "stream",
     "text": [
      "train\n",
      "precision:0.8482758620689655\n",
      "recall:0.917910447761194\n",
      "\n",
      "\n",
      "test\n",
      "precision:0.7714285714285715\n",
      "recall:0.8709677419354839\n"
     ]
    }
   ],
   "source": [
    "y_pred_train = log_model.predict(x_train)\n",
    "y_pred_test = log_model.predict(x_test)\n",
    "precision_train= precision_score(y_train,y_pred_train)\n",
    "recall_train=recall_score(y_train,y_pred_train)\n",
    "precision_test=precision_score(y_test,y_pred_test)\n",
    "recall_test=recall_score(y_test,y_pred_test)\n",
    "print(\"train\")\n",
    "print(f\"precision:{precision_train}\")\n",
    "print(f\"recall:{recall_train}\")\n",
    "print(\"\\n\")\n",
    "print(\"test\")\n",
    "print(f\"precision:{precision_test}\")\n",
    "print(f\"recall:{recall_test}\")"
   ]
  },
  {
   "cell_type": "code",
   "execution_count": null,
   "metadata": {},
   "outputs": [],
   "source": []
  },
  {
   "cell_type": "code",
   "execution_count": null,
   "metadata": {},
   "outputs": [],
   "source": []
  },
  {
   "cell_type": "markdown",
   "metadata": {},
   "source": [
    "## lets try standardizing"
   ]
  },
  {
   "cell_type": "code",
   "execution_count": null,
   "metadata": {},
   "outputs": [],
   "source": []
  },
  {
   "cell_type": "code",
   "execution_count": null,
   "metadata": {},
   "outputs": [],
   "source": []
  },
  {
   "cell_type": "code",
   "execution_count": 143,
   "metadata": {},
   "outputs": [],
   "source": [
    "from sklearn.preprocessing import StandardScaler"
   ]
  },
  {
   "cell_type": "code",
   "execution_count": 144,
   "metadata": {},
   "outputs": [],
   "source": [
    "sc=StandardScaler()\n",
    "x_train = sc.fit_transform(x_train)\n",
    "x_test = sc.transform(x_test)"
   ]
  },
  {
   "cell_type": "code",
   "execution_count": 145,
   "metadata": {},
   "outputs": [],
   "source": [
    "y_train_pred= log_model.predict(x_train)\n",
    "y_test_pred = log_model.predict(x_test)"
   ]
  },
  {
   "cell_type": "code",
   "execution_count": 146,
   "metadata": {},
   "outputs": [
    {
     "name": "stdout",
     "output_type": "stream",
     "text": [
      "Precision:0.8482758620689655  Recall:0.917910447761194  f1 score:0.8817204301075269\n"
     ]
    }
   ],
   "source": [
    "all_scores(y_train,y_train_pred) "
   ]
  },
  {
   "cell_type": "code",
   "execution_count": 147,
   "metadata": {},
   "outputs": [
    {
     "name": "stdout",
     "output_type": "stream",
     "text": [
      "Precision:0.7714285714285715  Recall:0.8709677419354839  f1 score:0.8181818181818182\n"
     ]
    }
   ],
   "source": [
    "all_scores(y_test,y_test_pred)"
   ]
  },
  {
   "cell_type": "code",
   "execution_count": 148,
   "metadata": {},
   "outputs": [],
   "source": [
    "# performance is getting bad after standardizing, not a good idea"
   ]
  },
  {
   "cell_type": "markdown",
   "metadata": {},
   "source": [
    "## AUC-ROC CURVE"
   ]
  },
  {
   "cell_type": "code",
   "execution_count": 129,
   "metadata": {},
   "outputs": [],
   "source": [
    "y_test_proba = log_model.predict_proba(x_test)"
   ]
  },
  {
   "cell_type": "markdown",
   "metadata": {},
   "source": [
    "from sklearn.metrics import roc_curve"
   ]
  },
  {
   "cell_type": "code",
   "execution_count": 131,
   "metadata": {},
   "outputs": [],
   "source": [
    "fpr, tpr, thresholds = roc_curve(y_train, [a[1] for a in y_train_pred_proba])\n",
    "fprte, tprte, thresholdste = roc_curve(y_test, [j[1] for j in y_test_proba])"
   ]
  },
  {
   "cell_type": "code",
   "execution_count": 38,
   "metadata": {},
   "outputs": [
    {
     "data": {
      "text/plain": [
       "<matplotlib.axes._subplots.AxesSubplot at 0x274db6c1508>"
      ]
     },
     "execution_count": 38,
     "metadata": {},
     "output_type": "execute_result"
    },
    {
     "data": {
      "image/png": "[encoded data removed]",
      "text/plain": [
       "<Figure size 432x288 with 1 Axes>"
      ]
     },
     "metadata": {
      "needs_background": "light"
     },
     "output_type": "display_data"
    }
   ],
   "source": [
    "sns.lineplot(x=fpr, y=tpr)"
   ]
  },
  {
   "cell_type": "code",
   "execution_count": 132,
   "metadata": {},
   "outputs": [
    {
     "data": {
      "text/plain": [
       "<matplotlib.axes._subplots.AxesSubplot at 0x274dc7277c8>"
      ]
     },
     "execution_count": 132,
     "metadata": {},
     "output_type": "execute_result"
    },
    {
     "data": {
      "image/png": "[encoded data removed]",
      "text/plain": [
       "<Figure size 432x288 with 1 Axes>"
      ]
     },
     "metadata": {
      "needs_background": "light"
     },
     "output_type": "display_data"
    }
   ],
   "source": [
    "sns.lineplot(x=fprte, y=tprte)"
   ]
  },
  {
   "cell_type": "code",
   "execution_count": 39,
   "metadata": {},
   "outputs": [],
   "source": [
    "df_roc1= pd.DataFrame(thresholds, columns=[\"thresholds train\"])"
   ]
  },
  {
   "cell_type": "code",
   "execution_count": 40,
   "metadata": {},
   "outputs": [],
   "source": [
    "df_roc1[\"tpr\"] = tpr"
   ]
  },
  {
   "cell_type": "code",
   "execution_count": 41,
   "metadata": {},
   "outputs": [],
   "source": [
    "df_roc1[\"fpr\"] = fpr"
   ]
  },
  {
   "cell_type": "code",
   "execution_count": 42,
   "metadata": {},
   "outputs": [
    {
     "data": {
      "text/html": [
       "<div>\n",
       "<style scoped>\n",
       "    .dataframe tbody tr th:only-of-type {\n",
       "        vertical-align: middle;\n",
       "    }\n",
       "\n",
       "    .dataframe tbody tr th {\n",
       "        vertical-align: top;\n",
       "    }\n",
       "\n",
       "    .dataframe thead th {\n",
       "        text-align: right;\n",
       "    }\n",
       "</style>\n",
       "<table border=\"1\" class=\"dataframe\">\n",
       "  <thead>\n",
       "    <tr style=\"text-align: right;\">\n",
       "      <th></th>\n",
       "      <th>thresholds</th>\n",
       "      <th>tpr</th>\n",
       "      <th>fpr</th>\n",
       "    </tr>\n",
       "  </thead>\n",
       "  <tbody>\n",
       "    <tr>\n",
       "      <th>0</th>\n",
       "      <td>1.993983</td>\n",
       "      <td>0.000000</td>\n",
       "      <td>0.000000</td>\n",
       "    </tr>\n",
       "    <tr>\n",
       "      <th>1</th>\n",
       "      <td>0.993983</td>\n",
       "      <td>0.007463</td>\n",
       "      <td>0.000000</td>\n",
       "    </tr>\n",
       "    <tr>\n",
       "      <th>2</th>\n",
       "      <td>0.956751</td>\n",
       "      <td>0.223881</td>\n",
       "      <td>0.000000</td>\n",
       "    </tr>\n",
       "    <tr>\n",
       "      <th>3</th>\n",
       "      <td>0.955845</td>\n",
       "      <td>0.223881</td>\n",
       "      <td>0.009259</td>\n",
       "    </tr>\n",
       "    <tr>\n",
       "      <th>4</th>\n",
       "      <td>0.930654</td>\n",
       "      <td>0.313433</td>\n",
       "      <td>0.009259</td>\n",
       "    </tr>\n",
       "    <tr>\n",
       "      <th>5</th>\n",
       "      <td>0.919576</td>\n",
       "      <td>0.313433</td>\n",
       "      <td>0.018519</td>\n",
       "    </tr>\n",
       "    <tr>\n",
       "      <th>6</th>\n",
       "      <td>0.907955</td>\n",
       "      <td>0.358209</td>\n",
       "      <td>0.018519</td>\n",
       "    </tr>\n",
       "    <tr>\n",
       "      <th>7</th>\n",
       "      <td>0.901484</td>\n",
       "      <td>0.358209</td>\n",
       "      <td>0.027778</td>\n",
       "    </tr>\n",
       "    <tr>\n",
       "      <th>8</th>\n",
       "      <td>0.888173</td>\n",
       "      <td>0.425373</td>\n",
       "      <td>0.027778</td>\n",
       "    </tr>\n",
       "    <tr>\n",
       "      <th>9</th>\n",
       "      <td>0.887278</td>\n",
       "      <td>0.425373</td>\n",
       "      <td>0.037037</td>\n",
       "    </tr>\n",
       "    <tr>\n",
       "      <th>10</th>\n",
       "      <td>0.852305</td>\n",
       "      <td>0.485075</td>\n",
       "      <td>0.037037</td>\n",
       "    </tr>\n",
       "    <tr>\n",
       "      <th>11</th>\n",
       "      <td>0.851040</td>\n",
       "      <td>0.485075</td>\n",
       "      <td>0.046296</td>\n",
       "    </tr>\n",
       "    <tr>\n",
       "      <th>12</th>\n",
       "      <td>0.830326</td>\n",
       "      <td>0.529851</td>\n",
       "      <td>0.046296</td>\n",
       "    </tr>\n",
       "    <tr>\n",
       "      <th>13</th>\n",
       "      <td>0.827838</td>\n",
       "      <td>0.529851</td>\n",
       "      <td>0.055556</td>\n",
       "    </tr>\n",
       "    <tr>\n",
       "      <th>14</th>\n",
       "      <td>0.825895</td>\n",
       "      <td>0.537313</td>\n",
       "      <td>0.055556</td>\n",
       "    </tr>\n",
       "    <tr>\n",
       "      <th>15</th>\n",
       "      <td>0.825612</td>\n",
       "      <td>0.537313</td>\n",
       "      <td>0.064815</td>\n",
       "    </tr>\n",
       "    <tr>\n",
       "      <th>16</th>\n",
       "      <td>0.807123</td>\n",
       "      <td>0.589552</td>\n",
       "      <td>0.064815</td>\n",
       "    </tr>\n",
       "    <tr>\n",
       "      <th>17</th>\n",
       "      <td>0.803013</td>\n",
       "      <td>0.589552</td>\n",
       "      <td>0.074074</td>\n",
       "    </tr>\n",
       "    <tr>\n",
       "      <th>18</th>\n",
       "      <td>0.735677</td>\n",
       "      <td>0.723881</td>\n",
       "      <td>0.074074</td>\n",
       "    </tr>\n",
       "    <tr>\n",
       "      <th>19</th>\n",
       "      <td>0.731539</td>\n",
       "      <td>0.723881</td>\n",
       "      <td>0.083333</td>\n",
       "    </tr>\n",
       "    <tr>\n",
       "      <th>20</th>\n",
       "      <td>0.699350</td>\n",
       "      <td>0.783582</td>\n",
       "      <td>0.083333</td>\n",
       "    </tr>\n",
       "    <tr>\n",
       "      <th>21</th>\n",
       "      <td>0.691814</td>\n",
       "      <td>0.783582</td>\n",
       "      <td>0.101852</td>\n",
       "    </tr>\n",
       "    <tr>\n",
       "      <th>22</th>\n",
       "      <td>0.675441</td>\n",
       "      <td>0.813433</td>\n",
       "      <td>0.101852</td>\n",
       "    </tr>\n",
       "    <tr>\n",
       "      <th>23</th>\n",
       "      <td>0.674706</td>\n",
       "      <td>0.813433</td>\n",
       "      <td>0.111111</td>\n",
       "    </tr>\n",
       "    <tr>\n",
       "      <th>24</th>\n",
       "      <td>0.673597</td>\n",
       "      <td>0.820896</td>\n",
       "      <td>0.111111</td>\n",
       "    </tr>\n",
       "    <tr>\n",
       "      <th>25</th>\n",
       "      <td>0.669433</td>\n",
       "      <td>0.820896</td>\n",
       "      <td>0.120370</td>\n",
       "    </tr>\n",
       "    <tr>\n",
       "      <th>26</th>\n",
       "      <td>0.638193</td>\n",
       "      <td>0.835821</td>\n",
       "      <td>0.120370</td>\n",
       "    </tr>\n",
       "    <tr>\n",
       "      <th>27</th>\n",
       "      <td>0.637533</td>\n",
       "      <td>0.835821</td>\n",
       "      <td>0.138889</td>\n",
       "    </tr>\n",
       "    <tr>\n",
       "      <th>28</th>\n",
       "      <td>0.630017</td>\n",
       "      <td>0.843284</td>\n",
       "      <td>0.138889</td>\n",
       "    </tr>\n",
       "    <tr>\n",
       "      <th>29</th>\n",
       "      <td>0.620532</td>\n",
       "      <td>0.843284</td>\n",
       "      <td>0.148148</td>\n",
       "    </tr>\n",
       "    <tr>\n",
       "      <th>30</th>\n",
       "      <td>0.586231</td>\n",
       "      <td>0.880597</td>\n",
       "      <td>0.148148</td>\n",
       "    </tr>\n",
       "    <tr>\n",
       "      <th>31</th>\n",
       "      <td>0.576657</td>\n",
       "      <td>0.880597</td>\n",
       "      <td>0.175926</td>\n",
       "    </tr>\n",
       "    <tr>\n",
       "      <th>32</th>\n",
       "      <td>0.565799</td>\n",
       "      <td>0.888060</td>\n",
       "      <td>0.175926</td>\n",
       "    </tr>\n",
       "    <tr>\n",
       "      <th>33</th>\n",
       "      <td>0.565535</td>\n",
       "      <td>0.888060</td>\n",
       "      <td>0.185185</td>\n",
       "    </tr>\n",
       "    <tr>\n",
       "      <th>34</th>\n",
       "      <td>0.565078</td>\n",
       "      <td>0.895522</td>\n",
       "      <td>0.185185</td>\n",
       "    </tr>\n",
       "    <tr>\n",
       "      <th>35</th>\n",
       "      <td>0.545351</td>\n",
       "      <td>0.895522</td>\n",
       "      <td>0.203704</td>\n",
       "    </tr>\n",
       "    <tr>\n",
       "      <th>36</th>\n",
       "      <td>0.541628</td>\n",
       "      <td>0.910448</td>\n",
       "      <td>0.203704</td>\n",
       "    </tr>\n",
       "    <tr>\n",
       "      <th>37</th>\n",
       "      <td>0.535624</td>\n",
       "      <td>0.925373</td>\n",
       "      <td>0.203704</td>\n",
       "    </tr>\n",
       "    <tr>\n",
       "      <th>38</th>\n",
       "      <td>0.491606</td>\n",
       "      <td>0.925373</td>\n",
       "      <td>0.250000</td>\n",
       "    </tr>\n",
       "    <tr>\n",
       "      <th>39</th>\n",
       "      <td>0.486130</td>\n",
       "      <td>0.932836</td>\n",
       "      <td>0.250000</td>\n",
       "    </tr>\n",
       "    <tr>\n",
       "      <th>40</th>\n",
       "      <td>0.480887</td>\n",
       "      <td>0.932836</td>\n",
       "      <td>0.259259</td>\n",
       "    </tr>\n",
       "    <tr>\n",
       "      <th>41</th>\n",
       "      <td>0.480451</td>\n",
       "      <td>0.940299</td>\n",
       "      <td>0.259259</td>\n",
       "    </tr>\n",
       "    <tr>\n",
       "      <th>42</th>\n",
       "      <td>0.354117</td>\n",
       "      <td>0.940299</td>\n",
       "      <td>0.305556</td>\n",
       "    </tr>\n",
       "    <tr>\n",
       "      <th>43</th>\n",
       "      <td>0.341146</td>\n",
       "      <td>0.947761</td>\n",
       "      <td>0.305556</td>\n",
       "    </tr>\n",
       "    <tr>\n",
       "      <th>44</th>\n",
       "      <td>0.262758</td>\n",
       "      <td>0.947761</td>\n",
       "      <td>0.370370</td>\n",
       "    </tr>\n",
       "    <tr>\n",
       "      <th>45</th>\n",
       "      <td>0.243322</td>\n",
       "      <td>0.955224</td>\n",
       "      <td>0.370370</td>\n",
       "    </tr>\n",
       "    <tr>\n",
       "      <th>46</th>\n",
       "      <td>0.197458</td>\n",
       "      <td>0.955224</td>\n",
       "      <td>0.435185</td>\n",
       "    </tr>\n",
       "    <tr>\n",
       "      <th>47</th>\n",
       "      <td>0.166861</td>\n",
       "      <td>0.970149</td>\n",
       "      <td>0.435185</td>\n",
       "    </tr>\n",
       "    <tr>\n",
       "      <th>48</th>\n",
       "      <td>0.160959</td>\n",
       "      <td>0.970149</td>\n",
       "      <td>0.444444</td>\n",
       "    </tr>\n",
       "    <tr>\n",
       "      <th>49</th>\n",
       "      <td>0.150871</td>\n",
       "      <td>0.977612</td>\n",
       "      <td>0.444444</td>\n",
       "    </tr>\n",
       "    <tr>\n",
       "      <th>50</th>\n",
       "      <td>0.133228</td>\n",
       "      <td>0.977612</td>\n",
       "      <td>0.462963</td>\n",
       "    </tr>\n",
       "    <tr>\n",
       "      <th>51</th>\n",
       "      <td>0.130132</td>\n",
       "      <td>0.985075</td>\n",
       "      <td>0.462963</td>\n",
       "    </tr>\n",
       "    <tr>\n",
       "      <th>52</th>\n",
       "      <td>0.096701</td>\n",
       "      <td>0.985075</td>\n",
       "      <td>0.537037</td>\n",
       "    </tr>\n",
       "    <tr>\n",
       "      <th>53</th>\n",
       "      <td>0.093985</td>\n",
       "      <td>0.992537</td>\n",
       "      <td>0.537037</td>\n",
       "    </tr>\n",
       "    <tr>\n",
       "      <th>54</th>\n",
       "      <td>0.071619</td>\n",
       "      <td>0.992537</td>\n",
       "      <td>0.611111</td>\n",
       "    </tr>\n",
       "    <tr>\n",
       "      <th>55</th>\n",
       "      <td>0.071167</td>\n",
       "      <td>1.000000</td>\n",
       "      <td>0.611111</td>\n",
       "    </tr>\n",
       "    <tr>\n",
       "      <th>56</th>\n",
       "      <td>0.001382</td>\n",
       "      <td>1.000000</td>\n",
       "      <td>1.000000</td>\n",
       "    </tr>\n",
       "  </tbody>\n",
       "</table>\n",
       "</div>"
      ],
      "text/plain": [
       "    thresholds       tpr       fpr\n",
       "0     1.993983  0.000000  0.000000\n",
       "1     0.993983  0.007463  0.000000\n",
       "2     0.956751  0.223881  0.000000\n",
       "3     0.955845  0.223881  0.009259\n",
       "4     0.930654  0.313433  0.009259\n",
       "5     0.919576  0.313433  0.018519\n",
       "6     0.907955  0.358209  0.018519\n",
       "7     0.901484  0.358209  0.027778\n",
       "8     0.888173  0.425373  0.027778\n",
       "9     0.887278  0.425373  0.037037\n",
       "10    0.852305  0.485075  0.037037\n",
       "11    0.851040  0.485075  0.046296\n",
       "12    0.830326  0.529851  0.046296\n",
       "13    0.827838  0.529851  0.055556\n",
       "14    0.825895  0.537313  0.055556\n",
       "15    0.825612  0.537313  0.064815\n",
       "16    0.807123  0.589552  0.064815\n",
       "17    0.803013  0.589552  0.074074\n",
       "18    0.735677  0.723881  0.074074\n",
       "19    0.731539  0.723881  0.083333\n",
       "20    0.699350  0.783582  0.083333\n",
       "21    0.691814  0.783582  0.101852\n",
       "22    0.675441  0.813433  0.101852\n",
       "23    0.674706  0.813433  0.111111\n",
       "24    0.673597  0.820896  0.111111\n",
       "25    0.669433  0.820896  0.120370\n",
       "26    0.638193  0.835821  0.120370\n",
       "27    0.637533  0.835821  0.138889\n",
       "28    0.630017  0.843284  0.138889\n",
       "29    0.620532  0.843284  0.148148\n",
       "30    0.586231  0.880597  0.148148\n",
       "31    0.576657  0.880597  0.175926\n",
       "32    0.565799  0.888060  0.175926\n",
       "33    0.565535  0.888060  0.185185\n",
       "34    0.565078  0.895522  0.185185\n",
       "35    0.545351  0.895522  0.203704\n",
       "36    0.541628  0.910448  0.203704\n",
       "37    0.535624  0.925373  0.203704\n",
       "38    0.491606  0.925373  0.250000\n",
       "39    0.486130  0.932836  0.250000\n",
       "40    0.480887  0.932836  0.259259\n",
       "41    0.480451  0.940299  0.259259\n",
       "42    0.354117  0.940299  0.305556\n",
       "43    0.341146  0.947761  0.305556\n",
       "44    0.262758  0.947761  0.370370\n",
       "45    0.243322  0.955224  0.370370\n",
       "46    0.197458  0.955224  0.435185\n",
       "47    0.166861  0.970149  0.435185\n",
       "48    0.160959  0.970149  0.444444\n",
       "49    0.150871  0.977612  0.444444\n",
       "50    0.133228  0.977612  0.462963\n",
       "51    0.130132  0.985075  0.462963\n",
       "52    0.096701  0.985075  0.537037\n",
       "53    0.093985  0.992537  0.537037\n",
       "54    0.071619  0.992537  0.611111\n",
       "55    0.071167  1.000000  0.611111\n",
       "56    0.001382  1.000000  1.000000"
      ]
     },
     "execution_count": 42,
     "metadata": {},
     "output_type": "execute_result"
    }
   ],
   "source": [
    "df_roc1"
   ]
  },
  {
   "cell_type": "code",
   "execution_count": null,
   "metadata": {},
   "outputs": [],
   "source": []
  },
  {
   "cell_type": "code",
   "execution_count": 133,
   "metadata": {},
   "outputs": [],
   "source": [
    "df_roc2= pd.DataFrame(thresholdste, columns=[\"thresholds test\"])"
   ]
  },
  {
   "cell_type": "code",
   "execution_count": 134,
   "metadata": {},
   "outputs": [],
   "source": [
    "df_roc2[\"tpr\"] = tprte"
   ]
  },
  {
   "cell_type": "code",
   "execution_count": 135,
   "metadata": {},
   "outputs": [],
   "source": [
    "df_roc2[\"fpr\"] = fprte"
   ]
  },
  {
   "cell_type": "code",
   "execution_count": 136,
   "metadata": {},
   "outputs": [
    {
     "data": {
      "text/html": [
       "<div>\n",
       "<style scoped>\n",
       "    .dataframe tbody tr th:only-of-type {\n",
       "        vertical-align: middle;\n",
       "    }\n",
       "\n",
       "    .dataframe tbody tr th {\n",
       "        vertical-align: top;\n",
       "    }\n",
       "\n",
       "    .dataframe thead th {\n",
       "        text-align: right;\n",
       "    }\n",
       "</style>\n",
       "<table border=\"1\" class=\"dataframe\">\n",
       "  <thead>\n",
       "    <tr style=\"text-align: right;\">\n",
       "      <th></th>\n",
       "      <th>thresholds test</th>\n",
       "      <th>tpr</th>\n",
       "      <th>fpr</th>\n",
       "    </tr>\n",
       "  </thead>\n",
       "  <tbody>\n",
       "    <tr>\n",
       "      <th>0</th>\n",
       "      <td>1.978951</td>\n",
       "      <td>0.000000</td>\n",
       "      <td>0.000000</td>\n",
       "    </tr>\n",
       "    <tr>\n",
       "      <th>1</th>\n",
       "      <td>0.978951</td>\n",
       "      <td>0.032258</td>\n",
       "      <td>0.000000</td>\n",
       "    </tr>\n",
       "    <tr>\n",
       "      <th>2</th>\n",
       "      <td>0.879828</td>\n",
       "      <td>0.451613</td>\n",
       "      <td>0.000000</td>\n",
       "    </tr>\n",
       "    <tr>\n",
       "      <th>3</th>\n",
       "      <td>0.879413</td>\n",
       "      <td>0.451613</td>\n",
       "      <td>0.033333</td>\n",
       "    </tr>\n",
       "    <tr>\n",
       "      <th>4</th>\n",
       "      <td>0.869241</td>\n",
       "      <td>0.516129</td>\n",
       "      <td>0.033333</td>\n",
       "    </tr>\n",
       "    <tr>\n",
       "      <th>5</th>\n",
       "      <td>0.867908</td>\n",
       "      <td>0.516129</td>\n",
       "      <td>0.066667</td>\n",
       "    </tr>\n",
       "    <tr>\n",
       "      <th>6</th>\n",
       "      <td>0.676775</td>\n",
       "      <td>0.741935</td>\n",
       "      <td>0.066667</td>\n",
       "    </tr>\n",
       "    <tr>\n",
       "      <th>7</th>\n",
       "      <td>0.662467</td>\n",
       "      <td>0.741935</td>\n",
       "      <td>0.133333</td>\n",
       "    </tr>\n",
       "    <tr>\n",
       "      <th>8</th>\n",
       "      <td>0.586887</td>\n",
       "      <td>0.838710</td>\n",
       "      <td>0.133333</td>\n",
       "    </tr>\n",
       "    <tr>\n",
       "      <th>9</th>\n",
       "      <td>0.537981</td>\n",
       "      <td>0.838710</td>\n",
       "      <td>0.266667</td>\n",
       "    </tr>\n",
       "    <tr>\n",
       "      <th>10</th>\n",
       "      <td>0.480118</td>\n",
       "      <td>0.935484</td>\n",
       "      <td>0.266667</td>\n",
       "    </tr>\n",
       "    <tr>\n",
       "      <th>11</th>\n",
       "      <td>0.396733</td>\n",
       "      <td>0.935484</td>\n",
       "      <td>0.333333</td>\n",
       "    </tr>\n",
       "    <tr>\n",
       "      <th>12</th>\n",
       "      <td>0.343363</td>\n",
       "      <td>0.967742</td>\n",
       "      <td>0.333333</td>\n",
       "    </tr>\n",
       "    <tr>\n",
       "      <th>13</th>\n",
       "      <td>0.170486</td>\n",
       "      <td>0.967742</td>\n",
       "      <td>0.500000</td>\n",
       "    </tr>\n",
       "    <tr>\n",
       "      <th>14</th>\n",
       "      <td>0.157145</td>\n",
       "      <td>1.000000</td>\n",
       "      <td>0.500000</td>\n",
       "    </tr>\n",
       "    <tr>\n",
       "      <th>15</th>\n",
       "      <td>0.018350</td>\n",
       "      <td>1.000000</td>\n",
       "      <td>1.000000</td>\n",
       "    </tr>\n",
       "  </tbody>\n",
       "</table>\n",
       "</div>"
      ],
      "text/plain": [
       "    thresholds test       tpr       fpr\n",
       "0          1.978951  0.000000  0.000000\n",
       "1          0.978951  0.032258  0.000000\n",
       "2          0.879828  0.451613  0.000000\n",
       "3          0.879413  0.451613  0.033333\n",
       "4          0.869241  0.516129  0.033333\n",
       "5          0.867908  0.516129  0.066667\n",
       "6          0.676775  0.741935  0.066667\n",
       "7          0.662467  0.741935  0.133333\n",
       "8          0.586887  0.838710  0.133333\n",
       "9          0.537981  0.838710  0.266667\n",
       "10         0.480118  0.935484  0.266667\n",
       "11         0.396733  0.935484  0.333333\n",
       "12         0.343363  0.967742  0.333333\n",
       "13         0.170486  0.967742  0.500000\n",
       "14         0.157145  1.000000  0.500000\n",
       "15         0.018350  1.000000  1.000000"
      ]
     },
     "execution_count": 136,
     "metadata": {},
     "output_type": "execute_result"
    }
   ],
   "source": [
    "df_roc2"
   ]
  },
  {
   "cell_type": "markdown",
   "metadata": {},
   "source": [
    "## 0.58 best threshold with recall : (tpr) = 0.83 , precision = 1-(fpr) = 0.87"
   ]
  },
  {
   "cell_type": "markdown",
   "metadata": {},
   "source": []
  },
  {
   "cell_type": "code",
   "execution_count": 43,
   "metadata": {},
   "outputs": [
    {
     "name": "stdout",
     "output_type": "stream",
     "text": [
      "threshold:0.9939825227671484\n",
      "Precision:0.5630252100840336 Recall:1.0 f1 score:0.7204301075268817\n",
      "threshold:0.9567510688428541\n",
      "Precision:0.6320754716981132 Recall:1.0 f1 score:0.7745664739884393\n",
      "threshold:0.9558445149737684\n",
      "Precision:0.6350710900473934 Recall:1.0 f1 score:0.7768115942028985\n",
      "threshold:0.9306543105012106\n",
      "Precision:0.67 Recall:1.0 f1 score:0.8023952095808384\n",
      "threshold:0.9195764094845413\n",
      "Precision:0.6820512820512821 Recall:0.9925373134328358 f1 score:0.8085106382978723\n",
      "threshold:0.9079552364659321\n",
      "Precision:0.6963350785340314 Recall:0.9925373134328358 f1 score:0.8184615384615385\n",
      "threshold:0.9014840358279287\n",
      "Precision:0.7058823529411765 Recall:0.9850746268656716 f1 score:0.8224299065420562\n",
      "threshold:0.8881727991158546\n",
      "Precision:0.717391304347826 Recall:0.9850746268656716 f1 score:0.830188679245283\n",
      "threshold:0.8872783585712838\n",
      "Precision:0.7213114754098361 Recall:0.9850746268656716 f1 score:0.8328075709779179\n",
      "threshold:0.8523048418240905\n",
      "Precision:0.7318435754189944 Recall:0.9776119402985075 f1 score:0.8370607028753995\n",
      "threshold:0.8510401424647743\n",
      "Precision:0.7318435754189944 Recall:0.9776119402985075 f1 score:0.8370607028753995\n",
      "threshold:0.830325693346208\n",
      "Precision:0.7329545454545454 Recall:0.9626865671641791 f1 score:0.8322580645161289\n",
      "threshold:0.8278383000035283\n",
      "Precision:0.7329545454545454 Recall:0.9626865671641791 f1 score:0.8322580645161289\n",
      "threshold:0.825895200151733\n",
      "Precision:0.7329545454545454 Recall:0.9626865671641791 f1 score:0.8322580645161289\n",
      "threshold:0.8256122878339479\n",
      "Precision:0.7329545454545454 Recall:0.9626865671641791 f1 score:0.8322580645161289\n",
      "threshold:0.8071228272152617\n",
      "Precision:0.7314285714285714 Recall:0.9552238805970149 f1 score:0.8284789644012945\n",
      "threshold:0.8030132269666433\n",
      "Precision:0.7314285714285714 Recall:0.9552238805970149 f1 score:0.8284789644012945\n",
      "threshold:0.7356765202997196\n",
      "Precision:0.7650602409638554 Recall:0.9477611940298507 f1 score:0.8466666666666667\n",
      "threshold:0.7315391828505252\n",
      "Precision:0.7650602409638554 Recall:0.9477611940298507 f1 score:0.8466666666666667\n",
      "threshold:0.6993497708038221\n",
      "Precision:0.7839506172839507 Recall:0.9477611940298507 f1 score:0.8581081081081082\n",
      "threshold:0.691813909076682\n",
      "Precision:0.7839506172839507 Recall:0.9477611940298507 f1 score:0.8581081081081082\n",
      "threshold:0.6754411330974981\n",
      "Precision:0.7888198757763976 Recall:0.9477611940298507 f1 score:0.8610169491525423\n",
      "threshold:0.6747061484424076\n",
      "Precision:0.7888198757763976 Recall:0.9477611940298507 f1 score:0.8610169491525423\n",
      "threshold:0.6735966658909112\n",
      "Precision:0.7888198757763976 Recall:0.9477611940298507 f1 score:0.8610169491525423\n",
      "threshold:0.6694327131854002\n",
      "Precision:0.7888198757763976 Recall:0.9477611940298507 f1 score:0.8610169491525423\n",
      "threshold:0.63819263113685\n",
      "Precision:0.7974683544303798 Recall:0.9402985074626866 f1 score:0.8630136986301371\n",
      "threshold:0.6375328228864634\n",
      "Precision:0.7974683544303798 Recall:0.9402985074626866 f1 score:0.8630136986301371\n",
      "threshold:0.6300168639338267\n",
      "Precision:0.802547770700637 Recall:0.9402985074626866 f1 score:0.865979381443299\n",
      "threshold:0.6205318294342728\n",
      "Precision:0.8076923076923077 Recall:0.9402985074626866 f1 score:0.8689655172413794\n",
      "threshold:0.5862309407481711\n",
      "Precision:0.8076923076923077 Recall:0.9402985074626866 f1 score:0.8689655172413794\n",
      "threshold:0.5766570469356667\n",
      "Precision:0.8076923076923077 Recall:0.9402985074626866 f1 score:0.8689655172413794\n",
      "threshold:0.5657994259749791\n",
      "Precision:0.8181818181818182 Recall:0.9402985074626866 f1 score:0.8750000000000001\n",
      "threshold:0.5655349295701545\n",
      "Precision:0.8181818181818182 Recall:0.9402985074626866 f1 score:0.8750000000000001\n",
      "threshold:0.5650779050455609\n",
      "Precision:0.8181818181818182 Recall:0.9402985074626866 f1 score:0.8750000000000001\n",
      "threshold:0.5453507695246271\n",
      "Precision:0.8181818181818182 Recall:0.9402985074626866 f1 score:0.8750000000000001\n",
      "threshold:0.5416284274167974\n",
      "Precision:0.8181818181818182 Recall:0.9402985074626866 f1 score:0.8750000000000001\n",
      "threshold:0.5356243926168199\n",
      "Precision:0.8181818181818182 Recall:0.9402985074626866 f1 score:0.8750000000000001\n",
      "threshold:0.4916059410512114\n",
      "Precision:0.8378378378378378 Recall:0.9253731343283582 f1 score:0.8794326241134752\n",
      "threshold:0.4861304061175894\n",
      "Precision:0.8378378378378378 Recall:0.9253731343283582 f1 score:0.8794326241134752\n",
      "threshold:0.4808869616718846\n",
      "Precision:0.8435374149659864 Recall:0.9253731343283582 f1 score:0.8825622775800711\n",
      "threshold:0.48045056940365183\n",
      "Precision:0.8435374149659864 Recall:0.9253731343283582 f1 score:0.8825622775800711\n",
      "threshold:0.3541170444944462\n",
      "Precision:0.8943089430894309 Recall:0.8208955223880597 f1 score:0.8560311284046692\n",
      "threshold:0.341146269211615\n",
      "Precision:0.8943089430894309 Recall:0.8208955223880597 f1 score:0.8560311284046692\n",
      "threshold:0.26275769340113647\n",
      "Precision:0.9223300970873787 Recall:0.7089552238805971 f1 score:0.8016877637130801\n",
      "threshold:0.2433224772153629\n",
      "Precision:0.9215686274509803 Recall:0.7014925373134329 f1 score:0.7966101694915254\n",
      "threshold:0.19745792992429656\n",
      "Precision:0.9080459770114943 Recall:0.5895522388059702 f1 score:0.7149321266968326\n",
      "threshold:0.1668612632138424\n",
      "Precision:0.9324324324324325 Recall:0.5149253731343284 f1 score:0.6634615384615385\n",
      "threshold:0.1609587101348715\n",
      "Precision:0.9315068493150684 Recall:0.5074626865671642 f1 score:0.6570048309178744\n",
      "threshold:0.15087076023365806\n",
      "Precision:0.9285714285714286 Recall:0.48507462686567165 f1 score:0.6372549019607843\n",
      "threshold:0.1332280800561793\n",
      "Precision:0.9384615384615385 Recall:0.4552238805970149 f1 score:0.6130653266331659\n",
      "threshold:0.13013217420831547\n",
      "Precision:0.9384615384615385 Recall:0.4552238805970149 f1 score:0.6130653266331659\n",
      "threshold:0.09670108374699717\n",
      "Precision:0.96 Recall:0.3582089552238806 f1 score:0.5217391304347826\n",
      "threshold:0.09398490050889101\n",
      "Precision:0.96 Recall:0.3582089552238806 f1 score:0.5217391304347826\n",
      "threshold:0.07161924615331063\n",
      "Precision:0.9767441860465116 Recall:0.31343283582089554 f1 score:0.4745762711864407\n",
      "threshold:0.0711674932512876\n",
      "Precision:0.9767441860465116 Recall:0.31343283582089554 f1 score:0.4745762711864407\n"
     ]
    }
   ],
   "source": [
    "thrsh = thresholds[1:len(thresholds)-1]\n",
    "for j in thrsh:\n",
    "    print(\"threshold:{}\".format(j))\n",
    "    y_train_pred_probs = threshold_change(y_train_pred_proba,j)\n",
    "    all_scores(y_train,y_train_pred_probs)"
   ]
  },
  {
   "cell_type": "code",
   "execution_count": 44,
   "metadata": {},
   "outputs": [
    {
     "data": {
      "text/plain": [
       "array([1.99398252e+00, 9.93982523e-01, 9.56751069e-01, 9.55844515e-01,\n",
       "       9.30654311e-01, 9.19576409e-01, 9.07955236e-01, 9.01484036e-01,\n",
       "       8.88172799e-01, 8.87278359e-01, 8.52304842e-01, 8.51040142e-01,\n",
       "       8.30325693e-01, 8.27838300e-01, 8.25895200e-01, 8.25612288e-01,\n",
       "       8.07122827e-01, 8.03013227e-01, 7.35676520e-01, 7.31539183e-01,\n",
       "       6.99349771e-01, 6.91813909e-01, 6.75441133e-01, 6.74706148e-01,\n",
       "       6.73596666e-01, 6.69432713e-01, 6.38192631e-01, 6.37532823e-01,\n",
       "       6.30016864e-01, 6.20531829e-01, 5.86230941e-01, 5.76657047e-01,\n",
       "       5.65799426e-01, 5.65534930e-01, 5.65077905e-01, 5.45350770e-01,\n",
       "       5.41628427e-01, 5.35624393e-01, 4.91605941e-01, 4.86130406e-01,\n",
       "       4.80886962e-01, 4.80450569e-01, 3.54117044e-01, 3.41146269e-01,\n",
       "       2.62757693e-01, 2.43322477e-01, 1.97457930e-01, 1.66861263e-01,\n",
       "       1.60958710e-01, 1.50870760e-01, 1.33228080e-01, 1.30132174e-01,\n",
       "       9.67010837e-02, 9.39849005e-02, 7.16192462e-02, 7.11674933e-02,\n",
       "       1.38183270e-03])"
      ]
     },
     "execution_count": 44,
     "metadata": {},
     "output_type": "execute_result"
    }
   ],
   "source": [
    "thresholds"
   ]
  },
  {
   "cell_type": "code",
   "execution_count": 45,
   "metadata": {},
   "outputs": [],
   "source": [
    "p=[]\n",
    "r=[]\n",
    "def all_scores(y_true,y_pred):\n",
    "    precision= precision_score(y_true,y_pred)\n",
    "    recall = recall_score(y_true,y_pred)\n",
    "    f1_score = fbeta_score(y_true,y_pred,beta=1)\n",
    "    print(\"Precision:{}  Recall:{}  f1 score:{}\".format(precision,recall,f1_score))\n",
    "    p.append(precision)\n",
    "    r.append(recall)"
   ]
  },
  {
   "cell_type": "code",
   "execution_count": 46,
   "metadata": {},
   "outputs": [
    {
     "name": "stdout",
     "output_type": "stream",
     "text": [
      "threshold:0.9939825227671484\n",
      "Precision:0.5630252100840336  Recall:1.0  f1 score:0.7204301075268817\n",
      "threshold:0.9567510688428541\n",
      "Precision:0.6320754716981132  Recall:1.0  f1 score:0.7745664739884393\n",
      "threshold:0.9558445149737684\n",
      "Precision:0.6350710900473934  Recall:1.0  f1 score:0.7768115942028985\n",
      "threshold:0.9306543105012106\n",
      "Precision:0.67  Recall:1.0  f1 score:0.8023952095808384\n",
      "threshold:0.9195764094845413\n",
      "Precision:0.6820512820512821  Recall:0.9925373134328358  f1 score:0.8085106382978723\n",
      "threshold:0.9079552364659321\n",
      "Precision:0.6963350785340314  Recall:0.9925373134328358  f1 score:0.8184615384615385\n",
      "threshold:0.9014840358279287\n",
      "Precision:0.7058823529411765  Recall:0.9850746268656716  f1 score:0.8224299065420562\n",
      "threshold:0.8881727991158546\n",
      "Precision:0.717391304347826  Recall:0.9850746268656716  f1 score:0.830188679245283\n",
      "threshold:0.8872783585712838\n",
      "Precision:0.7213114754098361  Recall:0.9850746268656716  f1 score:0.8328075709779179\n",
      "threshold:0.8523048418240905\n",
      "Precision:0.7318435754189944  Recall:0.9776119402985075  f1 score:0.8370607028753995\n",
      "threshold:0.8510401424647743\n",
      "Precision:0.7318435754189944  Recall:0.9776119402985075  f1 score:0.8370607028753995\n",
      "threshold:0.830325693346208\n",
      "Precision:0.7329545454545454  Recall:0.9626865671641791  f1 score:0.8322580645161289\n",
      "threshold:0.8278383000035283\n",
      "Precision:0.7329545454545454  Recall:0.9626865671641791  f1 score:0.8322580645161289\n",
      "threshold:0.825895200151733\n",
      "Precision:0.7329545454545454  Recall:0.9626865671641791  f1 score:0.8322580645161289\n",
      "threshold:0.8256122878339479\n",
      "Precision:0.7329545454545454  Recall:0.9626865671641791  f1 score:0.8322580645161289\n",
      "threshold:0.8071228272152617\n",
      "Precision:0.7314285714285714  Recall:0.9552238805970149  f1 score:0.8284789644012945\n",
      "threshold:0.8030132269666433\n",
      "Precision:0.7314285714285714  Recall:0.9552238805970149  f1 score:0.8284789644012945\n",
      "threshold:0.7356765202997196\n",
      "Precision:0.7650602409638554  Recall:0.9477611940298507  f1 score:0.8466666666666667\n",
      "threshold:0.7315391828505252\n",
      "Precision:0.7650602409638554  Recall:0.9477611940298507  f1 score:0.8466666666666667\n",
      "threshold:0.6993497708038221\n",
      "Precision:0.7839506172839507  Recall:0.9477611940298507  f1 score:0.8581081081081082\n",
      "threshold:0.691813909076682\n",
      "Precision:0.7839506172839507  Recall:0.9477611940298507  f1 score:0.8581081081081082\n",
      "threshold:0.6754411330974981\n",
      "Precision:0.7888198757763976  Recall:0.9477611940298507  f1 score:0.8610169491525423\n",
      "threshold:0.6747061484424076\n",
      "Precision:0.7888198757763976  Recall:0.9477611940298507  f1 score:0.8610169491525423\n",
      "threshold:0.6735966658909112\n",
      "Precision:0.7888198757763976  Recall:0.9477611940298507  f1 score:0.8610169491525423\n",
      "threshold:0.6694327131854002\n",
      "Precision:0.7888198757763976  Recall:0.9477611940298507  f1 score:0.8610169491525423\n",
      "threshold:0.63819263113685\n",
      "Precision:0.7974683544303798  Recall:0.9402985074626866  f1 score:0.8630136986301371\n",
      "threshold:0.6375328228864634\n",
      "Precision:0.7974683544303798  Recall:0.9402985074626866  f1 score:0.8630136986301371\n",
      "threshold:0.6300168639338267\n",
      "Precision:0.802547770700637  Recall:0.9402985074626866  f1 score:0.865979381443299\n",
      "threshold:0.6205318294342728\n",
      "Precision:0.8076923076923077  Recall:0.9402985074626866  f1 score:0.8689655172413794\n",
      "threshold:0.5862309407481711\n",
      "Precision:0.8076923076923077  Recall:0.9402985074626866  f1 score:0.8689655172413794\n",
      "threshold:0.5766570469356667\n",
      "Precision:0.8076923076923077  Recall:0.9402985074626866  f1 score:0.8689655172413794\n",
      "threshold:0.5657994259749791\n",
      "Precision:0.8181818181818182  Recall:0.9402985074626866  f1 score:0.8750000000000001\n",
      "threshold:0.5655349295701545\n",
      "Precision:0.8181818181818182  Recall:0.9402985074626866  f1 score:0.8750000000000001\n",
      "threshold:0.5650779050455609\n",
      "Precision:0.8181818181818182  Recall:0.9402985074626866  f1 score:0.8750000000000001\n",
      "threshold:0.5453507695246271\n",
      "Precision:0.8181818181818182  Recall:0.9402985074626866  f1 score:0.8750000000000001\n",
      "threshold:0.5416284274167974\n",
      "Precision:0.8181818181818182  Recall:0.9402985074626866  f1 score:0.8750000000000001\n",
      "threshold:0.5356243926168199\n",
      "Precision:0.8181818181818182  Recall:0.9402985074626866  f1 score:0.8750000000000001\n",
      "threshold:0.4916059410512114\n",
      "Precision:0.8378378378378378  Recall:0.9253731343283582  f1 score:0.8794326241134752\n",
      "threshold:0.4861304061175894\n",
      "Precision:0.8378378378378378  Recall:0.9253731343283582  f1 score:0.8794326241134752\n",
      "threshold:0.4808869616718846\n",
      "Precision:0.8435374149659864  Recall:0.9253731343283582  f1 score:0.8825622775800711\n",
      "threshold:0.48045056940365183\n",
      "Precision:0.8435374149659864  Recall:0.9253731343283582  f1 score:0.8825622775800711\n",
      "threshold:0.3541170444944462\n",
      "Precision:0.8943089430894309  Recall:0.8208955223880597  f1 score:0.8560311284046692\n",
      "threshold:0.341146269211615\n",
      "Precision:0.8943089430894309  Recall:0.8208955223880597  f1 score:0.8560311284046692\n",
      "threshold:0.26275769340113647\n",
      "Precision:0.9223300970873787  Recall:0.7089552238805971  f1 score:0.8016877637130801\n",
      "threshold:0.2433224772153629\n",
      "Precision:0.9215686274509803  Recall:0.7014925373134329  f1 score:0.7966101694915254\n",
      "threshold:0.19745792992429656\n",
      "Precision:0.9080459770114943  Recall:0.5895522388059702  f1 score:0.7149321266968326\n",
      "threshold:0.1668612632138424\n",
      "Precision:0.9324324324324325  Recall:0.5149253731343284  f1 score:0.6634615384615385\n",
      "threshold:0.1609587101348715\n",
      "Precision:0.9315068493150684  Recall:0.5074626865671642  f1 score:0.6570048309178744\n",
      "threshold:0.15087076023365806\n",
      "Precision:0.9285714285714286  Recall:0.48507462686567165  f1 score:0.6372549019607843\n",
      "threshold:0.1332280800561793\n",
      "Precision:0.9384615384615385  Recall:0.4552238805970149  f1 score:0.6130653266331659\n",
      "threshold:0.13013217420831547\n",
      "Precision:0.9384615384615385  Recall:0.4552238805970149  f1 score:0.6130653266331659\n",
      "threshold:0.09670108374699717\n",
      "Precision:0.96  Recall:0.3582089552238806  f1 score:0.5217391304347826\n",
      "threshold:0.09398490050889101\n",
      "Precision:0.96  Recall:0.3582089552238806  f1 score:0.5217391304347826\n",
      "threshold:0.07161924615331063\n",
      "Precision:0.9767441860465116  Recall:0.31343283582089554  f1 score:0.4745762711864407\n",
      "threshold:0.0711674932512876\n",
      "Precision:0.9767441860465116  Recall:0.31343283582089554  f1 score:0.4745762711864407\n"
     ]
    }
   ],
   "source": [
    "thrsh = thresholds[1:len(thresholds)-1]\n",
    "for j in thrsh:\n",
    "    print(\"threshold:{}\".format(j))\n",
    "    y_train_pred_probs = threshold_change(y_train_pred_proba,j)\n",
    "    all_scores(y_train,y_train_pred_probs)"
   ]
  },
  {
   "cell_type": "code",
   "execution_count": 47,
   "metadata": {},
   "outputs": [
    {
     "data": {
      "text/plain": [
       "<matplotlib.axes._subplots.AxesSubplot at 0x274dc211188>"
      ]
     },
     "execution_count": 47,
     "metadata": {},
     "output_type": "execute_result"
    },
    {
     "data": {
      "image/png": "[encoded data removed]",
      "text/plain": [
       "<Figure size 432x288 with 1 Axes>"
      ]
     },
     "metadata": {
      "needs_background": "light"
     },
     "output_type": "display_data"
    }
   ],
   "source": [
    "sns.lineplot(x=np.array(thrsh),y=np.array(p) , color=\"b\")\n",
    "sns.lineplot(x=np.array(thrsh),y=np.array(r) , color=\"r\")"
   ]
  },
  {
   "cell_type": "markdown",
   "metadata": {},
   "source": [
    "## Decision Tree Classifier"
   ]
  },
  {
   "cell_type": "code",
   "execution_count": 48,
   "metadata": {},
   "outputs": [],
   "source": [
    "from sklearn.tree import DecisionTreeClassifier"
   ]
  },
  {
   "cell_type": "code",
   "execution_count": 49,
   "metadata": {},
   "outputs": [],
   "source": [
    "dtc =  DecisionTreeClassifier()"
   ]
  },
  {
   "cell_type": "code",
   "execution_count": 50,
   "metadata": {},
   "outputs": [
    {
     "name": "stdout",
     "output_type": "stream",
     "text": [
      "train1\n",
      "Precision:0.7984496124031008  Recall:0.7686567164179104  f1 score:0.7832699619771862\n",
      "test1\n",
      "Precision:0.7419354838709677  Recall:0.7419354838709677  f1 score:0.7419354838709677\n",
      "\n",
      "\n",
      "train2\n",
      "Precision:0.7206703910614525  Recall:0.9626865671641791  f1 score:0.8242811501597443\n",
      "test2\n",
      "Precision:0.6739130434782609  Recall:1.0  f1 score:0.8051948051948052\n",
      "\n",
      "\n",
      "train3\n",
      "Precision:0.8818897637795275  Recall:0.835820895522388  f1 score:0.8582375478927202\n",
      "test3\n",
      "Precision:0.8333333333333334  Recall:0.8064516129032258  f1 score:0.819672131147541\n",
      "\n",
      "\n",
      "train4\n",
      "Precision:0.8905109489051095  Recall:0.9104477611940298  f1 score:0.9003690036900369\n",
      "test4\n",
      "Precision:0.7352941176470589  Recall:0.8064516129032258  f1 score:0.7692307692307693\n",
      "\n",
      "\n",
      "train5\n",
      "Precision:0.9477611940298507  Recall:0.9477611940298507  f1 score:0.9477611940298507\n",
      "test5\n",
      "Precision:0.7241379310344828  Recall:0.6774193548387096  f1 score:0.7\n",
      "\n",
      "\n",
      "train6\n",
      "Precision:0.9637681159420289  Recall:0.9925373134328358  f1 score:0.9779411764705882\n",
      "test6\n",
      "Precision:0.8125  Recall:0.8387096774193549  f1 score:0.8253968253968254\n",
      "\n",
      "\n",
      "train7\n",
      "Precision:0.9924812030075187  Recall:0.9850746268656716  f1 score:0.9887640449438201\n",
      "test7\n",
      "Precision:0.7  Recall:0.6774193548387096  f1 score:0.6885245901639343\n",
      "\n",
      "\n",
      "train8\n",
      "Precision:1.0  Recall:1.0  f1 score:1.0\n",
      "test8\n",
      "Precision:0.7666666666666667  Recall:0.7419354838709677  f1 score:0.7540983606557377\n",
      "\n",
      "\n",
      "train9\n",
      "Precision:1.0  Recall:1.0  f1 score:1.0\n",
      "test9\n",
      "Precision:0.7333333333333333  Recall:0.7096774193548387  f1 score:0.7213114754098361\n",
      "\n",
      "\n",
      "train10\n",
      "Precision:1.0  Recall:1.0  f1 score:1.0\n",
      "test10\n",
      "Precision:0.7586206896551724  Recall:0.7096774193548387  f1 score:0.7333333333333333\n",
      "\n",
      "\n"
     ]
    }
   ],
   "source": [
    "pltr=[]\n",
    "rltr=[]\n",
    "plte=[]\n",
    "rlte=[]\n",
    "max_depth_ = np.arange(1,11)\n",
    "for d in max_depth_:\n",
    "    dtc = DecisionTreeClassifier(max_depth=d)\n",
    "    dtc.fit(x_train,y_train)\n",
    "    y_train_pred= dtc.predict(x_train)\n",
    "    precisionlist_element_train = precision_score(y_train,y_train_pred)\n",
    "    recalllist_element_train = recall_score(y_train,y_train_pred)\n",
    "    pltr.append(precisionlist_element_train)\n",
    "    rltr.append(recalllist_element_train)\n",
    "    print(f\"train{d}\")\n",
    "    all_scores(y_train,y_train_pred)\n",
    "    y_test_pred= dtc.predict(x_test)\n",
    "    precision_element_test = precision_score(y_test,y_test_pred)\n",
    "    recalllist_element_test = recall_score(y_test,y_test_pred)\n",
    "    plte.append(precision_element_test)\n",
    "    rlte.append(recalllist_element_test)\n",
    "    print(f\"test{d}\")\n",
    "    all_scores(y_test,y_test_pred)\n",
    "    print(\"\\n\")"
   ]
  },
  {
   "cell_type": "code",
   "execution_count": 51,
   "metadata": {},
   "outputs": [
    {
     "name": "stdout",
     "output_type": "stream",
     "text": [
      "Precision:1.0  Recall:1.0  f1 score:1.0\n"
     ]
    }
   ],
   "source": [
    "all_scores(y_train,y_train_pred)"
   ]
  },
  {
   "cell_type": "code",
   "execution_count": 52,
   "metadata": {},
   "outputs": [],
   "source": [
    "y_test_pred= dtc.predict(x_test)"
   ]
  },
  {
   "cell_type": "code",
   "execution_count": 53,
   "metadata": {},
   "outputs": [
    {
     "name": "stdout",
     "output_type": "stream",
     "text": [
      "Precision:0.7586206896551724  Recall:0.7096774193548387  f1 score:0.7333333333333333\n"
     ]
    }
   ],
   "source": [
    "all_scores(y_test,y_test_pred)"
   ]
  },
  {
   "cell_type": "code",
   "execution_count": 54,
   "metadata": {},
   "outputs": [
    {
     "data": {
      "text/plain": [
       "<matplotlib.axes._subplots.AxesSubplot at 0x274dc274288>"
      ]
     },
     "execution_count": 54,
     "metadata": {},
     "output_type": "execute_result"
    },
    {
     "data": {
      "image/png": "[encoded data removed]",
      "text/plain": [
       "<Figure size 432x288 with 1 Axes>"
      ]
     },
     "metadata": {
      "needs_background": "light"
     },
     "output_type": "display_data"
    }
   ],
   "source": [
    "sns.lineplot(x=max_depth_,y=pltr,color=\"b\")\n",
    "sns.lineplot(x=max_depth_,y=rltr,color=\"r\")"
   ]
  },
  {
   "cell_type": "code",
   "execution_count": 55,
   "metadata": {},
   "outputs": [
    {
     "data": {
      "text/plain": [
       "<matplotlib.axes._subplots.AxesSubplot at 0x274dc4506c8>"
      ]
     },
     "execution_count": 55,
     "metadata": {},
     "output_type": "execute_result"
    },
    {
     "data": {
      "image/png": "[encoded data removed]",
      "text/plain": [
       "<Figure size 432x288 with 1 Axes>"
      ]
     },
     "metadata": {
      "needs_background": "light"
     },
     "output_type": "display_data"
    }
   ],
   "source": [
    "sns.lineplot(x=max_depth_,y=plte,color=\"b\")\n",
    "sns.lineplot(x=max_depth_,y=rlte,color=\"r\")"
   ]
  },
  {
   "cell_type": "markdown",
   "metadata": {},
   "source": [
    "# GridsearchCV"
   ]
  },
  {
   "cell_type": "code",
   "execution_count": 56,
   "metadata": {},
   "outputs": [],
   "source": [
    "parameters={\"criterion\":[\"gini\",\"entropy\"], \"max_depth\":[i for i in np.arange(1,16)]}"
   ]
  },
  {
   "cell_type": "code",
   "execution_count": 57,
   "metadata": {},
   "outputs": [],
   "source": [
    "from sklearn.model_selection import GridSearchCV "
   ]
  },
  {
   "cell_type": "code",
   "execution_count": 58,
   "metadata": {},
   "outputs": [],
   "source": [
    "gs = GridSearchCV(dtc, param_grid =parameters, cv=10, n_jobs=-1)"
   ]
  },
  {
   "cell_type": "code",
   "execution_count": 59,
   "metadata": {},
   "outputs": [
    {
     "data": {
      "text/plain": [
       "GridSearchCV(cv=10, error_score=nan,\n",
       "             estimator=DecisionTreeClassifier(ccp_alpha=0.0, class_weight=None,\n",
       "                                              criterion='gini', max_depth=10,\n",
       "                                              max_features=None,\n",
       "                                              max_leaf_nodes=None,\n",
       "                                              min_impurity_decrease=0.0,\n",
       "                                              min_impurity_split=None,\n",
       "                                              min_samples_leaf=1,\n",
       "                                              min_samples_split=2,\n",
       "                                              min_weight_fraction_leaf=0.0,\n",
       "                                              presort='deprecated',\n",
       "                                              random_state=None,\n",
       "                                              splitter='best'),\n",
       "             iid='deprecated', n_jobs=-1,\n",
       "             param_grid={'criterion': ['gini', 'entropy'],\n",
       "                         'max_depth': [1, 2, 3, 4, 5, 6, 7, 8, 9, 10, 11, 12,\n",
       "                                       13, 14, 15]},\n",
       "             pre_dispatch='2*n_jobs', refit=True, return_train_score=False,\n",
       "             scoring=None, verbose=0)"
      ]
     },
     "execution_count": 59,
     "metadata": {},
     "output_type": "execute_result"
    }
   ],
   "source": [
    "gs.fit(x_train,y_train)"
   ]
  },
  {
   "cell_type": "code",
   "execution_count": 60,
   "metadata": {},
   "outputs": [
    {
     "data": {
      "text/plain": [
       "DecisionTreeClassifier(ccp_alpha=0.0, class_weight=None, criterion='entropy',\n",
       "                       max_depth=3, max_features=None, max_leaf_nodes=None,\n",
       "                       min_impurity_decrease=0.0, min_impurity_split=None,\n",
       "                       min_samples_leaf=1, min_samples_split=2,\n",
       "                       min_weight_fraction_leaf=0.0, presort='deprecated',\n",
       "                       random_state=None, splitter='best')"
      ]
     },
     "execution_count": 60,
     "metadata": {},
     "output_type": "execute_result"
    }
   ],
   "source": [
    "gs.best_estimator_"
   ]
  },
  {
   "cell_type": "code",
   "execution_count": 61,
   "metadata": {},
   "outputs": [
    {
     "data": {
      "text/plain": [
       "0.7893333333333333"
      ]
     },
     "execution_count": 61,
     "metadata": {},
     "output_type": "execute_result"
    }
   ],
   "source": [
    "gs.best_score_"
   ]
  },
  {
   "cell_type": "code",
   "execution_count": 62,
   "metadata": {},
   "outputs": [],
   "source": [
    "dtc =  DecisionTreeClassifier(ccp_alpha=0.0, class_weight=None, criterion='entropy',\n",
    "                       max_depth=3, max_features=None, max_leaf_nodes=None,\n",
    "                       min_impurity_decrease=0.0, min_impurity_split=None,\n",
    "                       min_samples_leaf=1, min_samples_split=2,\n",
    "                       min_weight_fraction_leaf=0.0, presort='deprecated',\n",
    "                       random_state=None, splitter='best')"
   ]
  },
  {
   "cell_type": "code",
   "execution_count": 63,
   "metadata": {},
   "outputs": [
    {
     "data": {
      "text/plain": [
       "DecisionTreeClassifier(ccp_alpha=0.0, class_weight=None, criterion='entropy',\n",
       "                       max_depth=3, max_features=None, max_leaf_nodes=None,\n",
       "                       min_impurity_decrease=0.0, min_impurity_split=None,\n",
       "                       min_samples_leaf=1, min_samples_split=2,\n",
       "                       min_weight_fraction_leaf=0.0, presort='deprecated',\n",
       "                       random_state=None, splitter='best')"
      ]
     },
     "execution_count": 63,
     "metadata": {},
     "output_type": "execute_result"
    }
   ],
   "source": [
    "dtc.fit(x_train,y_train)"
   ]
  },
  {
   "cell_type": "code",
   "execution_count": 64,
   "metadata": {},
   "outputs": [],
   "source": [
    "y_test_pred = dtc.predict(x_test)"
   ]
  },
  {
   "cell_type": "code",
   "execution_count": 65,
   "metadata": {},
   "outputs": [],
   "source": [
    "precision = precision_score(y_test,y_test_pred)"
   ]
  },
  {
   "cell_type": "code",
   "execution_count": 66,
   "metadata": {},
   "outputs": [
    {
     "data": {
      "text/plain": [
       "0.8125"
      ]
     },
     "execution_count": 66,
     "metadata": {},
     "output_type": "execute_result"
    }
   ],
   "source": [
    "precision"
   ]
  },
  {
   "cell_type": "code",
   "execution_count": 67,
   "metadata": {},
   "outputs": [],
   "source": [
    "recall = recall_score(y_test,y_test_pred)"
   ]
  },
  {
   "cell_type": "code",
   "execution_count": 68,
   "metadata": {},
   "outputs": [
    {
     "data": {
      "text/plain": [
       "0.8387096774193549"
      ]
     },
     "execution_count": 68,
     "metadata": {},
     "output_type": "execute_result"
    }
   ],
   "source": [
    "recall"
   ]
  },
  {
   "cell_type": "markdown",
   "metadata": {},
   "source": [
    "## 3 is the max_depth, where recall is 0.83 and precision is 0.81."
   ]
  },
  {
   "cell_type": "markdown",
   "metadata": {},
   "source": [
    "# Random Forest Classifier"
   ]
  },
  {
   "cell_type": "code",
   "execution_count": 69,
   "metadata": {},
   "outputs": [],
   "source": [
    "from sklearn.ensemble import RandomForestClassifier\n",
    "RFC = RandomForestClassifier()"
   ]
  },
  {
   "cell_type": "code",
   "execution_count": 70,
   "metadata": {},
   "outputs": [
    {
     "data": {
      "text/plain": [
       "RandomForestClassifier(bootstrap=True, ccp_alpha=0.0, class_weight=None,\n",
       "                       criterion='gini', max_depth=None, max_features='auto',\n",
       "                       max_leaf_nodes=None, max_samples=None,\n",
       "                       min_impurity_decrease=0.0, min_impurity_split=None,\n",
       "                       min_samples_leaf=1, min_samples_split=2,\n",
       "                       min_weight_fraction_leaf=0.0, n_estimators=100,\n",
       "                       n_jobs=None, oob_score=False, random_state=None,\n",
       "                       verbose=0, warm_start=False)"
      ]
     },
     "execution_count": 70,
     "metadata": {},
     "output_type": "execute_result"
    }
   ],
   "source": [
    "RFC.fit(x_train,y_train)"
   ]
  },
  {
   "cell_type": "code",
   "execution_count": 71,
   "metadata": {},
   "outputs": [],
   "source": [
    "parameters={\"criterion\":[\"gini\",\"entropy\"], \"max_depth\":[i for i in np.arange(1,16)]}"
   ]
  },
  {
   "cell_type": "code",
   "execution_count": 72,
   "metadata": {},
   "outputs": [],
   "source": [
    "gs = GridSearchCV(RFC, param_grid = parameters, cv=10 ,n_jobs=-1)"
   ]
  },
  {
   "cell_type": "code",
   "execution_count": 73,
   "metadata": {},
   "outputs": [
    {
     "data": {
      "text/plain": [
       "{'criterion': ['gini', 'entropy'],\n",
       " 'max_depth': [1, 2, 3, 4, 5, 6, 7, 8, 9, 10, 11, 12, 13, 14, 15]}"
      ]
     },
     "execution_count": 73,
     "metadata": {},
     "output_type": "execute_result"
    }
   ],
   "source": [
    "parameters"
   ]
  },
  {
   "cell_type": "code",
   "execution_count": 74,
   "metadata": {},
   "outputs": [
    {
     "data": {
      "text/plain": [
       "GridSearchCV(cv=10, error_score=nan,\n",
       "             estimator=RandomForestClassifier(bootstrap=True, ccp_alpha=0.0,\n",
       "                                              class_weight=None,\n",
       "                                              criterion='gini', max_depth=None,\n",
       "                                              max_features='auto',\n",
       "                                              max_leaf_nodes=None,\n",
       "                                              max_samples=None,\n",
       "                                              min_impurity_decrease=0.0,\n",
       "                                              min_impurity_split=None,\n",
       "                                              min_samples_leaf=1,\n",
       "                                              min_samples_split=2,\n",
       "                                              min_weight_fraction_leaf=0.0,\n",
       "                                              n_estimators=100, n_jobs=None,\n",
       "                                              oob_score=False,\n",
       "                                              random_state=None, verbose=0,\n",
       "                                              warm_start=False),\n",
       "             iid='deprecated', n_jobs=-1,\n",
       "             param_grid={'criterion': ['gini', 'entropy'],\n",
       "                         'max_depth': [1, 2, 3, 4, 5, 6, 7, 8, 9, 10, 11, 12,\n",
       "                                       13, 14, 15]},\n",
       "             pre_dispatch='2*n_jobs', refit=True, return_train_score=False,\n",
       "             scoring=None, verbose=0)"
      ]
     },
     "execution_count": 74,
     "metadata": {},
     "output_type": "execute_result"
    }
   ],
   "source": [
    "gs.fit(x_train,y_train)"
   ]
  },
  {
   "cell_type": "code",
   "execution_count": 75,
   "metadata": {},
   "outputs": [
    {
     "data": {
      "text/plain": [
       "0.8466666666666667"
      ]
     },
     "execution_count": 75,
     "metadata": {},
     "output_type": "execute_result"
    }
   ],
   "source": [
    "gs.best_score_"
   ]
  },
  {
   "cell_type": "code",
   "execution_count": 76,
   "metadata": {},
   "outputs": [
    {
     "data": {
      "text/plain": [
       "RandomForestClassifier(bootstrap=True, ccp_alpha=0.0, class_weight=None,\n",
       "                       criterion='gini', max_depth=5, max_features='auto',\n",
       "                       max_leaf_nodes=None, max_samples=None,\n",
       "                       min_impurity_decrease=0.0, min_impurity_split=None,\n",
       "                       min_samples_leaf=1, min_samples_split=2,\n",
       "                       min_weight_fraction_leaf=0.0, n_estimators=100,\n",
       "                       n_jobs=None, oob_score=False, random_state=None,\n",
       "                       verbose=0, warm_start=False)"
      ]
     },
     "execution_count": 76,
     "metadata": {},
     "output_type": "execute_result"
    }
   ],
   "source": [
    "gs.best_estimator_"
   ]
  },
  {
   "cell_type": "code",
   "execution_count": 77,
   "metadata": {},
   "outputs": [],
   "source": [
    "RFC =RandomForestClassifier(bootstrap=True, ccp_alpha=0.0, class_weight=None,\n",
    "                       criterion='gini', max_depth=11, max_features='auto',\n",
    "                       max_leaf_nodes=None, max_samples=None,\n",
    "                       min_impurity_decrease=0.0, min_impurity_split=None,\n",
    "                       min_samples_leaf=1, min_samples_split=2,\n",
    "                       min_weight_fraction_leaf=0.0, n_estimators=100,\n",
    "                       n_jobs=None, oob_score=False, random_state=None,\n",
    "                       verbose=0, warm_start=False)"
   ]
  },
  {
   "cell_type": "code",
   "execution_count": 78,
   "metadata": {},
   "outputs": [
    {
     "data": {
      "text/plain": [
       "RandomForestClassifier(bootstrap=True, ccp_alpha=0.0, class_weight=None,\n",
       "                       criterion='gini', max_depth=11, max_features='auto',\n",
       "                       max_leaf_nodes=None, max_samples=None,\n",
       "                       min_impurity_decrease=0.0, min_impurity_split=None,\n",
       "                       min_samples_leaf=1, min_samples_split=2,\n",
       "                       min_weight_fraction_leaf=0.0, n_estimators=100,\n",
       "                       n_jobs=None, oob_score=False, random_state=None,\n",
       "                       verbose=0, warm_start=False)"
      ]
     },
     "execution_count": 78,
     "metadata": {},
     "output_type": "execute_result"
    }
   ],
   "source": [
    "RFC.fit(x_train,y_train)"
   ]
  },
  {
   "cell_type": "code",
   "execution_count": 137,
   "metadata": {},
   "outputs": [
    {
     "name": "stdout",
     "output_type": "stream",
     "text": [
      "train\n",
      "precision:1.0\n",
      "recall:1.0\n",
      "\n",
      "\n",
      "test\n",
      "precision:0.7941176470588235\n",
      "recall:0.8709677419354839\n"
     ]
    }
   ],
   "source": [
    "y_pred_train = RFC.predict(x_train)\n",
    "y_pred_test = RFC.predict(x_test)\n",
    "precision_train= precision_score(y_train,y_pred_train)\n",
    "recall_train=recall_score(y_train,y_pred_train)\n",
    "precision_test=precision_score(y_test,y_pred_test)\n",
    "recall_test=recall_score(y_test,y_pred_test)\n",
    "print(\"train\")\n",
    "print(f\"precision:{precision_train}\")\n",
    "print(f\"recall:{recall_train}\")\n",
    "print(\"\\n\")\n",
    "print(\"test\")\n",
    "print(f\"precision:{precision_test}\")\n",
    "print(f\"recall:{recall_test}\")"
   ]
  },
  {
   "cell_type": "markdown",
   "metadata": {},
   "source": [
    "# Applying XGBOOST"
   ]
  },
  {
   "cell_type": "code",
   "execution_count": 149,
   "metadata": {},
   "outputs": [],
   "source": [
    "from sklearn.ensemble import GradientBoostingClassifier"
   ]
  },
  {
   "cell_type": "code",
   "execution_count": 166,
   "metadata": {},
   "outputs": [],
   "source": [
    "XG = GradientBoostingClassifier()"
   ]
  },
  {
   "cell_type": "code",
   "execution_count": 167,
   "metadata": {},
   "outputs": [
    {
     "data": {
      "text/plain": [
       "GradientBoostingClassifier(ccp_alpha=0.0, criterion='friedman_mse', init=None,\n",
       "                           learning_rate=0.1, loss='deviance', max_depth=3,\n",
       "                           max_features=None, max_leaf_nodes=None,\n",
       "                           min_impurity_decrease=0.0, min_impurity_split=None,\n",
       "                           min_samples_leaf=1, min_samples_split=2,\n",
       "                           min_weight_fraction_leaf=0.0, n_estimators=100,\n",
       "                           n_iter_no_change=None, presort='deprecated',\n",
       "                           random_state=None, subsample=1.0, tol=0.0001,\n",
       "                           validation_fraction=0.1, verbose=0,\n",
       "                           warm_start=False)"
      ]
     },
     "execution_count": 167,
     "metadata": {},
     "output_type": "execute_result"
    }
   ],
   "source": [
    "XG.fit(x_train,y_train)"
   ]
  },
  {
   "cell_type": "code",
   "execution_count": 168,
   "metadata": {},
   "outputs": [],
   "source": [
    "y_pred_test= XG.predict(x_test)"
   ]
  },
  {
   "cell_type": "code",
   "execution_count": 169,
   "metadata": {},
   "outputs": [],
   "source": [
    "precision = precision_score(y_test,y_pred_test)"
   ]
  },
  {
   "cell_type": "code",
   "execution_count": 170,
   "metadata": {},
   "outputs": [
    {
     "data": {
      "text/plain": [
       "0.8064516129032258"
      ]
     },
     "execution_count": 170,
     "metadata": {},
     "output_type": "execute_result"
    }
   ],
   "source": [
    "precision"
   ]
  },
  {
   "cell_type": "code",
   "execution_count": 171,
   "metadata": {},
   "outputs": [],
   "source": [
    "recall = recall_score(y_test,y_pred_test)"
   ]
  },
  {
   "cell_type": "code",
   "execution_count": 172,
   "metadata": {},
   "outputs": [
    {
     "data": {
      "text/plain": [
       "0.8064516129032258"
      ]
     },
     "execution_count": 172,
     "metadata": {},
     "output_type": "execute_result"
    }
   ],
   "source": [
    "recall"
   ]
  },
  {
   "cell_type": "code",
   "execution_count": 178,
   "metadata": {},
   "outputs": [],
   "source": [
    "params = {\"max_depth\":[i for i in np.arange(1,10)],\"criterion\":[\"friedman_mse\", \"mse\", \"mae\"],\"learning_rate\":[0.001,0.01,0.1,0.2]}"
   ]
  },
  {
   "cell_type": "code",
   "execution_count": 179,
   "metadata": {},
   "outputs": [],
   "source": [
    "GS = GridSearchCV(XG, param_grid = params , n_jobs=-1)"
   ]
  },
  {
   "cell_type": "code",
   "execution_count": 181,
   "metadata": {},
   "outputs": [
    {
     "data": {
      "text/plain": [
       "GridSearchCV(cv=None, error_score=nan,\n",
       "             estimator=GradientBoostingClassifier(ccp_alpha=0.0,\n",
       "                                                  criterion='friedman_mse',\n",
       "                                                  init=None, learning_rate=0.1,\n",
       "                                                  loss='deviance', max_depth=3,\n",
       "                                                  max_features=None,\n",
       "                                                  max_leaf_nodes=None,\n",
       "                                                  min_impurity_decrease=0.0,\n",
       "                                                  min_impurity_split=None,\n",
       "                                                  min_samples_leaf=1,\n",
       "                                                  min_samples_split=2,\n",
       "                                                  min_weight_fraction_leaf=0.0,\n",
       "                                                  n_estimators=100,\n",
       "                                                  n_iter_n...,\n",
       "                                                  presort='deprecated',\n",
       "                                                  random_state=None,\n",
       "                                                  subsample=1.0, tol=0.0001,\n",
       "                                                  validation_fraction=0.1,\n",
       "                                                  verbose=0, warm_start=False),\n",
       "             iid='deprecated', n_jobs=-1,\n",
       "             param_grid={'criterion': ['friedman_mse', 'mse', 'mae'],\n",
       "                         'learning_rate': [0.001, 0.01, 0.1, 0.2],\n",
       "                         'max_depth': [1, 2, 3, 4, 5, 6, 7, 8, 9]},\n",
       "             pre_dispatch='2*n_jobs', refit=True, return_train_score=False,\n",
       "             scoring=None, verbose=0)"
      ]
     },
     "execution_count": 181,
     "metadata": {},
     "output_type": "execute_result"
    }
   ],
   "source": [
    "GS.fit(x_train,y_train)"
   ]
  },
  {
   "cell_type": "code",
   "execution_count": 182,
   "metadata": {},
   "outputs": [
    {
     "data": {
      "text/plain": [
       "GradientBoostingClassifier(ccp_alpha=0.0, criterion='mse', init=None,\n",
       "                           learning_rate=0.1, loss='deviance', max_depth=5,\n",
       "                           max_features=None, max_leaf_nodes=None,\n",
       "                           min_impurity_decrease=0.0, min_impurity_split=None,\n",
       "                           min_samples_leaf=1, min_samples_split=2,\n",
       "                           min_weight_fraction_leaf=0.0, n_estimators=100,\n",
       "                           n_iter_no_change=None, presort='deprecated',\n",
       "                           random_state=None, subsample=1.0, tol=0.0001,\n",
       "                           validation_fraction=0.1, verbose=0,\n",
       "                           warm_start=False)"
      ]
     },
     "execution_count": 182,
     "metadata": {},
     "output_type": "execute_result"
    }
   ],
   "source": [
    "GS.best_estimator_"
   ]
  },
  {
   "cell_type": "code",
   "execution_count": 183,
   "metadata": {},
   "outputs": [],
   "source": [
    "XG = GradientBoostingClassifier(ccp_alpha=0.0, criterion='mse', init=None,\n",
    "                           learning_rate=0.1, loss='deviance', max_depth=5,\n",
    "                           max_features=None, max_leaf_nodes=None,\n",
    "                           min_impurity_decrease=0.0, min_impurity_split=None,\n",
    "                           min_samples_leaf=1, min_samples_split=2,\n",
    "                           min_weight_fraction_leaf=0.0, n_estimators=100,\n",
    "                           n_iter_no_change=None, presort='deprecated',\n",
    "                           random_state=None, subsample=1.0, tol=0.0001,\n",
    "                           validation_fraction=0.1, verbose=0,\n",
    "                           warm_start=False)"
   ]
  },
  {
   "cell_type": "code",
   "execution_count": 184,
   "metadata": {},
   "outputs": [
    {
     "data": {
      "text/plain": [
       "GradientBoostingClassifier(ccp_alpha=0.0, criterion='mse', init=None,\n",
       "                           learning_rate=0.1, loss='deviance', max_depth=5,\n",
       "                           max_features=None, max_leaf_nodes=None,\n",
       "                           min_impurity_decrease=0.0, min_impurity_split=None,\n",
       "                           min_samples_leaf=1, min_samples_split=2,\n",
       "                           min_weight_fraction_leaf=0.0, n_estimators=100,\n",
       "                           n_iter_no_change=None, presort='deprecated',\n",
       "                           random_state=None, subsample=1.0, tol=0.0001,\n",
       "                           validation_fraction=0.1, verbose=0,\n",
       "                           warm_start=False)"
      ]
     },
     "execution_count": 184,
     "metadata": {},
     "output_type": "execute_result"
    }
   ],
   "source": [
    "XG.fit(x_train,y_train)"
   ]
  },
  {
   "cell_type": "code",
   "execution_count": null,
   "metadata": {},
   "outputs": [],
   "source": []
  },
  {
   "cell_type": "code",
   "execution_count": 186,
   "metadata": {},
   "outputs": [],
   "source": [
    "precision = precision_score(y_test,y_pred_test)\n",
    "recall = recall_score(y_test,y_pred_test)"
   ]
  },
  {
   "cell_type": "code",
   "execution_count": 187,
   "metadata": {},
   "outputs": [
    {
     "name": "stdout",
     "output_type": "stream",
     "text": [
      "0.7878787878787878\n",
      "0.8387096774193549\n"
     ]
    }
   ],
   "source": [
    "print(precision)\n",
    "print(recall)"
   ]
  },
  {
   "cell_type": "code",
   "execution_count": null,
   "metadata": {},
   "outputs": [],
   "source": []
  }
 ],
 "metadata": {
  "kernelspec": {
   "display_name": "Python 3",
   "language": "python",
   "name": "python3"
  },
  "language_info": {
   "codemirror_mode": {
    "name": "ipython",
    "version": 3
   },
   "file_extension": ".py",
   "mimetype": "text/x-python",
   "name": "python",
   "nbconvert_exporter": "python",
   "pygments_lexer": "ipython3",
   "version": "3.7.6"
  }
 },
 "nbformat": 4,
 "nbformat_minor": 4
}
