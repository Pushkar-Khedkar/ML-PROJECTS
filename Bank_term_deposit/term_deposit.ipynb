{
 "cells": [
  {
   "cell_type": "markdown",
   "metadata": {},
   "source": [
    "# MACHINE LEARNING EXAM PAPER - I\n",
    "Submitted by: Pushkar Khedkar"
   ]
  },
  {
   "cell_type": "markdown",
   "metadata": {},
   "source": [
    "Given Dataset : Portugal Bank Marketing\n",
    "\n",
    "\n",
    "\n",
    "### Attributes information:\n",
    "\n",
    "1) age (numeric) \n",
    "\n",
    "2) job: type of job(categorical:\"admin.\",\"bluecollar\",\"entrepreneur\",\"housemaid\",\"management\",\"retired\",\"self-employed\",\"services\",\"student\",\"technician\",\"unemployed\",\"unknown\") \n",
    "\n",
    "3) marital: marital status (categorical: \"divorced\",\"married\",\"single\",\"unknown\"; note: \"divorced\" means divorced or widowed) \n",
    "\n",
    "4) education: education of individual (categorical: \"basic.4y\",\"basic.6y\",\"basic.9y\",\"high.school\",\"illiterate\",\"professional.course\",\"university.degree\",\"unknown\") \n",
    "\n",
    "5) default: has credit in default? (categorical: \"no\",\"yes\",\"unknown\") \n",
    "\n",
    "6) housing: has housing loan? (categorical: \"no\",\"yes\",\"unknown\") \n",
    "\n",
    "7) loan: has personal loan? (categorical: \"no\",\"yes\",\"unknown\")\n",
    "\n",
    "### Attributes Related with the last contact of the current campaign: \n",
    "\n",
    "8) contact: contact communication type (categorical: \"cellular\",\"telephone\") \n",
    "\n",
    "9) month: last contact month of year (categorical: \"jan\", \"feb\", \"mar\", …, \"nov\", \"dec\") \n",
    "\n",
    "10) dayofweek: last contact day of the week (categorical: \"mon\",\"tue\",\"wed\",\"thu\",\"fri\") \n",
    "\n",
    "11) duration: last contact duration, in seconds (numeric). \n",
    "\n",
    "Important note: this attribute highly affects the output target (e.g., if duration=0 then y=\"no\"). Yet, the duration is not known before a call is performed. Also, after the end of the call y is obviously known. Thus, this input should only be included for benchmark purposes and should be discarded if the intention is to have a realistic predictive model.\n",
    "\n",
    "### Other attributes: \n",
    "\n",
    "12) campaign: number of contacts performed during this campaign and for this client (numeric, includes last contact) \n",
    "\n",
    "13) pdays: number of days that passed by after the client was last contacted from a previous campaign (numeric; 999 means client was not previously contacted) \n",
    "\n",
    "14) previous: number of contacts performed before this campaign and for this client (numeric) \n",
    "\n",
    "15) poutcome: outcome of the previous marketing campaign (categorical: \"failure\",\"nonexistent\",\"success\")\n",
    "\n",
    "### Social and economic context attributes:\n",
    "\n",
    "16) emp.var.rate: employment variation rate - quarterly indicator (numeric) \n",
    "\n",
    "17) cons.price.idx: consumer price index - monthly indicator (numeric) \n",
    "\n",
    "18) cons.conf.idx: consumer confidence index - monthly indicator (numeric) \n",
    "\n",
    "19) concavepoints_se: standard error for number of concave portions of the contour \n",
    "\n",
    "20) euribor3m: euribor 3 month rate - daily indicator (numeric) \n",
    "\n",
    "21) nr.employed: number of employees - quarterly indicator (numeric) \n",
    "\n",
    "22) Output variable (desired target): 22) y: has the client subscribed a term deposit? (binary: \"yes\",\"no\")\n",
    "\n",
    "=================================================================================================\n",
    "\n",
    "\n",
    "## OBJECTIVES:\n",
    "\n",
    "Q1. What does the primary analysis of several categorical features reveal?\n",
    "\n",
    "<br>\n",
    "Q2. Perform the following Exploratory Data Analysis tasks:\n",
    "\n",
    "a. Missing Value Analysis\n",
    "\n",
    "b. Label Encoding wherever required\n",
    "\n",
    "c. Selecting important features based on Random Forest\n",
    "\n",
    "d. Standardize the data using the anyone of the scalers provided by sklearn\n",
    "\n",
    "\n",
    "\n",
    "\n",
    "<br>\n",
    "Q3. Build the following Supervised Learning models:\n",
    "\n",
    "a. Logistic Regression\n",
    "\n",
    "b. AdaBoost\n",
    "\n",
    "c. KNN\n",
    "\n",
    "d. SVM\n",
    "\n",
    "\n",
    "\n",
    "<br>\n",
    "Q4.Tabulate the performance metrics of all the above models and tell which model performs better in predicting if the client will subscribe to term deposit or not"
   ]
  },
  {
   "cell_type": "code",
   "execution_count": 1,
   "metadata": {},
   "outputs": [],
   "source": [
    "#importing essential liabraries\n",
    "import pandas as pd\n",
    "import numpy as np\n",
    "import matplotlib.pyplot as plt\n",
    "import seaborn as sns\n",
    "from imblearn.over_sampling import SMOTE\n",
    "from sklearn.model_selection import train_test_split\n",
    "from sklearn.model_selection import cross_val_score\n",
    "from sklearn.ensemble import RandomForestClassifier, AdaBoostClassifier\n",
    "from sklearn.metrics import precision_score, recall_score, fbeta_score\n",
    "from sklearn.preprocessing import StandardScaler\n",
    "from sklearn.linear_model import LogisticRegression\n",
    "from sklearn.neighbors import KNeighborsClassifier\n",
    "from sklearn.svm import SVC\n",
    "from sklearn.model_selection import GridSearchCV"
   ]
  },
  {
   "cell_type": "code",
   "execution_count": 2,
   "metadata": {},
   "outputs": [],
   "source": [
    "#reading provided file\n",
    "df = pd.read_csv(\"bank.csv\", delimiter=\";\")"
   ]
  },
  {
   "cell_type": "code",
   "execution_count": 3,
   "metadata": {},
   "outputs": [
    {
     "name": "stdout",
     "output_type": "stream",
     "text": [
      "dataset has 41188 datapoints and 21 features.\n"
     ]
    }
   ],
   "source": [
    "print(\"dataset has {} datapoints and {} features.\".format(df.shape[0], df.shape[1]))"
   ]
  },
  {
   "cell_type": "markdown",
   "metadata": {},
   "source": [
    "# 1] Primary analysis of categorical features:"
   ]
  },
  {
   "cell_type": "code",
   "execution_count": 4,
   "metadata": {},
   "outputs": [
    {
     "name": "stdout",
     "output_type": "stream",
     "text": [
      "<class 'pandas.core.frame.DataFrame'>\n",
      "RangeIndex: 41188 entries, 0 to 41187\n",
      "Data columns (total 21 columns):\n",
      " #   Column          Non-Null Count  Dtype  \n",
      "---  ------          --------------  -----  \n",
      " 0   age             41188 non-null  int64  \n",
      " 1   job             41188 non-null  object \n",
      " 2   marital         41188 non-null  object \n",
      " 3   education       41188 non-null  object \n",
      " 4   default         41188 non-null  object \n",
      " 5   housing         41188 non-null  object \n",
      " 6   loan            41188 non-null  object \n",
      " 7   contact         41188 non-null  object \n",
      " 8   month           41188 non-null  object \n",
      " 9   day_of_week     41188 non-null  object \n",
      " 10  duration        41188 non-null  int64  \n",
      " 11  campaign        41188 non-null  int64  \n",
      " 12  pdays           41188 non-null  int64  \n",
      " 13  previous        41188 non-null  int64  \n",
      " 14  poutcome        41188 non-null  object \n",
      " 15  emp.var.rate    41188 non-null  float64\n",
      " 16  cons.price.idx  41188 non-null  float64\n",
      " 17  cons.conf.idx   41188 non-null  float64\n",
      " 18  euribor3m       41188 non-null  float64\n",
      " 19  nr.employed     41188 non-null  float64\n",
      " 20  y               41188 non-null  object \n",
      "dtypes: float64(5), int64(5), object(11)\n",
      "memory usage: 6.6+ MB\n"
     ]
    }
   ],
   "source": [
    "df.info()     #checking dtypes of each column"
   ]
  },
  {
   "cell_type": "code",
   "execution_count": 5,
   "metadata": {},
   "outputs": [],
   "source": [
    "df_cat = df.select_dtypes(include=\"object\")    #getting all categorical columns from dataframe"
   ]
  },
  {
   "cell_type": "code",
   "execution_count": 6,
   "metadata": {},
   "outputs": [
    {
     "data": {
      "text/plain": [
       "(41188, 11)"
      ]
     },
     "execution_count": 6,
     "metadata": {},
     "output_type": "execute_result"
    }
   ],
   "source": [
    "df_cat.shape "
   ]
  },
  {
   "cell_type": "code",
   "execution_count": 7,
   "metadata": {},
   "outputs": [
    {
     "data": {
      "text/html": [
       "<div>\n",
       "<style scoped>\n",
       "    .dataframe tbody tr th:only-of-type {\n",
       "        vertical-align: middle;\n",
       "    }\n",
       "\n",
       "    .dataframe tbody tr th {\n",
       "        vertical-align: top;\n",
       "    }\n",
       "\n",
       "    .dataframe thead th {\n",
       "        text-align: right;\n",
       "    }\n",
       "</style>\n",
       "<table border=\"1\" class=\"dataframe\">\n",
       "  <thead>\n",
       "    <tr style=\"text-align: right;\">\n",
       "      <th></th>\n",
       "      <th>job</th>\n",
       "      <th>marital</th>\n",
       "      <th>education</th>\n",
       "      <th>default</th>\n",
       "      <th>housing</th>\n",
       "      <th>loan</th>\n",
       "      <th>contact</th>\n",
       "      <th>month</th>\n",
       "      <th>day_of_week</th>\n",
       "      <th>poutcome</th>\n",
       "      <th>y</th>\n",
       "    </tr>\n",
       "  </thead>\n",
       "  <tbody>\n",
       "    <tr>\n",
       "      <th>0</th>\n",
       "      <td>housemaid</td>\n",
       "      <td>married</td>\n",
       "      <td>basic.4y</td>\n",
       "      <td>no</td>\n",
       "      <td>no</td>\n",
       "      <td>no</td>\n",
       "      <td>telephone</td>\n",
       "      <td>may</td>\n",
       "      <td>mon</td>\n",
       "      <td>nonexistent</td>\n",
       "      <td>no</td>\n",
       "    </tr>\n",
       "    <tr>\n",
       "      <th>1</th>\n",
       "      <td>services</td>\n",
       "      <td>married</td>\n",
       "      <td>high.school</td>\n",
       "      <td>unknown</td>\n",
       "      <td>no</td>\n",
       "      <td>no</td>\n",
       "      <td>telephone</td>\n",
       "      <td>may</td>\n",
       "      <td>mon</td>\n",
       "      <td>nonexistent</td>\n",
       "      <td>no</td>\n",
       "    </tr>\n",
       "    <tr>\n",
       "      <th>2</th>\n",
       "      <td>services</td>\n",
       "      <td>married</td>\n",
       "      <td>high.school</td>\n",
       "      <td>no</td>\n",
       "      <td>yes</td>\n",
       "      <td>no</td>\n",
       "      <td>telephone</td>\n",
       "      <td>may</td>\n",
       "      <td>mon</td>\n",
       "      <td>nonexistent</td>\n",
       "      <td>no</td>\n",
       "    </tr>\n",
       "    <tr>\n",
       "      <th>3</th>\n",
       "      <td>admin.</td>\n",
       "      <td>married</td>\n",
       "      <td>basic.6y</td>\n",
       "      <td>no</td>\n",
       "      <td>no</td>\n",
       "      <td>no</td>\n",
       "      <td>telephone</td>\n",
       "      <td>may</td>\n",
       "      <td>mon</td>\n",
       "      <td>nonexistent</td>\n",
       "      <td>no</td>\n",
       "    </tr>\n",
       "    <tr>\n",
       "      <th>4</th>\n",
       "      <td>services</td>\n",
       "      <td>married</td>\n",
       "      <td>high.school</td>\n",
       "      <td>no</td>\n",
       "      <td>no</td>\n",
       "      <td>yes</td>\n",
       "      <td>telephone</td>\n",
       "      <td>may</td>\n",
       "      <td>mon</td>\n",
       "      <td>nonexistent</td>\n",
       "      <td>no</td>\n",
       "    </tr>\n",
       "  </tbody>\n",
       "</table>\n",
       "</div>"
      ],
      "text/plain": [
       "         job  marital    education  default housing loan    contact month  \\\n",
       "0  housemaid  married     basic.4y       no      no   no  telephone   may   \n",
       "1   services  married  high.school  unknown      no   no  telephone   may   \n",
       "2   services  married  high.school       no     yes   no  telephone   may   \n",
       "3     admin.  married     basic.6y       no      no   no  telephone   may   \n",
       "4   services  married  high.school       no      no  yes  telephone   may   \n",
       "\n",
       "  day_of_week     poutcome   y  \n",
       "0         mon  nonexistent  no  \n",
       "1         mon  nonexistent  no  \n",
       "2         mon  nonexistent  no  \n",
       "3         mon  nonexistent  no  \n",
       "4         mon  nonexistent  no  "
      ]
     },
     "execution_count": 7,
     "metadata": {},
     "output_type": "execute_result"
    }
   ],
   "source": [
    "df_cat.head()"
   ]
  },
  {
   "cell_type": "code",
   "execution_count": 8,
   "metadata": {},
   "outputs": [
    {
     "name": "stdout",
     "output_type": "stream",
     "text": [
      "job :  admin.           10422\n",
      "blue-collar       9254\n",
      "technician        6743\n",
      "services          3969\n",
      "management        2924\n",
      "retired           1720\n",
      "entrepreneur      1456\n",
      "self-employed     1421\n",
      "housemaid         1060\n",
      "unemployed        1014\n",
      "student            875\n",
      "unknown            330\n",
      "Name: job, dtype: int64\n",
      "****************************************************************************************************\n",
      "marital :  married     24928\n",
      "single      11568\n",
      "divorced     4612\n",
      "unknown        80\n",
      "Name: marital, dtype: int64\n",
      "****************************************************************************************************\n",
      "education :  university.degree      12168\n",
      "high.school             9515\n",
      "basic.9y                6045\n",
      "professional.course     5243\n",
      "basic.4y                4176\n",
      "basic.6y                2292\n",
      "unknown                 1731\n",
      "illiterate                18\n",
      "Name: education, dtype: int64\n",
      "****************************************************************************************************\n",
      "default :  no         32588\n",
      "unknown     8597\n",
      "yes            3\n",
      "Name: default, dtype: int64\n",
      "****************************************************************************************************\n",
      "housing :  yes        21576\n",
      "no         18622\n",
      "unknown      990\n",
      "Name: housing, dtype: int64\n",
      "****************************************************************************************************\n",
      "loan :  no         33950\n",
      "yes         6248\n",
      "unknown      990\n",
      "Name: loan, dtype: int64\n",
      "****************************************************************************************************\n",
      "contact :  cellular     26144\n",
      "telephone    15044\n",
      "Name: contact, dtype: int64\n",
      "****************************************************************************************************\n",
      "month :  may    13769\n",
      "jul     7174\n",
      "aug     6178\n",
      "jun     5318\n",
      "nov     4101\n",
      "apr     2632\n",
      "oct      718\n",
      "sep      570\n",
      "mar      546\n",
      "dec      182\n",
      "Name: month, dtype: int64\n",
      "****************************************************************************************************\n",
      "day_of_week :  thu    8623\n",
      "mon    8514\n",
      "wed    8134\n",
      "tue    8090\n",
      "fri    7827\n",
      "Name: day_of_week, dtype: int64\n",
      "****************************************************************************************************\n",
      "poutcome :  nonexistent    35563\n",
      "failure         4252\n",
      "success         1373\n",
      "Name: poutcome, dtype: int64\n",
      "****************************************************************************************************\n",
      "y :  no     36548\n",
      "yes     4640\n",
      "Name: y, dtype: int64\n",
      "****************************************************************************************************\n"
     ]
    }
   ],
   "source": [
    "for i in df_cat.columns:\n",
    "    print(i,\": \", df[i].value_counts())\n",
    "    print(\"*\"*100)                               #printing value-counts of all columns"
   ]
  },
  {
   "cell_type": "code",
   "execution_count": 9,
   "metadata": {},
   "outputs": [],
   "source": [
    "def cl_di(x):                      #cl_di: class-distribution\n",
    "    cl_di = pd.DataFrame()\n",
    "    cl_di['no'] = df_cat[df_cat['y'] == 'no'][x].value_counts()\n",
    "    cl_di['yes'] = df_cat[df_cat['y'] == 'yes'][x].value_counts()\n",
    "    cl_di.plot(kind='bar')\n",
    "    plt.xlabel('{}'.format(x))\n",
    "    plt.ylabel('Number of clients')\n",
    "    plt.title('Distribution of {} and deposit'.format(x))\n",
    "    plt.show()"
   ]
  },
  {
   "cell_type": "code",
   "execution_count": 10,
   "metadata": {},
   "outputs": [
    {
     "data": {
      "text/plain": [
       "<Figure size 1080x3600 with 0 Axes>"
      ]
     },
     "metadata": {},
     "output_type": "display_data"
    },
    {
     "data": {
      "image/png": "[encoded data removed]",
      "text/plain": [
       "<Figure size 432x288 with 1 Axes>"
      ]
     },
     "metadata": {
      "needs_background": "light"
     },
     "output_type": "display_data"
    },
    {
     "data": {
      "text/plain": [
       "<Figure size 1080x3600 with 0 Axes>"
      ]
     },
     "metadata": {},
     "output_type": "display_data"
    },
    {
     "data": {
      "image/png": "[encoded data removed]",
      "text/plain": [
       "<Figure size 432x288 with 1 Axes>"
      ]
     },
     "metadata": {
      "needs_background": "light"
     },
     "output_type": "display_data"
    },
    {
     "data": {
      "text/plain": [
       "<Figure size 1080x3600 with 0 Axes>"
      ]
     },
     "metadata": {},
     "output_type": "display_data"
    },
    {
     "data": {
      "image/png": "[encoded data removed]",
      "text/plain": [
       "<Figure size 432x288 with 1 Axes>"
      ]
     },
     "metadata": {
      "needs_background": "light"
     },
     "output_type": "display_data"
    },
    {
     "data": {
      "text/plain": [
       "<Figure size 1080x3600 with 0 Axes>"
      ]
     },
     "metadata": {},
     "output_type": "display_data"
    },
    {
     "data": {
      "image/png": "[encoded data removed]",
      "text/plain": [
       "<Figure size 432x288 with 1 Axes>"
      ]
     },
     "metadata": {
      "needs_background": "light"
     },
     "output_type": "display_data"
    },
    {
     "data": {
      "text/plain": [
       "<Figure size 1080x3600 with 0 Axes>"
      ]
     },
     "metadata": {},
     "output_type": "display_data"
    },
    {
     "data": {
      "image/png": "[encoded data removed]",
      "text/plain": [
       "<Figure size 432x288 with 1 Axes>"
      ]
     },
     "metadata": {
      "needs_background": "light"
     },
     "output_type": "display_data"
    },
    {
     "data": {
      "text/plain": [
       "<Figure size 1080x3600 with 0 Axes>"
      ]
     },
     "metadata": {},
     "output_type": "display_data"
    },
    {
     "data": {
      "image/png": "[encoded data removed]",
      "text/plain": [
       "<Figure size 432x288 with 1 Axes>"
      ]
     },
     "metadata": {
      "needs_background": "light"
     },
     "output_type": "display_data"
    },
    {
     "data": {
      "text/plain": [
       "<Figure size 1080x3600 with 0 Axes>"
      ]
     },
     "metadata": {},
     "output_type": "display_data"
    },
    {
     "data": {
      "image/png": "[encoded data removed]",
      "text/plain": [
       "<Figure size 432x288 with 1 Axes>"
      ]
     },
     "metadata": {
      "needs_background": "light"
     },
     "output_type": "display_data"
    },
    {
     "data": {
      "text/plain": [
       "<Figure size 1080x3600 with 0 Axes>"
      ]
     },
     "metadata": {},
     "output_type": "display_data"
    },
    {
     "data": {
      "image/png": "[encoded data removed]",
      "text/plain": [
       "<Figure size 432x288 with 1 Axes>"
      ]
     },
     "metadata": {
      "needs_background": "light"
     },
     "output_type": "display_data"
    },
    {
     "data": {
      "text/plain": [
       "<Figure size 1080x3600 with 0 Axes>"
      ]
     },
     "metadata": {},
     "output_type": "display_data"
    },
    {
     "data": {
      "image/png": "[encoded data removed]",
      "text/plain": [
       "<Figure size 432x288 with 1 Axes>"
      ]
     },
     "metadata": {
      "needs_background": "light"
     },
     "output_type": "display_data"
    },
    {
     "data": {
      "text/plain": [
       "<Figure size 1080x3600 with 0 Axes>"
      ]
     },
     "metadata": {},
     "output_type": "display_data"
    },
    {
     "data": {
      "image/png": "[encoded data removed]",
      "text/plain": [
       "<Figure size 432x288 with 1 Axes>"
      ]
     },
     "metadata": {
      "needs_background": "light"
     },
     "output_type": "display_data"
    }
   ],
   "source": [
    "for i,j in zip(range(1,df_cat.shape[1]),df_cat.columns):\n",
    "    plt.figure(figsize=(15,50))\n",
    "    cl_di(j)"
   ]
  },
  {
   "cell_type": "markdown",
   "metadata": {},
   "source": [
    "# 2] Exploratory Data Analysis tasks:\n",
    "\n",
    "## 2 a. Missing Value Analysis\n"
   ]
  },
  {
   "cell_type": "code",
   "execution_count": 12,
   "metadata": {},
   "outputs": [
    {
     "data": {
      "text/plain": [
       "age               0\n",
       "job               0\n",
       "marital           0\n",
       "education         0\n",
       "default           0\n",
       "housing           0\n",
       "loan              0\n",
       "contact           0\n",
       "month             0\n",
       "day_of_week       0\n",
       "duration          0\n",
       "campaign          0\n",
       "pdays             0\n",
       "previous          0\n",
       "poutcome          0\n",
       "emp.var.rate      0\n",
       "cons.price.idx    0\n",
       "cons.conf.idx     0\n",
       "euribor3m         0\n",
       "nr.employed       0\n",
       "y                 0\n",
       "dtype: int64"
      ]
     },
     "execution_count": 12,
     "metadata": {},
     "output_type": "execute_result"
    }
   ],
   "source": [
    "df.isnull().sum()    #checking if dataset contains any null values or not"
   ]
  },
  {
   "cell_type": "markdown",
   "metadata": {},
   "source": [
    "<br>\n",
    "Dataset has no null values."
   ]
  },
  {
   "cell_type": "markdown",
   "metadata": {},
   "source": [
    "## 2 b. Label encoding :\n",
    "we already have categorical columns dataframe from earlier. (df_cat)"
   ]
  },
  {
   "cell_type": "code",
   "execution_count": 13,
   "metadata": {},
   "outputs": [],
   "source": [
    "df_dummies = pd.get_dummies(df_cat.drop(columns=\"y\"), drop_first=True , prefix = df_cat.columns[:-1] )"
   ]
  },
  {
   "cell_type": "code",
   "execution_count": 14,
   "metadata": {},
   "outputs": [],
   "source": [
    "df = df.drop(columns = df_cat.columns)"
   ]
  },
  {
   "cell_type": "code",
   "execution_count": 15,
   "metadata": {},
   "outputs": [],
   "source": [
    "df= pd.concat([df,df_dummies], axis = 1)"
   ]
  },
  {
   "cell_type": "code",
   "execution_count": 16,
   "metadata": {},
   "outputs": [],
   "source": [
    "df[\"y\"] = df_cat[\"y\"]"
   ]
  },
  {
   "cell_type": "code",
   "execution_count": 17,
   "metadata": {},
   "outputs": [],
   "source": [
    "df[\"y\"].replace(\"no\",0,inplace=True)\n",
    "df[\"y\"].replace(\"yes\",1,inplace=True)"
   ]
  },
  {
   "cell_type": "markdown",
   "metadata": {},
   "source": [
    "## 2 c. Selecting important features based on Random Forest:"
   ]
  },
  {
   "cell_type": "markdown",
   "metadata": {},
   "source": [
    "### Starting with checking class imbalance:"
   ]
  },
  {
   "cell_type": "code",
   "execution_count": 18,
   "metadata": {},
   "outputs": [
    {
     "data": {
      "text/plain": [
       "0    36548\n",
       "1     4640\n",
       "Name: y, dtype: int64"
      ]
     },
     "execution_count": 18,
     "metadata": {},
     "output_type": "execute_result"
    }
   ],
   "source": [
    "df[\"y\"].value_counts()"
   ]
  },
  {
   "cell_type": "code",
   "execution_count": 19,
   "metadata": {},
   "outputs": [
    {
     "data": {
      "text/plain": [
       "0    88.734583\n",
       "1    11.265417\n",
       "Name: y, dtype: float64"
      ]
     },
     "execution_count": 19,
     "metadata": {},
     "output_type": "execute_result"
    }
   ],
   "source": [
    "df[\"y\"].value_counts()*100/df.shape[0]   #checking class imbalance in percentage"
   ]
  },
  {
   "cell_type": "markdown",
   "metadata": {},
   "source": [
    "<br>\n",
    "There is a major class imbalance. to take care of imbalance, we will use SMOTE."
   ]
  },
  {
   "cell_type": "code",
   "execution_count": 20,
   "metadata": {},
   "outputs": [],
   "source": [
    "X = df.drop(columns = \"y\")\n",
    "y = df[\"y\"]"
   ]
  },
  {
   "cell_type": "code",
   "execution_count": 21,
   "metadata": {},
   "outputs": [],
   "source": [
    "sm = SMOTE(random_state=56)\n",
    "X, y = sm.fit_sample(X, y)"
   ]
  },
  {
   "cell_type": "code",
   "execution_count": 22,
   "metadata": {},
   "outputs": [
    {
     "data": {
      "text/plain": [
       "1    36548\n",
       "0    36548\n",
       "Name: y, dtype: int64"
      ]
     },
     "execution_count": 22,
     "metadata": {},
     "output_type": "execute_result"
    }
   ],
   "source": [
    "y.value_counts()      #imbalance is removed"
   ]
  },
  {
   "cell_type": "code",
   "execution_count": 23,
   "metadata": {},
   "outputs": [],
   "source": [
    "#train_test_split\n",
    "x_train, x_test, y_train, y_test = train_test_split(X, y, test_size= 0.3, random_state = 2)"
   ]
  },
  {
   "cell_type": "markdown",
   "metadata": {},
   "source": [
    "30% of data has been taken for testing."
   ]
  },
  {
   "cell_type": "markdown",
   "metadata": {},
   "source": [
    "### Cross validation using random forest algorithm:"
   ]
  },
  {
   "cell_type": "code",
   "execution_count": 24,
   "metadata": {},
   "outputs": [],
   "source": [
    "cv_scores=[]\n",
    "for i in np.arange(11,23):\n",
    "    #random forest algorithm\n",
    "    RF = RandomForestClassifier(max_depth=i)\n",
    "    scores = cross_val_score(RF , x_train, y_train , cv = 10, scoring = \"f1\")\n",
    "    cv_scores.append(scores.mean())"
   ]
  },
  {
   "cell_type": "code",
   "execution_count": 25,
   "metadata": {},
   "outputs": [
    {
     "name": "stdout",
     "output_type": "stream",
     "text": [
      "Cross validation score for depth 11 is 0.9387623776148757\n",
      "Cross validation score for depth 12 is 0.9402712092742679\n",
      "Cross validation score for depth 13 is 0.9431382285094925\n",
      "Cross validation score for depth 14 is 0.9453106458790093\n",
      "Cross validation score for depth 15 is 0.946607818549414\n",
      "Cross validation score for depth 16 is 0.9477101361961076\n",
      "Cross validation score for depth 17 is 0.9489833749271931\n",
      "Cross validation score for depth 18 is 0.9492597607628352\n",
      "Cross validation score for depth 19 is 0.949526345131629\n",
      "Cross validation score for depth 20 is 0.9502150354468766\n",
      "Cross validation score for depth 21 is 0.9509034778140272\n",
      "Cross validation score for depth 22 is 0.9505440308986375\n"
     ]
    }
   ],
   "source": [
    "for i,j in zip(cv_scores,np.arange(11,23)):\n",
    "    print(\"Cross validation score for depth {} is {}\".format(j,i))"
   ]
  },
  {
   "cell_type": "code",
   "execution_count": 26,
   "metadata": {},
   "outputs": [
    {
     "data": {
      "text/plain": [
       "RandomForestClassifier(max_depth=22)"
      ]
     },
     "execution_count": 26,
     "metadata": {},
     "output_type": "execute_result"
    }
   ],
   "source": [
    "RF = RandomForestClassifier(max_depth = 22)\n",
    "RF.fit(x_train,y_train)"
   ]
  },
  {
   "cell_type": "code",
   "execution_count": 27,
   "metadata": {},
   "outputs": [],
   "source": [
    "fi = RF.feature_importances_"
   ]
  },
  {
   "cell_type": "code",
   "execution_count": 28,
   "metadata": {},
   "outputs": [],
   "source": [
    "feature_importance = pd.DataFrame(fi, columns = [\"Importances\"])"
   ]
  },
  {
   "cell_type": "code",
   "execution_count": 29,
   "metadata": {},
   "outputs": [],
   "source": [
    "feature_importance[\"columns\"] = X.columns"
   ]
  },
  {
   "cell_type": "code",
   "execution_count": 30,
   "metadata": {},
   "outputs": [],
   "source": [
    "feature_importance.sort_values(by= \"Importances\", ascending=False, inplace=True)"
   ]
  },
  {
   "cell_type": "code",
   "execution_count": 31,
   "metadata": {},
   "outputs": [],
   "source": [
    "feature_importance.reset_index(inplace=True,drop=True)"
   ]
  },
  {
   "cell_type": "code",
   "execution_count": 32,
   "metadata": {},
   "outputs": [],
   "source": [
    "feature_importance= feature_importance[[\"columns\",\"Importances\"]]"
   ]
  },
  {
   "cell_type": "code",
   "execution_count": 65,
   "metadata": {},
   "outputs": [
    {
     "name": "stdout",
     "output_type": "stream",
     "text": [
      "Feature importance table:\n",
      "Most important features first: \n"
     ]
    },
    {
     "data": {
      "text/html": [
       "<div>\n",
       "<style scoped>\n",
       "    .dataframe tbody tr th:only-of-type {\n",
       "        vertical-align: middle;\n",
       "    }\n",
       "\n",
       "    .dataframe tbody tr th {\n",
       "        vertical-align: top;\n",
       "    }\n",
       "\n",
       "    .dataframe thead th {\n",
       "        text-align: right;\n",
       "    }\n",
       "</style>\n",
       "<table border=\"1\" class=\"dataframe\">\n",
       "  <thead>\n",
       "    <tr style=\"text-align: right;\">\n",
       "      <th></th>\n",
       "      <th>columns</th>\n",
       "      <th>Importances</th>\n",
       "    </tr>\n",
       "  </thead>\n",
       "  <tbody>\n",
       "    <tr>\n",
       "      <th>0</th>\n",
       "      <td>duration</td>\n",
       "      <td>0.300076</td>\n",
       "    </tr>\n",
       "    <tr>\n",
       "      <th>1</th>\n",
       "      <td>nr.employed</td>\n",
       "      <td>0.083103</td>\n",
       "    </tr>\n",
       "    <tr>\n",
       "      <th>2</th>\n",
       "      <td>euribor3m</td>\n",
       "      <td>0.082741</td>\n",
       "    </tr>\n",
       "    <tr>\n",
       "      <th>3</th>\n",
       "      <td>emp.var.rate</td>\n",
       "      <td>0.052056</td>\n",
       "    </tr>\n",
       "    <tr>\n",
       "      <th>4</th>\n",
       "      <td>cons.conf.idx</td>\n",
       "      <td>0.046689</td>\n",
       "    </tr>\n",
       "    <tr>\n",
       "      <th>5</th>\n",
       "      <td>cons.price.idx</td>\n",
       "      <td>0.038197</td>\n",
       "    </tr>\n",
       "    <tr>\n",
       "      <th>6</th>\n",
       "      <td>age</td>\n",
       "      <td>0.028934</td>\n",
       "    </tr>\n",
       "    <tr>\n",
       "      <th>7</th>\n",
       "      <td>default_unknown</td>\n",
       "      <td>0.024815</td>\n",
       "    </tr>\n",
       "    <tr>\n",
       "      <th>8</th>\n",
       "      <td>contact_telephone</td>\n",
       "      <td>0.024498</td>\n",
       "    </tr>\n",
       "    <tr>\n",
       "      <th>9</th>\n",
       "      <td>month_may</td>\n",
       "      <td>0.024308</td>\n",
       "    </tr>\n",
       "    <tr>\n",
       "      <th>10</th>\n",
       "      <td>job_blue-collar</td>\n",
       "      <td>0.023818</td>\n",
       "    </tr>\n",
       "    <tr>\n",
       "      <th>11</th>\n",
       "      <td>day_of_week_mon</td>\n",
       "      <td>0.017859</td>\n",
       "    </tr>\n",
       "    <tr>\n",
       "      <th>12</th>\n",
       "      <td>education_high.school</td>\n",
       "      <td>0.017782</td>\n",
       "    </tr>\n",
       "    <tr>\n",
       "      <th>13</th>\n",
       "      <td>pdays</td>\n",
       "      <td>0.015994</td>\n",
       "    </tr>\n",
       "    <tr>\n",
       "      <th>14</th>\n",
       "      <td>campaign</td>\n",
       "      <td>0.015363</td>\n",
       "    </tr>\n",
       "    <tr>\n",
       "      <th>15</th>\n",
       "      <td>education_university.degree</td>\n",
       "      <td>0.014687</td>\n",
       "    </tr>\n",
       "    <tr>\n",
       "      <th>16</th>\n",
       "      <td>housing_yes</td>\n",
       "      <td>0.012651</td>\n",
       "    </tr>\n",
       "    <tr>\n",
       "      <th>17</th>\n",
       "      <td>poutcome_nonexistent</td>\n",
       "      <td>0.012485</td>\n",
       "    </tr>\n",
       "    <tr>\n",
       "      <th>18</th>\n",
       "      <td>day_of_week_thu</td>\n",
       "      <td>0.012172</td>\n",
       "    </tr>\n",
       "    <tr>\n",
       "      <th>19</th>\n",
       "      <td>education_basic.9y</td>\n",
       "      <td>0.011509</td>\n",
       "    </tr>\n",
       "    <tr>\n",
       "      <th>20</th>\n",
       "      <td>day_of_week_tue</td>\n",
       "      <td>0.010988</td>\n",
       "    </tr>\n",
       "    <tr>\n",
       "      <th>21</th>\n",
       "      <td>job_technician</td>\n",
       "      <td>0.010555</td>\n",
       "    </tr>\n",
       "    <tr>\n",
       "      <th>22</th>\n",
       "      <td>marital_married</td>\n",
       "      <td>0.010148</td>\n",
       "    </tr>\n",
       "    <tr>\n",
       "      <th>23</th>\n",
       "      <td>education_professional.course</td>\n",
       "      <td>0.009507</td>\n",
       "    </tr>\n",
       "    <tr>\n",
       "      <th>24</th>\n",
       "      <td>day_of_week_wed</td>\n",
       "      <td>0.009061</td>\n",
       "    </tr>\n",
       "    <tr>\n",
       "      <th>25</th>\n",
       "      <td>poutcome_success</td>\n",
       "      <td>0.008786</td>\n",
       "    </tr>\n",
       "    <tr>\n",
       "      <th>26</th>\n",
       "      <td>previous</td>\n",
       "      <td>0.008433</td>\n",
       "    </tr>\n",
       "    <tr>\n",
       "      <th>27</th>\n",
       "      <td>loan_yes</td>\n",
       "      <td>0.008056</td>\n",
       "    </tr>\n",
       "    <tr>\n",
       "      <th>28</th>\n",
       "      <td>marital_single</td>\n",
       "      <td>0.007866</td>\n",
       "    </tr>\n",
       "    <tr>\n",
       "      <th>29</th>\n",
       "      <td>job_services</td>\n",
       "      <td>0.006658</td>\n",
       "    </tr>\n",
       "    <tr>\n",
       "      <th>30</th>\n",
       "      <td>month_jul</td>\n",
       "      <td>0.005397</td>\n",
       "    </tr>\n",
       "    <tr>\n",
       "      <th>31</th>\n",
       "      <td>job_management</td>\n",
       "      <td>0.005063</td>\n",
       "    </tr>\n",
       "    <tr>\n",
       "      <th>32</th>\n",
       "      <td>month_aug</td>\n",
       "      <td>0.004871</td>\n",
       "    </tr>\n",
       "    <tr>\n",
       "      <th>33</th>\n",
       "      <td>month_nov</td>\n",
       "      <td>0.004240</td>\n",
       "    </tr>\n",
       "    <tr>\n",
       "      <th>34</th>\n",
       "      <td>education_unknown</td>\n",
       "      <td>0.003293</td>\n",
       "    </tr>\n",
       "    <tr>\n",
       "      <th>35</th>\n",
       "      <td>month_jun</td>\n",
       "      <td>0.003056</td>\n",
       "    </tr>\n",
       "    <tr>\n",
       "      <th>36</th>\n",
       "      <td>month_oct</td>\n",
       "      <td>0.002772</td>\n",
       "    </tr>\n",
       "    <tr>\n",
       "      <th>37</th>\n",
       "      <td>job_self-employed</td>\n",
       "      <td>0.002750</td>\n",
       "    </tr>\n",
       "    <tr>\n",
       "      <th>38</th>\n",
       "      <td>education_basic.6y</td>\n",
       "      <td>0.002506</td>\n",
       "    </tr>\n",
       "    <tr>\n",
       "      <th>39</th>\n",
       "      <td>job_entrepreneur</td>\n",
       "      <td>0.002442</td>\n",
       "    </tr>\n",
       "    <tr>\n",
       "      <th>40</th>\n",
       "      <td>job_retired</td>\n",
       "      <td>0.002410</td>\n",
       "    </tr>\n",
       "    <tr>\n",
       "      <th>41</th>\n",
       "      <td>job_housemaid</td>\n",
       "      <td>0.002074</td>\n",
       "    </tr>\n",
       "    <tr>\n",
       "      <th>42</th>\n",
       "      <td>job_student</td>\n",
       "      <td>0.001850</td>\n",
       "    </tr>\n",
       "    <tr>\n",
       "      <th>43</th>\n",
       "      <td>job_unemployed</td>\n",
       "      <td>0.001737</td>\n",
       "    </tr>\n",
       "    <tr>\n",
       "      <th>44</th>\n",
       "      <td>month_mar</td>\n",
       "      <td>0.001190</td>\n",
       "    </tr>\n",
       "    <tr>\n",
       "      <th>45</th>\n",
       "      <td>housing_unknown</td>\n",
       "      <td>0.001176</td>\n",
       "    </tr>\n",
       "    <tr>\n",
       "      <th>46</th>\n",
       "      <td>loan_unknown</td>\n",
       "      <td>0.001148</td>\n",
       "    </tr>\n",
       "    <tr>\n",
       "      <th>47</th>\n",
       "      <td>month_sep</td>\n",
       "      <td>0.000995</td>\n",
       "    </tr>\n",
       "    <tr>\n",
       "      <th>48</th>\n",
       "      <td>job_unknown</td>\n",
       "      <td>0.000595</td>\n",
       "    </tr>\n",
       "    <tr>\n",
       "      <th>49</th>\n",
       "      <td>month_dec</td>\n",
       "      <td>0.000454</td>\n",
       "    </tr>\n",
       "    <tr>\n",
       "      <th>50</th>\n",
       "      <td>marital_unknown</td>\n",
       "      <td>0.000164</td>\n",
       "    </tr>\n",
       "    <tr>\n",
       "      <th>51</th>\n",
       "      <td>education_illiterate</td>\n",
       "      <td>0.000022</td>\n",
       "    </tr>\n",
       "    <tr>\n",
       "      <th>52</th>\n",
       "      <td>default_yes</td>\n",
       "      <td>0.000000</td>\n",
       "    </tr>\n",
       "  </tbody>\n",
       "</table>\n",
       "</div>"
      ],
      "text/plain": [
       "                          columns  Importances\n",
       "0                        duration     0.300076\n",
       "1                     nr.employed     0.083103\n",
       "2                       euribor3m     0.082741\n",
       "3                    emp.var.rate     0.052056\n",
       "4                   cons.conf.idx     0.046689\n",
       "5                  cons.price.idx     0.038197\n",
       "6                             age     0.028934\n",
       "7                 default_unknown     0.024815\n",
       "8               contact_telephone     0.024498\n",
       "9                       month_may     0.024308\n",
       "10                job_blue-collar     0.023818\n",
       "11                day_of_week_mon     0.017859\n",
       "12          education_high.school     0.017782\n",
       "13                          pdays     0.015994\n",
       "14                       campaign     0.015363\n",
       "15    education_university.degree     0.014687\n",
       "16                    housing_yes     0.012651\n",
       "17           poutcome_nonexistent     0.012485\n",
       "18                day_of_week_thu     0.012172\n",
       "19             education_basic.9y     0.011509\n",
       "20                day_of_week_tue     0.010988\n",
       "21                 job_technician     0.010555\n",
       "22                marital_married     0.010148\n",
       "23  education_professional.course     0.009507\n",
       "24                day_of_week_wed     0.009061\n",
       "25               poutcome_success     0.008786\n",
       "26                       previous     0.008433\n",
       "27                       loan_yes     0.008056\n",
       "28                 marital_single     0.007866\n",
       "29                   job_services     0.006658\n",
       "30                      month_jul     0.005397\n",
       "31                 job_management     0.005063\n",
       "32                      month_aug     0.004871\n",
       "33                      month_nov     0.004240\n",
       "34              education_unknown     0.003293\n",
       "35                      month_jun     0.003056\n",
       "36                      month_oct     0.002772\n",
       "37              job_self-employed     0.002750\n",
       "38             education_basic.6y     0.002506\n",
       "39               job_entrepreneur     0.002442\n",
       "40                    job_retired     0.002410\n",
       "41                  job_housemaid     0.002074\n",
       "42                    job_student     0.001850\n",
       "43                 job_unemployed     0.001737\n",
       "44                      month_mar     0.001190\n",
       "45                housing_unknown     0.001176\n",
       "46                   loan_unknown     0.001148\n",
       "47                      month_sep     0.000995\n",
       "48                    job_unknown     0.000595\n",
       "49                      month_dec     0.000454\n",
       "50                marital_unknown     0.000164\n",
       "51           education_illiterate     0.000022\n",
       "52                    default_yes     0.000000"
      ]
     },
     "execution_count": 65,
     "metadata": {},
     "output_type": "execute_result"
    }
   ],
   "source": [
    "print(\"Feature importance table:\")\n",
    "print(\"Most important features first: \")\n",
    "feature_importance "
   ]
  },
  {
   "cell_type": "markdown",
   "metadata": {},
   "source": [
    "## 2 d. Standardize the data using the anyone of the scalers provided by sklearn"
   ]
  },
  {
   "cell_type": "code",
   "execution_count": 34,
   "metadata": {},
   "outputs": [],
   "source": [
    "sc = StandardScaler()\n",
    "x_train = sc.fit_transform(x_train)\n",
    "x_test = sc.transform(x_test)"
   ]
  },
  {
   "cell_type": "markdown",
   "metadata": {},
   "source": [
    "# 3] Building the following Supervised Learning models:"
   ]
  },
  {
   "cell_type": "code",
   "execution_count": 35,
   "metadata": {},
   "outputs": [],
   "source": [
    "f1_scores_list=[]\n",
    "precision_scores_list=[]\n",
    "recall_scores_list=[]"
   ]
  },
  {
   "cell_type": "markdown",
   "metadata": {},
   "source": [
    "## 3 a. Logistic Regression"
   ]
  },
  {
   "cell_type": "code",
   "execution_count": 36,
   "metadata": {},
   "outputs": [],
   "source": [
    "c = [0.001,0.01,0.1,1]\n",
    "cv_scores=[]\n",
    "for i in c:\n",
    "    #logistic regression\n",
    "    LR = LogisticRegression(C =i, n_jobs=-1)\n",
    "    scores = cross_val_score(LR , x_train, y_train , cv = 10, scoring = \"f1\")\n",
    "    cv_scores.append(scores.mean())"
   ]
  },
  {
   "cell_type": "code",
   "execution_count": 37,
   "metadata": {},
   "outputs": [
    {
     "name": "stdout",
     "output_type": "stream",
     "text": [
      "Cross validation score for C = 0.001 is 0.9323886977079161\n",
      "Cross validation score for C = 0.01 is 0.9344015654832131\n",
      "Cross validation score for C = 0.1 is 0.9351708843631164\n",
      "Cross validation score for C = 1 is 0.9355026180998973\n"
     ]
    }
   ],
   "source": [
    "for i,j in zip(cv_scores,c):\n",
    "    print(\"Cross validation score for C = {} is {}\".format(j,i))"
   ]
  },
  {
   "cell_type": "code",
   "execution_count": 38,
   "metadata": {},
   "outputs": [
    {
     "data": {
      "text/plain": [
       "LogisticRegression(C=1, n_jobs=-1)"
      ]
     },
     "execution_count": 38,
     "metadata": {},
     "output_type": "execute_result"
    }
   ],
   "source": [
    "# Best value of C is 1.\n",
    "LR = LogisticRegression(C=1, n_jobs=-1)\n",
    "LR.fit(x_train,y_train)"
   ]
  },
  {
   "cell_type": "code",
   "execution_count": 39,
   "metadata": {},
   "outputs": [],
   "source": [
    "y_pred_train = LR.predict(x_train)\n",
    "y_pred_test = LR.predict(x_test)      "
   ]
  },
  {
   "cell_type": "code",
   "execution_count": 40,
   "metadata": {},
   "outputs": [
    {
     "name": "stdout",
     "output_type": "stream",
     "text": [
      "TRAINING SCORES:\n",
      "Precision using logistic regression  0.942052456944225\n",
      "Recall using logistic regression  0.9297855750487329\n",
      "f1 score using logistic regression  0.935878821174901\n",
      "****************************************************************************************************\n",
      "TESTING SCORES:\n",
      "Precision using logistic regression  0.9393657583930066\n",
      "Recall using logistic regression  0.9268673151036888\n",
      "f1 score using logistic regression  0.933074684772066\n",
      "****************************************************************************************************\n"
     ]
    }
   ],
   "source": [
    "print(\"TRAINING SCORES:\")\n",
    "print(\"Precision using logistic regression \",precision_score(y_train,y_pred_train))\n",
    "print(\"Recall using logistic regression \",recall_score(y_train,y_pred_train))\n",
    "print(\"f1 score using logistic regression \",fbeta_score(y_train,y_pred_train,beta=1))\n",
    "print(\"*\"*100)\n",
    "print(\"TESTING SCORES:\")\n",
    "print(\"Precision using logistic regression \",precision_score(y_test,y_pred_test))\n",
    "print(\"Recall using logistic regression \",recall_score(y_test,y_pred_test))\n",
    "print(\"f1 score using logistic regression \",fbeta_score(y_test,y_pred_test,beta=1))\n",
    "print(\"*\"*100)\n",
    "f1_scores_list.append(fbeta_score(y_test,y_pred_test,beta=1))\n",
    "precision_scores_list.append(precision_score(y_test,y_pred_test))\n",
    "recall_scores_list.append(recall_score(y_test,y_pred_test))"
   ]
  },
  {
   "cell_type": "markdown",
   "metadata": {},
   "source": [
    "## 3 b. AdaboostClassifier"
   ]
  },
  {
   "cell_type": "code",
   "execution_count": 41,
   "metadata": {},
   "outputs": [],
   "source": [
    "lr = [0.001,0.01,0.1,1]\n",
    "cv_scores=[]\n",
    "for i in lr:\n",
    "    #Adaboostclassifier\n",
    "    ADB = AdaBoostClassifier(learning_rate =i, random_state=8)\n",
    "    scores = cross_val_score(ADB , x_train, y_train , cv = 10, scoring = \"f1\")\n",
    "    cv_scores.append(scores.mean())"
   ]
  },
  {
   "cell_type": "code",
   "execution_count": 42,
   "metadata": {},
   "outputs": [
    {
     "name": "stdout",
     "output_type": "stream",
     "text": [
      "Cross validation score for learning_rate = 0.001 is 0.7387601171084058\n",
      "Cross validation score for learning_rate = 0.01 is 0.8498180317596349\n",
      "Cross validation score for learning_rate = 0.1 is 0.8850646494452995\n",
      "Cross validation score for learning_rate = 1 is 0.9325466324412062\n"
     ]
    }
   ],
   "source": [
    "for i,j in zip(cv_scores,lr):\n",
    "    print(\"Cross validation score for learning_rate = {} is {}\".format(j,i))"
   ]
  },
  {
   "cell_type": "code",
   "execution_count": 43,
   "metadata": {},
   "outputs": [
    {
     "data": {
      "text/plain": [
       "AdaBoostClassifier(learning_rate=1, random_state=7)"
      ]
     },
     "execution_count": 43,
     "metadata": {},
     "output_type": "execute_result"
    }
   ],
   "source": [
    "# Best value of learning_rate is 1.\n",
    "ADB = AdaBoostClassifier(learning_rate =1, random_state=7)\n",
    "ADB.fit(x_train,y_train)"
   ]
  },
  {
   "cell_type": "code",
   "execution_count": 44,
   "metadata": {},
   "outputs": [],
   "source": [
    "y_pred_train = ADB.predict(x_train)\n",
    "y_pred_test = ADB.predict(x_test) "
   ]
  },
  {
   "cell_type": "code",
   "execution_count": 45,
   "metadata": {},
   "outputs": [
    {
     "name": "stdout",
     "output_type": "stream",
     "text": [
      "TRAINING SCORES:\n",
      "Precision using Adaboost  0.9324661162174793\n",
      "Recall using Adaboost  0.933411306042885\n",
      "f1 score using Adaboost  0.9329384717297277\n",
      "****************************************************************************************************\n",
      "TESTING SCORES:\n",
      "Precision using Adaboost  0.9314096063427676\n",
      "Recall using Adaboost  0.9270508350155992\n",
      "f1 score using Adaboost  0.9292251092205105\n",
      "****************************************************************************************************\n"
     ]
    }
   ],
   "source": [
    "print(\"TRAINING SCORES:\")\n",
    "print(\"Precision using Adaboost \",precision_score(y_train,y_pred_train))\n",
    "print(\"Recall using Adaboost \",recall_score(y_train,y_pred_train))\n",
    "print(\"f1 score using Adaboost \",fbeta_score(y_train,y_pred_train,beta=1))\n",
    "print(\"*\"*100)\n",
    "print(\"TESTING SCORES:\")\n",
    "print(\"Precision using Adaboost \",precision_score(y_test,y_pred_test))\n",
    "print(\"Recall using Adaboost \",recall_score(y_test,y_pred_test))\n",
    "print(\"f1 score using Adaboost \",fbeta_score(y_test,y_pred_test,beta=1))\n",
    "print(\"*\"*100)\n",
    "f1_scores_list.append(fbeta_score(y_test,y_pred_test,beta=1))\n",
    "precision_scores_list.append(precision_score(y_test,y_pred_test))\n",
    "recall_scores_list.append(recall_score(y_test,y_pred_test))"
   ]
  },
  {
   "cell_type": "markdown",
   "metadata": {},
   "source": [
    "## 3 c. KNN"
   ]
  },
  {
   "cell_type": "code",
   "execution_count": 46,
   "metadata": {},
   "outputs": [],
   "source": [
    "k=[i for i in range(7,10)]\n",
    "cv_scores=[]\n",
    "for i in k:\n",
    "    #KNNclassifier\n",
    "    KNN = KNeighborsClassifier(n_neighbors =i,metric=\"euclidean\")\n",
    "    scores = cross_val_score(KNN , x_train, y_train , cv = 10, scoring = \"f1\")\n",
    "    cv_scores.append(scores.mean())"
   ]
  },
  {
   "cell_type": "code",
   "execution_count": 47,
   "metadata": {},
   "outputs": [
    {
     "name": "stdout",
     "output_type": "stream",
     "text": [
      "Cross validation score for neighbors = 7 is 0.9250145178968043\n",
      "Cross validation score for neighbors = 8 is 0.9240237511820231\n",
      "Cross validation score for neighbors = 9 is 0.9232751602866663\n"
     ]
    }
   ],
   "source": [
    "for i,j in zip(cv_scores,k):\n",
    "    print(\"Cross validation score for neighbors = {} is {}\".format(j,i))"
   ]
  },
  {
   "cell_type": "code",
   "execution_count": 48,
   "metadata": {},
   "outputs": [
    {
     "data": {
      "text/plain": [
       "KNeighborsClassifier(metric='euclidean', n_neighbors=7)"
      ]
     },
     "execution_count": 48,
     "metadata": {},
     "output_type": "execute_result"
    }
   ],
   "source": [
    "#best value for k is 7.\n",
    "KNN = KNeighborsClassifier(n_neighbors = 7,metric=\"euclidean\")\n",
    "KNN.fit(x_train,y_train)"
   ]
  },
  {
   "cell_type": "code",
   "execution_count": 49,
   "metadata": {},
   "outputs": [],
   "source": [
    "y_pred_train = KNN.predict(x_train)\n",
    "y_pred_test = KNN.predict(x_test) "
   ]
  },
  {
   "cell_type": "code",
   "execution_count": 50,
   "metadata": {},
   "outputs": [
    {
     "name": "stdout",
     "output_type": "stream",
     "text": [
      "TRAINING SCORES:\n",
      "Precision using KNN  0.9477368546655\n",
      "Recall using KNN  0.9289668615984406\n",
      "f1 score using KNN  0.9382579933847849\n",
      "****************************************************************************************************\n",
      "TESTING SCORES:\n",
      "Precision using KNN  0.9300046663555763\n",
      "Recall using KNN  0.9143879610937786\n",
      "f1 score using KNN  0.9221301994170176\n",
      "****************************************************************************************************\n"
     ]
    }
   ],
   "source": [
    "print(\"TRAINING SCORES:\")\n",
    "print(\"Precision using KNN \",precision_score(y_train,y_pred_train))\n",
    "print(\"Recall using KNN \",recall_score(y_train,y_pred_train))\n",
    "print(\"f1 score using KNN \",fbeta_score(y_train,y_pred_train,beta=1))\n",
    "print(\"*\"*100)\n",
    "print(\"TESTING SCORES:\")\n",
    "print(\"Precision using KNN \",precision_score(y_test,y_pred_test))\n",
    "print(\"Recall using KNN \",recall_score(y_test,y_pred_test))\n",
    "print(\"f1 score using KNN \",fbeta_score(y_test,y_pred_test,beta=1))\n",
    "print(\"*\"*100)\n",
    "f1_scores_list.append(fbeta_score(y_test,y_pred_test,beta=1))\n",
    "precision_scores_list.append(precision_score(y_test,y_pred_test))\n",
    "recall_scores_list.append(recall_score(y_test,y_pred_test))"
   ]
  },
  {
   "cell_type": "markdown",
   "metadata": {},
   "source": [
    "## 3 d. Support vector classifier"
   ]
  },
  {
   "cell_type": "code",
   "execution_count": 54,
   "metadata": {},
   "outputs": [],
   "source": [
    "c=[0.01,0.1,1]\n",
    "cv_scores=[]\n",
    "for i in c:\n",
    "    #SVclassifier\n",
    "    svc = SVC(C =i)\n",
    "    scores = cross_val_score(svc , x_train, y_train , cv = 4, scoring = \"f1\")\n",
    "    cv_scores.append(scores.mean())"
   ]
  },
  {
   "cell_type": "code",
   "execution_count": 55,
   "metadata": {},
   "outputs": [
    {
     "name": "stdout",
     "output_type": "stream",
     "text": [
      "Cross validation score for C = 0.01 is 0.9181281907194789\n",
      "Cross validation score for C = 0.1 is 0.932956362761526\n",
      "Cross validation score for C = 1 is 0.9402242475919906\n"
     ]
    }
   ],
   "source": [
    "for i,j in zip(cv_scores,c):\n",
    "    print(\"Cross validation score for C = {} is {}\".format(j,i))"
   ]
  },
  {
   "cell_type": "code",
   "execution_count": 56,
   "metadata": {},
   "outputs": [
    {
     "data": {
      "text/plain": [
       "SVC(C=1)"
      ]
     },
     "execution_count": 56,
     "metadata": {},
     "output_type": "execute_result"
    }
   ],
   "source": [
    "# best value for C is 1.\n",
    "svc = SVC(C=1)\n",
    "svc.fit(x_train,y_train)"
   ]
  },
  {
   "cell_type": "code",
   "execution_count": 57,
   "metadata": {},
   "outputs": [],
   "source": [
    "y_pred_train = svc.predict(x_train)\n",
    "y_pred_test = svc.predict(x_test)"
   ]
  },
  {
   "cell_type": "code",
   "execution_count": 58,
   "metadata": {},
   "outputs": [
    {
     "name": "stdout",
     "output_type": "stream",
     "text": [
      "TRAINING SCORES:\n",
      "Precision using SVC  0.9637012086387953\n",
      "Recall using SVC  0.9481091617933723\n",
      "f1 score using SVC  0.9558416036159969\n",
      "****************************************************************************************************\n",
      "TESTING SCORES:\n",
      "Precision using SVC  0.9506021829130599\n",
      "Recall using SVC  0.9270508350155992\n",
      "f1 score using SVC  0.9386788070240639\n",
      "****************************************************************************************************\n"
     ]
    }
   ],
   "source": [
    "print(\"TRAINING SCORES:\")\n",
    "print(\"Precision using SVC \",precision_score(y_train,y_pred_train))\n",
    "print(\"Recall using SVC \",recall_score(y_train,y_pred_train))\n",
    "print(\"f1 score using SVC \",fbeta_score(y_train,y_pred_train,beta=1))\n",
    "print(\"*\"*100)\n",
    "print(\"TESTING SCORES:\")\n",
    "print(\"Precision using SVC \",precision_score(y_test,y_pred_test))\n",
    "print(\"Recall using SVC \",recall_score(y_test,y_pred_test))\n",
    "print(\"f1 score using SVC \",fbeta_score(y_test,y_pred_test,beta=1))\n",
    "print(\"*\"*100)\n",
    "f1_scores_list.append(fbeta_score(y_test,y_pred_test,beta=1))\n",
    "precision_scores_list.append(precision_score(y_test,y_pred_test))\n",
    "recall_scores_list.append(recall_score(y_test,y_pred_test))"
   ]
  },
  {
   "cell_type": "markdown",
   "metadata": {},
   "source": [
    "# 4] TABULATED RESULTS"
   ]
  },
  {
   "cell_type": "code",
   "execution_count": 59,
   "metadata": {},
   "outputs": [],
   "source": [
    "Model_names = [\"Logistic\",\"AdaBoost\",\"KNN\",\"SVC\"]"
   ]
  },
  {
   "cell_type": "code",
   "execution_count": 62,
   "metadata": {},
   "outputs": [],
   "source": [
    "RESULTS = pd.DataFrame({\"Model\":Model_names,\n",
    "                       \"F1_scores\":f1_scores_list,\n",
    "                       \"Precision\":precision_scores_list,\n",
    "                       \"Recall\":recall_scores_list})"
   ]
  },
  {
   "cell_type": "code",
   "execution_count": 63,
   "metadata": {},
   "outputs": [
    {
     "data": {
      "text/html": [
       "<div>\n",
       "<style scoped>\n",
       "    .dataframe tbody tr th:only-of-type {\n",
       "        vertical-align: middle;\n",
       "    }\n",
       "\n",
       "    .dataframe tbody tr th {\n",
       "        vertical-align: top;\n",
       "    }\n",
       "\n",
       "    .dataframe thead th {\n",
       "        text-align: right;\n",
       "    }\n",
       "</style>\n",
       "<table border=\"1\" class=\"dataframe\">\n",
       "  <thead>\n",
       "    <tr style=\"text-align: right;\">\n",
       "      <th></th>\n",
       "      <th>Model</th>\n",
       "      <th>F1_scores</th>\n",
       "      <th>Precision</th>\n",
       "      <th>Recall</th>\n",
       "    </tr>\n",
       "  </thead>\n",
       "  <tbody>\n",
       "    <tr>\n",
       "      <th>0</th>\n",
       "      <td>Logistic</td>\n",
       "      <td>0.933075</td>\n",
       "      <td>0.939366</td>\n",
       "      <td>0.926867</td>\n",
       "    </tr>\n",
       "    <tr>\n",
       "      <th>1</th>\n",
       "      <td>AdaBoost</td>\n",
       "      <td>0.929225</td>\n",
       "      <td>0.931410</td>\n",
       "      <td>0.927051</td>\n",
       "    </tr>\n",
       "    <tr>\n",
       "      <th>2</th>\n",
       "      <td>KNN</td>\n",
       "      <td>0.922130</td>\n",
       "      <td>0.930005</td>\n",
       "      <td>0.914388</td>\n",
       "    </tr>\n",
       "    <tr>\n",
       "      <th>3</th>\n",
       "      <td>SVC</td>\n",
       "      <td>0.938679</td>\n",
       "      <td>0.950602</td>\n",
       "      <td>0.927051</td>\n",
       "    </tr>\n",
       "  </tbody>\n",
       "</table>\n",
       "</div>"
      ],
      "text/plain": [
       "      Model  F1_scores  Precision    Recall\n",
       "0  Logistic   0.933075   0.939366  0.926867\n",
       "1  AdaBoost   0.929225   0.931410  0.927051\n",
       "2       KNN   0.922130   0.930005  0.914388\n",
       "3       SVC   0.938679   0.950602  0.927051"
      ]
     },
     "execution_count": 63,
     "metadata": {},
     "output_type": "execute_result"
    }
   ],
   "source": [
    "RESULTS"
   ]
  }
 ],
 "metadata": {
  "kernelspec": {
   "display_name": "Python 3",
   "language": "python",
   "name": "python3"
  },
  "language_info": {
   "codemirror_mode": {
    "name": "ipython",
    "version": 3
   },
   "file_extension": ".py",
   "mimetype": "text/x-python",
   "name": "python",
   "nbconvert_exporter": "python",
   "pygments_lexer": "ipython3",
   "version": "3.7.6"
  }
 },
 "nbformat": 4,
 "nbformat_minor": 4
}
