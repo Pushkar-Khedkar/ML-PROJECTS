{
 "cells": [
  {
   "cell_type": "code",
   "execution_count": 1,
   "metadata": {},
   "outputs": [],
   "source": [
    "import pandas as pd\n",
    "import numpy as np\n",
    "import matplotlib.pyplot as plt\n",
    "import seaborn as sns\n",
    "from datetime import date\n",
    "import datetime as dt\n",
    "from sklearn.model_selection import cross_val_score\n",
    "from sklearn.metrics import precision_score , recall_score, fbeta_score , accuracy_score\n",
    "from imblearn.over_sampling import SMOTE\n",
    "import warnings\n",
    "from pandas.core.common import SettingWithCopyWarning\n",
    "from sklearn.ensemble import RandomForestClassifier, AdaBoostClassifier\n",
    "from sklearn.pipeline import Pipeline\n",
    "from sklearn.neighbors import KNeighborsClassifier\n",
    "from sklearn.svm import SVC\n",
    "from sklearn.preprocessing import StandardScaler, Normalizer, MinMaxScaler\n",
    "from tqdm import tqdm\n",
    "import xgboost as xgb\n",
    "from sklearn.linear_model import LogisticRegression\n",
    "from sklearn.model_selection import GridSearchCV\n",
    "from sklearn.model_selection import train_test_split\n",
    "from sklearn.metrics import roc_curve , auc\n",
    "from sklearn.metrics import plot_roc_curve\n",
    "from sklearn.tree import DecisionTreeClassifier"
   ]
  },
  {
   "cell_type": "code",
   "execution_count": 2,
   "metadata": {},
   "outputs": [],
   "source": [
    "pd.set_option(\"display.max_rows\", 100)\n",
    "pd.set_option(\"display.max_columns\", 100)"
   ]
  },
  {
   "cell_type": "code",
   "execution_count": 3,
   "metadata": {},
   "outputs": [],
   "source": [
    "#loading data\n",
    "df1 = pd.read_csv(\"train.csv\")\n",
    "df2 = pd.read_csv(\"test.csv\")\n",
    "df = [df1,df2]\n",
    "Type =[\"Train data\", \"Test data\"]"
   ]
  },
  {
   "cell_type": "code",
   "execution_count": 4,
   "metadata": {},
   "outputs": [
    {
     "name": "stdout",
     "output_type": "stream",
     "text": [
      "Train data has 233154 datapoints and 41 features.\n",
      "Test data has 112392 datapoints and 40 features.\n"
     ]
    }
   ],
   "source": [
    "print(\"Train data has {} datapoints and {} features.\".format(df1.shape[0], df1.shape[1]))\n",
    "print(\"Test data has {} datapoints and {} features.\".format(df2.shape[0], df2.shape[1]))"
   ]
  },
  {
   "cell_type": "markdown",
   "metadata": {},
   "source": [
    "# 1. Exploratory Data Analysis (EDA):"
   ]
  },
  {
   "cell_type": "markdown",
   "metadata": {},
   "source": [
    "## 1. a] Missing Values handling:"
   ]
  },
  {
   "cell_type": "code",
   "execution_count": 5,
   "metadata": {},
   "outputs": [
    {
     "name": "stdout",
     "output_type": "stream",
     "text": [
      "============================== Train data ==============================\n",
      "------------------------------------------------------------------------\n",
      "UNIQUEID                                  0\n",
      "DISBURSED_AMOUNT                          0\n",
      "ASSET_COST                                0\n",
      "LTV                                       0\n",
      "BRANCH_ID                                 0\n",
      "SUPPLIER_ID                               0\n",
      "MANUFACTURER_ID                           0\n",
      "CURRENT_PINCODE_ID                        0\n",
      "DATE_OF_BIRTH                             0\n",
      "EMPLOYMENT_TYPE                        7661\n",
      "DISBURSAL_DATE                            0\n",
      "STATE_ID                                  0\n",
      "EMPLOYEE_CODE_ID                          0\n",
      "MOBILENO_AVL_FLAG                         0\n",
      "AADHAR_FLAG                               0\n",
      "PAN_FLAG                                  0\n",
      "VOTERID_FLAG                              0\n",
      "DRIVING_FLAG                              0\n",
      "PASSPORT_FLAG                             0\n",
      "PERFORM_CNS_SCORE                         0\n",
      "PERFORM_CNS_SCORE_DESCRIPTION             0\n",
      "PRI_NO_OF_ACCTS                           0\n",
      "PRI_ACTIVE_ACCTS                          0\n",
      "PRI_OVERDUE_ACCTS                         0\n",
      "PRI_CURRENT_BALANCE                       0\n",
      "PRI_SANCTIONED_AMOUNT                     0\n",
      "PRI_DISBURSED_AMOUNT                      0\n",
      "SEC_NO_OF_ACCTS                           0\n",
      "SEC_ACTIVE_ACCTS                          0\n",
      "SEC_OVERDUE_ACCTS                         0\n",
      "SEC_CURRENT_BALANCE                       0\n",
      "SEC_SANCTIONED_AMOUNT                     0\n",
      "SEC_DISBURSED_AMOUNT                      0\n",
      "PRIMARY_INSTAL_AMT                        0\n",
      "SEC_INSTAL_AMT                            0\n",
      "NEW_ACCTS_IN_LAST_SIX_MONTHS              0\n",
      "DELINQUENT_ACCTS_IN_LAST_SIX_MONTHS       0\n",
      "AVERAGE_ACCT_AGE                          0\n",
      "CREDIT_HISTORY_LENGTH                     0\n",
      "NO_OF_INQUIRIES                           0\n",
      "LOAN_DEFAULT                              0\n",
      "dtype: int64\n",
      "============================== Test data ==============================\n",
      "------------------------------------------------------------------------\n",
      "UNIQUEID                                  0\n",
      "DISBURSED_AMOUNT                          0\n",
      "ASSET_COST                                0\n",
      "LTV                                       0\n",
      "BRANCH_ID                                 0\n",
      "SUPPLIER_ID                               0\n",
      "MANUFACTURER_ID                           0\n",
      "CURRENT_PINCODE_ID                        0\n",
      "DATE_OF_BIRTH                             0\n",
      "EMPLOYMENT_TYPE                        3443\n",
      "DISBURSAL_DATE                            0\n",
      "STATE_ID                                  0\n",
      "EMPLOYEE_CODE_ID                          0\n",
      "MOBILENO_AVL_FLAG                         0\n",
      "AADHAR_FLAG                               0\n",
      "PAN_FLAG                                  0\n",
      "VOTERID_FLAG                              0\n",
      "DRIVING_FLAG                              0\n",
      "PASSPORT_FLAG                             0\n",
      "PERFORM_CNS_SCORE                         0\n",
      "PERFORM_CNS_SCORE_DESCRIPTION             0\n",
      "PRI_NO_OF_ACCTS                           0\n",
      "PRI_ACTIVE_ACCTS                          0\n",
      "PRI_OVERDUE_ACCTS                         0\n",
      "PRI_CURRENT_BALANCE                       0\n",
      "PRI_SANCTIONED_AMOUNT                     0\n",
      "PRI_DISBURSED_AMOUNT                      0\n",
      "SEC_NO_OF_ACCTS                           0\n",
      "SEC_ACTIVE_ACCTS                          0\n",
      "SEC_OVERDUE_ACCTS                         0\n",
      "SEC_CURRENT_BALANCE                       0\n",
      "SEC_SANCTIONED_AMOUNT                     0\n",
      "SEC_DISBURSED_AMOUNT                      0\n",
      "PRIMARY_INSTAL_AMT                        0\n",
      "SEC_INSTAL_AMT                            0\n",
      "NEW_ACCTS_IN_LAST_SIX_MONTHS              0\n",
      "DELINQUENT_ACCTS_IN_LAST_SIX_MONTHS       0\n",
      "AVERAGE_ACCT_AGE                          0\n",
      "CREDIT_HISTORY_LENGTH                     0\n",
      "NO_OF_INQUIRIES                           0\n",
      "dtype: int64\n"
     ]
    }
   ],
   "source": [
    "for i,j in zip(df,Type):\n",
    "    print(\"=\"*30,j,\"=\"*30)\n",
    "    print(\"-\"*72)\n",
    "    print(i.isnull().sum())"
   ]
  },
  {
   "cell_type": "code",
   "execution_count": 6,
   "metadata": {},
   "outputs": [
    {
     "name": "stdout",
     "output_type": "stream",
     "text": [
      "Percent of missing values in EMPLOYMENT_TYPE column of training dataset: 3.2858110948128703 %\n",
      "Percent of missing values in EMPLOYMENT_TYPE column of testing dataset: 3.0633852943269986 %\n"
     ]
    }
   ],
   "source": [
    "print(\"Percent of missing values in EMPLOYMENT_TYPE column of training dataset:\",\n",
    "      df1[\"EMPLOYMENT_TYPE\"].isnull().sum()*100/df1.shape[0],\"%\")\n",
    "print(\"Percent of missing values in EMPLOYMENT_TYPE column of testing dataset:\",\n",
    "      df2[\"EMPLOYMENT_TYPE\"].isnull().sum()*100/df2.shape[0],\"%\")"
   ]
  },
  {
   "cell_type": "markdown",
   "metadata": {},
   "source": [
    "losing data is never a good idea, but since these missing values are extremely small part of dataset, we will drop those rows."
   ]
  },
  {
   "cell_type": "code",
   "execution_count": 7,
   "metadata": {},
   "outputs": [],
   "source": [
    "df1.dropna(inplace=True)\n",
    "df2.dropna(inplace=True)"
   ]
  },
  {
   "cell_type": "markdown",
   "metadata": {},
   "source": [
    "## 1. b] Treatment of  categorical variables:"
   ]
  },
  {
   "cell_type": "code",
   "execution_count": 8,
   "metadata": {},
   "outputs": [],
   "source": [
    "df1_cat = df1.select_dtypes(include = \"object\")"
   ]
  },
  {
   "cell_type": "code",
   "execution_count": 9,
   "metadata": {},
   "outputs": [
    {
     "data": {
      "text/plain": [
       "Index(['DATE_OF_BIRTH', 'EMPLOYMENT_TYPE', 'DISBURSAL_DATE',\n",
       "       'PERFORM_CNS_SCORE_DESCRIPTION', 'AVERAGE_ACCT_AGE',\n",
       "       'CREDIT_HISTORY_LENGTH'],\n",
       "      dtype='object')"
      ]
     },
     "execution_count": 9,
     "metadata": {},
     "output_type": "execute_result"
    }
   ],
   "source": [
    "df1_cat.columns    #list of categorical columns in datasets"
   ]
  },
  {
   "cell_type": "markdown",
   "metadata": {},
   "source": [
    "### 1. b] a] Converting datetime columns into age:"
   ]
  },
  {
   "cell_type": "code",
   "execution_count": 10,
   "metadata": {},
   "outputs": [],
   "source": [
    "for i in df:\n",
    "    i[\"DATE_OF_BIRTH\"] = pd.to_datetime(i[\"DATE_OF_BIRTH\"])   #converting into datetime column\n",
    "    i[\"Age\"] = 2019- i[\"DATE_OF_BIRTH\"].dt.year\n",
    "    i.drop(columns = \"DATE_OF_BIRTH\", inplace=True)\n",
    "    i[\"DISBURSAL_DATE\"] = pd.to_datetime(i[\"DISBURSAL_DATE\"])\n",
    "    i[\"Loan_age_months\"] = 12 - i[\"DISBURSAL_DATE\"].dt.month\n",
    "    i.drop(columns = \"DISBURSAL_DATE\", inplace=True)"
   ]
  },
  {
   "cell_type": "markdown",
   "metadata": {},
   "source": [
    "### 1. b] b] PERFORM_CNS_SCORE_DESCRIPTION column:"
   ]
  },
  {
   "cell_type": "code",
   "execution_count": 11,
   "metadata": {},
   "outputs": [
    {
     "name": "stdout",
     "output_type": "stream",
     "text": [
      "============================== Value counts of  Train data ==============================\n",
      "------------------------------------------------------------------------------------------\n",
      "No Bureau History Available                                111773\n",
      "C-Very Low Risk                                             15715\n",
      "A-Very Low Risk                                             13790\n",
      "D-Very Low Risk                                             11134\n",
      "B-Very Low Risk                                              9032\n",
      "M-Very High Risk                                             8632\n",
      "F-Low Risk                                                   8309\n",
      "K-High Risk                                                  8107\n",
      "H-Medium Risk                                                6695\n",
      "E-Low Risk                                                   5695\n",
      "I-Medium Risk                                                5440\n",
      "G-Low Risk                                                   3902\n",
      "Not Scored: Sufficient History Not Available                 3671\n",
      "J-High Risk                                                  3667\n",
      "Not Scored: Not Enough Info available on the customer        3557\n",
      "Not Scored: No Activity seen on the customer (Inactive)      2815\n",
      "Not Scored: No Updates available in last 36 months           1477\n",
      "L-Very High Risk                                             1122\n",
      "Not Scored: Only a Guarantor                                  957\n",
      "Not Scored: More than 50 active Accounts found                  3\n",
      "Name: PERFORM_CNS_SCORE_DESCRIPTION, dtype: int64\n",
      "\n",
      "Number of unique values in Train data = 20\n",
      "\n",
      "\n",
      "============================== Value counts of  Test data ==============================\n",
      "------------------------------------------------------------------------------------------\n",
      "No Bureau History Available                                55476\n",
      "C-Very Low Risk                                             7673\n",
      "A-Very Low Risk                                             7394\n",
      "D-Very Low Risk                                             5012\n",
      "B-Very Low Risk                                             4426\n",
      "M-Very High Risk                                            3967\n",
      "K-High Risk                                                 3814\n",
      "F-Low Risk                                                  3622\n",
      "H-Medium Risk                                               3235\n",
      "I-Medium Risk                                               2650\n",
      "E-Low Risk                                                  2510\n",
      "G-Low Risk                                                  1768\n",
      "J-High Risk                                                 1743\n",
      "Not Scored: No Activity seen on the customer (Inactive)     1340\n",
      "Not Scored: Not Enough Info available on the customer       1243\n",
      "Not Scored: Sufficient History Not Available                1242\n",
      "Not Scored: No Updates available in last 36 months           744\n",
      "L-Very High Risk                                             637\n",
      "Not Scored: Only a Guarantor                                 453\n",
      "Name: PERFORM_CNS_SCORE_DESCRIPTION, dtype: int64\n",
      "\n",
      "Number of unique values in Test data = 19\n",
      "\n",
      "\n"
     ]
    }
   ],
   "source": [
    "for i,j in zip(df,Type):\n",
    "    print(\"=\"*30,\"Value counts of \",j,\"=\"*30)\n",
    "    print(\"-\"*90)\n",
    "    print(i[\"PERFORM_CNS_SCORE_DESCRIPTION\"].value_counts())\n",
    "    print(\"\")\n",
    "    print(\"Number of unique values in\",j, \"=\" ,len(i[\"PERFORM_CNS_SCORE_DESCRIPTION\"].value_counts()))\n",
    "    print(\"\")\n",
    "    print(\"\")"
   ]
  },
  {
   "cell_type": "markdown",
   "metadata": {},
   "source": [
    "**\"Not Scored: More than 50 active Accounts found\"** : This category is missing in test dataset.\n",
    "since it is present in only 3 datapoints in training dataset, we will drop it."
   ]
  },
  {
   "cell_type": "code",
   "execution_count": 12,
   "metadata": {},
   "outputs": [],
   "source": [
    "df1 = df1[df1[\"PERFORM_CNS_SCORE_DESCRIPTION\"] != \"Not Scored: More than 50 active Accounts found\"]"
   ]
  },
  {
   "cell_type": "markdown",
   "metadata": {},
   "source": [
    "### 1. b] c] Columns \"AVERAGE_ACCT_AGE\" and \"CREDIT_HISTORY_LENGTH\":"
   ]
  },
  {
   "cell_type": "code",
   "execution_count": 13,
   "metadata": {},
   "outputs": [],
   "source": [
    "warnings.simplefilter(action=\"ignore\", category=SettingWithCopyWarning)\n",
    "def converter(x):\n",
    "    l = x.split()\n",
    "    P = int((l[0][:-3]))*12 + int(l[1][:-3])\n",
    "    return P\n",
    "df1[\"AVERAGE_ACCT_AGE\"] = df1[\"AVERAGE_ACCT_AGE\"].apply(lambda x: converter(x))\n",
    "df1[\"CREDIT_HISTORY_LENGTH\"] = df1[\"CREDIT_HISTORY_LENGTH\"].apply(lambda x: converter(x))\n",
    "df2[\"AVERAGE_ACCT_AGE\"] = df2[\"AVERAGE_ACCT_AGE\"].apply(lambda x: converter(x))\n",
    "df2[\"CREDIT_HISTORY_LENGTH\"] = df2[\"CREDIT_HISTORY_LENGTH\"].apply(lambda x: converter(x))"
   ]
  },
  {
   "cell_type": "markdown",
   "metadata": {},
   "source": [
    "# 2. Visualization and insights"
   ]
  },
  {
   "cell_type": "markdown",
   "metadata": {},
   "source": [
    "## 2] a] Univariate analysis:"
   ]
  },
  {
   "cell_type": "markdown",
   "metadata": {},
   "source": [
    "### 2. a] a] Comparison of defaults and non-defaults"
   ]
  },
  {
   "cell_type": "code",
   "execution_count": 14,
   "metadata": {},
   "outputs": [
    {
     "data": {
      "image/png": "[encoded data removed]",
      "text/plain": [
       "<Figure size 504x504 with 1 Axes>"
      ]
     },
     "metadata": {
      "needs_background": "light"
     },
     "output_type": "display_data"
    }
   ],
   "source": [
    "plt.figure(figsize=(7,7))\n",
    "plot = sns.countplot(x= \"LOAN_DEFAULT\",data=df1)\n",
    "for bar in plot.patches:\n",
    "    plot.annotate(format(bar.get_height(), '.2f'),\n",
    "                   (bar.get_x() + bar.get_width() / 2,\n",
    "                    bar.get_height()), ha='center', va='center',\n",
    "                   size=15, xytext=(0, 8),\n",
    "                   textcoords='offset points')"
   ]
  },
  {
   "cell_type": "code",
   "execution_count": 15,
   "metadata": {},
   "outputs": [
    {
     "name": "stdout",
     "output_type": "stream",
     "text": [
      "Percentage of people who default:  21.715818883320768\n"
     ]
    }
   ],
   "source": [
    "print(\"Percentage of people who default: \", df1[\"LOAN_DEFAULT\"].value_counts()[1]*100/df1.shape[0])"
   ]
  },
  {
   "cell_type": "markdown",
   "metadata": {},
   "source": [
    "### 2. a] b] Distribution of disbursal amount"
   ]
  },
  {
   "cell_type": "code",
   "execution_count": 16,
   "metadata": {},
   "outputs": [
    {
     "data": {
      "image/png": "[encoded data removed]",
      "text/plain": [
       "<Figure size 1080x504 with 1 Axes>"
      ]
     },
     "metadata": {
      "needs_background": "light"
     },
     "output_type": "display_data"
    }
   ],
   "source": [
    "plt.figure(figsize=(15,7))\n",
    "sns.kdeplot(x=\"DISBURSED_AMOUNT\", data=df1, color=\"green\", fill=True)\n",
    "sns.set_style(style=\"darkgrid\")\n",
    "plt.xticks(np.arange(0,1000000,100000))\n",
    "plt.show()"
   ]
  },
  {
   "cell_type": "markdown",
   "metadata": {},
   "source": [
    "### 2. a] c] Distribution of disbursal amount"
   ]
  },
  {
   "cell_type": "code",
   "execution_count": 17,
   "metadata": {},
   "outputs": [
    {
     "data": {
      "image/png": "[encoded data removed]",
      "text/plain": [
       "<Figure size 1080x504 with 1 Axes>"
      ]
     },
     "metadata": {},
     "output_type": "display_data"
    }
   ],
   "source": [
    "plt.figure(figsize=(15,7))\n",
    "sns.kdeplot(x=\"ASSET_COST\", data=df1, color=\"red\", fill=True)\n",
    "sns.set_style(style=\"darkgrid\")\n",
    "plt.xticks(np.arange(0,1000000,100000))\n",
    "plt.show()"
   ]
  },
  {
   "cell_type": "markdown",
   "metadata": {},
   "source": [
    "### 2. a] d] Distribution of LTV"
   ]
  },
  {
   "cell_type": "code",
   "execution_count": 18,
   "metadata": {},
   "outputs": [
    {
     "data": {
      "text/plain": [
       "<matplotlib.axes._subplots.AxesSubplot at 0x200d1e86248>"
      ]
     },
     "execution_count": 18,
     "metadata": {},
     "output_type": "execute_result"
    },
    {
     "data": {
      "image/png": "[encoded data removed]",
      "text/plain": [
       "<Figure size 1080x504 with 1 Axes>"
      ]
     },
     "metadata": {},
     "output_type": "display_data"
    }
   ],
   "source": [
    "plt.figure(figsize=(15,7))\n",
    "sns.kdeplot(x=\"LTV\", data=df1, color=\"blue\", fill=True)"
   ]
  },
  {
   "cell_type": "markdown",
   "metadata": {},
   "source": [
    "# 2. Preprocessing "
   ]
  },
  {
   "cell_type": "markdown",
   "metadata": {},
   "source": [
    "## 2. a] Dropping unncessary columns:"
   ]
  },
  {
   "cell_type": "code",
   "execution_count": 19,
   "metadata": {},
   "outputs": [
    {
     "data": {
      "text/plain": [
       "Index(['UNIQUEID', 'DISBURSED_AMOUNT', 'ASSET_COST', 'LTV', 'BRANCH_ID',\n",
       "       'SUPPLIER_ID', 'MANUFACTURER_ID', 'CURRENT_PINCODE_ID',\n",
       "       'EMPLOYMENT_TYPE', 'STATE_ID', 'EMPLOYEE_CODE_ID', 'MOBILENO_AVL_FLAG',\n",
       "       'AADHAR_FLAG', 'PAN_FLAG', 'VOTERID_FLAG', 'DRIVING_FLAG',\n",
       "       'PASSPORT_FLAG', 'PERFORM_CNS_SCORE', 'PERFORM_CNS_SCORE_DESCRIPTION',\n",
       "       'PRI_NO_OF_ACCTS', 'PRI_ACTIVE_ACCTS', 'PRI_OVERDUE_ACCTS',\n",
       "       'PRI_CURRENT_BALANCE', 'PRI_SANCTIONED_AMOUNT', 'PRI_DISBURSED_AMOUNT',\n",
       "       'SEC_NO_OF_ACCTS', 'SEC_ACTIVE_ACCTS', 'SEC_OVERDUE_ACCTS',\n",
       "       'SEC_CURRENT_BALANCE', 'SEC_SANCTIONED_AMOUNT', 'SEC_DISBURSED_AMOUNT',\n",
       "       'PRIMARY_INSTAL_AMT', 'SEC_INSTAL_AMT', 'NEW_ACCTS_IN_LAST_SIX_MONTHS',\n",
       "       'DELINQUENT_ACCTS_IN_LAST_SIX_MONTHS', 'AVERAGE_ACCT_AGE',\n",
       "       'CREDIT_HISTORY_LENGTH', 'NO_OF_INQUIRIES', 'LOAN_DEFAULT', 'Age',\n",
       "       'Loan_age_months'],\n",
       "      dtype='object')"
      ]
     },
     "execution_count": 19,
     "metadata": {},
     "output_type": "execute_result"
    }
   ],
   "source": [
    "df1.columns   # getting list of columns"
   ]
  },
  {
   "cell_type": "code",
   "execution_count": 20,
   "metadata": {},
   "outputs": [],
   "source": [
    "df1.drop(columns = [\"UNIQUEID\", \"BRANCH_ID\",\"EMPLOYEE_CODE_ID\",\"SUPPLIER_ID\",\n",
    "                      \"MANUFACTURER_ID\",\"CURRENT_PINCODE_ID\",\"STATE_ID\"], inplace=True)\n",
    "df2.drop(columns = [\"UNIQUEID\", \"BRANCH_ID\",\"EMPLOYEE_CODE_ID\",\"SUPPLIER_ID\",\n",
    "                      \"MANUFACTURER_ID\",\"CURRENT_PINCODE_ID\",\"STATE_ID\"], inplace=True)"
   ]
  },
  {
   "cell_type": "code",
   "execution_count": 21,
   "metadata": {},
   "outputs": [],
   "source": [
    "df1.drop(columns=[\"MOBILENO_AVL_FLAG\",\"AADHAR_FLAG\",\"PAN_FLAG\",\"VOTERID_FLAG\",\"DRIVING_FLAG\",\"PASSPORT_FLAG\"], inplace=True)\n",
    "df2.drop(columns=[\"MOBILENO_AVL_FLAG\",\"AADHAR_FLAG\",\"PAN_FLAG\",\"VOTERID_FLAG\",\"DRIVING_FLAG\",\"PASSPORT_FLAG\"], inplace=True)"
   ]
  },
  {
   "cell_type": "code",
   "execution_count": 22,
   "metadata": {},
   "outputs": [],
   "source": [
    "df1_num= df1.select_dtypes(exclude = \"object\").columns\n",
    "df2_num =df2.select_dtypes(exclude = \"object\").columns            #list of all numerical columns"
   ]
  },
  {
   "cell_type": "markdown",
   "metadata": {},
   "source": [
    "## 2. c] One-hot encoding"
   ]
  },
  {
   "cell_type": "code",
   "execution_count": 23,
   "metadata": {},
   "outputs": [],
   "source": [
    "for i in (df1.select_dtypes(include = \"object\")).columns:\n",
    "    df_dummies1 = pd.get_dummies(df1[i], drop_first=True, prefix = i)\n",
    "    df1= pd.concat([df1,df_dummies1], axis=1)\n",
    "    df_dummies2 = pd.get_dummies(df2[i], drop_first=True, prefix = i)\n",
    "    df2= pd.concat([df2,df_dummies2], axis=1)\n",
    "    #dropping initial columns\n",
    "    df1.drop(columns = i, inplace=True)\n",
    "    df2.drop(columns = i, inplace=True)"
   ]
  },
  {
   "cell_type": "markdown",
   "metadata": {},
   "source": [
    "## 2. a] Checking class balance"
   ]
  },
  {
   "cell_type": "code",
   "execution_count": 24,
   "metadata": {},
   "outputs": [
    {
     "name": "stdout",
     "output_type": "stream",
     "text": [
      "==================== Target Class balance in Training data in %  ====================\n",
      "--------------------------------------------------------------------------------\n",
      "0    78.284181\n",
      "1    21.715819\n",
      "Name: LOAN_DEFAULT, dtype: float64\n"
     ]
    }
   ],
   "source": [
    "print(\"=\"*20,\"Target Class balance in Training data in % \",\"=\"*20)\n",
    "print(\"-\"*80)\n",
    "print(df1[\"LOAN_DEFAULT\"].value_counts()*100/df1.shape[0])"
   ]
  },
  {
   "cell_type": "markdown",
   "metadata": {},
   "source": [
    "There is a class imbalance in the data."
   ]
  },
  {
   "cell_type": "markdown",
   "metadata": {},
   "source": [
    "## 2. b] Oversampling"
   ]
  },
  {
   "cell_type": "code",
   "execution_count": 25,
   "metadata": {},
   "outputs": [],
   "source": [
    "#oversampling\n",
    "X = df1.drop(columns = \"LOAN_DEFAULT\")\n",
    "Y = df1[\"LOAN_DEFAULT\"]\n",
    "sm = SMOTE(random_state=42)\n",
    "x_train,y_train = sm.fit_resample(X,Y)\n",
    "x_test = df2"
   ]
  },
  {
   "cell_type": "code",
   "execution_count": 26,
   "metadata": {},
   "outputs": [
    {
     "data": {
      "text/plain": [
       "1    176523\n",
       "0    176523\n",
       "Name: LOAN_DEFAULT, dtype: int64"
      ]
     },
     "execution_count": 26,
     "metadata": {},
     "output_type": "execute_result"
    }
   ],
   "source": [
    "y_train.value_counts()      #mbalance has been taken care of."
   ]
  },
  {
   "cell_type": "markdown",
   "metadata": {},
   "source": [
    "## 2. c] Train-test split"
   ]
  },
  {
   "cell_type": "code",
   "execution_count": 27,
   "metadata": {},
   "outputs": [],
   "source": [
    "x_train , x_cv , y_train, y_cv = train_test_split(x_train,y_train, test_size = 0.3, random_state = 24 )"
   ]
  },
  {
   "cell_type": "markdown",
   "metadata": {},
   "source": [
    "## 2. d] Standardization"
   ]
  },
  {
   "cell_type": "code",
   "execution_count": 28,
   "metadata": {},
   "outputs": [],
   "source": [
    "#Standardizing\n",
    "sc = StandardScaler()\n",
    "x_train = sc.fit_transform(x_train)\n",
    "x_cv = sc.fit_transform(x_cv)\n",
    "x_test = sc.transform(x_test)"
   ]
  },
  {
   "cell_type": "markdown",
   "metadata": {},
   "source": [
    "# MODELLING"
   ]
  },
  {
   "cell_type": "markdown",
   "metadata": {},
   "source": [
    "## 1. Logistic Regression"
   ]
  },
  {
   "cell_type": "markdown",
   "metadata": {},
   "source": [
    "### 1. a] Gridsearch"
   ]
  },
  {
   "cell_type": "code",
   "execution_count": 29,
   "metadata": {},
   "outputs": [
    {
     "data": {
      "text/plain": [
       "{'C': 0.1, 'penalty': 'l2'}"
      ]
     },
     "execution_count": 29,
     "metadata": {},
     "output_type": "execute_result"
    }
   ],
   "source": [
    "warnings.simplefilter(action=\"ignore\", category=UserWarning)\n",
    "params = {\"penalty\":[\"l1\",\"l2\"], \"C\":[0.001,0.01,0.1]}\n",
    "gs = GridSearchCV(LogisticRegression(max_iter=300),params, cv = 4, n_jobs=-1)\n",
    "gs.fit(x_train,y_train)\n",
    "gs.best_params_"
   ]
  },
  {
   "cell_type": "code",
   "execution_count": 30,
   "metadata": {},
   "outputs": [
    {
     "name": "stdout",
     "output_type": "stream",
     "text": [
      "Traning score:  0.6883241986381\n",
      "Cross validation score:  0.6881698893217114\n"
     ]
    }
   ],
   "source": [
    "#initiating best parameters\n",
    "LR = LogisticRegression(C= 0.1, penalty= 'l2')\n",
    "LR.fit(x_train,y_train)\n",
    "y_train_pred = LR.predict(x_train)\n",
    "print(\"Traning score: \", fbeta_score(y_train,y_train_pred,beta=1))\n",
    "scores = cross_val_score(LR , x_train, y_train, cv = 4, scoring = \"f1\")\n",
    "print(\"Cross validation score: \", scores.mean())"
   ]
  },
  {
   "cell_type": "markdown",
   "metadata": {},
   "source": [
    "### 1. b] ROC curve for logistic regression"
   ]
  },
  {
   "cell_type": "code",
   "execution_count": 31,
   "metadata": {},
   "outputs": [
    {
     "data": {
      "image/png": "[encoded data removed]",
      "text/plain": [
       "<Figure size 720x720 with 1 Axes>"
      ]
     },
     "metadata": {},
     "output_type": "display_data"
    }
   ],
   "source": [
    "y_train_proba = LR.predict_proba(x_train)\n",
    "fpr,tpr,thresholds = roc_curve(y_train,[i[1] for i in y_train_proba])\n",
    "roc_df = pd.DataFrame({\"fpr\":fpr, \"tpr\":tpr, \"thresholds\":thresholds})\n",
    "roc_filtered = pd.DataFrame()\n",
    "for i in np.arange(0,roc_df.shape[0],5000):\n",
    "    roc_filtered = pd.concat([roc_filtered,pd.DataFrame(roc_df.iloc[i,:]).T], axis=0)\n",
    "plt.figure(figsize=(10,10))\n",
    "sns.lineplot(x=roc_filtered[\"fpr\"],y=roc_filtered[\"tpr\"])\n",
    "sns.set_style(style=\"whitegrid\")\n",
    "plt.yticks(np.arange(0,1,0.05))\n",
    "plt.xticks(np.arange(0,1,0.05))\n",
    "plt.xlim(0,1)\n",
    "plt.show()"
   ]
  },
  {
   "cell_type": "code",
   "execution_count": 32,
   "metadata": {},
   "outputs": [],
   "source": [
    "threshold_list = np.arange(0.05,1,0.05)\n",
    "scores_LR = pd.DataFrame(np.random.randint(0,100,size=(len(threshold_list),7)),\n",
    "                                             columns = [\"Thresholds\",\"Training precision\", \n",
    "                                                        \"Training F1 score\", \n",
    "                                                        \"Training Recall\",\n",
    "                                                       \"Testing precision\", \n",
    "                                                        \"Testing F1 score\", \n",
    "                                                        \"Testing Recall\"])\n",
    "y_train_proba = LR.predict_proba(x_train)\n",
    "y_cv_proba = LR.predict_proba(x_cv)\n",
    "for j,k in zip(threshold_list, np.arange(0,len(threshold_list))):\n",
    "    roc_probs = []\n",
    "    for i in y_train_proba:\n",
    "        if i[1]<j:\n",
    "            roc_probs.append(0)\n",
    "        else:\n",
    "            roc_probs.append(1)\n",
    "    scores_LR.loc[k,\"Training precision\"]=precision_score(y_train,roc_probs)\n",
    "    scores_LR.loc[k,\"Training F1 score\"]=fbeta_score(y_train,roc_probs,beta=1)\n",
    "    scores_LR.loc[k,\"Training Recall\"]=recall_score(y_train,roc_probs)\n",
    "    roc_probs_cv = []\n",
    "    for i in y_cv_proba:\n",
    "        if i[1]<j:\n",
    "            roc_probs_cv.append(0)\n",
    "        else:\n",
    "            roc_probs_cv.append(1)\n",
    "    scores_LR.loc[k,\"Testing precision\"]=precision_score(y_cv,roc_probs_cv)\n",
    "    scores_LR.loc[k,\"Testing F1 score\"]=fbeta_score(y_cv,roc_probs_cv,beta=1)\n",
    "    scores_LR.loc[k,\"Testing Recall\"]=recall_score(y_cv,roc_probs_cv)\n",
    "scores_LR[\"Thresholds\"]=threshold_list"
   ]
  },
  {
   "cell_type": "code",
   "execution_count": 33,
   "metadata": {},
   "outputs": [
    {
     "name": "stdout",
     "output_type": "stream",
     "text": [
      "\n",
      "*********************************** SCORES FOR LOGISTIC REGRESSION ***********************************\n",
      "\n"
     ]
    },
    {
     "data": {
      "text/html": [
       "<div>\n",
       "<style scoped>\n",
       "    .dataframe tbody tr th:only-of-type {\n",
       "        vertical-align: middle;\n",
       "    }\n",
       "\n",
       "    .dataframe tbody tr th {\n",
       "        vertical-align: top;\n",
       "    }\n",
       "\n",
       "    .dataframe thead th {\n",
       "        text-align: right;\n",
       "    }\n",
       "</style>\n",
       "<table border=\"1\" class=\"dataframe\">\n",
       "  <thead>\n",
       "    <tr style=\"text-align: right;\">\n",
       "      <th></th>\n",
       "      <th>Thresholds</th>\n",
       "      <th>Training precision</th>\n",
       "      <th>Training F1 score</th>\n",
       "      <th>Training Recall</th>\n",
       "      <th>Testing precision</th>\n",
       "      <th>Testing F1 score</th>\n",
       "      <th>Testing Recall</th>\n",
       "    </tr>\n",
       "  </thead>\n",
       "  <tbody>\n",
       "    <tr>\n",
       "      <th>0</th>\n",
       "      <td>0.05</td>\n",
       "      <td>0.500734</td>\n",
       "      <td>0.667223</td>\n",
       "      <td>0.999571</td>\n",
       "      <td>0.501861</td>\n",
       "      <td>0.668213</td>\n",
       "      <td>0.999529</td>\n",
       "    </tr>\n",
       "    <tr>\n",
       "      <th>1</th>\n",
       "      <td>0.10</td>\n",
       "      <td>0.507328</td>\n",
       "      <td>0.672155</td>\n",
       "      <td>0.995627</td>\n",
       "      <td>0.509344</td>\n",
       "      <td>0.673675</td>\n",
       "      <td>0.994550</td>\n",
       "    </tr>\n",
       "    <tr>\n",
       "      <th>2</th>\n",
       "      <td>0.15</td>\n",
       "      <td>0.520754</td>\n",
       "      <td>0.681259</td>\n",
       "      <td>0.984785</td>\n",
       "      <td>0.523663</td>\n",
       "      <td>0.683319</td>\n",
       "      <td>0.983028</td>\n",
       "    </tr>\n",
       "    <tr>\n",
       "      <th>3</th>\n",
       "      <td>0.20</td>\n",
       "      <td>0.540105</td>\n",
       "      <td>0.692841</td>\n",
       "      <td>0.966023</td>\n",
       "      <td>0.542162</td>\n",
       "      <td>0.693993</td>\n",
       "      <td>0.963943</td>\n",
       "    </tr>\n",
       "    <tr>\n",
       "      <th>4</th>\n",
       "      <td>0.25</td>\n",
       "      <td>0.561823</td>\n",
       "      <td>0.703170</td>\n",
       "      <td>0.939545</td>\n",
       "      <td>0.562463</td>\n",
       "      <td>0.702773</td>\n",
       "      <td>0.936353</td>\n",
       "    </tr>\n",
       "    <tr>\n",
       "      <th>5</th>\n",
       "      <td>0.30</td>\n",
       "      <td>0.583784</td>\n",
       "      <td>0.710377</td>\n",
       "      <td>0.907074</td>\n",
       "      <td>0.583011</td>\n",
       "      <td>0.708888</td>\n",
       "      <td>0.904087</td>\n",
       "    </tr>\n",
       "    <tr>\n",
       "      <th>6</th>\n",
       "      <td>0.35</td>\n",
       "      <td>0.606345</td>\n",
       "      <td>0.714617</td>\n",
       "      <td>0.869963</td>\n",
       "      <td>0.604248</td>\n",
       "      <td>0.712521</td>\n",
       "      <td>0.868067</td>\n",
       "    </tr>\n",
       "    <tr>\n",
       "      <th>7</th>\n",
       "      <td>0.40</td>\n",
       "      <td>0.631595</td>\n",
       "      <td>0.715393</td>\n",
       "      <td>0.824828</td>\n",
       "      <td>0.627766</td>\n",
       "      <td>0.713041</td>\n",
       "      <td>0.825127</td>\n",
       "    </tr>\n",
       "    <tr>\n",
       "      <th>8</th>\n",
       "      <td>0.45</td>\n",
       "      <td>0.662985</td>\n",
       "      <td>0.708523</td>\n",
       "      <td>0.760778</td>\n",
       "      <td>0.656962</td>\n",
       "      <td>0.706928</td>\n",
       "      <td>0.765120</td>\n",
       "    </tr>\n",
       "    <tr>\n",
       "      <th>9</th>\n",
       "      <td>0.50</td>\n",
       "      <td>0.706368</td>\n",
       "      <td>0.688324</td>\n",
       "      <td>0.671180</td>\n",
       "      <td>0.698787</td>\n",
       "      <td>0.689940</td>\n",
       "      <td>0.681313</td>\n",
       "    </tr>\n",
       "    <tr>\n",
       "      <th>10</th>\n",
       "      <td>0.55</td>\n",
       "      <td>0.765885</td>\n",
       "      <td>0.645557</td>\n",
       "      <td>0.557905</td>\n",
       "      <td>0.757106</td>\n",
       "      <td>0.647798</td>\n",
       "      <td>0.566070</td>\n",
       "    </tr>\n",
       "    <tr>\n",
       "      <th>11</th>\n",
       "      <td>0.60</td>\n",
       "      <td>0.837926</td>\n",
       "      <td>0.576353</td>\n",
       "      <td>0.439237</td>\n",
       "      <td>0.827628</td>\n",
       "      <td>0.579973</td>\n",
       "      <td>0.446395</td>\n",
       "    </tr>\n",
       "    <tr>\n",
       "      <th>12</th>\n",
       "      <td>0.65</td>\n",
       "      <td>0.931943</td>\n",
       "      <td>0.487032</td>\n",
       "      <td>0.329654</td>\n",
       "      <td>0.925410</td>\n",
       "      <td>0.491210</td>\n",
       "      <td>0.334339</td>\n",
       "    </tr>\n",
       "    <tr>\n",
       "      <th>13</th>\n",
       "      <td>0.70</td>\n",
       "      <td>0.987673</td>\n",
       "      <td>0.445253</td>\n",
       "      <td>0.287410</td>\n",
       "      <td>0.985801</td>\n",
       "      <td>0.444259</td>\n",
       "      <td>0.286741</td>\n",
       "    </tr>\n",
       "    <tr>\n",
       "      <th>14</th>\n",
       "      <td>0.75</td>\n",
       "      <td>0.995481</td>\n",
       "      <td>0.439284</td>\n",
       "      <td>0.281823</td>\n",
       "      <td>0.994986</td>\n",
       "      <td>0.437809</td>\n",
       "      <td>0.280649</td>\n",
       "    </tr>\n",
       "    <tr>\n",
       "      <th>15</th>\n",
       "      <td>0.80</td>\n",
       "      <td>0.998366</td>\n",
       "      <td>0.433850</td>\n",
       "      <td>0.277143</td>\n",
       "      <td>0.997342</td>\n",
       "      <td>0.432296</td>\n",
       "      <td>0.275954</td>\n",
       "    </tr>\n",
       "    <tr>\n",
       "      <th>16</th>\n",
       "      <td>0.85</td>\n",
       "      <td>0.999579</td>\n",
       "      <td>0.424266</td>\n",
       "      <td>0.269280</td>\n",
       "      <td>0.999648</td>\n",
       "      <td>0.422089</td>\n",
       "      <td>0.267524</td>\n",
       "    </tr>\n",
       "    <tr>\n",
       "      <th>17</th>\n",
       "      <td>0.90</td>\n",
       "      <td>0.999937</td>\n",
       "      <td>0.407361</td>\n",
       "      <td>0.255782</td>\n",
       "      <td>1.000000</td>\n",
       "      <td>0.404387</td>\n",
       "      <td>0.253437</td>\n",
       "    </tr>\n",
       "    <tr>\n",
       "      <th>18</th>\n",
       "      <td>0.95</td>\n",
       "      <td>0.999965</td>\n",
       "      <td>0.372781</td>\n",
       "      <td>0.229092</td>\n",
       "      <td>1.000000</td>\n",
       "      <td>0.369378</td>\n",
       "      <td>0.226526</td>\n",
       "    </tr>\n",
       "  </tbody>\n",
       "</table>\n",
       "</div>"
      ],
      "text/plain": [
       "    Thresholds  Training precision  Training F1 score  Training Recall  \\\n",
       "0         0.05            0.500734           0.667223         0.999571   \n",
       "1         0.10            0.507328           0.672155         0.995627   \n",
       "2         0.15            0.520754           0.681259         0.984785   \n",
       "3         0.20            0.540105           0.692841         0.966023   \n",
       "4         0.25            0.561823           0.703170         0.939545   \n",
       "5         0.30            0.583784           0.710377         0.907074   \n",
       "6         0.35            0.606345           0.714617         0.869963   \n",
       "7         0.40            0.631595           0.715393         0.824828   \n",
       "8         0.45            0.662985           0.708523         0.760778   \n",
       "9         0.50            0.706368           0.688324         0.671180   \n",
       "10        0.55            0.765885           0.645557         0.557905   \n",
       "11        0.60            0.837926           0.576353         0.439237   \n",
       "12        0.65            0.931943           0.487032         0.329654   \n",
       "13        0.70            0.987673           0.445253         0.287410   \n",
       "14        0.75            0.995481           0.439284         0.281823   \n",
       "15        0.80            0.998366           0.433850         0.277143   \n",
       "16        0.85            0.999579           0.424266         0.269280   \n",
       "17        0.90            0.999937           0.407361         0.255782   \n",
       "18        0.95            0.999965           0.372781         0.229092   \n",
       "\n",
       "    Testing precision  Testing F1 score  Testing Recall  \n",
       "0            0.501861          0.668213        0.999529  \n",
       "1            0.509344          0.673675        0.994550  \n",
       "2            0.523663          0.683319        0.983028  \n",
       "3            0.542162          0.693993        0.963943  \n",
       "4            0.562463          0.702773        0.936353  \n",
       "5            0.583011          0.708888        0.904087  \n",
       "6            0.604248          0.712521        0.868067  \n",
       "7            0.627766          0.713041        0.825127  \n",
       "8            0.656962          0.706928        0.765120  \n",
       "9            0.698787          0.689940        0.681313  \n",
       "10           0.757106          0.647798        0.566070  \n",
       "11           0.827628          0.579973        0.446395  \n",
       "12           0.925410          0.491210        0.334339  \n",
       "13           0.985801          0.444259        0.286741  \n",
       "14           0.994986          0.437809        0.280649  \n",
       "15           0.997342          0.432296        0.275954  \n",
       "16           0.999648          0.422089        0.267524  \n",
       "17           1.000000          0.404387        0.253437  \n",
       "18           1.000000          0.369378        0.226526  "
      ]
     },
     "execution_count": 33,
     "metadata": {},
     "output_type": "execute_result"
    }
   ],
   "source": [
    "print(\"\")\n",
    "print(\"*\"*35,\"SCORES FOR LOGISTIC REGRESSION\",\"*\"*35)\n",
    "print(\"\")\n",
    "scores_LR"
   ]
  },
  {
   "cell_type": "markdown",
   "metadata": {},
   "source": [
    "## 2. Decision Tree Classifier"
   ]
  },
  {
   "cell_type": "code",
   "execution_count": 34,
   "metadata": {},
   "outputs": [
    {
     "name": "stderr",
     "output_type": "stream",
     "text": [
      "100%|██████████| 4/4 [00:36<00:00,  9.08s/it]\n"
     ]
    }
   ],
   "source": [
    "training_scores=[]\n",
    "cv_scores=[]\n",
    "depth=[]\n",
    "for i in tqdm(np.arange(6,18,3)):\n",
    "    DT = DecisionTreeClassifier(max_depth=i)\n",
    "    DT.fit(x_train,y_train)\n",
    "    y_train_pred = DT.predict(x_train)\n",
    "    training_scores.append(fbeta_score(y_train,y_train_pred,beta=1))\n",
    "    scores = cross_val_score(DT , x_train, y_train, cv = 4, scoring = \"f1\")\n",
    "    cv_scores.append(scores.mean())\n",
    "    depth.append(i)"
   ]
  },
  {
   "cell_type": "code",
   "execution_count": 35,
   "metadata": {},
   "outputs": [
    {
     "data": {
      "image/png": "[encoded data removed]",
      "text/plain": [
       "<Figure size 720x720 with 1 Axes>"
      ]
     },
     "metadata": {},
     "output_type": "display_data"
    }
   ],
   "source": [
    "plt.figure(figsize=(10,10))\n",
    "sns.lineplot(x=depth,y=training_scores,color=\"r\")\n",
    "sns.lineplot(x=depth,y=cv_scores,color=\"b\")\n",
    "sns.set_style(style=\"whitegrid\")\n",
    "plt.yticks(np.arange(0,1,0.05))\n",
    "plt.xticks(np.arange(6,18,3))\n",
    "plt.show()"
   ]
  },
  {
   "cell_type": "code",
   "execution_count": 36,
   "metadata": {},
   "outputs": [
    {
     "data": {
      "text/html": [
       "<div>\n",
       "<style scoped>\n",
       "    .dataframe tbody tr th:only-of-type {\n",
       "        vertical-align: middle;\n",
       "    }\n",
       "\n",
       "    .dataframe tbody tr th {\n",
       "        vertical-align: top;\n",
       "    }\n",
       "\n",
       "    .dataframe thead th {\n",
       "        text-align: right;\n",
       "    }\n",
       "</style>\n",
       "<table border=\"1\" class=\"dataframe\">\n",
       "  <thead>\n",
       "    <tr style=\"text-align: right;\">\n",
       "      <th></th>\n",
       "      <th>Depth</th>\n",
       "      <th>Training scores</th>\n",
       "      <th>Cross val scores</th>\n",
       "    </tr>\n",
       "  </thead>\n",
       "  <tbody>\n",
       "    <tr>\n",
       "      <th>0</th>\n",
       "      <td>6</td>\n",
       "      <td>0.656417</td>\n",
       "      <td>0.646042</td>\n",
       "    </tr>\n",
       "    <tr>\n",
       "      <th>1</th>\n",
       "      <td>9</td>\n",
       "      <td>0.646404</td>\n",
       "      <td>0.647430</td>\n",
       "    </tr>\n",
       "    <tr>\n",
       "      <th>2</th>\n",
       "      <td>12</td>\n",
       "      <td>0.684327</td>\n",
       "      <td>0.664151</td>\n",
       "    </tr>\n",
       "    <tr>\n",
       "      <th>3</th>\n",
       "      <td>15</td>\n",
       "      <td>0.725398</td>\n",
       "      <td>0.678644</td>\n",
       "    </tr>\n",
       "  </tbody>\n",
       "</table>\n",
       "</div>"
      ],
      "text/plain": [
       "   Depth  Training scores  Cross val scores\n",
       "0      6         0.656417          0.646042\n",
       "1      9         0.646404          0.647430\n",
       "2     12         0.684327          0.664151\n",
       "3     15         0.725398          0.678644"
      ]
     },
     "execution_count": 36,
     "metadata": {},
     "output_type": "execute_result"
    }
   ],
   "source": [
    "DT_results = pd.DataFrame({\"Depth\":depth,\"Training scores\": training_scores,\"Cross val scores\":cv_scores})\n",
    "DT_results"
   ]
  },
  {
   "cell_type": "markdown",
   "metadata": {},
   "source": [
    "12 is the best depth, after that model starts overfitting rapidly."
   ]
  },
  {
   "cell_type": "markdown",
   "metadata": {},
   "source": [
    "### 2. b] ROC curve for decision tree:"
   ]
  },
  {
   "cell_type": "code",
   "execution_count": 37,
   "metadata": {},
   "outputs": [
    {
     "data": {
      "image/png": "[encoded data removed]",
      "text/plain": [
       "<Figure size 720x720 with 1 Axes>"
      ]
     },
     "metadata": {},
     "output_type": "display_data"
    }
   ],
   "source": [
    "DT = DecisionTreeClassifier(max_depth=12)\n",
    "DT.fit(x_train, y_train)\n",
    "y_train_proba = DT.predict_proba(x_train)\n",
    "fpr,tpr,thresholds = roc_curve(y_train,[i[1] for i in y_train_proba])\n",
    "roc_df = pd.DataFrame({\"fpr\":fpr, \"tpr\":tpr, \"thresholds\":thresholds})\n",
    "roc_filtered = pd.DataFrame()\n",
    "for i in np.arange(0,roc_df.shape[0],25):\n",
    "    roc_filtered = pd.concat([roc_filtered,pd.DataFrame(roc_df.iloc[i,:]).T], axis=0)\n",
    "plt.figure(figsize=(10,10))\n",
    "sns.lineplot(x=roc_filtered[\"fpr\"],y=roc_filtered[\"tpr\"])\n",
    "sns.set_style(style=\"darkgrid\")\n",
    "plt.yticks(np.arange(0,1,0.05))\n",
    "plt.xticks(np.arange(0,1,0.05))\n",
    "plt.xlim(0,1)\n",
    "plt.show()"
   ]
  },
  {
   "cell_type": "code",
   "execution_count": 38,
   "metadata": {},
   "outputs": [],
   "source": [
    "threshold_list = np.arange(0.05,1,0.05)\n",
    "scores_DT = pd.DataFrame(np.random.randint(0,100,size=(len(threshold_list),7)),\n",
    "                                             columns = [\"Thresholds\",\"Training precision\", \n",
    "                                                        \"Training F1 score\", \n",
    "                                                        \"Training Recall\",\n",
    "                                                       \"Testing precision\", \n",
    "                                                        \"Testing F1 score\", \n",
    "                                                        \"Testing Recall\"])\n",
    "y_train_proba = DT.predict_proba(x_train)\n",
    "y_cv_proba = DT.predict_proba(x_cv)\n",
    "for j,k in zip(threshold_list, np.arange(0,len(threshold_list))):\n",
    "    roc_probs = []\n",
    "    for i in y_train_proba:\n",
    "        if i[1]<j:\n",
    "            roc_probs.append(0)\n",
    "        else:\n",
    "            roc_probs.append(1)\n",
    "    scores_DT.loc[k,\"Training precision\"]=precision_score(y_train,roc_probs)\n",
    "    scores_DT.loc[k,\"Training F1 score\"]=fbeta_score(y_train,roc_probs,beta=1)\n",
    "    scores_DT.loc[k,\"Training Recall\"]=recall_score(y_train,roc_probs)\n",
    "    roc_probs_cv = []\n",
    "    for i in y_cv_proba:\n",
    "        if i[1]<j:\n",
    "            roc_probs_cv.append(0)\n",
    "        else:\n",
    "            roc_probs_cv.append(1)\n",
    "    scores_DT.loc[k,\"Testing precision\"]=precision_score(y_cv,roc_probs_cv)\n",
    "    scores_DT.loc[k,\"Testing F1 score\"]=fbeta_score(y_cv,roc_probs_cv,beta=1)\n",
    "    scores_DT.loc[k,\"Testing Recall\"]=recall_score(y_cv,roc_probs_cv)\n",
    "scores_DT[\"Thresholds\"]=threshold_list"
   ]
  },
  {
   "cell_type": "code",
   "execution_count": 39,
   "metadata": {},
   "outputs": [
    {
     "name": "stdout",
     "output_type": "stream",
     "text": [
      "\n",
      "*********************************** SCORES FOR DECISION TREE CLASSIFIER ***********************************\n",
      "\n"
     ]
    },
    {
     "data": {
      "text/html": [
       "<div>\n",
       "<style scoped>\n",
       "    .dataframe tbody tr th:only-of-type {\n",
       "        vertical-align: middle;\n",
       "    }\n",
       "\n",
       "    .dataframe tbody tr th {\n",
       "        vertical-align: top;\n",
       "    }\n",
       "\n",
       "    .dataframe thead th {\n",
       "        text-align: right;\n",
       "    }\n",
       "</style>\n",
       "<table border=\"1\" class=\"dataframe\">\n",
       "  <thead>\n",
       "    <tr style=\"text-align: right;\">\n",
       "      <th></th>\n",
       "      <th>Thresholds</th>\n",
       "      <th>Training precision</th>\n",
       "      <th>Training F1 score</th>\n",
       "      <th>Training Recall</th>\n",
       "      <th>Testing precision</th>\n",
       "      <th>Testing F1 score</th>\n",
       "      <th>Testing Recall</th>\n",
       "    </tr>\n",
       "  </thead>\n",
       "  <tbody>\n",
       "    <tr>\n",
       "      <th>0</th>\n",
       "      <td>0.05</td>\n",
       "      <td>0.516622</td>\n",
       "      <td>0.681075</td>\n",
       "      <td>0.999117</td>\n",
       "      <td>0.514784</td>\n",
       "      <td>0.675791</td>\n",
       "      <td>0.983348</td>\n",
       "    </tr>\n",
       "    <tr>\n",
       "      <th>1</th>\n",
       "      <td>0.10</td>\n",
       "      <td>0.529740</td>\n",
       "      <td>0.691347</td>\n",
       "      <td>0.994842</td>\n",
       "      <td>0.525190</td>\n",
       "      <td>0.682201</td>\n",
       "      <td>0.973127</td>\n",
       "    </tr>\n",
       "    <tr>\n",
       "      <th>2</th>\n",
       "      <td>0.15</td>\n",
       "      <td>0.544900</td>\n",
       "      <td>0.702111</td>\n",
       "      <td>0.986825</td>\n",
       "      <td>0.538288</td>\n",
       "      <td>0.689528</td>\n",
       "      <td>0.958964</td>\n",
       "    </tr>\n",
       "    <tr>\n",
       "      <th>3</th>\n",
       "      <td>0.20</td>\n",
       "      <td>0.560467</td>\n",
       "      <td>0.711377</td>\n",
       "      <td>0.973497</td>\n",
       "      <td>0.549087</td>\n",
       "      <td>0.694116</td>\n",
       "      <td>0.943255</td>\n",
       "    </tr>\n",
       "    <tr>\n",
       "      <th>4</th>\n",
       "      <td>0.25</td>\n",
       "      <td>0.576272</td>\n",
       "      <td>0.719065</td>\n",
       "      <td>0.955934</td>\n",
       "      <td>0.562010</td>\n",
       "      <td>0.698321</td>\n",
       "      <td>0.921927</td>\n",
       "    </tr>\n",
       "    <tr>\n",
       "      <th>5</th>\n",
       "      <td>0.30</td>\n",
       "      <td>0.584765</td>\n",
       "      <td>0.722094</td>\n",
       "      <td>0.943723</td>\n",
       "      <td>0.567422</td>\n",
       "      <td>0.699290</td>\n",
       "      <td>0.911008</td>\n",
       "    </tr>\n",
       "    <tr>\n",
       "      <th>6</th>\n",
       "      <td>0.35</td>\n",
       "      <td>0.604062</td>\n",
       "      <td>0.725357</td>\n",
       "      <td>0.907600</td>\n",
       "      <td>0.579869</td>\n",
       "      <td>0.700963</td>\n",
       "      <td>0.885983</td>\n",
       "    </tr>\n",
       "    <tr>\n",
       "      <th>7</th>\n",
       "      <td>0.40</td>\n",
       "      <td>0.624331</td>\n",
       "      <td>0.724122</td>\n",
       "      <td>0.861882</td>\n",
       "      <td>0.595542</td>\n",
       "      <td>0.697950</td>\n",
       "      <td>0.842891</td>\n",
       "    </tr>\n",
       "    <tr>\n",
       "      <th>8</th>\n",
       "      <td>0.45</td>\n",
       "      <td>0.640095</td>\n",
       "      <td>0.718582</td>\n",
       "      <td>0.819006</td>\n",
       "      <td>0.607174</td>\n",
       "      <td>0.693443</td>\n",
       "      <td>0.808286</td>\n",
       "    </tr>\n",
       "    <tr>\n",
       "      <th>9</th>\n",
       "      <td>0.50</td>\n",
       "      <td>0.698773</td>\n",
       "      <td>0.684715</td>\n",
       "      <td>0.671212</td>\n",
       "      <td>0.650565</td>\n",
       "      <td>0.661736</td>\n",
       "      <td>0.673299</td>\n",
       "    </tr>\n",
       "    <tr>\n",
       "      <th>10</th>\n",
       "      <td>0.55</td>\n",
       "      <td>0.734088</td>\n",
       "      <td>0.653429</td>\n",
       "      <td>0.588740</td>\n",
       "      <td>0.674062</td>\n",
       "      <td>0.631929</td>\n",
       "      <td>0.594754</td>\n",
       "    </tr>\n",
       "    <tr>\n",
       "      <th>11</th>\n",
       "      <td>0.60</td>\n",
       "      <td>0.776244</td>\n",
       "      <td>0.602766</td>\n",
       "      <td>0.492664</td>\n",
       "      <td>0.705733</td>\n",
       "      <td>0.584221</td>\n",
       "      <td>0.498406</td>\n",
       "    </tr>\n",
       "    <tr>\n",
       "      <th>12</th>\n",
       "      <td>0.65</td>\n",
       "      <td>0.796947</td>\n",
       "      <td>0.574000</td>\n",
       "      <td>0.448525</td>\n",
       "      <td>0.718921</td>\n",
       "      <td>0.558913</td>\n",
       "      <td>0.457163</td>\n",
       "    </tr>\n",
       "    <tr>\n",
       "      <th>13</th>\n",
       "      <td>0.70</td>\n",
       "      <td>0.903934</td>\n",
       "      <td>0.425614</td>\n",
       "      <td>0.278333</td>\n",
       "      <td>0.755419</td>\n",
       "      <td>0.415515</td>\n",
       "      <td>0.286571</td>\n",
       "    </tr>\n",
       "    <tr>\n",
       "      <th>14</th>\n",
       "      <td>0.75</td>\n",
       "      <td>0.948172</td>\n",
       "      <td>0.373914</td>\n",
       "      <td>0.232874</td>\n",
       "      <td>0.763994</td>\n",
       "      <td>0.369881</td>\n",
       "      <td>0.244008</td>\n",
       "    </tr>\n",
       "    <tr>\n",
       "      <th>15</th>\n",
       "      <td>0.80</td>\n",
       "      <td>0.963541</td>\n",
       "      <td>0.353073</td>\n",
       "      <td>0.216137</td>\n",
       "      <td>0.764695</td>\n",
       "      <td>0.350009</td>\n",
       "      <td>0.226941</td>\n",
       "    </tr>\n",
       "    <tr>\n",
       "      <th>16</th>\n",
       "      <td>0.85</td>\n",
       "      <td>0.983522</td>\n",
       "      <td>0.324480</td>\n",
       "      <td>0.194290</td>\n",
       "      <td>0.765312</td>\n",
       "      <td>0.324561</td>\n",
       "      <td>0.205952</td>\n",
       "    </tr>\n",
       "    <tr>\n",
       "      <th>17</th>\n",
       "      <td>0.90</td>\n",
       "      <td>0.984276</td>\n",
       "      <td>0.322882</td>\n",
       "      <td>0.193116</td>\n",
       "      <td>0.766688</td>\n",
       "      <td>0.323653</td>\n",
       "      <td>0.205122</td>\n",
       "    </tr>\n",
       "    <tr>\n",
       "      <th>18</th>\n",
       "      <td>0.95</td>\n",
       "      <td>0.984923</td>\n",
       "      <td>0.319900</td>\n",
       "      <td>0.190962</td>\n",
       "      <td>0.770014</td>\n",
       "      <td>0.322394</td>\n",
       "      <td>0.203877</td>\n",
       "    </tr>\n",
       "  </tbody>\n",
       "</table>\n",
       "</div>"
      ],
      "text/plain": [
       "    Thresholds  Training precision  Training F1 score  Training Recall  \\\n",
       "0         0.05            0.516622           0.681075         0.999117   \n",
       "1         0.10            0.529740           0.691347         0.994842   \n",
       "2         0.15            0.544900           0.702111         0.986825   \n",
       "3         0.20            0.560467           0.711377         0.973497   \n",
       "4         0.25            0.576272           0.719065         0.955934   \n",
       "5         0.30            0.584765           0.722094         0.943723   \n",
       "6         0.35            0.604062           0.725357         0.907600   \n",
       "7         0.40            0.624331           0.724122         0.861882   \n",
       "8         0.45            0.640095           0.718582         0.819006   \n",
       "9         0.50            0.698773           0.684715         0.671212   \n",
       "10        0.55            0.734088           0.653429         0.588740   \n",
       "11        0.60            0.776244           0.602766         0.492664   \n",
       "12        0.65            0.796947           0.574000         0.448525   \n",
       "13        0.70            0.903934           0.425614         0.278333   \n",
       "14        0.75            0.948172           0.373914         0.232874   \n",
       "15        0.80            0.963541           0.353073         0.216137   \n",
       "16        0.85            0.983522           0.324480         0.194290   \n",
       "17        0.90            0.984276           0.322882         0.193116   \n",
       "18        0.95            0.984923           0.319900         0.190962   \n",
       "\n",
       "    Testing precision  Testing F1 score  Testing Recall  \n",
       "0            0.514784          0.675791        0.983348  \n",
       "1            0.525190          0.682201        0.973127  \n",
       "2            0.538288          0.689528        0.958964  \n",
       "3            0.549087          0.694116        0.943255  \n",
       "4            0.562010          0.698321        0.921927  \n",
       "5            0.567422          0.699290        0.911008  \n",
       "6            0.579869          0.700963        0.885983  \n",
       "7            0.595542          0.697950        0.842891  \n",
       "8            0.607174          0.693443        0.808286  \n",
       "9            0.650565          0.661736        0.673299  \n",
       "10           0.674062          0.631929        0.594754  \n",
       "11           0.705733          0.584221        0.498406  \n",
       "12           0.718921          0.558913        0.457163  \n",
       "13           0.755419          0.415515        0.286571  \n",
       "14           0.763994          0.369881        0.244008  \n",
       "15           0.764695          0.350009        0.226941  \n",
       "16           0.765312          0.324561        0.205952  \n",
       "17           0.766688          0.323653        0.205122  \n",
       "18           0.770014          0.322394        0.203877  "
      ]
     },
     "execution_count": 39,
     "metadata": {},
     "output_type": "execute_result"
    }
   ],
   "source": [
    "print(\"\")\n",
    "print(\"*\"*35,\"SCORES FOR DECISION TREE CLASSIFIER\",\"*\"*35)\n",
    "print(\"\")\n",
    "scores_DT"
   ]
  },
  {
   "cell_type": "markdown",
   "metadata": {},
   "source": [
    "## 2. Random Forest Classifier "
   ]
  },
  {
   "cell_type": "markdown",
   "metadata": {},
   "source": [
    "### 2. a] Checking for various depths:"
   ]
  },
  {
   "cell_type": "code",
   "execution_count": 40,
   "metadata": {},
   "outputs": [
    {
     "name": "stderr",
     "output_type": "stream",
     "text": [
      "100%|██████████| 4/4 [21:10<00:00, 317.61s/it]\n"
     ]
    }
   ],
   "source": [
    "training_scores=[]\n",
    "cv_scores=[]\n",
    "depth=[]\n",
    "for i in tqdm(np.arange(6,18,3)):\n",
    "    RF = RandomForestClassifier(max_depth=i, n_estimators=300)\n",
    "    RF.fit(x_train,y_train)\n",
    "    y_train_pred = RF.predict(x_train)\n",
    "    training_scores.append(fbeta_score(y_train,y_train_pred,beta=1))\n",
    "    scores = cross_val_score(RF , x_train, y_train, cv = 4, scoring = \"f1\")\n",
    "    cv_scores.append(scores.mean())\n",
    "    depth.append(i)"
   ]
  },
  {
   "cell_type": "code",
   "execution_count": 41,
   "metadata": {},
   "outputs": [
    {
     "data": {
      "image/png": "[encoded data removed]",
      "text/plain": [
       "<Figure size 720x720 with 1 Axes>"
      ]
     },
     "metadata": {},
     "output_type": "display_data"
    }
   ],
   "source": [
    "plt.figure(figsize=(10,10))\n",
    "sns.lineplot(x=depth,y=training_scores,color=\"r\")\n",
    "sns.lineplot(x=depth,y=cv_scores,color=\"b\")\n",
    "sns.set_style(style=\"whitegrid\")\n",
    "plt.yticks(np.arange(0,1,0.05))\n",
    "plt.xticks(np.arange(6,18,3))\n",
    "plt.show()"
   ]
  },
  {
   "cell_type": "code",
   "execution_count": 42,
   "metadata": {},
   "outputs": [
    {
     "data": {
      "text/html": [
       "<div>\n",
       "<style scoped>\n",
       "    .dataframe tbody tr th:only-of-type {\n",
       "        vertical-align: middle;\n",
       "    }\n",
       "\n",
       "    .dataframe tbody tr th {\n",
       "        vertical-align: top;\n",
       "    }\n",
       "\n",
       "    .dataframe thead th {\n",
       "        text-align: right;\n",
       "    }\n",
       "</style>\n",
       "<table border=\"1\" class=\"dataframe\">\n",
       "  <thead>\n",
       "    <tr style=\"text-align: right;\">\n",
       "      <th></th>\n",
       "      <th>Depth</th>\n",
       "      <th>Training scores</th>\n",
       "      <th>Cross val scores</th>\n",
       "    </tr>\n",
       "  </thead>\n",
       "  <tbody>\n",
       "    <tr>\n",
       "      <th>0</th>\n",
       "      <td>6</td>\n",
       "      <td>0.682467</td>\n",
       "      <td>0.677717</td>\n",
       "    </tr>\n",
       "    <tr>\n",
       "      <th>1</th>\n",
       "      <td>9</td>\n",
       "      <td>0.696379</td>\n",
       "      <td>0.691192</td>\n",
       "    </tr>\n",
       "    <tr>\n",
       "      <th>2</th>\n",
       "      <td>12</td>\n",
       "      <td>0.716220</td>\n",
       "      <td>0.699948</td>\n",
       "    </tr>\n",
       "    <tr>\n",
       "      <th>3</th>\n",
       "      <td>15</td>\n",
       "      <td>0.747371</td>\n",
       "      <td>0.707293</td>\n",
       "    </tr>\n",
       "  </tbody>\n",
       "</table>\n",
       "</div>"
      ],
      "text/plain": [
       "   Depth  Training scores  Cross val scores\n",
       "0      6         0.682467          0.677717\n",
       "1      9         0.696379          0.691192\n",
       "2     12         0.716220          0.699948\n",
       "3     15         0.747371          0.707293"
      ]
     },
     "execution_count": 42,
     "metadata": {},
     "output_type": "execute_result"
    }
   ],
   "source": [
    "RF_results = pd.DataFrame({\"Depth\":depth,\"Training scores\": training_scores,\"Cross val scores\":cv_scores})\n",
    "RF_results"
   ]
  },
  {
   "cell_type": "markdown",
   "metadata": {},
   "source": [
    "from chart, best depth looks to be 12. after that, model starts overfitting rapidly."
   ]
  },
  {
   "cell_type": "markdown",
   "metadata": {},
   "source": [
    "## 2. b] ROC curve for Random Forest (depth=12)"
   ]
  },
  {
   "cell_type": "code",
   "execution_count": 43,
   "metadata": {},
   "outputs": [
    {
     "data": {
      "image/png": "[encoded data removed]",
      "text/plain": [
       "<Figure size 720x720 with 1 Axes>"
      ]
     },
     "metadata": {},
     "output_type": "display_data"
    }
   ],
   "source": [
    "RF = RandomForestClassifier(max_depth=12, n_estimators=300)\n",
    "RF.fit(x_train, y_train)\n",
    "y_train_proba = RF.predict_proba(x_train)\n",
    "fpr,tpr,thresholds = roc_curve(y_train,[i[1] for i in y_train_proba])\n",
    "roc_df = pd.DataFrame({\"fpr\":fpr, \"tpr\":tpr, \"thresholds\":thresholds})\n",
    "roc_filtered = pd.DataFrame()\n",
    "for i in np.arange(0,roc_df.shape[0],5000):\n",
    "    roc_filtered = pd.concat([roc_filtered,pd.DataFrame(roc_df.iloc[i,:]).T], axis=0)\n",
    "plt.figure(figsize=(10,10))\n",
    "sns.lineplot(x=roc_filtered[\"fpr\"],y=roc_filtered[\"tpr\"])\n",
    "sns.set_style(style=\"whitegrid\")\n",
    "plt.yticks(np.arange(0,1,0.05))\n",
    "plt.xticks(np.arange(0,1,0.05))\n",
    "plt.xlim(0,1)\n",
    "plt.show()"
   ]
  },
  {
   "cell_type": "code",
   "execution_count": 44,
   "metadata": {},
   "outputs": [],
   "source": [
    "threshold_list = np.arange(0.05,1,0.05)\n",
    "scores_RF = pd.DataFrame(np.random.randint(0,100,size=(len(threshold_list),7)),\n",
    "                                             columns = [\"Thresholds\",\"Training precision\", \n",
    "                                                        \"Training F1 score\", \n",
    "                                                        \"Training Recall\",\n",
    "                                                       \"Testing precision\", \n",
    "                                                        \"Testing F1 score\", \n",
    "                                                        \"Testing Recall\"])\n",
    "y_train_proba = RF.predict_proba(x_train)\n",
    "y_cv_proba = RF.predict_proba(x_cv)\n",
    "for j,k in zip(threshold_list, np.arange(0,len(threshold_list))):\n",
    "    roc_probs = []\n",
    "    for i in y_train_proba:\n",
    "        if i[1]<j:\n",
    "            roc_probs.append(0)\n",
    "        else:\n",
    "            roc_probs.append(1)\n",
    "    scores_RF.loc[k,\"Training precision\"]=precision_score(y_train,roc_probs)\n",
    "    scores_RF.loc[k,\"Training F1 score\"]=fbeta_score(y_train,roc_probs,beta=1)\n",
    "    scores_RF.loc[k,\"Training Recall\"]=recall_score(y_train,roc_probs)\n",
    "    roc_probs_cv = []\n",
    "    for i in y_cv_proba:\n",
    "        if i[1]<j:\n",
    "            roc_probs_cv.append(0)\n",
    "        else:\n",
    "            roc_probs_cv.append(1)\n",
    "    scores_RF.loc[k,\"Testing precision\"]=precision_score(y_cv,roc_probs_cv)\n",
    "    scores_RF.loc[k,\"Testing F1 score\"]=fbeta_score(y_cv,roc_probs_cv,beta=1)\n",
    "    scores_RF.loc[k,\"Testing Recall\"]=recall_score(y_cv,roc_probs_cv)\n",
    "scores_RF[\"Thresholds\"]=threshold_list"
   ]
  },
  {
   "cell_type": "code",
   "execution_count": 45,
   "metadata": {},
   "outputs": [
    {
     "name": "stdout",
     "output_type": "stream",
     "text": [
      "\n",
      "*********************************** SCORES FOR RANDOM FOREST CLASSIFIER ***********************************\n",
      "\n"
     ]
    },
    {
     "data": {
      "text/plain": [
       "array([0.70437459, 0.70730719, 0.70664252, 0.71084571])"
      ]
     },
     "execution_count": 45,
     "metadata": {},
     "output_type": "execute_result"
    }
   ],
   "source": [
    "print(\"\")\n",
    "print(\"*\"*35,\"SCORES FOR RANDOM FOREST CLASSIFIER\",\"*\"*35)\n",
    "print(\"\")\n",
    "scores"
   ]
  },
  {
   "cell_type": "markdown",
   "metadata": {},
   "source": [
    "### feature importance using RF:"
   ]
  },
  {
   "cell_type": "code",
   "execution_count": 46,
   "metadata": {},
   "outputs": [
    {
     "data": {
      "text/html": [
       "<div>\n",
       "<style scoped>\n",
       "    .dataframe tbody tr th:only-of-type {\n",
       "        vertical-align: middle;\n",
       "    }\n",
       "\n",
       "    .dataframe tbody tr th {\n",
       "        vertical-align: top;\n",
       "    }\n",
       "\n",
       "    .dataframe thead th {\n",
       "        text-align: right;\n",
       "    }\n",
       "</style>\n",
       "<table border=\"1\" class=\"dataframe\">\n",
       "  <thead>\n",
       "    <tr style=\"text-align: right;\">\n",
       "      <th></th>\n",
       "      <th>column number</th>\n",
       "      <th>importance in percent</th>\n",
       "      <th>Column_name</th>\n",
       "    </tr>\n",
       "  </thead>\n",
       "  <tbody>\n",
       "    <tr>\n",
       "      <th>0</th>\n",
       "      <td>3</td>\n",
       "      <td>15.836929</td>\n",
       "      <td>PERFORM_CNS_SCORE</td>\n",
       "    </tr>\n",
       "    <tr>\n",
       "      <th>1</th>\n",
       "      <td>25</td>\n",
       "      <td>7.020119</td>\n",
       "      <td>EMPLOYMENT_TYPE_Self employed</td>\n",
       "    </tr>\n",
       "    <tr>\n",
       "      <th>2</th>\n",
       "      <td>2</td>\n",
       "      <td>7.004129</td>\n",
       "      <td>LTV</td>\n",
       "    </tr>\n",
       "    <tr>\n",
       "      <th>3</th>\n",
       "      <td>0</td>\n",
       "      <td>5.718476</td>\n",
       "      <td>DISBURSED_AMOUNT</td>\n",
       "    </tr>\n",
       "    <tr>\n",
       "      <th>4</th>\n",
       "      <td>28</td>\n",
       "      <td>5.402447</td>\n",
       "      <td>PERFORM_CNS_SCORE_DESCRIPTION_D-Very Low Risk</td>\n",
       "    </tr>\n",
       "    <tr>\n",
       "      <th>5</th>\n",
       "      <td>24</td>\n",
       "      <td>4.913512</td>\n",
       "      <td>Loan_age_months</td>\n",
       "    </tr>\n",
       "    <tr>\n",
       "      <th>6</th>\n",
       "      <td>16</td>\n",
       "      <td>4.241278</td>\n",
       "      <td>PRIMARY_INSTAL_AMT</td>\n",
       "    </tr>\n",
       "    <tr>\n",
       "      <th>7</th>\n",
       "      <td>30</td>\n",
       "      <td>4.094183</td>\n",
       "      <td>PERFORM_CNS_SCORE_DESCRIPTION_F-Low Risk</td>\n",
       "    </tr>\n",
       "    <tr>\n",
       "      <th>8</th>\n",
       "      <td>27</td>\n",
       "      <td>3.899488</td>\n",
       "      <td>PERFORM_CNS_SCORE_DESCRIPTION_C-Very Low Risk</td>\n",
       "    </tr>\n",
       "    <tr>\n",
       "      <th>9</th>\n",
       "      <td>23</td>\n",
       "      <td>3.734639</td>\n",
       "      <td>Age</td>\n",
       "    </tr>\n",
       "    <tr>\n",
       "      <th>10</th>\n",
       "      <td>26</td>\n",
       "      <td>3.255281</td>\n",
       "      <td>PERFORM_CNS_SCORE_DESCRIPTION_B-Very Low Risk</td>\n",
       "    </tr>\n",
       "    <tr>\n",
       "      <th>11</th>\n",
       "      <td>29</td>\n",
       "      <td>3.106123</td>\n",
       "      <td>PERFORM_CNS_SCORE_DESCRIPTION_E-Low Risk</td>\n",
       "    </tr>\n",
       "    <tr>\n",
       "      <th>12</th>\n",
       "      <td>8</td>\n",
       "      <td>2.426948</td>\n",
       "      <td>PRI_SANCTIONED_AMOUNT</td>\n",
       "    </tr>\n",
       "    <tr>\n",
       "      <th>13</th>\n",
       "      <td>1</td>\n",
       "      <td>2.426005</td>\n",
       "      <td>ASSET_COST</td>\n",
       "    </tr>\n",
       "    <tr>\n",
       "      <th>14</th>\n",
       "      <td>32</td>\n",
       "      <td>2.266017</td>\n",
       "      <td>PERFORM_CNS_SCORE_DESCRIPTION_H-Medium Risk</td>\n",
       "    </tr>\n",
       "    <tr>\n",
       "      <th>15</th>\n",
       "      <td>9</td>\n",
       "      <td>2.246352</td>\n",
       "      <td>PRI_DISBURSED_AMOUNT</td>\n",
       "    </tr>\n",
       "    <tr>\n",
       "      <th>16</th>\n",
       "      <td>7</td>\n",
       "      <td>2.214665</td>\n",
       "      <td>PRI_CURRENT_BALANCE</td>\n",
       "    </tr>\n",
       "    <tr>\n",
       "      <th>17</th>\n",
       "      <td>21</td>\n",
       "      <td>2.145873</td>\n",
       "      <td>CREDIT_HISTORY_LENGTH</td>\n",
       "    </tr>\n",
       "    <tr>\n",
       "      <th>18</th>\n",
       "      <td>4</td>\n",
       "      <td>1.957725</td>\n",
       "      <td>PRI_NO_OF_ACCTS</td>\n",
       "    </tr>\n",
       "    <tr>\n",
       "      <th>19</th>\n",
       "      <td>5</td>\n",
       "      <td>1.721435</td>\n",
       "      <td>PRI_ACTIVE_ACCTS</td>\n",
       "    </tr>\n",
       "    <tr>\n",
       "      <th>20</th>\n",
       "      <td>31</td>\n",
       "      <td>1.620654</td>\n",
       "      <td>PERFORM_CNS_SCORE_DESCRIPTION_G-Low Risk</td>\n",
       "    </tr>\n",
       "    <tr>\n",
       "      <th>21</th>\n",
       "      <td>20</td>\n",
       "      <td>1.510978</td>\n",
       "      <td>AVERAGE_ACCT_AGE</td>\n",
       "    </tr>\n",
       "    <tr>\n",
       "      <th>22</th>\n",
       "      <td>35</td>\n",
       "      <td>1.480016</td>\n",
       "      <td>PERFORM_CNS_SCORE_DESCRIPTION_K-High Risk</td>\n",
       "    </tr>\n",
       "    <tr>\n",
       "      <th>23</th>\n",
       "      <td>18</td>\n",
       "      <td>1.388298</td>\n",
       "      <td>NEW_ACCTS_IN_LAST_SIX_MONTHS</td>\n",
       "    </tr>\n",
       "    <tr>\n",
       "      <th>24</th>\n",
       "      <td>33</td>\n",
       "      <td>1.174026</td>\n",
       "      <td>PERFORM_CNS_SCORE_DESCRIPTION_I-Medium Risk</td>\n",
       "    </tr>\n",
       "    <tr>\n",
       "      <th>25</th>\n",
       "      <td>37</td>\n",
       "      <td>1.040871</td>\n",
       "      <td>PERFORM_CNS_SCORE_DESCRIPTION_M-Very High Risk</td>\n",
       "    </tr>\n",
       "    <tr>\n",
       "      <th>26</th>\n",
       "      <td>6</td>\n",
       "      <td>0.954509</td>\n",
       "      <td>PRI_OVERDUE_ACCTS</td>\n",
       "    </tr>\n",
       "    <tr>\n",
       "      <th>27</th>\n",
       "      <td>22</td>\n",
       "      <td>0.852453</td>\n",
       "      <td>NO_OF_INQUIRIES</td>\n",
       "    </tr>\n",
       "    <tr>\n",
       "      <th>28</th>\n",
       "      <td>39</td>\n",
       "      <td>0.798509</td>\n",
       "      <td>PERFORM_CNS_SCORE_DESCRIPTION_Not Scored: No A...</td>\n",
       "    </tr>\n",
       "    <tr>\n",
       "      <th>29</th>\n",
       "      <td>34</td>\n",
       "      <td>0.782471</td>\n",
       "      <td>PERFORM_CNS_SCORE_DESCRIPTION_J-High Risk</td>\n",
       "    </tr>\n",
       "    <tr>\n",
       "      <th>30</th>\n",
       "      <td>38</td>\n",
       "      <td>0.561566</td>\n",
       "      <td>PERFORM_CNS_SCORE_DESCRIPTION_No Bureau Histor...</td>\n",
       "    </tr>\n",
       "    <tr>\n",
       "      <th>31</th>\n",
       "      <td>19</td>\n",
       "      <td>0.472517</td>\n",
       "      <td>DELINQUENT_ACCTS_IN_LAST_SIX_MONTHS</td>\n",
       "    </tr>\n",
       "    <tr>\n",
       "      <th>32</th>\n",
       "      <td>41</td>\n",
       "      <td>0.358348</td>\n",
       "      <td>PERFORM_CNS_SCORE_DESCRIPTION_Not Scored: Not ...</td>\n",
       "    </tr>\n",
       "    <tr>\n",
       "      <th>33</th>\n",
       "      <td>43</td>\n",
       "      <td>0.295719</td>\n",
       "      <td>PERFORM_CNS_SCORE_DESCRIPTION_Not Scored: Suff...</td>\n",
       "    </tr>\n",
       "    <tr>\n",
       "      <th>34</th>\n",
       "      <td>40</td>\n",
       "      <td>0.222370</td>\n",
       "      <td>PERFORM_CNS_SCORE_DESCRIPTION_Not Scored: No U...</td>\n",
       "    </tr>\n",
       "    <tr>\n",
       "      <th>35</th>\n",
       "      <td>10</td>\n",
       "      <td>0.144410</td>\n",
       "      <td>SEC_NO_OF_ACCTS</td>\n",
       "    </tr>\n",
       "    <tr>\n",
       "      <th>36</th>\n",
       "      <td>14</td>\n",
       "      <td>0.128128</td>\n",
       "      <td>SEC_SANCTIONED_AMOUNT</td>\n",
       "    </tr>\n",
       "    <tr>\n",
       "      <th>37</th>\n",
       "      <td>13</td>\n",
       "      <td>0.117272</td>\n",
       "      <td>SEC_CURRENT_BALANCE</td>\n",
       "    </tr>\n",
       "    <tr>\n",
       "      <th>38</th>\n",
       "      <td>15</td>\n",
       "      <td>0.115495</td>\n",
       "      <td>SEC_DISBURSED_AMOUNT</td>\n",
       "    </tr>\n",
       "    <tr>\n",
       "      <th>39</th>\n",
       "      <td>17</td>\n",
       "      <td>0.111110</td>\n",
       "      <td>SEC_INSTAL_AMT</td>\n",
       "    </tr>\n",
       "    <tr>\n",
       "      <th>40</th>\n",
       "      <td>11</td>\n",
       "      <td>0.082961</td>\n",
       "      <td>SEC_ACTIVE_ACCTS</td>\n",
       "    </tr>\n",
       "    <tr>\n",
       "      <th>41</th>\n",
       "      <td>36</td>\n",
       "      <td>0.064938</td>\n",
       "      <td>PERFORM_CNS_SCORE_DESCRIPTION_L-Very High Risk</td>\n",
       "    </tr>\n",
       "    <tr>\n",
       "      <th>42</th>\n",
       "      <td>42</td>\n",
       "      <td>0.054630</td>\n",
       "      <td>PERFORM_CNS_SCORE_DESCRIPTION_Not Scored: Only...</td>\n",
       "    </tr>\n",
       "    <tr>\n",
       "      <th>43</th>\n",
       "      <td>12</td>\n",
       "      <td>0.036127</td>\n",
       "      <td>SEC_OVERDUE_ACCTS</td>\n",
       "    </tr>\n",
       "  </tbody>\n",
       "</table>\n",
       "</div>"
      ],
      "text/plain": [
       "    column number  importance in percent  \\\n",
       "0               3              15.836929   \n",
       "1              25               7.020119   \n",
       "2               2               7.004129   \n",
       "3               0               5.718476   \n",
       "4              28               5.402447   \n",
       "5              24               4.913512   \n",
       "6              16               4.241278   \n",
       "7              30               4.094183   \n",
       "8              27               3.899488   \n",
       "9              23               3.734639   \n",
       "10             26               3.255281   \n",
       "11             29               3.106123   \n",
       "12              8               2.426948   \n",
       "13              1               2.426005   \n",
       "14             32               2.266017   \n",
       "15              9               2.246352   \n",
       "16              7               2.214665   \n",
       "17             21               2.145873   \n",
       "18              4               1.957725   \n",
       "19              5               1.721435   \n",
       "20             31               1.620654   \n",
       "21             20               1.510978   \n",
       "22             35               1.480016   \n",
       "23             18               1.388298   \n",
       "24             33               1.174026   \n",
       "25             37               1.040871   \n",
       "26              6               0.954509   \n",
       "27             22               0.852453   \n",
       "28             39               0.798509   \n",
       "29             34               0.782471   \n",
       "30             38               0.561566   \n",
       "31             19               0.472517   \n",
       "32             41               0.358348   \n",
       "33             43               0.295719   \n",
       "34             40               0.222370   \n",
       "35             10               0.144410   \n",
       "36             14               0.128128   \n",
       "37             13               0.117272   \n",
       "38             15               0.115495   \n",
       "39             17               0.111110   \n",
       "40             11               0.082961   \n",
       "41             36               0.064938   \n",
       "42             42               0.054630   \n",
       "43             12               0.036127   \n",
       "\n",
       "                                          Column_name  \n",
       "0                                   PERFORM_CNS_SCORE  \n",
       "1                       EMPLOYMENT_TYPE_Self employed  \n",
       "2                                                 LTV  \n",
       "3                                    DISBURSED_AMOUNT  \n",
       "4       PERFORM_CNS_SCORE_DESCRIPTION_D-Very Low Risk  \n",
       "5                                     Loan_age_months  \n",
       "6                                  PRIMARY_INSTAL_AMT  \n",
       "7            PERFORM_CNS_SCORE_DESCRIPTION_F-Low Risk  \n",
       "8       PERFORM_CNS_SCORE_DESCRIPTION_C-Very Low Risk  \n",
       "9                                                 Age  \n",
       "10      PERFORM_CNS_SCORE_DESCRIPTION_B-Very Low Risk  \n",
       "11           PERFORM_CNS_SCORE_DESCRIPTION_E-Low Risk  \n",
       "12                              PRI_SANCTIONED_AMOUNT  \n",
       "13                                         ASSET_COST  \n",
       "14        PERFORM_CNS_SCORE_DESCRIPTION_H-Medium Risk  \n",
       "15                               PRI_DISBURSED_AMOUNT  \n",
       "16                                PRI_CURRENT_BALANCE  \n",
       "17                              CREDIT_HISTORY_LENGTH  \n",
       "18                                    PRI_NO_OF_ACCTS  \n",
       "19                                   PRI_ACTIVE_ACCTS  \n",
       "20           PERFORM_CNS_SCORE_DESCRIPTION_G-Low Risk  \n",
       "21                                   AVERAGE_ACCT_AGE  \n",
       "22          PERFORM_CNS_SCORE_DESCRIPTION_K-High Risk  \n",
       "23                       NEW_ACCTS_IN_LAST_SIX_MONTHS  \n",
       "24        PERFORM_CNS_SCORE_DESCRIPTION_I-Medium Risk  \n",
       "25     PERFORM_CNS_SCORE_DESCRIPTION_M-Very High Risk  \n",
       "26                                  PRI_OVERDUE_ACCTS  \n",
       "27                                    NO_OF_INQUIRIES  \n",
       "28  PERFORM_CNS_SCORE_DESCRIPTION_Not Scored: No A...  \n",
       "29          PERFORM_CNS_SCORE_DESCRIPTION_J-High Risk  \n",
       "30  PERFORM_CNS_SCORE_DESCRIPTION_No Bureau Histor...  \n",
       "31                DELINQUENT_ACCTS_IN_LAST_SIX_MONTHS  \n",
       "32  PERFORM_CNS_SCORE_DESCRIPTION_Not Scored: Not ...  \n",
       "33  PERFORM_CNS_SCORE_DESCRIPTION_Not Scored: Suff...  \n",
       "34  PERFORM_CNS_SCORE_DESCRIPTION_Not Scored: No U...  \n",
       "35                                    SEC_NO_OF_ACCTS  \n",
       "36                              SEC_SANCTIONED_AMOUNT  \n",
       "37                                SEC_CURRENT_BALANCE  \n",
       "38                               SEC_DISBURSED_AMOUNT  \n",
       "39                                     SEC_INSTAL_AMT  \n",
       "40                                   SEC_ACTIVE_ACCTS  \n",
       "41     PERFORM_CNS_SCORE_DESCRIPTION_L-Very High Risk  \n",
       "42  PERFORM_CNS_SCORE_DESCRIPTION_Not Scored: Only...  \n",
       "43                                  SEC_OVERDUE_ACCTS  "
      ]
     },
     "execution_count": 46,
     "metadata": {},
     "output_type": "execute_result"
    }
   ],
   "source": [
    "feature_imp = pd.DataFrame(RF.feature_importances_)\n",
    "features_list = list(df1.columns)\n",
    "features_list.remove(\"LOAN_DEFAULT\")\n",
    "feature_imp[\"Column_name\"] = features_list\n",
    "feature_imp.rename(columns={0:\"importance in percent\"}, inplace=True)\n",
    "feature_imp[\"importance in percent\"] = feature_imp[\"importance in percent\"]*100\n",
    "feature_imp.sort_values(by=\"importance in percent\", ascending=False, inplace=True)\n",
    "feature_imp.reset_index(inplace=True)\n",
    "feature_imp.rename(columns={\"index\":\"column number\"}, inplace=True)\n",
    "feature_imp"
   ]
  },
  {
   "cell_type": "markdown",
   "metadata": {},
   "source": [
    "## 3. XGBOOST "
   ]
  },
  {
   "cell_type": "code",
   "execution_count": 47,
   "metadata": {},
   "outputs": [
    {
     "name": "stderr",
     "output_type": "stream",
     "text": [
      "100%|██████████| 6/6 [04:23<00:00, 43.87s/it]\n"
     ]
    }
   ],
   "source": [
    "#xgbclassifier\n",
    "depth = [4,5,6,7,8,9]\n",
    "cv_scores=[]\n",
    "training_scores=[]\n",
    "for i in tqdm(depth):\n",
    "    xg = xgb.XGBClassifier(max_depth=i, use_label_encoder=False, eval_metric= \"logloss\")\n",
    "    xg.fit(x_train,y_train)\n",
    "    y_pred_train = xg.predict(x_train)\n",
    "    training_scores.append(fbeta_score(y_train,y_pred_train, beta=1))\n",
    "    scores = cross_val_score(xg , x_train, y_train , cv = 4, scoring = \"f1\")\n",
    "    cv_scores.append(scores.mean())"
   ]
  },
  {
   "cell_type": "code",
   "execution_count": 48,
   "metadata": {},
   "outputs": [
    {
     "data": {
      "image/png": "[encoded data removed]",
      "text/plain": [
       "<Figure size 576x864 with 1 Axes>"
      ]
     },
     "metadata": {},
     "output_type": "display_data"
    }
   ],
   "source": [
    "plt.figure(figsize=(8,12))\n",
    "sns.lineplot(x=depth, y=training_scores, color = \"b\",label = \"training_scores\")\n",
    "sns.lineplot(x=depth, y=cv_scores, color = \"r\",label = \"cv_scores\")\n",
    "sns.scatterplot(x=depth, y=training_scores, color = \"b\",label = \"training_scores\")\n",
    "sns.scatterplot(x=depth, y=cv_scores, color = \"r\",label = \"cv_scores\")\n",
    "sns.set_style()\n",
    "plt.legend()\n",
    "plt.yticks(np.arange(min(cv_scores)-0.1,max(training_scores)+0.1,0.01))\n",
    "plt.show()"
   ]
  },
  {
   "cell_type": "code",
   "execution_count": 49,
   "metadata": {},
   "outputs": [
    {
     "data": {
      "text/html": [
       "<div>\n",
       "<style scoped>\n",
       "    .dataframe tbody tr th:only-of-type {\n",
       "        vertical-align: middle;\n",
       "    }\n",
       "\n",
       "    .dataframe tbody tr th {\n",
       "        vertical-align: top;\n",
       "    }\n",
       "\n",
       "    .dataframe thead th {\n",
       "        text-align: right;\n",
       "    }\n",
       "</style>\n",
       "<table border=\"1\" class=\"dataframe\">\n",
       "  <thead>\n",
       "    <tr style=\"text-align: right;\">\n",
       "      <th></th>\n",
       "      <th>Depth</th>\n",
       "      <th>Training scores</th>\n",
       "      <th>Cross val scores</th>\n",
       "    </tr>\n",
       "  </thead>\n",
       "  <tbody>\n",
       "    <tr>\n",
       "      <th>0</th>\n",
       "      <td>4</td>\n",
       "      <td>0.711933</td>\n",
       "      <td>0.707034</td>\n",
       "    </tr>\n",
       "    <tr>\n",
       "      <th>1</th>\n",
       "      <td>5</td>\n",
       "      <td>0.716905</td>\n",
       "      <td>0.708261</td>\n",
       "    </tr>\n",
       "    <tr>\n",
       "      <th>2</th>\n",
       "      <td>6</td>\n",
       "      <td>0.725498</td>\n",
       "      <td>0.712468</td>\n",
       "    </tr>\n",
       "    <tr>\n",
       "      <th>3</th>\n",
       "      <td>7</td>\n",
       "      <td>0.744061</td>\n",
       "      <td>0.713722</td>\n",
       "    </tr>\n",
       "    <tr>\n",
       "      <th>4</th>\n",
       "      <td>8</td>\n",
       "      <td>0.757810</td>\n",
       "      <td>0.719134</td>\n",
       "    </tr>\n",
       "    <tr>\n",
       "      <th>5</th>\n",
       "      <td>9</td>\n",
       "      <td>0.782628</td>\n",
       "      <td>0.724746</td>\n",
       "    </tr>\n",
       "  </tbody>\n",
       "</table>\n",
       "</div>"
      ],
      "text/plain": [
       "   Depth  Training scores  Cross val scores\n",
       "0      4         0.711933          0.707034\n",
       "1      5         0.716905          0.708261\n",
       "2      6         0.725498          0.712468\n",
       "3      7         0.744061          0.713722\n",
       "4      8         0.757810          0.719134\n",
       "5      9         0.782628          0.724746"
      ]
     },
     "execution_count": 49,
     "metadata": {},
     "output_type": "execute_result"
    }
   ],
   "source": [
    "xgboost_results = pd.DataFrame({\"Depth\":depth,\"Training scores\": training_scores,\"Cross val scores\":cv_scores})\n",
    "xgboost_results"
   ]
  },
  {
   "cell_type": "markdown",
   "metadata": {},
   "source": [
    "Model starts overfitting drastically after depth 6. this is best case for xgboostclassifier."
   ]
  },
  {
   "cell_type": "markdown",
   "metadata": {},
   "source": [
    "### 3. b] ROC curve for XGBoost (depth = 6)"
   ]
  },
  {
   "cell_type": "code",
   "execution_count": 50,
   "metadata": {},
   "outputs": [
    {
     "data": {
      "image/png": "[encoded data removed]",
      "text/plain": [
       "<Figure size 720x720 with 1 Axes>"
      ]
     },
     "metadata": {},
     "output_type": "display_data"
    }
   ],
   "source": [
    "xg = xgb.XGBClassifier(max_depth=6, use_label_encoder=False, eval_metric= \"logloss\")\n",
    "xg.fit(x_train,y_train)\n",
    "y_train_proba = xg.predict_proba(x_train)\n",
    "fpr,tpr,thresholds = roc_curve(y_train,[i[1] for i in y_train_proba])\n",
    "roc_df = pd.DataFrame({\"fpr\":fpr, \"tpr\":tpr, \"thresholds\":thresholds})\n",
    "roc_filtered = pd.DataFrame()\n",
    "for i in np.arange(0,roc_df.shape[0],5000):\n",
    "    roc_filtered = pd.concat([roc_filtered,pd.DataFrame(roc_df.iloc[i,:]).T], axis=0)\n",
    "plt.figure(figsize=(10,10))\n",
    "sns.lineplot(x=roc_filtered[\"fpr\"],y=roc_filtered[\"tpr\"])\n",
    "sns.set_style(style=\"whitegrid\")\n",
    "plt.yticks(np.arange(0,1,0.05))\n",
    "plt.xticks(np.arange(0,1,0.05))\n",
    "plt.xlim(0,1)\n",
    "plt.show()"
   ]
  },
  {
   "cell_type": "code",
   "execution_count": 51,
   "metadata": {},
   "outputs": [],
   "source": [
    "threshold_list = np.arange(0.05,1,0.05)\n",
    "scores_XGB = pd.DataFrame(np.random.randint(0,100,size=(len(threshold_list),7)),\n",
    "                                             columns = [\"Thresholds\",\"Training precision\", \n",
    "                                                        \"Training F1 score\", \n",
    "                                                        \"Training Recall\",\n",
    "                                                       \"Testing precision\", \n",
    "                                                        \"Testing F1 score\", \n",
    "                                                        \"Testing Recall\"])\n",
    "y_train_proba = xg.predict_proba(x_train)\n",
    "y_cv_proba = xg.predict_proba(x_cv)\n",
    "for j,k in zip(threshold_list, np.arange(0,len(threshold_list))):\n",
    "    roc_probs = []\n",
    "    for i in y_train_proba:\n",
    "        if i[1]<j:\n",
    "            roc_probs.append(0)\n",
    "        else:\n",
    "            roc_probs.append(1)\n",
    "    scores_XGB.loc[k,\"Training precision\"]=precision_score(y_train,roc_probs)\n",
    "    scores_XGB.loc[k,\"Training F1 score\"]=fbeta_score(y_train,roc_probs,beta=1)\n",
    "    scores_XGB.loc[k,\"Training Recall\"]=recall_score(y_train,roc_probs)\n",
    "    roc_probs_cv = []\n",
    "    for i in y_cv_proba:\n",
    "        if i[1]<j:\n",
    "            roc_probs_cv.append(0)\n",
    "        else:\n",
    "            roc_probs_cv.append(1)\n",
    "    scores_XGB.loc[k,\"Testing precision\"]=precision_score(y_cv,roc_probs_cv)\n",
    "    scores_XGB.loc[k,\"Testing F1 score\"]=fbeta_score(y_cv,roc_probs_cv,beta=1)\n",
    "    scores_XGB.loc[k,\"Testing Recall\"]=recall_score(y_cv,roc_probs_cv)\n",
    "scores_XGB[\"Thresholds\"]=threshold_list"
   ]
  },
  {
   "cell_type": "code",
   "execution_count": 52,
   "metadata": {},
   "outputs": [
    {
     "name": "stdout",
     "output_type": "stream",
     "text": [
      "\n",
      "*********************************** SCORES FOR XGBOOST CLASSIFIER ***********************************\n",
      "\n"
     ]
    },
    {
     "data": {
      "text/html": [
       "<div>\n",
       "<style scoped>\n",
       "    .dataframe tbody tr th:only-of-type {\n",
       "        vertical-align: middle;\n",
       "    }\n",
       "\n",
       "    .dataframe tbody tr th {\n",
       "        vertical-align: top;\n",
       "    }\n",
       "\n",
       "    .dataframe thead th {\n",
       "        text-align: right;\n",
       "    }\n",
       "</style>\n",
       "<table border=\"1\" class=\"dataframe\">\n",
       "  <thead>\n",
       "    <tr style=\"text-align: right;\">\n",
       "      <th></th>\n",
       "      <th>Thresholds</th>\n",
       "      <th>Training precision</th>\n",
       "      <th>Training F1 score</th>\n",
       "      <th>Training Recall</th>\n",
       "      <th>Testing precision</th>\n",
       "      <th>Testing F1 score</th>\n",
       "      <th>Testing Recall</th>\n",
       "    </tr>\n",
       "  </thead>\n",
       "  <tbody>\n",
       "    <tr>\n",
       "      <th>0</th>\n",
       "      <td>0.05</td>\n",
       "      <td>0.505521</td>\n",
       "      <td>0.671511</td>\n",
       "      <td>0.999798</td>\n",
       "      <td>0.505658</td>\n",
       "      <td>0.671370</td>\n",
       "      <td>0.998642</td>\n",
       "    </tr>\n",
       "    <tr>\n",
       "      <th>1</th>\n",
       "      <td>0.10</td>\n",
       "      <td>0.521887</td>\n",
       "      <td>0.685289</td>\n",
       "      <td>0.997652</td>\n",
       "      <td>0.517503</td>\n",
       "      <td>0.680283</td>\n",
       "      <td>0.992457</td>\n",
       "    </tr>\n",
       "    <tr>\n",
       "      <th>2</th>\n",
       "      <td>0.15</td>\n",
       "      <td>0.543922</td>\n",
       "      <td>0.702487</td>\n",
       "      <td>0.991546</td>\n",
       "      <td>0.531526</td>\n",
       "      <td>0.689448</td>\n",
       "      <td>0.980878</td>\n",
       "    </tr>\n",
       "    <tr>\n",
       "      <th>3</th>\n",
       "      <td>0.20</td>\n",
       "      <td>0.568055</td>\n",
       "      <td>0.719265</td>\n",
       "      <td>0.980177</td>\n",
       "      <td>0.544782</td>\n",
       "      <td>0.697048</td>\n",
       "      <td>0.967451</td>\n",
       "    </tr>\n",
       "    <tr>\n",
       "      <th>4</th>\n",
       "      <td>0.25</td>\n",
       "      <td>0.592922</td>\n",
       "      <td>0.733828</td>\n",
       "      <td>0.962582</td>\n",
       "      <td>0.555905</td>\n",
       "      <td>0.702223</td>\n",
       "      <td>0.953081</td>\n",
       "    </tr>\n",
       "    <tr>\n",
       "      <th>5</th>\n",
       "      <td>0.30</td>\n",
       "      <td>0.619443</td>\n",
       "      <td>0.745457</td>\n",
       "      <td>0.935836</td>\n",
       "      <td>0.566195</td>\n",
       "      <td>0.706096</td>\n",
       "      <td>0.937824</td>\n",
       "    </tr>\n",
       "    <tr>\n",
       "      <th>6</th>\n",
       "      <td>0.35</td>\n",
       "      <td>0.645385</td>\n",
       "      <td>0.751507</td>\n",
       "      <td>0.899398</td>\n",
       "      <td>0.574693</td>\n",
       "      <td>0.708462</td>\n",
       "      <td>0.923398</td>\n",
       "    </tr>\n",
       "    <tr>\n",
       "      <th>7</th>\n",
       "      <td>0.40</td>\n",
       "      <td>0.677452</td>\n",
       "      <td>0.752483</td>\n",
       "      <td>0.846206</td>\n",
       "      <td>0.582722</td>\n",
       "      <td>0.710256</td>\n",
       "      <td>0.909254</td>\n",
       "    </tr>\n",
       "    <tr>\n",
       "      <th>8</th>\n",
       "      <td>0.45</td>\n",
       "      <td>0.711427</td>\n",
       "      <td>0.745880</td>\n",
       "      <td>0.783839</td>\n",
       "      <td>0.590460</td>\n",
       "      <td>0.711148</td>\n",
       "      <td>0.893847</td>\n",
       "    </tr>\n",
       "    <tr>\n",
       "      <th>9</th>\n",
       "      <td>0.50</td>\n",
       "      <td>0.752158</td>\n",
       "      <td>0.725498</td>\n",
       "      <td>0.700662</td>\n",
       "      <td>0.599794</td>\n",
       "      <td>0.712550</td>\n",
       "      <td>0.877515</td>\n",
       "    </tr>\n",
       "    <tr>\n",
       "      <th>10</th>\n",
       "      <td>0.55</td>\n",
       "      <td>0.797966</td>\n",
       "      <td>0.694280</td>\n",
       "      <td>0.614441</td>\n",
       "      <td>0.611764</td>\n",
       "      <td>0.713757</td>\n",
       "      <td>0.856564</td>\n",
       "    </tr>\n",
       "    <tr>\n",
       "      <th>11</th>\n",
       "      <td>0.60</td>\n",
       "      <td>0.844019</td>\n",
       "      <td>0.650259</td>\n",
       "      <td>0.528851</td>\n",
       "      <td>0.626322</td>\n",
       "      <td>0.713440</td>\n",
       "      <td>0.828710</td>\n",
       "    </tr>\n",
       "    <tr>\n",
       "      <th>12</th>\n",
       "      <td>0.65</td>\n",
       "      <td>0.899807</td>\n",
       "      <td>0.592016</td>\n",
       "      <td>0.441124</td>\n",
       "      <td>0.650725</td>\n",
       "      <td>0.711225</td>\n",
       "      <td>0.784129</td>\n",
       "    </tr>\n",
       "    <tr>\n",
       "      <th>13</th>\n",
       "      <td>0.70</td>\n",
       "      <td>0.945042</td>\n",
       "      <td>0.533769</td>\n",
       "      <td>0.371915</td>\n",
       "      <td>0.683585</td>\n",
       "      <td>0.701102</td>\n",
       "      <td>0.719539</td>\n",
       "    </tr>\n",
       "    <tr>\n",
       "      <th>14</th>\n",
       "      <td>0.75</td>\n",
       "      <td>0.989073</td>\n",
       "      <td>0.472951</td>\n",
       "      <td>0.310779</td>\n",
       "      <td>0.729546</td>\n",
       "      <td>0.671991</td>\n",
       "      <td>0.622853</td>\n",
       "    </tr>\n",
       "    <tr>\n",
       "      <th>15</th>\n",
       "      <td>0.80</td>\n",
       "      <td>0.999390</td>\n",
       "      <td>0.451554</td>\n",
       "      <td>0.291669</td>\n",
       "      <td>0.792797</td>\n",
       "      <td>0.615273</td>\n",
       "      <td>0.502706</td>\n",
       "    </tr>\n",
       "    <tr>\n",
       "      <th>16</th>\n",
       "      <td>0.85</td>\n",
       "      <td>0.999972</td>\n",
       "      <td>0.445533</td>\n",
       "      <td>0.286617</td>\n",
       "      <td>0.867060</td>\n",
       "      <td>0.525138</td>\n",
       "      <td>0.376619</td>\n",
       "    </tr>\n",
       "    <tr>\n",
       "      <th>17</th>\n",
       "      <td>0.90</td>\n",
       "      <td>1.000000</td>\n",
       "      <td>0.440303</td>\n",
       "      <td>0.282301</td>\n",
       "      <td>0.922086</td>\n",
       "      <td>0.443196</td>\n",
       "      <td>0.291700</td>\n",
       "    </tr>\n",
       "    <tr>\n",
       "      <th>18</th>\n",
       "      <td>0.95</td>\n",
       "      <td>1.000000</td>\n",
       "      <td>0.412393</td>\n",
       "      <td>0.259757</td>\n",
       "      <td>0.946926</td>\n",
       "      <td>0.401427</td>\n",
       "      <td>0.254700</td>\n",
       "    </tr>\n",
       "  </tbody>\n",
       "</table>\n",
       "</div>"
      ],
      "text/plain": [
       "    Thresholds  Training precision  Training F1 score  Training Recall  \\\n",
       "0         0.05            0.505521           0.671511         0.999798   \n",
       "1         0.10            0.521887           0.685289         0.997652   \n",
       "2         0.15            0.543922           0.702487         0.991546   \n",
       "3         0.20            0.568055           0.719265         0.980177   \n",
       "4         0.25            0.592922           0.733828         0.962582   \n",
       "5         0.30            0.619443           0.745457         0.935836   \n",
       "6         0.35            0.645385           0.751507         0.899398   \n",
       "7         0.40            0.677452           0.752483         0.846206   \n",
       "8         0.45            0.711427           0.745880         0.783839   \n",
       "9         0.50            0.752158           0.725498         0.700662   \n",
       "10        0.55            0.797966           0.694280         0.614441   \n",
       "11        0.60            0.844019           0.650259         0.528851   \n",
       "12        0.65            0.899807           0.592016         0.441124   \n",
       "13        0.70            0.945042           0.533769         0.371915   \n",
       "14        0.75            0.989073           0.472951         0.310779   \n",
       "15        0.80            0.999390           0.451554         0.291669   \n",
       "16        0.85            0.999972           0.445533         0.286617   \n",
       "17        0.90            1.000000           0.440303         0.282301   \n",
       "18        0.95            1.000000           0.412393         0.259757   \n",
       "\n",
       "    Testing precision  Testing F1 score  Testing Recall  \n",
       "0            0.505658          0.671370        0.998642  \n",
       "1            0.517503          0.680283        0.992457  \n",
       "2            0.531526          0.689448        0.980878  \n",
       "3            0.544782          0.697048        0.967451  \n",
       "4            0.555905          0.702223        0.953081  \n",
       "5            0.566195          0.706096        0.937824  \n",
       "6            0.574693          0.708462        0.923398  \n",
       "7            0.582722          0.710256        0.909254  \n",
       "8            0.590460          0.711148        0.893847  \n",
       "9            0.599794          0.712550        0.877515  \n",
       "10           0.611764          0.713757        0.856564  \n",
       "11           0.626322          0.713440        0.828710  \n",
       "12           0.650725          0.711225        0.784129  \n",
       "13           0.683585          0.701102        0.719539  \n",
       "14           0.729546          0.671991        0.622853  \n",
       "15           0.792797          0.615273        0.502706  \n",
       "16           0.867060          0.525138        0.376619  \n",
       "17           0.922086          0.443196        0.291700  \n",
       "18           0.946926          0.401427        0.254700  "
      ]
     },
     "execution_count": 52,
     "metadata": {},
     "output_type": "execute_result"
    }
   ],
   "source": [
    "print(\"\")\n",
    "print(\"*\"*35,\"SCORES FOR XGBOOST CLASSIFIER\",\"*\"*35)\n",
    "print(\"\")\n",
    "scores_XGB"
   ]
  },
  {
   "cell_type": "code",
   "execution_count": 53,
   "metadata": {},
   "outputs": [
    {
     "data": {
      "text/plain": [
       "<sklearn.metrics._plot.roc_curve.RocCurveDisplay at 0x200d1d5ddc8>"
      ]
     },
     "execution_count": 53,
     "metadata": {},
     "output_type": "execute_result"
    },
    {
     "data": {
      "image/png": "[encoded data removed]",
      "text/plain": [
       "<Figure size 432x288 with 1 Axes>"
      ]
     },
     "metadata": {},
     "output_type": "display_data"
    }
   ],
   "source": [
    "disp =plot_roc_curve(LR, x_train,y_train)\n",
    "plot_roc_curve(DT, x_train,y_train, ax=disp.ax_)\n",
    "plot_roc_curve(RF, x_train,y_train, ax=disp.ax_)\n",
    "plot_roc_curve(xg, x_train,y_train, ax=disp.ax_)"
   ]
  }
 ],
 "metadata": {
  "kernelspec": {
   "display_name": "Python 3",
   "language": "python",
   "name": "python3"
  },
  "language_info": {
   "codemirror_mode": {
    "name": "ipython",
    "version": 3
   },
   "file_extension": ".py",
   "mimetype": "text/x-python",
   "name": "python",
   "nbconvert_exporter": "python",
   "pygments_lexer": "ipython3",
   "version": "3.7.6"
  }
 },
 "nbformat": 4,
 "nbformat_minor": 4
}
