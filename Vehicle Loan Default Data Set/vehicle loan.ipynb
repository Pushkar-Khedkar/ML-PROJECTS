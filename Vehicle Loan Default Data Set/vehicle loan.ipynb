{
 "cells": [
  {
   "cell_type": "markdown",
   "metadata": {},
   "source": [
    "**Description:**\n",
    "\n",
    "Financial institutions incur significant losses due to the default of vehicle loans. This has led to the tightening up of vehicle loan underwriting and increased vehicle loan rejection rates. The need for a better credit risk scoring model is also raised by these institutions. This warrants a study to estimate the determinants of vehicle loan default.\n",
    "A financial institution has hired you to accurately predict the probability of loanee/borrower defaulting on a vehicle loan in the first EMI (Equated Monthly Instalments) on the due date. Following Information regarding the loan and loanee are provided:\n",
    "\n",
    "    \n",
    "Loanee Information (Demographic data like age, income, Identity proof etc.)\n",
    "\n",
    "Loan Information (Disbursal details, amount, EMI, loan to value ratio etc.)\n",
    "\n",
    "Bureau data & history (Bureau score, number of active accounts, the status of other loans, credit history etc.)\n",
    "\n",
    "Doing so will ensure that clients capable of repayment are not rejected and important determinants can be identified which can be further used for minimising the default rates.\n",
    "\n",
    "**Objective:**\n",
    "To find people who can be loan defaulters\n"
   ]
  },
  {
   "cell_type": "code",
   "execution_count": 1,
   "metadata": {},
   "outputs": [],
   "source": [
    "import pandas as pd\n",
    "import numpy as np\n",
    "import matplotlib.pyplot as plt\n",
    "import seaborn as sns\n",
    "from datetime import date\n",
    "import datetime as dt\n",
    "from sklearn.model_selection import cross_val_score\n",
    "from sklearn.metrics import precision_score , recall_score, fbeta_score , accuracy_score\n",
    "from imblearn.over_sampling import SMOTE\n",
    "import warnings\n",
    "from pandas.core.common import SettingWithCopyWarning\n",
    "from sklearn.ensemble import RandomForestClassifier, AdaBoostClassifier\n",
    "from sklearn.pipeline import Pipeline\n",
    "from sklearn.neighbors import KNeighborsClassifier\n",
    "from sklearn.svm import SVC\n",
    "from sklearn.preprocessing import StandardScaler, Normalizer, MinMaxScaler\n",
    "from tqdm import tqdm\n",
    "import xgboost as xgb\n",
    "from sklearn.linear_model import LogisticRegression\n",
    "from sklearn.model_selection import GridSearchCV\n",
    "from sklearn.model_selection import train_test_split\n",
    "from sklearn.metrics import roc_curve , auc\n",
    "from sklearn.metrics import plot_roc_curve\n",
    "from sklearn.tree import DecisionTreeClassifier"
   ]
  },
  {
   "cell_type": "code",
   "execution_count": 2,
   "metadata": {},
   "outputs": [],
   "source": [
    "pd.set_option(\"display.max_rows\", 100)\n",
    "pd.set_option(\"display.max_columns\", 100)"
   ]
  },
  {
   "cell_type": "code",
   "execution_count": 3,
   "metadata": {},
   "outputs": [],
   "source": [
    "#loading data\n",
    "df1 = pd.read_csv(\"train.csv\")\n",
    "df2 = pd.read_csv(\"test.csv\")\n",
    "df = [df1,df2]\n",
    "Type =[\"Train data\", \"Test data\"]"
   ]
  },
  {
   "cell_type": "code",
   "execution_count": 4,
   "metadata": {},
   "outputs": [
    {
     "name": "stdout",
     "output_type": "stream",
     "text": [
      "Train data has 233154 datapoints and 41 features.\n",
      "Test data has 112392 datapoints and 40 features.\n"
     ]
    }
   ],
   "source": [
    "print(\"Train data has {} datapoints and {} features.\".format(df1.shape[0], df1.shape[1]))\n",
    "print(\"Test data has {} datapoints and {} features.\".format(df2.shape[0], df2.shape[1]))"
   ]
  },
  {
   "cell_type": "markdown",
   "metadata": {},
   "source": [
    "# 1. Exploratory Data Analysis (EDA):"
   ]
  },
  {
   "cell_type": "markdown",
   "metadata": {},
   "source": [
    "## 1. a] Missing Values handling:"
   ]
  },
  {
   "cell_type": "code",
   "execution_count": 5,
   "metadata": {},
   "outputs": [
    {
     "name": "stdout",
     "output_type": "stream",
     "text": [
      "============================== Train data ==============================\n",
      "------------------------------------------------------------------------\n",
      "UNIQUEID                                  0\n",
      "DISBURSED_AMOUNT                          0\n",
      "ASSET_COST                                0\n",
      "LTV                                       0\n",
      "BRANCH_ID                                 0\n",
      "SUPPLIER_ID                               0\n",
      "MANUFACTURER_ID                           0\n",
      "CURRENT_PINCODE_ID                        0\n",
      "DATE_OF_BIRTH                             0\n",
      "EMPLOYMENT_TYPE                        7661\n",
      "DISBURSAL_DATE                            0\n",
      "STATE_ID                                  0\n",
      "EMPLOYEE_CODE_ID                          0\n",
      "MOBILENO_AVL_FLAG                         0\n",
      "AADHAR_FLAG                               0\n",
      "PAN_FLAG                                  0\n",
      "VOTERID_FLAG                              0\n",
      "DRIVING_FLAG                              0\n",
      "PASSPORT_FLAG                             0\n",
      "PERFORM_CNS_SCORE                         0\n",
      "PERFORM_CNS_SCORE_DESCRIPTION             0\n",
      "PRI_NO_OF_ACCTS                           0\n",
      "PRI_ACTIVE_ACCTS                          0\n",
      "PRI_OVERDUE_ACCTS                         0\n",
      "PRI_CURRENT_BALANCE                       0\n",
      "PRI_SANCTIONED_AMOUNT                     0\n",
      "PRI_DISBURSED_AMOUNT                      0\n",
      "SEC_NO_OF_ACCTS                           0\n",
      "SEC_ACTIVE_ACCTS                          0\n",
      "SEC_OVERDUE_ACCTS                         0\n",
      "SEC_CURRENT_BALANCE                       0\n",
      "SEC_SANCTIONED_AMOUNT                     0\n",
      "SEC_DISBURSED_AMOUNT                      0\n",
      "PRIMARY_INSTAL_AMT                        0\n",
      "SEC_INSTAL_AMT                            0\n",
      "NEW_ACCTS_IN_LAST_SIX_MONTHS              0\n",
      "DELINQUENT_ACCTS_IN_LAST_SIX_MONTHS       0\n",
      "AVERAGE_ACCT_AGE                          0\n",
      "CREDIT_HISTORY_LENGTH                     0\n",
      "NO_OF_INQUIRIES                           0\n",
      "LOAN_DEFAULT                              0\n",
      "dtype: int64\n",
      "============================== Test data ==============================\n",
      "------------------------------------------------------------------------\n",
      "UNIQUEID                                  0\n",
      "DISBURSED_AMOUNT                          0\n",
      "ASSET_COST                                0\n",
      "LTV                                       0\n",
      "BRANCH_ID                                 0\n",
      "SUPPLIER_ID                               0\n",
      "MANUFACTURER_ID                           0\n",
      "CURRENT_PINCODE_ID                        0\n",
      "DATE_OF_BIRTH                             0\n",
      "EMPLOYMENT_TYPE                        3443\n",
      "DISBURSAL_DATE                            0\n",
      "STATE_ID                                  0\n",
      "EMPLOYEE_CODE_ID                          0\n",
      "MOBILENO_AVL_FLAG                         0\n",
      "AADHAR_FLAG                               0\n",
      "PAN_FLAG                                  0\n",
      "VOTERID_FLAG                              0\n",
      "DRIVING_FLAG                              0\n",
      "PASSPORT_FLAG                             0\n",
      "PERFORM_CNS_SCORE                         0\n",
      "PERFORM_CNS_SCORE_DESCRIPTION             0\n",
      "PRI_NO_OF_ACCTS                           0\n",
      "PRI_ACTIVE_ACCTS                          0\n",
      "PRI_OVERDUE_ACCTS                         0\n",
      "PRI_CURRENT_BALANCE                       0\n",
      "PRI_SANCTIONED_AMOUNT                     0\n",
      "PRI_DISBURSED_AMOUNT                      0\n",
      "SEC_NO_OF_ACCTS                           0\n",
      "SEC_ACTIVE_ACCTS                          0\n",
      "SEC_OVERDUE_ACCTS                         0\n",
      "SEC_CURRENT_BALANCE                       0\n",
      "SEC_SANCTIONED_AMOUNT                     0\n",
      "SEC_DISBURSED_AMOUNT                      0\n",
      "PRIMARY_INSTAL_AMT                        0\n",
      "SEC_INSTAL_AMT                            0\n",
      "NEW_ACCTS_IN_LAST_SIX_MONTHS              0\n",
      "DELINQUENT_ACCTS_IN_LAST_SIX_MONTHS       0\n",
      "AVERAGE_ACCT_AGE                          0\n",
      "CREDIT_HISTORY_LENGTH                     0\n",
      "NO_OF_INQUIRIES                           0\n",
      "dtype: int64\n"
     ]
    }
   ],
   "source": [
    "for i,j in zip(df,Type):\n",
    "    print(\"=\"*30,j,\"=\"*30)\n",
    "    print(\"-\"*72)\n",
    "    print(i.isnull().sum())"
   ]
  },
  {
   "cell_type": "code",
   "execution_count": 6,
   "metadata": {},
   "outputs": [
    {
     "name": "stdout",
     "output_type": "stream",
     "text": [
      "Percent of missing values in EMPLOYMENT_TYPE column of training dataset: 3.2858110948128703 %\n",
      "Percent of missing values in EMPLOYMENT_TYPE column of testing dataset: 3.0633852943269986 %\n"
     ]
    }
   ],
   "source": [
    "print(\"Percent of missing values in EMPLOYMENT_TYPE column of training dataset:\",\n",
    "      df1[\"EMPLOYMENT_TYPE\"].isnull().sum()*100/df1.shape[0],\"%\")\n",
    "print(\"Percent of missing values in EMPLOYMENT_TYPE column of testing dataset:\",\n",
    "      df2[\"EMPLOYMENT_TYPE\"].isnull().sum()*100/df2.shape[0],\"%\")"
   ]
  },
  {
   "cell_type": "markdown",
   "metadata": {},
   "source": [
    "losing data is never a good idea, but since these missing values are extremely small part of dataset, we will drop those rows."
   ]
  },
  {
   "cell_type": "code",
   "execution_count": 7,
   "metadata": {},
   "outputs": [],
   "source": [
    "df1.dropna(inplace=True)\n",
    "df2.dropna(inplace=True)"
   ]
  },
  {
   "cell_type": "markdown",
   "metadata": {},
   "source": [
    "## 1. b] Treatment of  categorical variables:"
   ]
  },
  {
   "cell_type": "code",
   "execution_count": 8,
   "metadata": {},
   "outputs": [],
   "source": [
    "df1_cat = df1.select_dtypes(include = \"object\")"
   ]
  },
  {
   "cell_type": "code",
   "execution_count": 9,
   "metadata": {},
   "outputs": [
    {
     "data": {
      "text/plain": [
       "Index(['DATE_OF_BIRTH', 'EMPLOYMENT_TYPE', 'DISBURSAL_DATE',\n",
       "       'PERFORM_CNS_SCORE_DESCRIPTION', 'AVERAGE_ACCT_AGE',\n",
       "       'CREDIT_HISTORY_LENGTH'],\n",
       "      dtype='object')"
      ]
     },
     "execution_count": 9,
     "metadata": {},
     "output_type": "execute_result"
    }
   ],
   "source": [
    "df1_cat.columns    #list of categorical columns in datasets"
   ]
  },
  {
   "cell_type": "markdown",
   "metadata": {},
   "source": [
    "### 1. b] a] Converting datetime columns into age:"
   ]
  },
  {
   "cell_type": "code",
   "execution_count": 10,
   "metadata": {},
   "outputs": [],
   "source": [
    "for i in df:\n",
    "    i[\"DATE_OF_BIRTH\"] = pd.to_datetime(i[\"DATE_OF_BIRTH\"])   #converting into datetime column\n",
    "    i[\"Age\"] = 2019- i[\"DATE_OF_BIRTH\"].dt.year\n",
    "    i.drop(columns = \"DATE_OF_BIRTH\", inplace=True)\n",
    "    i[\"DISBURSAL_DATE\"] = pd.to_datetime(i[\"DISBURSAL_DATE\"])\n",
    "    i[\"Loan_age_months\"] = 12 - i[\"DISBURSAL_DATE\"].dt.month\n",
    "    i.drop(columns = \"DISBURSAL_DATE\", inplace=True)"
   ]
  },
  {
   "cell_type": "markdown",
   "metadata": {},
   "source": [
    "### 1. b] b] PERFORM_CNS_SCORE_DESCRIPTION column:"
   ]
  },
  {
   "cell_type": "code",
   "execution_count": 11,
   "metadata": {},
   "outputs": [
    {
     "name": "stdout",
     "output_type": "stream",
     "text": [
      "============================== Value counts of  Train data ==============================\n",
      "------------------------------------------------------------------------------------------\n",
      "No Bureau History Available                                111773\n",
      "C-Very Low Risk                                             15715\n",
      "A-Very Low Risk                                             13790\n",
      "D-Very Low Risk                                             11134\n",
      "B-Very Low Risk                                              9032\n",
      "M-Very High Risk                                             8632\n",
      "F-Low Risk                                                   8309\n",
      "K-High Risk                                                  8107\n",
      "H-Medium Risk                                                6695\n",
      "E-Low Risk                                                   5695\n",
      "I-Medium Risk                                                5440\n",
      "G-Low Risk                                                   3902\n",
      "Not Scored: Sufficient History Not Available                 3671\n",
      "J-High Risk                                                  3667\n",
      "Not Scored: Not Enough Info available on the customer        3557\n",
      "Not Scored: No Activity seen on the customer (Inactive)      2815\n",
      "Not Scored: No Updates available in last 36 months           1477\n",
      "L-Very High Risk                                             1122\n",
      "Not Scored: Only a Guarantor                                  957\n",
      "Not Scored: More than 50 active Accounts found                  3\n",
      "Name: PERFORM_CNS_SCORE_DESCRIPTION, dtype: int64\n",
      "\n",
      "Number of unique values in Train data = 20\n",
      "\n",
      "\n",
      "============================== Value counts of  Test data ==============================\n",
      "------------------------------------------------------------------------------------------\n",
      "No Bureau History Available                                55476\n",
      "C-Very Low Risk                                             7673\n",
      "A-Very Low Risk                                             7394\n",
      "D-Very Low Risk                                             5012\n",
      "B-Very Low Risk                                             4426\n",
      "M-Very High Risk                                            3967\n",
      "K-High Risk                                                 3814\n",
      "F-Low Risk                                                  3622\n",
      "H-Medium Risk                                               3235\n",
      "I-Medium Risk                                               2650\n",
      "E-Low Risk                                                  2510\n",
      "G-Low Risk                                                  1768\n",
      "J-High Risk                                                 1743\n",
      "Not Scored: No Activity seen on the customer (Inactive)     1340\n",
      "Not Scored: Not Enough Info available on the customer       1243\n",
      "Not Scored: Sufficient History Not Available                1242\n",
      "Not Scored: No Updates available in last 36 months           744\n",
      "L-Very High Risk                                             637\n",
      "Not Scored: Only a Guarantor                                 453\n",
      "Name: PERFORM_CNS_SCORE_DESCRIPTION, dtype: int64\n",
      "\n",
      "Number of unique values in Test data = 19\n",
      "\n",
      "\n"
     ]
    }
   ],
   "source": [
    "for i,j in zip(df,Type):\n",
    "    print(\"=\"*30,\"Value counts of \",j,\"=\"*30)\n",
    "    print(\"-\"*90)\n",
    "    print(i[\"PERFORM_CNS_SCORE_DESCRIPTION\"].value_counts())\n",
    "    print(\"\")\n",
    "    print(\"Number of unique values in\",j, \"=\" ,len(i[\"PERFORM_CNS_SCORE_DESCRIPTION\"].value_counts()))\n",
    "    print(\"\")\n",
    "    print(\"\")"
   ]
  },
  {
   "cell_type": "markdown",
   "metadata": {},
   "source": [
    "**\"Not Scored: More than 50 active Accounts found\"** : This category is missing in test dataset.\n",
    "since it is present in only 3 datapoints in training dataset, we will drop it."
   ]
  },
  {
   "cell_type": "code",
   "execution_count": 12,
   "metadata": {},
   "outputs": [],
   "source": [
    "df1 = df1[df1[\"PERFORM_CNS_SCORE_DESCRIPTION\"] != \"Not Scored: More than 50 active Accounts found\"]"
   ]
  },
  {
   "cell_type": "markdown",
   "metadata": {},
   "source": [
    "### 1. b] c] Columns \"AVERAGE_ACCT_AGE\" and \"CREDIT_HISTORY_LENGTH\":"
   ]
  },
  {
   "cell_type": "code",
   "execution_count": 13,
   "metadata": {},
   "outputs": [],
   "source": [
    "warnings.simplefilter(action=\"ignore\", category=SettingWithCopyWarning)\n",
    "def converter(x):\n",
    "    l = x.split()\n",
    "    P = int((l[0][:-3]))*12 + int(l[1][:-3])\n",
    "    return P\n",
    "df1[\"AVERAGE_ACCT_AGE\"] = df1[\"AVERAGE_ACCT_AGE\"].apply(lambda x: converter(x))\n",
    "df1[\"CREDIT_HISTORY_LENGTH\"] = df1[\"CREDIT_HISTORY_LENGTH\"].apply(lambda x: converter(x))\n",
    "df2[\"AVERAGE_ACCT_AGE\"] = df2[\"AVERAGE_ACCT_AGE\"].apply(lambda x: converter(x))\n",
    "df2[\"CREDIT_HISTORY_LENGTH\"] = df2[\"CREDIT_HISTORY_LENGTH\"].apply(lambda x: converter(x))"
   ]
  },
  {
   "cell_type": "markdown",
   "metadata": {},
   "source": [
    "# 2. Visualization and insights"
   ]
  },
  {
   "cell_type": "markdown",
   "metadata": {},
   "source": [
    "## 2] a] Univariate analysis:"
   ]
  },
  {
   "cell_type": "markdown",
   "metadata": {},
   "source": [
    "### 2. a] a] Comparison of defaults and non-defaults"
   ]
  },
  {
   "cell_type": "code",
   "execution_count": 14,
   "metadata": {},
   "outputs": [
    {
     "data": {
      "image/png": "[encoded data removed]",
      "text/plain": [
       "<Figure size 504x504 with 1 Axes>"
      ]
     },
     "metadata": {
      "needs_background": "light"
     },
     "output_type": "display_data"
    }
   ],
   "source": [
    "plt.figure(figsize=(7,7))\n",
    "plot = sns.countplot(x= \"LOAN_DEFAULT\",data=df1)\n",
    "for bar in plot.patches:\n",
    "    plot.annotate(format(bar.get_height(), '.2f'),\n",
    "                   (bar.get_x() + bar.get_width() / 2,\n",
    "                    bar.get_height()), ha='center', va='center',\n",
    "                   size=15, xytext=(0, 8),\n",
    "                   textcoords='offset points')"
   ]
  },
  {
   "cell_type": "code",
   "execution_count": 15,
   "metadata": {},
   "outputs": [
    {
     "name": "stdout",
     "output_type": "stream",
     "text": [
      "Percentage of people who default:  21.715818883320768\n"
     ]
    }
   ],
   "source": [
    "print(\"Percentage of people who default: \", df1[\"LOAN_DEFAULT\"].value_counts()[1]*100/df1.shape[0])"
   ]
  },
  {
   "cell_type": "markdown",
   "metadata": {},
   "source": [
    "### 2. a] b] Distribution of DISBURSED_AMOUNT"
   ]
  },
  {
   "cell_type": "code",
   "execution_count": 16,
   "metadata": {},
   "outputs": [
    {
     "data": {
      "image/png": "[encoded data removed]",
      "text/plain": [
       "<Figure size 1080x504 with 1 Axes>"
      ]
     },
     "metadata": {
      "needs_background": "light"
     },
     "output_type": "display_data"
    }
   ],
   "source": [
    "plt.figure(figsize=(15,7))\n",
    "sns.kdeplot(x=\"DISBURSED_AMOUNT\", data=df1, color=\"green\", fill=True)\n",
    "sns.set_style(style=\"darkgrid\")\n",
    "plt.xticks(np.arange(0,1000000,100000))\n",
    "plt.show()"
   ]
  },
  {
   "cell_type": "markdown",
   "metadata": {},
   "source": [
    "### 2. a] c] Distribution of ASSET_COST"
   ]
  },
  {
   "cell_type": "code",
   "execution_count": 17,
   "metadata": {},
   "outputs": [
    {
     "data": {
      "image/png": "[encoded data removed]",
      "text/plain": [
       "<Figure size 1080x504 with 1 Axes>"
      ]
     },
     "metadata": {},
     "output_type": "display_data"
    }
   ],
   "source": [
    "plt.figure(figsize=(15,7))\n",
    "sns.kdeplot(x=\"ASSET_COST\", data=df1, color=\"red\", fill=True)\n",
    "sns.set_style(style=\"darkgrid\")\n",
    "plt.xticks(np.arange(0,1000000,100000))\n",
    "plt.show()"
   ]
  },
  {
   "cell_type": "markdown",
   "metadata": {},
   "source": [
    "### 2. a] d] Distribution of LTV"
   ]
  },
  {
   "cell_type": "code",
   "execution_count": 18,
   "metadata": {},
   "outputs": [
    {
     "data": {
      "text/plain": [
       "<matplotlib.axes._subplots.AxesSubplot at 0x2e4bef66408>"
      ]
     },
     "execution_count": 18,
     "metadata": {},
     "output_type": "execute_result"
    },
    {
     "data": {
      "image/png": "[encoded data removed]",
      "text/plain": [
       "<Figure size 1080x504 with 1 Axes>"
      ]
     },
     "metadata": {},
     "output_type": "display_data"
    }
   ],
   "source": [
    "plt.figure(figsize=(15,7))\n",
    "sns.kdeplot(x=\"LTV\", data=df1, color=\"blue\", fill=True)"
   ]
  },
  {
   "cell_type": "markdown",
   "metadata": {},
   "source": [
    "# 3. Preprocessing "
   ]
  },
  {
   "cell_type": "markdown",
   "metadata": {},
   "source": [
    "## 3. a] Dropping unncessary columns:"
   ]
  },
  {
   "cell_type": "code",
   "execution_count": 19,
   "metadata": {},
   "outputs": [
    {
     "data": {
      "text/plain": [
       "Index(['UNIQUEID', 'DISBURSED_AMOUNT', 'ASSET_COST', 'LTV', 'BRANCH_ID',\n",
       "       'SUPPLIER_ID', 'MANUFACTURER_ID', 'CURRENT_PINCODE_ID',\n",
       "       'EMPLOYMENT_TYPE', 'STATE_ID', 'EMPLOYEE_CODE_ID', 'MOBILENO_AVL_FLAG',\n",
       "       'AADHAR_FLAG', 'PAN_FLAG', 'VOTERID_FLAG', 'DRIVING_FLAG',\n",
       "       'PASSPORT_FLAG', 'PERFORM_CNS_SCORE', 'PERFORM_CNS_SCORE_DESCRIPTION',\n",
       "       'PRI_NO_OF_ACCTS', 'PRI_ACTIVE_ACCTS', 'PRI_OVERDUE_ACCTS',\n",
       "       'PRI_CURRENT_BALANCE', 'PRI_SANCTIONED_AMOUNT', 'PRI_DISBURSED_AMOUNT',\n",
       "       'SEC_NO_OF_ACCTS', 'SEC_ACTIVE_ACCTS', 'SEC_OVERDUE_ACCTS',\n",
       "       'SEC_CURRENT_BALANCE', 'SEC_SANCTIONED_AMOUNT', 'SEC_DISBURSED_AMOUNT',\n",
       "       'PRIMARY_INSTAL_AMT', 'SEC_INSTAL_AMT', 'NEW_ACCTS_IN_LAST_SIX_MONTHS',\n",
       "       'DELINQUENT_ACCTS_IN_LAST_SIX_MONTHS', 'AVERAGE_ACCT_AGE',\n",
       "       'CREDIT_HISTORY_LENGTH', 'NO_OF_INQUIRIES', 'LOAN_DEFAULT', 'Age',\n",
       "       'Loan_age_months'],\n",
       "      dtype='object')"
      ]
     },
     "execution_count": 19,
     "metadata": {},
     "output_type": "execute_result"
    }
   ],
   "source": [
    "df1.columns   # getting list of columns"
   ]
  },
  {
   "cell_type": "code",
   "execution_count": 20,
   "metadata": {},
   "outputs": [],
   "source": [
    "df1.drop(columns = [\"UNIQUEID\", \"BRANCH_ID\",\"EMPLOYEE_CODE_ID\",\"SUPPLIER_ID\",\n",
    "                      \"MANUFACTURER_ID\",\"CURRENT_PINCODE_ID\",\"STATE_ID\"], inplace=True)\n",
    "df2.drop(columns = [\"UNIQUEID\", \"BRANCH_ID\",\"EMPLOYEE_CODE_ID\",\"SUPPLIER_ID\",\n",
    "                      \"MANUFACTURER_ID\",\"CURRENT_PINCODE_ID\",\"STATE_ID\"], inplace=True)"
   ]
  },
  {
   "cell_type": "code",
   "execution_count": 21,
   "metadata": {},
   "outputs": [],
   "source": [
    "df1.drop(columns=[\"MOBILENO_AVL_FLAG\",\"AADHAR_FLAG\",\"PAN_FLAG\",\"VOTERID_FLAG\",\"DRIVING_FLAG\",\"PASSPORT_FLAG\"], inplace=True)\n",
    "df2.drop(columns=[\"MOBILENO_AVL_FLAG\",\"AADHAR_FLAG\",\"PAN_FLAG\",\"VOTERID_FLAG\",\"DRIVING_FLAG\",\"PASSPORT_FLAG\"], inplace=True)"
   ]
  },
  {
   "cell_type": "markdown",
   "metadata": {},
   "source": [
    "## 2. c] One-hot encoding"
   ]
  },
  {
   "cell_type": "code",
   "execution_count": 22,
   "metadata": {},
   "outputs": [],
   "source": [
    "df1_num= df1.select_dtypes(exclude = \"object\").columns\n",
    "df2_num =df2.select_dtypes(exclude = \"object\").columns            #list of all numerical columns"
   ]
  },
  {
   "cell_type": "code",
   "execution_count": 23,
   "metadata": {},
   "outputs": [],
   "source": [
    "for i in (df1.select_dtypes(include = \"object\")).columns:\n",
    "    df_dummies1 = pd.get_dummies(df1[i], drop_first=True, prefix = i)\n",
    "    df1= pd.concat([df1,df_dummies1], axis=1)\n",
    "    df_dummies2 = pd.get_dummies(df2[i], drop_first=True, prefix = i)\n",
    "    df2= pd.concat([df2,df_dummies2], axis=1)\n",
    "    #dropping initial columns\n",
    "    df1.drop(columns = i, inplace=True)\n",
    "    df2.drop(columns = i, inplace=True)"
   ]
  },
  {
   "cell_type": "markdown",
   "metadata": {},
   "source": [
    "## 2. a] Checking class balance"
   ]
  },
  {
   "cell_type": "code",
   "execution_count": 24,
   "metadata": {},
   "outputs": [
    {
     "name": "stdout",
     "output_type": "stream",
     "text": [
      "==================== Target Class balance in Training data in %  ====================\n",
      "--------------------------------------------------------------------------------\n",
      "0    78.284181\n",
      "1    21.715819\n",
      "Name: LOAN_DEFAULT, dtype: float64\n"
     ]
    }
   ],
   "source": [
    "print(\"=\"*20,\"Target Class balance in Training data in % \",\"=\"*20)\n",
    "print(\"-\"*80)\n",
    "print(df1[\"LOAN_DEFAULT\"].value_counts()*100/df1.shape[0])"
   ]
  },
  {
   "cell_type": "markdown",
   "metadata": {},
   "source": [
    "There is a class imbalance in the data."
   ]
  },
  {
   "cell_type": "markdown",
   "metadata": {},
   "source": [
    "## 2. b] Oversampling"
   ]
  },
  {
   "cell_type": "code",
   "execution_count": 25,
   "metadata": {},
   "outputs": [],
   "source": [
    "#oversampling\n",
    "X = df1.drop(columns = \"LOAN_DEFAULT\")\n",
    "Y = df1[\"LOAN_DEFAULT\"]\n",
    "sm = SMOTE(random_state=42)\n",
    "x_train,y_train = sm.fit_resample(X,Y)\n",
    "x_test = df2"
   ]
  },
  {
   "cell_type": "code",
   "execution_count": 26,
   "metadata": {},
   "outputs": [
    {
     "data": {
      "text/plain": [
       "1    176523\n",
       "0    176523\n",
       "Name: LOAN_DEFAULT, dtype: int64"
      ]
     },
     "execution_count": 26,
     "metadata": {},
     "output_type": "execute_result"
    }
   ],
   "source": [
    "y_train.value_counts()      #mbalance has been taken care of."
   ]
  },
  {
   "cell_type": "markdown",
   "metadata": {},
   "source": [
    "## 2. c] Train-test split"
   ]
  },
  {
   "cell_type": "code",
   "execution_count": 27,
   "metadata": {},
   "outputs": [],
   "source": [
    "x_train , x_cv , y_train, y_cv = train_test_split(x_train,y_train, test_size = 0.3, random_state = 24 )\n",
    "x_train , x_test , y_train, y_test = train_test_split(x_train,y_train, test_size = 0.3, random_state = 24 )"
   ]
  },
  {
   "cell_type": "markdown",
   "metadata": {},
   "source": [
    "## 2. d] Standardization"
   ]
  },
  {
   "cell_type": "code",
   "execution_count": 28,
   "metadata": {},
   "outputs": [],
   "source": [
    "#Standardizing\n",
    "sc = StandardScaler()\n",
    "x_train = sc.fit_transform(x_train)\n",
    "x_cv = sc.fit_transform(x_cv)\n",
    "x_test = sc.transform(x_test)"
   ]
  },
  {
   "cell_type": "markdown",
   "metadata": {},
   "source": [
    "# MODELLING"
   ]
  },
  {
   "cell_type": "markdown",
   "metadata": {},
   "source": [
    "## 1. Logistic Regression"
   ]
  },
  {
   "cell_type": "markdown",
   "metadata": {},
   "source": [
    "### 1. a] Gridsearch"
   ]
  },
  {
   "cell_type": "code",
   "execution_count": 29,
   "metadata": {},
   "outputs": [
    {
     "data": {
      "text/plain": [
       "{'C': 0.1, 'penalty': 'l2'}"
      ]
     },
     "execution_count": 29,
     "metadata": {},
     "output_type": "execute_result"
    }
   ],
   "source": [
    "warnings.simplefilter(action=\"ignore\", category=UserWarning)\n",
    "params = {\"penalty\":[\"l1\",\"l2\"], \"C\":[0.001,0.01,0.1]}\n",
    "gs = GridSearchCV(LogisticRegression(max_iter=300),params, cv = 4, n_jobs=-1)\n",
    "gs.fit(x_train,y_train)\n",
    "gs.best_params_"
   ]
  },
  {
   "cell_type": "code",
   "execution_count": 30,
   "metadata": {},
   "outputs": [
    {
     "name": "stdout",
     "output_type": "stream",
     "text": [
      "Traning score:  0.6891069710900111\n",
      "Cross validation score:  0.6894689191767631\n"
     ]
    }
   ],
   "source": [
    "#initiating best parameters\n",
    "LR = LogisticRegression(C= 0.1, penalty= 'l2')\n",
    "LR.fit(x_train,y_train)\n",
    "y_train_pred = LR.predict(x_train)\n",
    "print(\"Traning score: \", fbeta_score(y_train,y_train_pred,beta=1))\n",
    "scores = cross_val_score(LR , x_train, y_train, cv = 4, scoring = \"f1\")\n",
    "print(\"Cross validation score: \", scores.mean())"
   ]
  },
  {
   "cell_type": "markdown",
   "metadata": {},
   "source": [
    "### 1. b] ROC curve for logistic regression"
   ]
  },
  {
   "cell_type": "code",
   "execution_count": 31,
   "metadata": {},
   "outputs": [],
   "source": [
    "#function for roc curve\n",
    "def roc_(model,x_train,y_train):\n",
    "    model.fit(x_train, y_train)\n",
    "    y_train_proba = model.predict_proba(x_train)\n",
    "    fpr,tpr,thresholds = roc_curve(y_train,[i[1] for i in y_train_proba])\n",
    "    roc_df = pd.DataFrame({\"fpr\":fpr, \"tpr\":tpr, \"thresholds\":thresholds})\n",
    "    roc_filtered = pd.DataFrame()\n",
    "    for i in np.arange(1, roc_df.shape[0]-1, int(roc_df.shape[0]/10)):\n",
    "        roc_filtered = pd.concat([roc_filtered,pd.DataFrame(roc_df.iloc[i,:]).T], axis=0)\n",
    "    plt.figure(figsize=(10,10))\n",
    "    sns.lineplot(x=roc_filtered[\"fpr\"],y=roc_filtered[\"tpr\"])\n",
    "    sns.set_style(style=\"darkgrid\")\n",
    "    plt.yticks(np.arange(0,1,0.05))\n",
    "    plt.xticks(np.arange(0,1,0.05))\n",
    "    plt.xlim(0,1)\n",
    "    plt.ylim(-0.05,1.05)\n",
    "    plt.show()"
   ]
  },
  {
   "cell_type": "code",
   "execution_count": 32,
   "metadata": {},
   "outputs": [
    {
     "data": {
      "image/png": "[encoded data removed]",
      "text/plain": [
       "<Figure size 720x720 with 1 Axes>"
      ]
     },
     "metadata": {},
     "output_type": "display_data"
    }
   ],
   "source": [
    "roc_(LogisticRegression(C= 0.1, penalty= 'l2'),x_train,y_train)"
   ]
  },
  {
   "cell_type": "code",
   "execution_count": 33,
   "metadata": {},
   "outputs": [],
   "source": [
    "#buiding scores dataframe\n",
    "def scoresdf(model, x_train, y_train, x_test, y_test):\n",
    "    threshold_list = np.arange(0.05,1,0.05)\n",
    "    scores = pd.DataFrame(np.random.randint(0,100,size=(len(threshold_list),7)),\n",
    "                                                 columns = [\"Thresholds\",\"Training precision\", \n",
    "                                                            \"Training F1 score\", \n",
    "                                                            \"Training Recall\",\n",
    "                                                           \"Testing precision\", \n",
    "                                                            \"Testing F1 score\", \n",
    "                                                            \"Testing Recall\"])\n",
    "    model.fit(x_train,y_train)\n",
    "    y_train_proba = model.predict_proba(x_train)\n",
    "    y_test_proba = model.predict_proba(x_test)\n",
    "    for j,k in zip(threshold_list, np.arange(0,len(threshold_list))):\n",
    "        roc_probs = []\n",
    "        for i in y_train_proba:\n",
    "            if i[1]<j:\n",
    "                roc_probs.append(0)\n",
    "            else:\n",
    "                roc_probs.append(1)\n",
    "        scores.loc[k,\"Training precision\"]=precision_score(y_train,roc_probs)\n",
    "        scores.loc[k,\"Training F1 score\"]=fbeta_score(y_train,roc_probs,beta=1)\n",
    "        scores.loc[k,\"Training Recall\"]=recall_score(y_train,roc_probs)\n",
    "        roc_probs_test = []\n",
    "        for i in y_test_proba:\n",
    "            if i[1]<j:\n",
    "                roc_probs_test.append(0)\n",
    "            else:\n",
    "                roc_probs_test.append(1)\n",
    "        scores.loc[k,\"Testing precision\"]=precision_score(y_test,roc_probs_test)\n",
    "        scores.loc[k,\"Testing F1 score\"]=fbeta_score(y_test,roc_probs_test,beta=1)\n",
    "        scores.loc[k,\"Testing Recall\"]=recall_score(y_test,roc_probs_test)\n",
    "    scores[\"Thresholds\"]=threshold_list\n",
    "    print(\"\")\n",
    "    print(\"*\"*35,\"SCORES\",\"*\"*35)\n",
    "    print(\"\")\n",
    "    return scores"
   ]
  },
  {
   "cell_type": "code",
   "execution_count": 34,
   "metadata": {},
   "outputs": [
    {
     "name": "stdout",
     "output_type": "stream",
     "text": [
      "\n",
      "*********************************** SCORES ***********************************\n",
      "\n"
     ]
    },
    {
     "data": {
      "text/html": [
       "<div>\n",
       "<style scoped>\n",
       "    .dataframe tbody tr th:only-of-type {\n",
       "        vertical-align: middle;\n",
       "    }\n",
       "\n",
       "    .dataframe tbody tr th {\n",
       "        vertical-align: top;\n",
       "    }\n",
       "\n",
       "    .dataframe thead th {\n",
       "        text-align: right;\n",
       "    }\n",
       "</style>\n",
       "<table border=\"1\" class=\"dataframe\">\n",
       "  <thead>\n",
       "    <tr style=\"text-align: right;\">\n",
       "      <th></th>\n",
       "      <th>Thresholds</th>\n",
       "      <th>Training precision</th>\n",
       "      <th>Training F1 score</th>\n",
       "      <th>Training Recall</th>\n",
       "      <th>Testing precision</th>\n",
       "      <th>Testing F1 score</th>\n",
       "      <th>Testing Recall</th>\n",
       "    </tr>\n",
       "  </thead>\n",
       "  <tbody>\n",
       "    <tr>\n",
       "      <th>0</th>\n",
       "      <td>0.05</td>\n",
       "      <td>0.500959</td>\n",
       "      <td>0.667464</td>\n",
       "      <td>0.999757</td>\n",
       "      <td>0.501689</td>\n",
       "      <td>0.668087</td>\n",
       "      <td>0.999642</td>\n",
       "    </tr>\n",
       "    <tr>\n",
       "      <th>1</th>\n",
       "      <td>0.10</td>\n",
       "      <td>0.507286</td>\n",
       "      <td>0.672279</td>\n",
       "      <td>0.996336</td>\n",
       "      <td>0.508828</td>\n",
       "      <td>0.673353</td>\n",
       "      <td>0.995116</td>\n",
       "    </tr>\n",
       "    <tr>\n",
       "      <th>2</th>\n",
       "      <td>0.15</td>\n",
       "      <td>0.520547</td>\n",
       "      <td>0.681323</td>\n",
       "      <td>0.985795</td>\n",
       "      <td>0.523133</td>\n",
       "      <td>0.682913</td>\n",
       "      <td>0.983216</td>\n",
       "    </tr>\n",
       "    <tr>\n",
       "      <th>3</th>\n",
       "      <td>0.20</td>\n",
       "      <td>0.540458</td>\n",
       "      <td>0.693270</td>\n",
       "      <td>0.966561</td>\n",
       "      <td>0.542389</td>\n",
       "      <td>0.694101</td>\n",
       "      <td>0.963641</td>\n",
       "    </tr>\n",
       "    <tr>\n",
       "      <th>4</th>\n",
       "      <td>0.25</td>\n",
       "      <td>0.562385</td>\n",
       "      <td>0.703536</td>\n",
       "      <td>0.939284</td>\n",
       "      <td>0.562650</td>\n",
       "      <td>0.702531</td>\n",
       "      <td>0.934977</td>\n",
       "    </tr>\n",
       "    <tr>\n",
       "      <th>5</th>\n",
       "      <td>0.30</td>\n",
       "      <td>0.584215</td>\n",
       "      <td>0.710535</td>\n",
       "      <td>0.906550</td>\n",
       "      <td>0.582950</td>\n",
       "      <td>0.708570</td>\n",
       "      <td>0.903200</td>\n",
       "    </tr>\n",
       "    <tr>\n",
       "      <th>6</th>\n",
       "      <td>0.35</td>\n",
       "      <td>0.606304</td>\n",
       "      <td>0.714575</td>\n",
       "      <td>0.869922</td>\n",
       "      <td>0.603297</td>\n",
       "      <td>0.711638</td>\n",
       "      <td>0.867407</td>\n",
       "    </tr>\n",
       "    <tr>\n",
       "      <th>7</th>\n",
       "      <td>0.40</td>\n",
       "      <td>0.631114</td>\n",
       "      <td>0.715598</td>\n",
       "      <td>0.826196</td>\n",
       "      <td>0.626185</td>\n",
       "      <td>0.712750</td>\n",
       "      <td>0.827088</td>\n",
       "    </tr>\n",
       "    <tr>\n",
       "      <th>8</th>\n",
       "      <td>0.45</td>\n",
       "      <td>0.662075</td>\n",
       "      <td>0.709131</td>\n",
       "      <td>0.763388</td>\n",
       "      <td>0.655118</td>\n",
       "      <td>0.707411</td>\n",
       "      <td>0.768778</td>\n",
       "    </tr>\n",
       "    <tr>\n",
       "      <th>9</th>\n",
       "      <td>0.50</td>\n",
       "      <td>0.703967</td>\n",
       "      <td>0.689107</td>\n",
       "      <td>0.674862</td>\n",
       "      <td>0.695878</td>\n",
       "      <td>0.690602</td>\n",
       "      <td>0.685406</td>\n",
       "    </tr>\n",
       "    <tr>\n",
       "      <th>10</th>\n",
       "      <td>0.55</td>\n",
       "      <td>0.763784</td>\n",
       "      <td>0.647647</td>\n",
       "      <td>0.562167</td>\n",
       "      <td>0.755035</td>\n",
       "      <td>0.649924</td>\n",
       "      <td>0.570502</td>\n",
       "    </tr>\n",
       "    <tr>\n",
       "      <th>11</th>\n",
       "      <td>0.60</td>\n",
       "      <td>0.837195</td>\n",
       "      <td>0.578121</td>\n",
       "      <td>0.441497</td>\n",
       "      <td>0.826696</td>\n",
       "      <td>0.581617</td>\n",
       "      <td>0.448621</td>\n",
       "    </tr>\n",
       "    <tr>\n",
       "      <th>12</th>\n",
       "      <td>0.65</td>\n",
       "      <td>0.931878</td>\n",
       "      <td>0.487380</td>\n",
       "      <td>0.329981</td>\n",
       "      <td>0.926079</td>\n",
       "      <td>0.491772</td>\n",
       "      <td>0.334773</td>\n",
       "    </tr>\n",
       "    <tr>\n",
       "      <th>13</th>\n",
       "      <td>0.70</td>\n",
       "      <td>0.988580</td>\n",
       "      <td>0.443833</td>\n",
       "      <td>0.286152</td>\n",
       "      <td>0.987686</td>\n",
       "      <td>0.443408</td>\n",
       "      <td>0.285873</td>\n",
       "    </tr>\n",
       "    <tr>\n",
       "      <th>14</th>\n",
       "      <td>0.75</td>\n",
       "      <td>0.996834</td>\n",
       "      <td>0.437439</td>\n",
       "      <td>0.280199</td>\n",
       "      <td>0.995968</td>\n",
       "      <td>0.436525</td>\n",
       "      <td>0.279518</td>\n",
       "    </tr>\n",
       "    <tr>\n",
       "      <th>15</th>\n",
       "      <td>0.80</td>\n",
       "      <td>0.998908</td>\n",
       "      <td>0.431140</td>\n",
       "      <td>0.274894</td>\n",
       "      <td>0.998831</td>\n",
       "      <td>0.430070</td>\n",
       "      <td>0.274030</td>\n",
       "    </tr>\n",
       "    <tr>\n",
       "      <th>16</th>\n",
       "      <td>0.85</td>\n",
       "      <td>0.999913</td>\n",
       "      <td>0.419282</td>\n",
       "      <td>0.265254</td>\n",
       "      <td>0.999857</td>\n",
       "      <td>0.418296</td>\n",
       "      <td>0.264469</td>\n",
       "    </tr>\n",
       "    <tr>\n",
       "      <th>17</th>\n",
       "      <td>0.90</td>\n",
       "      <td>0.999954</td>\n",
       "      <td>0.400214</td>\n",
       "      <td>0.250170</td>\n",
       "      <td>1.000000</td>\n",
       "      <td>0.397516</td>\n",
       "      <td>0.248062</td>\n",
       "    </tr>\n",
       "    <tr>\n",
       "      <th>18</th>\n",
       "      <td>0.95</td>\n",
       "      <td>1.000000</td>\n",
       "      <td>0.362676</td>\n",
       "      <td>0.221506</td>\n",
       "      <td>1.000000</td>\n",
       "      <td>0.359465</td>\n",
       "      <td>0.219115</td>\n",
       "    </tr>\n",
       "  </tbody>\n",
       "</table>\n",
       "</div>"
      ],
      "text/plain": [
       "    Thresholds  Training precision  Training F1 score  Training Recall  \\\n",
       "0         0.05            0.500959           0.667464         0.999757   \n",
       "1         0.10            0.507286           0.672279         0.996336   \n",
       "2         0.15            0.520547           0.681323         0.985795   \n",
       "3         0.20            0.540458           0.693270         0.966561   \n",
       "4         0.25            0.562385           0.703536         0.939284   \n",
       "5         0.30            0.584215           0.710535         0.906550   \n",
       "6         0.35            0.606304           0.714575         0.869922   \n",
       "7         0.40            0.631114           0.715598         0.826196   \n",
       "8         0.45            0.662075           0.709131         0.763388   \n",
       "9         0.50            0.703967           0.689107         0.674862   \n",
       "10        0.55            0.763784           0.647647         0.562167   \n",
       "11        0.60            0.837195           0.578121         0.441497   \n",
       "12        0.65            0.931878           0.487380         0.329981   \n",
       "13        0.70            0.988580           0.443833         0.286152   \n",
       "14        0.75            0.996834           0.437439         0.280199   \n",
       "15        0.80            0.998908           0.431140         0.274894   \n",
       "16        0.85            0.999913           0.419282         0.265254   \n",
       "17        0.90            0.999954           0.400214         0.250170   \n",
       "18        0.95            1.000000           0.362676         0.221506   \n",
       "\n",
       "    Testing precision  Testing F1 score  Testing Recall  \n",
       "0            0.501689          0.668087        0.999642  \n",
       "1            0.508828          0.673353        0.995116  \n",
       "2            0.523133          0.682913        0.983216  \n",
       "3            0.542389          0.694101        0.963641  \n",
       "4            0.562650          0.702531        0.934977  \n",
       "5            0.582950          0.708570        0.903200  \n",
       "6            0.603297          0.711638        0.867407  \n",
       "7            0.626185          0.712750        0.827088  \n",
       "8            0.655118          0.707411        0.768778  \n",
       "9            0.695878          0.690602        0.685406  \n",
       "10           0.755035          0.649924        0.570502  \n",
       "11           0.826696          0.581617        0.448621  \n",
       "12           0.926079          0.491772        0.334773  \n",
       "13           0.987686          0.443408        0.285873  \n",
       "14           0.995968          0.436525        0.279518  \n",
       "15           0.998831          0.430070        0.274030  \n",
       "16           0.999857          0.418296        0.264469  \n",
       "17           1.000000          0.397516        0.248062  \n",
       "18           1.000000          0.359465        0.219115  "
      ]
     },
     "execution_count": 34,
     "metadata": {},
     "output_type": "execute_result"
    }
   ],
   "source": [
    "scoresdf(LogisticRegression(C= 0.1, penalty= 'l2'), x_train, y_train, x_cv, y_cv)"
   ]
  },
  {
   "cell_type": "markdown",
   "metadata": {},
   "source": [
    "## 2. Decision Tree Classifier"
   ]
  },
  {
   "cell_type": "markdown",
   "metadata": {},
   "source": [
    "### 2. a] Checking for various depths"
   ]
  },
  {
   "cell_type": "code",
   "execution_count": 35,
   "metadata": {},
   "outputs": [
    {
     "name": "stderr",
     "output_type": "stream",
     "text": [
      "100%|██████████| 4/4 [00:24<00:00,  6.04s/it]\n"
     ]
    }
   ],
   "source": [
    "training_scores=[]\n",
    "cv_scores=[]\n",
    "depth=[]\n",
    "for i in tqdm(np.arange(6,18,3)):\n",
    "    DT = DecisionTreeClassifier(max_depth=i)\n",
    "    DT.fit(x_train,y_train)\n",
    "    y_train_pred = DT.predict(x_train)\n",
    "    training_scores.append(fbeta_score(y_train,y_train_pred,beta=1))\n",
    "    scores = cross_val_score(DT , x_train, y_train, cv = 4, scoring = \"f1\")\n",
    "    cv_scores.append(scores.mean())\n",
    "    depth.append(i)"
   ]
  },
  {
   "cell_type": "code",
   "execution_count": 36,
   "metadata": {},
   "outputs": [
    {
     "data": {
      "image/png": "[encoded data removed]",
      "text/plain": [
       "<Figure size 720x720 with 1 Axes>"
      ]
     },
     "metadata": {},
     "output_type": "display_data"
    }
   ],
   "source": [
    "plt.figure(figsize=(10,10))\n",
    "sns.lineplot(x=depth,y=training_scores,color=\"r\")\n",
    "sns.lineplot(x=depth,y=cv_scores,color=\"b\")\n",
    "sns.set_style(style=\"whitegrid\")\n",
    "plt.yticks(np.arange(0,1,0.05))\n",
    "plt.xticks(np.arange(6,18,3))\n",
    "plt.show()"
   ]
  },
  {
   "cell_type": "code",
   "execution_count": 37,
   "metadata": {},
   "outputs": [
    {
     "data": {
      "text/html": [
       "<div>\n",
       "<style scoped>\n",
       "    .dataframe tbody tr th:only-of-type {\n",
       "        vertical-align: middle;\n",
       "    }\n",
       "\n",
       "    .dataframe tbody tr th {\n",
       "        vertical-align: top;\n",
       "    }\n",
       "\n",
       "    .dataframe thead th {\n",
       "        text-align: right;\n",
       "    }\n",
       "</style>\n",
       "<table border=\"1\" class=\"dataframe\">\n",
       "  <thead>\n",
       "    <tr style=\"text-align: right;\">\n",
       "      <th></th>\n",
       "      <th>Depth</th>\n",
       "      <th>Training scores</th>\n",
       "      <th>Cross val scores</th>\n",
       "    </tr>\n",
       "  </thead>\n",
       "  <tbody>\n",
       "    <tr>\n",
       "      <th>0</th>\n",
       "      <td>6</td>\n",
       "      <td>0.664545</td>\n",
       "      <td>0.665327</td>\n",
       "    </tr>\n",
       "    <tr>\n",
       "      <th>1</th>\n",
       "      <td>9</td>\n",
       "      <td>0.654883</td>\n",
       "      <td>0.645914</td>\n",
       "    </tr>\n",
       "    <tr>\n",
       "      <th>2</th>\n",
       "      <td>12</td>\n",
       "      <td>0.689293</td>\n",
       "      <td>0.662891</td>\n",
       "    </tr>\n",
       "    <tr>\n",
       "      <th>3</th>\n",
       "      <td>15</td>\n",
       "      <td>0.737365</td>\n",
       "      <td>0.677092</td>\n",
       "    </tr>\n",
       "  </tbody>\n",
       "</table>\n",
       "</div>"
      ],
      "text/plain": [
       "   Depth  Training scores  Cross val scores\n",
       "0      6         0.664545          0.665327\n",
       "1      9         0.654883          0.645914\n",
       "2     12         0.689293          0.662891\n",
       "3     15         0.737365          0.677092"
      ]
     },
     "execution_count": 37,
     "metadata": {},
     "output_type": "execute_result"
    }
   ],
   "source": [
    "DT_results = pd.DataFrame({\"Depth\":depth,\"Training scores\": training_scores,\"Cross val scores\":cv_scores})\n",
    "DT_results"
   ]
  },
  {
   "cell_type": "markdown",
   "metadata": {},
   "source": [
    "12 is the best depth, after that model starts overfitting rapidly."
   ]
  },
  {
   "cell_type": "markdown",
   "metadata": {},
   "source": [
    "### 2. b] ROC curve for decision tree:"
   ]
  },
  {
   "cell_type": "code",
   "execution_count": 38,
   "metadata": {},
   "outputs": [
    {
     "data": {
      "image/png": "[encoded data removed]",
      "text/plain": [
       "<Figure size 720x720 with 1 Axes>"
      ]
     },
     "metadata": {},
     "output_type": "display_data"
    }
   ],
   "source": [
    "roc_(DecisionTreeClassifier(max_depth=12),x_train,y_train)"
   ]
  },
  {
   "cell_type": "markdown",
   "metadata": {},
   "source": [
    "### 2. c] Results for decision tree"
   ]
  },
  {
   "cell_type": "code",
   "execution_count": 39,
   "metadata": {},
   "outputs": [
    {
     "name": "stdout",
     "output_type": "stream",
     "text": [
      "\n",
      "*********************************** SCORES ***********************************\n",
      "\n"
     ]
    },
    {
     "data": {
      "text/html": [
       "<div>\n",
       "<style scoped>\n",
       "    .dataframe tbody tr th:only-of-type {\n",
       "        vertical-align: middle;\n",
       "    }\n",
       "\n",
       "    .dataframe tbody tr th {\n",
       "        vertical-align: top;\n",
       "    }\n",
       "\n",
       "    .dataframe thead th {\n",
       "        text-align: right;\n",
       "    }\n",
       "</style>\n",
       "<table border=\"1\" class=\"dataframe\">\n",
       "  <thead>\n",
       "    <tr style=\"text-align: right;\">\n",
       "      <th></th>\n",
       "      <th>Thresholds</th>\n",
       "      <th>Training precision</th>\n",
       "      <th>Training F1 score</th>\n",
       "      <th>Training Recall</th>\n",
       "      <th>Testing precision</th>\n",
       "      <th>Testing F1 score</th>\n",
       "      <th>Testing Recall</th>\n",
       "    </tr>\n",
       "  </thead>\n",
       "  <tbody>\n",
       "    <tr>\n",
       "      <th>0</th>\n",
       "      <td>0.05</td>\n",
       "      <td>0.520256</td>\n",
       "      <td>0.684223</td>\n",
       "      <td>0.999110</td>\n",
       "      <td>0.515463</td>\n",
       "      <td>0.676496</td>\n",
       "      <td>0.983857</td>\n",
       "    </tr>\n",
       "    <tr>\n",
       "      <th>1</th>\n",
       "      <td>0.10</td>\n",
       "      <td>0.535980</td>\n",
       "      <td>0.696496</td>\n",
       "      <td>0.994255</td>\n",
       "      <td>0.527044</td>\n",
       "      <td>0.683866</td>\n",
       "      <td>0.973542</td>\n",
       "    </tr>\n",
       "    <tr>\n",
       "      <th>2</th>\n",
       "      <td>0.15</td>\n",
       "      <td>0.545962</td>\n",
       "      <td>0.703514</td>\n",
       "      <td>0.988881</td>\n",
       "      <td>0.534033</td>\n",
       "      <td>0.687187</td>\n",
       "      <td>0.963509</td>\n",
       "    </tr>\n",
       "    <tr>\n",
       "      <th>3</th>\n",
       "      <td>0.20</td>\n",
       "      <td>0.561041</td>\n",
       "      <td>0.712618</td>\n",
       "      <td>0.976421</td>\n",
       "      <td>0.546658</td>\n",
       "      <td>0.692284</td>\n",
       "      <td>0.943670</td>\n",
       "    </tr>\n",
       "    <tr>\n",
       "      <th>4</th>\n",
       "      <td>0.25</td>\n",
       "      <td>0.576692</td>\n",
       "      <td>0.720435</td>\n",
       "      <td>0.959626</td>\n",
       "      <td>0.559167</td>\n",
       "      <td>0.696460</td>\n",
       "      <td>0.923115</td>\n",
       "    </tr>\n",
       "    <tr>\n",
       "      <th>5</th>\n",
       "      <td>0.30</td>\n",
       "      <td>0.592095</td>\n",
       "      <td>0.725512</td>\n",
       "      <td>0.936544</td>\n",
       "      <td>0.571858</td>\n",
       "      <td>0.698402</td>\n",
       "      <td>0.896864</td>\n",
       "    </tr>\n",
       "    <tr>\n",
       "      <th>6</th>\n",
       "      <td>0.35</td>\n",
       "      <td>0.612925</td>\n",
       "      <td>0.728404</td>\n",
       "      <td>0.897500</td>\n",
       "      <td>0.585304</td>\n",
       "      <td>0.697718</td>\n",
       "      <td>0.863579</td>\n",
       "    </tr>\n",
       "    <tr>\n",
       "      <th>7</th>\n",
       "      <td>0.40</td>\n",
       "      <td>0.633181</td>\n",
       "      <td>0.727638</td>\n",
       "      <td>0.855219</td>\n",
       "      <td>0.599217</td>\n",
       "      <td>0.696476</td>\n",
       "      <td>0.831426</td>\n",
       "    </tr>\n",
       "    <tr>\n",
       "      <th>8</th>\n",
       "      <td>0.45</td>\n",
       "      <td>0.659509</td>\n",
       "      <td>0.719705</td>\n",
       "      <td>0.791995</td>\n",
       "      <td>0.621857</td>\n",
       "      <td>0.689346</td>\n",
       "      <td>0.773266</td>\n",
       "    </tr>\n",
       "    <tr>\n",
       "      <th>9</th>\n",
       "      <td>0.50</td>\n",
       "      <td>0.704602</td>\n",
       "      <td>0.689610</td>\n",
       "      <td>0.675243</td>\n",
       "      <td>0.653416</td>\n",
       "      <td>0.660793</td>\n",
       "      <td>0.668339</td>\n",
       "    </tr>\n",
       "    <tr>\n",
       "      <th>10</th>\n",
       "      <td>0.55</td>\n",
       "      <td>0.755265</td>\n",
       "      <td>0.647782</td>\n",
       "      <td>0.567079</td>\n",
       "      <td>0.689642</td>\n",
       "      <td>0.618107</td>\n",
       "      <td>0.560017</td>\n",
       "    </tr>\n",
       "    <tr>\n",
       "      <th>11</th>\n",
       "      <td>0.60</td>\n",
       "      <td>0.790438</td>\n",
       "      <td>0.607114</td>\n",
       "      <td>0.492816</td>\n",
       "      <td>0.714035</td>\n",
       "      <td>0.582099</td>\n",
       "      <td>0.491316</td>\n",
       "    </tr>\n",
       "    <tr>\n",
       "      <th>12</th>\n",
       "      <td>0.65</td>\n",
       "      <td>0.822145</td>\n",
       "      <td>0.567377</td>\n",
       "      <td>0.433152</td>\n",
       "      <td>0.731667</td>\n",
       "      <td>0.544742</td>\n",
       "      <td>0.433892</td>\n",
       "    </tr>\n",
       "    <tr>\n",
       "      <th>13</th>\n",
       "      <td>0.70</td>\n",
       "      <td>0.948489</td>\n",
       "      <td>0.423787</td>\n",
       "      <td>0.272848</td>\n",
       "      <td>0.776298</td>\n",
       "      <td>0.407046</td>\n",
       "      <td>0.275841</td>\n",
       "    </tr>\n",
       "    <tr>\n",
       "      <th>14</th>\n",
       "      <td>0.75</td>\n",
       "      <td>0.957731</td>\n",
       "      <td>0.414212</td>\n",
       "      <td>0.264249</td>\n",
       "      <td>0.778326</td>\n",
       "      <td>0.401891</td>\n",
       "      <td>0.270881</td>\n",
       "    </tr>\n",
       "    <tr>\n",
       "      <th>15</th>\n",
       "      <td>0.80</td>\n",
       "      <td>0.962058</td>\n",
       "      <td>0.408587</td>\n",
       "      <td>0.259371</td>\n",
       "      <td>0.781979</td>\n",
       "      <td>0.397823</td>\n",
       "      <td>0.266770</td>\n",
       "    </tr>\n",
       "    <tr>\n",
       "      <th>16</th>\n",
       "      <td>0.85</td>\n",
       "      <td>0.984067</td>\n",
       "      <td>0.374555</td>\n",
       "      <td>0.231296</td>\n",
       "      <td>0.788790</td>\n",
       "      <td>0.365725</td>\n",
       "      <td>0.238049</td>\n",
       "    </tr>\n",
       "    <tr>\n",
       "      <th>17</th>\n",
       "      <td>0.90</td>\n",
       "      <td>0.985809</td>\n",
       "      <td>0.370378</td>\n",
       "      <td>0.228025</td>\n",
       "      <td>0.791585</td>\n",
       "      <td>0.364797</td>\n",
       "      <td>0.237011</td>\n",
       "    </tr>\n",
       "    <tr>\n",
       "      <th>18</th>\n",
       "      <td>0.95</td>\n",
       "      <td>0.989788</td>\n",
       "      <td>0.345785</td>\n",
       "      <td>0.209485</td>\n",
       "      <td>0.787566</td>\n",
       "      <td>0.342498</td>\n",
       "      <td>0.218832</td>\n",
       "    </tr>\n",
       "  </tbody>\n",
       "</table>\n",
       "</div>"
      ],
      "text/plain": [
       "    Thresholds  Training precision  Training F1 score  Training Recall  \\\n",
       "0         0.05            0.520256           0.684223         0.999110   \n",
       "1         0.10            0.535980           0.696496         0.994255   \n",
       "2         0.15            0.545962           0.703514         0.988881   \n",
       "3         0.20            0.561041           0.712618         0.976421   \n",
       "4         0.25            0.576692           0.720435         0.959626   \n",
       "5         0.30            0.592095           0.725512         0.936544   \n",
       "6         0.35            0.612925           0.728404         0.897500   \n",
       "7         0.40            0.633181           0.727638         0.855219   \n",
       "8         0.45            0.659509           0.719705         0.791995   \n",
       "9         0.50            0.704602           0.689610         0.675243   \n",
       "10        0.55            0.755265           0.647782         0.567079   \n",
       "11        0.60            0.790438           0.607114         0.492816   \n",
       "12        0.65            0.822145           0.567377         0.433152   \n",
       "13        0.70            0.948489           0.423787         0.272848   \n",
       "14        0.75            0.957731           0.414212         0.264249   \n",
       "15        0.80            0.962058           0.408587         0.259371   \n",
       "16        0.85            0.984067           0.374555         0.231296   \n",
       "17        0.90            0.985809           0.370378         0.228025   \n",
       "18        0.95            0.989788           0.345785         0.209485   \n",
       "\n",
       "    Testing precision  Testing F1 score  Testing Recall  \n",
       "0            0.515463          0.676496        0.983857  \n",
       "1            0.527044          0.683866        0.973542  \n",
       "2            0.534033          0.687187        0.963509  \n",
       "3            0.546658          0.692284        0.943670  \n",
       "4            0.559167          0.696460        0.923115  \n",
       "5            0.571858          0.698402        0.896864  \n",
       "6            0.585304          0.697718        0.863579  \n",
       "7            0.599217          0.696476        0.831426  \n",
       "8            0.621857          0.689346        0.773266  \n",
       "9            0.653416          0.660793        0.668339  \n",
       "10           0.689642          0.618107        0.560017  \n",
       "11           0.714035          0.582099        0.491316  \n",
       "12           0.731667          0.544742        0.433892  \n",
       "13           0.776298          0.407046        0.275841  \n",
       "14           0.778326          0.401891        0.270881  \n",
       "15           0.781979          0.397823        0.266770  \n",
       "16           0.788790          0.365725        0.238049  \n",
       "17           0.791585          0.364797        0.237011  \n",
       "18           0.787566          0.342498        0.218832  "
      ]
     },
     "execution_count": 39,
     "metadata": {},
     "output_type": "execute_result"
    }
   ],
   "source": [
    "scoresdf(DecisionTreeClassifier(max_depth=12), x_train, y_train, x_cv, y_cv)"
   ]
  },
  {
   "cell_type": "markdown",
   "metadata": {},
   "source": [
    "## 3. Random Forest Classifier "
   ]
  },
  {
   "cell_type": "markdown",
   "metadata": {},
   "source": [
    "### 3. a] Checking for various depths:"
   ]
  },
  {
   "cell_type": "code",
   "execution_count": 40,
   "metadata": {},
   "outputs": [
    {
     "name": "stderr",
     "output_type": "stream",
     "text": [
      "100%|██████████| 4/4 [13:46<00:00, 206.52s/it]\n"
     ]
    }
   ],
   "source": [
    "training_scores=[]\n",
    "cv_scores=[]\n",
    "depth=[]\n",
    "for i in tqdm(np.arange(6,18,3)):\n",
    "    RF = RandomForestClassifier(max_depth=i, n_estimators=300)\n",
    "    RF.fit(x_train,y_train)\n",
    "    y_train_pred = RF.predict(x_train)\n",
    "    training_scores.append(fbeta_score(y_train,y_train_pred,beta=1))\n",
    "    scores = cross_val_score(RF , x_train, y_train, cv = 4, scoring = \"f1\")\n",
    "    cv_scores.append(scores.mean())\n",
    "    depth.append(i)"
   ]
  },
  {
   "cell_type": "code",
   "execution_count": 41,
   "metadata": {},
   "outputs": [
    {
     "data": {
      "image/png": "[encoded data removed]",
      "text/plain": [
       "<Figure size 720x720 with 1 Axes>"
      ]
     },
     "metadata": {},
     "output_type": "display_data"
    }
   ],
   "source": [
    "plt.figure(figsize=(10,10))\n",
    "sns.lineplot(x=depth,y=training_scores,color=\"r\")\n",
    "sns.lineplot(x=depth,y=cv_scores,color=\"b\")\n",
    "sns.set_style(style=\"whitegrid\")\n",
    "plt.yticks(np.arange(0,1,0.05))\n",
    "plt.xticks(np.arange(6,18,3))\n",
    "plt.show()"
   ]
  },
  {
   "cell_type": "code",
   "execution_count": 42,
   "metadata": {},
   "outputs": [
    {
     "data": {
      "text/html": [
       "<div>\n",
       "<style scoped>\n",
       "    .dataframe tbody tr th:only-of-type {\n",
       "        vertical-align: middle;\n",
       "    }\n",
       "\n",
       "    .dataframe tbody tr th {\n",
       "        vertical-align: top;\n",
       "    }\n",
       "\n",
       "    .dataframe thead th {\n",
       "        text-align: right;\n",
       "    }\n",
       "</style>\n",
       "<table border=\"1\" class=\"dataframe\">\n",
       "  <thead>\n",
       "    <tr style=\"text-align: right;\">\n",
       "      <th></th>\n",
       "      <th>Depth</th>\n",
       "      <th>Training scores</th>\n",
       "      <th>Cross val scores</th>\n",
       "    </tr>\n",
       "  </thead>\n",
       "  <tbody>\n",
       "    <tr>\n",
       "      <th>0</th>\n",
       "      <td>6</td>\n",
       "      <td>0.686001</td>\n",
       "      <td>0.679346</td>\n",
       "    </tr>\n",
       "    <tr>\n",
       "      <th>1</th>\n",
       "      <td>9</td>\n",
       "      <td>0.697748</td>\n",
       "      <td>0.692925</td>\n",
       "    </tr>\n",
       "    <tr>\n",
       "      <th>2</th>\n",
       "      <td>12</td>\n",
       "      <td>0.720330</td>\n",
       "      <td>0.700344</td>\n",
       "    </tr>\n",
       "    <tr>\n",
       "      <th>3</th>\n",
       "      <td>15</td>\n",
       "      <td>0.758007</td>\n",
       "      <td>0.707714</td>\n",
       "    </tr>\n",
       "  </tbody>\n",
       "</table>\n",
       "</div>"
      ],
      "text/plain": [
       "   Depth  Training scores  Cross val scores\n",
       "0      6         0.686001          0.679346\n",
       "1      9         0.697748          0.692925\n",
       "2     12         0.720330          0.700344\n",
       "3     15         0.758007          0.707714"
      ]
     },
     "execution_count": 42,
     "metadata": {},
     "output_type": "execute_result"
    }
   ],
   "source": [
    "RF_results = pd.DataFrame({\"Depth\":depth,\"Training scores\": training_scores,\"Cross val scores\":cv_scores})\n",
    "RF_results"
   ]
  },
  {
   "cell_type": "markdown",
   "metadata": {},
   "source": [
    "from chart, best depth looks to be 12. after that, model starts overfitting rapidly."
   ]
  },
  {
   "cell_type": "markdown",
   "metadata": {},
   "source": [
    "### 3. b] ROC curve for Random Forest (depth=12)"
   ]
  },
  {
   "cell_type": "code",
   "execution_count": 43,
   "metadata": {},
   "outputs": [
    {
     "data": {
      "image/png": "[encoded data removed]",
      "text/plain": [
       "<Figure size 720x720 with 1 Axes>"
      ]
     },
     "metadata": {},
     "output_type": "display_data"
    }
   ],
   "source": [
    "roc_(RandomForestClassifier(max_depth=i, n_estimators=300), x_train,y_train)"
   ]
  },
  {
   "cell_type": "markdown",
   "metadata": {},
   "source": [
    "### 3. c] Results for random forest classifier"
   ]
  },
  {
   "cell_type": "code",
   "execution_count": 44,
   "metadata": {},
   "outputs": [
    {
     "name": "stdout",
     "output_type": "stream",
     "text": [
      "\n",
      "*********************************** SCORES ***********************************\n",
      "\n"
     ]
    },
    {
     "data": {
      "text/html": [
       "<div>\n",
       "<style scoped>\n",
       "    .dataframe tbody tr th:only-of-type {\n",
       "        vertical-align: middle;\n",
       "    }\n",
       "\n",
       "    .dataframe tbody tr th {\n",
       "        vertical-align: top;\n",
       "    }\n",
       "\n",
       "    .dataframe thead th {\n",
       "        text-align: right;\n",
       "    }\n",
       "</style>\n",
       "<table border=\"1\" class=\"dataframe\">\n",
       "  <thead>\n",
       "    <tr style=\"text-align: right;\">\n",
       "      <th></th>\n",
       "      <th>Thresholds</th>\n",
       "      <th>Training precision</th>\n",
       "      <th>Training F1 score</th>\n",
       "      <th>Training Recall</th>\n",
       "      <th>Testing precision</th>\n",
       "      <th>Testing F1 score</th>\n",
       "      <th>Testing Recall</th>\n",
       "    </tr>\n",
       "  </thead>\n",
       "  <tbody>\n",
       "    <tr>\n",
       "      <th>0</th>\n",
       "      <td>0.05</td>\n",
       "      <td>0.501653</td>\n",
       "      <td>0.668134</td>\n",
       "      <td>1.000000</td>\n",
       "      <td>0.500841</td>\n",
       "      <td>0.667405</td>\n",
       "      <td>0.999962</td>\n",
       "    </tr>\n",
       "    <tr>\n",
       "      <th>1</th>\n",
       "      <td>0.10</td>\n",
       "      <td>0.509160</td>\n",
       "      <td>0.674760</td>\n",
       "      <td>1.000000</td>\n",
       "      <td>0.503578</td>\n",
       "      <td>0.669700</td>\n",
       "      <td>0.999378</td>\n",
       "    </tr>\n",
       "    <tr>\n",
       "      <th>2</th>\n",
       "      <td>0.15</td>\n",
       "      <td>0.521992</td>\n",
       "      <td>0.685932</td>\n",
       "      <td>1.000000</td>\n",
       "      <td>0.509174</td>\n",
       "      <td>0.674196</td>\n",
       "      <td>0.997473</td>\n",
       "    </tr>\n",
       "    <tr>\n",
       "      <th>3</th>\n",
       "      <td>0.20</td>\n",
       "      <td>0.539004</td>\n",
       "      <td>0.700455</td>\n",
       "      <td>0.999988</td>\n",
       "      <td>0.516998</td>\n",
       "      <td>0.680080</td>\n",
       "      <td>0.993456</td>\n",
       "    </tr>\n",
       "    <tr>\n",
       "      <th>4</th>\n",
       "      <td>0.25</td>\n",
       "      <td>0.560659</td>\n",
       "      <td>0.718340</td>\n",
       "      <td>0.999422</td>\n",
       "      <td>0.528639</td>\n",
       "      <td>0.688094</td>\n",
       "      <td>0.985291</td>\n",
       "    </tr>\n",
       "    <tr>\n",
       "      <th>5</th>\n",
       "      <td>0.30</td>\n",
       "      <td>0.587464</td>\n",
       "      <td>0.738871</td>\n",
       "      <td>0.995423</td>\n",
       "      <td>0.544457</td>\n",
       "      <td>0.697237</td>\n",
       "      <td>0.969204</td>\n",
       "    </tr>\n",
       "    <tr>\n",
       "      <th>6</th>\n",
       "      <td>0.35</td>\n",
       "      <td>0.618161</td>\n",
       "      <td>0.758834</td>\n",
       "      <td>0.982397</td>\n",
       "      <td>0.563648</td>\n",
       "      <td>0.706170</td>\n",
       "      <td>0.945160</td>\n",
       "    </tr>\n",
       "    <tr>\n",
       "      <th>7</th>\n",
       "      <td>0.40</td>\n",
       "      <td>0.655014</td>\n",
       "      <td>0.773560</td>\n",
       "      <td>0.944496</td>\n",
       "      <td>0.587013</td>\n",
       "      <td>0.713985</td>\n",
       "      <td>0.911045</td>\n",
       "    </tr>\n",
       "    <tr>\n",
       "      <th>8</th>\n",
       "      <td>0.45</td>\n",
       "      <td>0.693153</td>\n",
       "      <td>0.777333</td>\n",
       "      <td>0.884786</td>\n",
       "      <td>0.614473</td>\n",
       "      <td>0.718158</td>\n",
       "      <td>0.863937</td>\n",
       "    </tr>\n",
       "    <tr>\n",
       "      <th>9</th>\n",
       "      <td>0.50</td>\n",
       "      <td>0.745815</td>\n",
       "      <td>0.757887</td>\n",
       "      <td>0.770357</td>\n",
       "      <td>0.649324</td>\n",
       "      <td>0.715406</td>\n",
       "      <td>0.796462</td>\n",
       "    </tr>\n",
       "    <tr>\n",
       "      <th>10</th>\n",
       "      <td>0.55</td>\n",
       "      <td>0.806325</td>\n",
       "      <td>0.702736</td>\n",
       "      <td>0.622733</td>\n",
       "      <td>0.693035</td>\n",
       "      <td>0.698307</td>\n",
       "      <td>0.703660</td>\n",
       "    </tr>\n",
       "    <tr>\n",
       "      <th>11</th>\n",
       "      <td>0.60</td>\n",
       "      <td>0.852650</td>\n",
       "      <td>0.638600</td>\n",
       "      <td>0.510455</td>\n",
       "      <td>0.759686</td>\n",
       "      <td>0.642893</td>\n",
       "      <td>0.557226</td>\n",
       "    </tr>\n",
       "    <tr>\n",
       "      <th>12</th>\n",
       "      <td>0.65</td>\n",
       "      <td>0.913826</td>\n",
       "      <td>0.541263</td>\n",
       "      <td>0.384502</td>\n",
       "      <td>0.813345</td>\n",
       "      <td>0.571243</td>\n",
       "      <td>0.440210</td>\n",
       "    </tr>\n",
       "    <tr>\n",
       "      <th>13</th>\n",
       "      <td>0.70</td>\n",
       "      <td>0.998813</td>\n",
       "      <td>0.403472</td>\n",
       "      <td>0.252794</td>\n",
       "      <td>0.877221</td>\n",
       "      <td>0.457113</td>\n",
       "      <td>0.309088</td>\n",
       "    </tr>\n",
       "    <tr>\n",
       "      <th>14</th>\n",
       "      <td>0.75</td>\n",
       "      <td>0.999779</td>\n",
       "      <td>0.345631</td>\n",
       "      <td>0.208930</td>\n",
       "      <td>0.999355</td>\n",
       "      <td>0.255010</td>\n",
       "      <td>0.146152</td>\n",
       "    </tr>\n",
       "    <tr>\n",
       "      <th>15</th>\n",
       "      <td>0.80</td>\n",
       "      <td>1.000000</td>\n",
       "      <td>0.256374</td>\n",
       "      <td>0.147035</td>\n",
       "      <td>1.000000</td>\n",
       "      <td>0.153045</td>\n",
       "      <td>0.082863</td>\n",
       "    </tr>\n",
       "    <tr>\n",
       "      <th>16</th>\n",
       "      <td>0.85</td>\n",
       "      <td>1.000000</td>\n",
       "      <td>0.131685</td>\n",
       "      <td>0.070483</td>\n",
       "      <td>1.000000</td>\n",
       "      <td>0.049689</td>\n",
       "      <td>0.025478</td>\n",
       "    </tr>\n",
       "    <tr>\n",
       "      <th>17</th>\n",
       "      <td>0.90</td>\n",
       "      <td>1.000000</td>\n",
       "      <td>0.007898</td>\n",
       "      <td>0.003965</td>\n",
       "      <td>1.000000</td>\n",
       "      <td>0.000113</td>\n",
       "      <td>0.000057</td>\n",
       "    </tr>\n",
       "    <tr>\n",
       "      <th>18</th>\n",
       "      <td>0.95</td>\n",
       "      <td>0.000000</td>\n",
       "      <td>0.000000</td>\n",
       "      <td>0.000000</td>\n",
       "      <td>0.000000</td>\n",
       "      <td>0.000000</td>\n",
       "      <td>0.000000</td>\n",
       "    </tr>\n",
       "  </tbody>\n",
       "</table>\n",
       "</div>"
      ],
      "text/plain": [
       "    Thresholds  Training precision  Training F1 score  Training Recall  \\\n",
       "0         0.05            0.501653           0.668134         1.000000   \n",
       "1         0.10            0.509160           0.674760         1.000000   \n",
       "2         0.15            0.521992           0.685932         1.000000   \n",
       "3         0.20            0.539004           0.700455         0.999988   \n",
       "4         0.25            0.560659           0.718340         0.999422   \n",
       "5         0.30            0.587464           0.738871         0.995423   \n",
       "6         0.35            0.618161           0.758834         0.982397   \n",
       "7         0.40            0.655014           0.773560         0.944496   \n",
       "8         0.45            0.693153           0.777333         0.884786   \n",
       "9         0.50            0.745815           0.757887         0.770357   \n",
       "10        0.55            0.806325           0.702736         0.622733   \n",
       "11        0.60            0.852650           0.638600         0.510455   \n",
       "12        0.65            0.913826           0.541263         0.384502   \n",
       "13        0.70            0.998813           0.403472         0.252794   \n",
       "14        0.75            0.999779           0.345631         0.208930   \n",
       "15        0.80            1.000000           0.256374         0.147035   \n",
       "16        0.85            1.000000           0.131685         0.070483   \n",
       "17        0.90            1.000000           0.007898         0.003965   \n",
       "18        0.95            0.000000           0.000000         0.000000   \n",
       "\n",
       "    Testing precision  Testing F1 score  Testing Recall  \n",
       "0            0.500841          0.667405        0.999962  \n",
       "1            0.503578          0.669700        0.999378  \n",
       "2            0.509174          0.674196        0.997473  \n",
       "3            0.516998          0.680080        0.993456  \n",
       "4            0.528639          0.688094        0.985291  \n",
       "5            0.544457          0.697237        0.969204  \n",
       "6            0.563648          0.706170        0.945160  \n",
       "7            0.587013          0.713985        0.911045  \n",
       "8            0.614473          0.718158        0.863937  \n",
       "9            0.649324          0.715406        0.796462  \n",
       "10           0.693035          0.698307        0.703660  \n",
       "11           0.759686          0.642893        0.557226  \n",
       "12           0.813345          0.571243        0.440210  \n",
       "13           0.877221          0.457113        0.309088  \n",
       "14           0.999355          0.255010        0.146152  \n",
       "15           1.000000          0.153045        0.082863  \n",
       "16           1.000000          0.049689        0.025478  \n",
       "17           1.000000          0.000113        0.000057  \n",
       "18           0.000000          0.000000        0.000000  "
      ]
     },
     "execution_count": 44,
     "metadata": {},
     "output_type": "execute_result"
    }
   ],
   "source": [
    "scoresdf(RandomForestClassifier(max_depth=i, n_estimators=300), x_train, y_train, x_cv, y_cv)"
   ]
  },
  {
   "cell_type": "markdown",
   "metadata": {},
   "source": [
    "### 3. d] feature importance using RF:"
   ]
  },
  {
   "cell_type": "code",
   "execution_count": 45,
   "metadata": {},
   "outputs": [
    {
     "data": {
      "text/html": [
       "<div>\n",
       "<style scoped>\n",
       "    .dataframe tbody tr th:only-of-type {\n",
       "        vertical-align: middle;\n",
       "    }\n",
       "\n",
       "    .dataframe tbody tr th {\n",
       "        vertical-align: top;\n",
       "    }\n",
       "\n",
       "    .dataframe thead th {\n",
       "        text-align: right;\n",
       "    }\n",
       "</style>\n",
       "<table border=\"1\" class=\"dataframe\">\n",
       "  <thead>\n",
       "    <tr style=\"text-align: right;\">\n",
       "      <th></th>\n",
       "      <th>column number</th>\n",
       "      <th>importance in percent</th>\n",
       "      <th>Column_name</th>\n",
       "    </tr>\n",
       "  </thead>\n",
       "  <tbody>\n",
       "    <tr>\n",
       "      <th>0</th>\n",
       "      <td>3</td>\n",
       "      <td>14.072604</td>\n",
       "      <td>PERFORM_CNS_SCORE</td>\n",
       "    </tr>\n",
       "    <tr>\n",
       "      <th>1</th>\n",
       "      <td>2</td>\n",
       "      <td>7.139076</td>\n",
       "      <td>LTV</td>\n",
       "    </tr>\n",
       "    <tr>\n",
       "      <th>2</th>\n",
       "      <td>0</td>\n",
       "      <td>5.929280</td>\n",
       "      <td>DISBURSED_AMOUNT</td>\n",
       "    </tr>\n",
       "    <tr>\n",
       "      <th>3</th>\n",
       "      <td>25</td>\n",
       "      <td>5.242528</td>\n",
       "      <td>EMPLOYMENT_TYPE_Self employed</td>\n",
       "    </tr>\n",
       "    <tr>\n",
       "      <th>4</th>\n",
       "      <td>23</td>\n",
       "      <td>4.487232</td>\n",
       "      <td>Age</td>\n",
       "    </tr>\n",
       "    <tr>\n",
       "      <th>5</th>\n",
       "      <td>16</td>\n",
       "      <td>4.389033</td>\n",
       "      <td>PRIMARY_INSTAL_AMT</td>\n",
       "    </tr>\n",
       "    <tr>\n",
       "      <th>6</th>\n",
       "      <td>24</td>\n",
       "      <td>4.337853</td>\n",
       "      <td>Loan_age_months</td>\n",
       "    </tr>\n",
       "    <tr>\n",
       "      <th>7</th>\n",
       "      <td>28</td>\n",
       "      <td>4.016595</td>\n",
       "      <td>PERFORM_CNS_SCORE_DESCRIPTION_D-Very Low Risk</td>\n",
       "    </tr>\n",
       "    <tr>\n",
       "      <th>8</th>\n",
       "      <td>1</td>\n",
       "      <td>3.796918</td>\n",
       "      <td>ASSET_COST</td>\n",
       "    </tr>\n",
       "    <tr>\n",
       "      <th>9</th>\n",
       "      <td>30</td>\n",
       "      <td>3.249116</td>\n",
       "      <td>PERFORM_CNS_SCORE_DESCRIPTION_F-Low Risk</td>\n",
       "    </tr>\n",
       "    <tr>\n",
       "      <th>10</th>\n",
       "      <td>8</td>\n",
       "      <td>3.141743</td>\n",
       "      <td>PRI_SANCTIONED_AMOUNT</td>\n",
       "    </tr>\n",
       "    <tr>\n",
       "      <th>11</th>\n",
       "      <td>9</td>\n",
       "      <td>3.035726</td>\n",
       "      <td>PRI_DISBURSED_AMOUNT</td>\n",
       "    </tr>\n",
       "    <tr>\n",
       "      <th>12</th>\n",
       "      <td>7</td>\n",
       "      <td>3.022896</td>\n",
       "      <td>PRI_CURRENT_BALANCE</td>\n",
       "    </tr>\n",
       "    <tr>\n",
       "      <th>13</th>\n",
       "      <td>21</td>\n",
       "      <td>3.014968</td>\n",
       "      <td>CREDIT_HISTORY_LENGTH</td>\n",
       "    </tr>\n",
       "    <tr>\n",
       "      <th>14</th>\n",
       "      <td>27</td>\n",
       "      <td>2.888001</td>\n",
       "      <td>PERFORM_CNS_SCORE_DESCRIPTION_C-Very Low Risk</td>\n",
       "    </tr>\n",
       "    <tr>\n",
       "      <th>15</th>\n",
       "      <td>29</td>\n",
       "      <td>2.510431</td>\n",
       "      <td>PERFORM_CNS_SCORE_DESCRIPTION_E-Low Risk</td>\n",
       "    </tr>\n",
       "    <tr>\n",
       "      <th>16</th>\n",
       "      <td>4</td>\n",
       "      <td>2.466039</td>\n",
       "      <td>PRI_NO_OF_ACCTS</td>\n",
       "    </tr>\n",
       "    <tr>\n",
       "      <th>17</th>\n",
       "      <td>20</td>\n",
       "      <td>2.454193</td>\n",
       "      <td>AVERAGE_ACCT_AGE</td>\n",
       "    </tr>\n",
       "    <tr>\n",
       "      <th>18</th>\n",
       "      <td>26</td>\n",
       "      <td>2.272972</td>\n",
       "      <td>PERFORM_CNS_SCORE_DESCRIPTION_B-Very Low Risk</td>\n",
       "    </tr>\n",
       "    <tr>\n",
       "      <th>19</th>\n",
       "      <td>32</td>\n",
       "      <td>2.187952</td>\n",
       "      <td>PERFORM_CNS_SCORE_DESCRIPTION_H-Medium Risk</td>\n",
       "    </tr>\n",
       "    <tr>\n",
       "      <th>20</th>\n",
       "      <td>5</td>\n",
       "      <td>1.835561</td>\n",
       "      <td>PRI_ACTIVE_ACCTS</td>\n",
       "    </tr>\n",
       "    <tr>\n",
       "      <th>21</th>\n",
       "      <td>31</td>\n",
       "      <td>1.523814</td>\n",
       "      <td>PERFORM_CNS_SCORE_DESCRIPTION_G-Low Risk</td>\n",
       "    </tr>\n",
       "    <tr>\n",
       "      <th>22</th>\n",
       "      <td>35</td>\n",
       "      <td>1.417562</td>\n",
       "      <td>PERFORM_CNS_SCORE_DESCRIPTION_K-High Risk</td>\n",
       "    </tr>\n",
       "    <tr>\n",
       "      <th>23</th>\n",
       "      <td>18</td>\n",
       "      <td>1.398013</td>\n",
       "      <td>NEW_ACCTS_IN_LAST_SIX_MONTHS</td>\n",
       "    </tr>\n",
       "    <tr>\n",
       "      <th>24</th>\n",
       "      <td>33</td>\n",
       "      <td>1.333447</td>\n",
       "      <td>PERFORM_CNS_SCORE_DESCRIPTION_I-Medium Risk</td>\n",
       "    </tr>\n",
       "    <tr>\n",
       "      <th>25</th>\n",
       "      <td>22</td>\n",
       "      <td>1.191428</td>\n",
       "      <td>NO_OF_INQUIRIES</td>\n",
       "    </tr>\n",
       "    <tr>\n",
       "      <th>26</th>\n",
       "      <td>6</td>\n",
       "      <td>1.156356</td>\n",
       "      <td>PRI_OVERDUE_ACCTS</td>\n",
       "    </tr>\n",
       "    <tr>\n",
       "      <th>27</th>\n",
       "      <td>37</td>\n",
       "      <td>1.137039</td>\n",
       "      <td>PERFORM_CNS_SCORE_DESCRIPTION_M-Very High Risk</td>\n",
       "    </tr>\n",
       "    <tr>\n",
       "      <th>28</th>\n",
       "      <td>34</td>\n",
       "      <td>0.974346</td>\n",
       "      <td>PERFORM_CNS_SCORE_DESCRIPTION_J-High Risk</td>\n",
       "    </tr>\n",
       "    <tr>\n",
       "      <th>29</th>\n",
       "      <td>39</td>\n",
       "      <td>0.814613</td>\n",
       "      <td>PERFORM_CNS_SCORE_DESCRIPTION_Not Scored: No A...</td>\n",
       "    </tr>\n",
       "    <tr>\n",
       "      <th>30</th>\n",
       "      <td>19</td>\n",
       "      <td>0.601513</td>\n",
       "      <td>DELINQUENT_ACCTS_IN_LAST_SIX_MONTHS</td>\n",
       "    </tr>\n",
       "    <tr>\n",
       "      <th>31</th>\n",
       "      <td>38</td>\n",
       "      <td>0.566994</td>\n",
       "      <td>PERFORM_CNS_SCORE_DESCRIPTION_No Bureau Histor...</td>\n",
       "    </tr>\n",
       "    <tr>\n",
       "      <th>32</th>\n",
       "      <td>41</td>\n",
       "      <td>0.426596</td>\n",
       "      <td>PERFORM_CNS_SCORE_DESCRIPTION_Not Scored: Not ...</td>\n",
       "    </tr>\n",
       "    <tr>\n",
       "      <th>33</th>\n",
       "      <td>43</td>\n",
       "      <td>0.383680</td>\n",
       "      <td>PERFORM_CNS_SCORE_DESCRIPTION_Not Scored: Suff...</td>\n",
       "    </tr>\n",
       "    <tr>\n",
       "      <th>34</th>\n",
       "      <td>40</td>\n",
       "      <td>0.256041</td>\n",
       "      <td>PERFORM_CNS_SCORE_DESCRIPTION_Not Scored: No U...</td>\n",
       "    </tr>\n",
       "    <tr>\n",
       "      <th>35</th>\n",
       "      <td>10</td>\n",
       "      <td>0.236703</td>\n",
       "      <td>SEC_NO_OF_ACCTS</td>\n",
       "    </tr>\n",
       "    <tr>\n",
       "      <th>36</th>\n",
       "      <td>15</td>\n",
       "      <td>0.186148</td>\n",
       "      <td>SEC_DISBURSED_AMOUNT</td>\n",
       "    </tr>\n",
       "    <tr>\n",
       "      <th>37</th>\n",
       "      <td>14</td>\n",
       "      <td>0.180880</td>\n",
       "      <td>SEC_SANCTIONED_AMOUNT</td>\n",
       "    </tr>\n",
       "    <tr>\n",
       "      <th>38</th>\n",
       "      <td>13</td>\n",
       "      <td>0.175499</td>\n",
       "      <td>SEC_CURRENT_BALANCE</td>\n",
       "    </tr>\n",
       "    <tr>\n",
       "      <th>39</th>\n",
       "      <td>17</td>\n",
       "      <td>0.154916</td>\n",
       "      <td>SEC_INSTAL_AMT</td>\n",
       "    </tr>\n",
       "    <tr>\n",
       "      <th>40</th>\n",
       "      <td>36</td>\n",
       "      <td>0.117057</td>\n",
       "      <td>PERFORM_CNS_SCORE_DESCRIPTION_L-Very High Risk</td>\n",
       "    </tr>\n",
       "    <tr>\n",
       "      <th>41</th>\n",
       "      <td>11</td>\n",
       "      <td>0.116631</td>\n",
       "      <td>SEC_ACTIVE_ACCTS</td>\n",
       "    </tr>\n",
       "    <tr>\n",
       "      <th>42</th>\n",
       "      <td>42</td>\n",
       "      <td>0.106161</td>\n",
       "      <td>PERFORM_CNS_SCORE_DESCRIPTION_Not Scored: Only...</td>\n",
       "    </tr>\n",
       "    <tr>\n",
       "      <th>43</th>\n",
       "      <td>12</td>\n",
       "      <td>0.053845</td>\n",
       "      <td>SEC_OVERDUE_ACCTS</td>\n",
       "    </tr>\n",
       "  </tbody>\n",
       "</table>\n",
       "</div>"
      ],
      "text/plain": [
       "    column number  importance in percent  \\\n",
       "0               3              14.072604   \n",
       "1               2               7.139076   \n",
       "2               0               5.929280   \n",
       "3              25               5.242528   \n",
       "4              23               4.487232   \n",
       "5              16               4.389033   \n",
       "6              24               4.337853   \n",
       "7              28               4.016595   \n",
       "8               1               3.796918   \n",
       "9              30               3.249116   \n",
       "10              8               3.141743   \n",
       "11              9               3.035726   \n",
       "12              7               3.022896   \n",
       "13             21               3.014968   \n",
       "14             27               2.888001   \n",
       "15             29               2.510431   \n",
       "16              4               2.466039   \n",
       "17             20               2.454193   \n",
       "18             26               2.272972   \n",
       "19             32               2.187952   \n",
       "20              5               1.835561   \n",
       "21             31               1.523814   \n",
       "22             35               1.417562   \n",
       "23             18               1.398013   \n",
       "24             33               1.333447   \n",
       "25             22               1.191428   \n",
       "26              6               1.156356   \n",
       "27             37               1.137039   \n",
       "28             34               0.974346   \n",
       "29             39               0.814613   \n",
       "30             19               0.601513   \n",
       "31             38               0.566994   \n",
       "32             41               0.426596   \n",
       "33             43               0.383680   \n",
       "34             40               0.256041   \n",
       "35             10               0.236703   \n",
       "36             15               0.186148   \n",
       "37             14               0.180880   \n",
       "38             13               0.175499   \n",
       "39             17               0.154916   \n",
       "40             36               0.117057   \n",
       "41             11               0.116631   \n",
       "42             42               0.106161   \n",
       "43             12               0.053845   \n",
       "\n",
       "                                          Column_name  \n",
       "0                                   PERFORM_CNS_SCORE  \n",
       "1                                                 LTV  \n",
       "2                                    DISBURSED_AMOUNT  \n",
       "3                       EMPLOYMENT_TYPE_Self employed  \n",
       "4                                                 Age  \n",
       "5                                  PRIMARY_INSTAL_AMT  \n",
       "6                                     Loan_age_months  \n",
       "7       PERFORM_CNS_SCORE_DESCRIPTION_D-Very Low Risk  \n",
       "8                                          ASSET_COST  \n",
       "9            PERFORM_CNS_SCORE_DESCRIPTION_F-Low Risk  \n",
       "10                              PRI_SANCTIONED_AMOUNT  \n",
       "11                               PRI_DISBURSED_AMOUNT  \n",
       "12                                PRI_CURRENT_BALANCE  \n",
       "13                              CREDIT_HISTORY_LENGTH  \n",
       "14      PERFORM_CNS_SCORE_DESCRIPTION_C-Very Low Risk  \n",
       "15           PERFORM_CNS_SCORE_DESCRIPTION_E-Low Risk  \n",
       "16                                    PRI_NO_OF_ACCTS  \n",
       "17                                   AVERAGE_ACCT_AGE  \n",
       "18      PERFORM_CNS_SCORE_DESCRIPTION_B-Very Low Risk  \n",
       "19        PERFORM_CNS_SCORE_DESCRIPTION_H-Medium Risk  \n",
       "20                                   PRI_ACTIVE_ACCTS  \n",
       "21           PERFORM_CNS_SCORE_DESCRIPTION_G-Low Risk  \n",
       "22          PERFORM_CNS_SCORE_DESCRIPTION_K-High Risk  \n",
       "23                       NEW_ACCTS_IN_LAST_SIX_MONTHS  \n",
       "24        PERFORM_CNS_SCORE_DESCRIPTION_I-Medium Risk  \n",
       "25                                    NO_OF_INQUIRIES  \n",
       "26                                  PRI_OVERDUE_ACCTS  \n",
       "27     PERFORM_CNS_SCORE_DESCRIPTION_M-Very High Risk  \n",
       "28          PERFORM_CNS_SCORE_DESCRIPTION_J-High Risk  \n",
       "29  PERFORM_CNS_SCORE_DESCRIPTION_Not Scored: No A...  \n",
       "30                DELINQUENT_ACCTS_IN_LAST_SIX_MONTHS  \n",
       "31  PERFORM_CNS_SCORE_DESCRIPTION_No Bureau Histor...  \n",
       "32  PERFORM_CNS_SCORE_DESCRIPTION_Not Scored: Not ...  \n",
       "33  PERFORM_CNS_SCORE_DESCRIPTION_Not Scored: Suff...  \n",
       "34  PERFORM_CNS_SCORE_DESCRIPTION_Not Scored: No U...  \n",
       "35                                    SEC_NO_OF_ACCTS  \n",
       "36                               SEC_DISBURSED_AMOUNT  \n",
       "37                              SEC_SANCTIONED_AMOUNT  \n",
       "38                                SEC_CURRENT_BALANCE  \n",
       "39                                     SEC_INSTAL_AMT  \n",
       "40     PERFORM_CNS_SCORE_DESCRIPTION_L-Very High Risk  \n",
       "41                                   SEC_ACTIVE_ACCTS  \n",
       "42  PERFORM_CNS_SCORE_DESCRIPTION_Not Scored: Only...  \n",
       "43                                  SEC_OVERDUE_ACCTS  "
      ]
     },
     "execution_count": 45,
     "metadata": {},
     "output_type": "execute_result"
    }
   ],
   "source": [
    "feature_imp = pd.DataFrame(RF.feature_importances_)\n",
    "features_list = list(df1.columns)\n",
    "features_list.remove(\"LOAN_DEFAULT\")\n",
    "feature_imp[\"Column_name\"] = features_list\n",
    "feature_imp.rename(columns={0:\"importance in percent\"}, inplace=True)\n",
    "feature_imp[\"importance in percent\"] = feature_imp[\"importance in percent\"]*100\n",
    "feature_imp.sort_values(by=\"importance in percent\", ascending=False, inplace=True)\n",
    "feature_imp.reset_index(inplace=True)\n",
    "feature_imp.rename(columns={\"index\":\"column number\"}, inplace=True)\n",
    "feature_imp"
   ]
  },
  {
   "cell_type": "markdown",
   "metadata": {},
   "source": [
    "## 4. XGBOOST "
   ]
  },
  {
   "cell_type": "markdown",
   "metadata": {},
   "source": [
    "### 4. a] Checking at various depths"
   ]
  },
  {
   "cell_type": "code",
   "execution_count": 46,
   "metadata": {},
   "outputs": [
    {
     "name": "stderr",
     "output_type": "stream",
     "text": [
      "100%|██████████| 6/6 [02:59<00:00, 29.89s/it]\n"
     ]
    }
   ],
   "source": [
    "#xgbclassifier\n",
    "depth = [4,5,6,7,8,9]\n",
    "cv_scores=[]\n",
    "training_scores=[]\n",
    "for i in tqdm(depth):\n",
    "    xg = xgb.XGBClassifier(max_depth=i, use_label_encoder=False, eval_metric= \"logloss\")\n",
    "    xg.fit(x_train,y_train)\n",
    "    y_pred_train = xg.predict(x_train)\n",
    "    training_scores.append(fbeta_score(y_train,y_pred_train, beta=1))\n",
    "    scores = cross_val_score(xg , x_train, y_train , cv = 4, scoring = \"f1\")\n",
    "    cv_scores.append(scores.mean())"
   ]
  },
  {
   "cell_type": "code",
   "execution_count": 47,
   "metadata": {},
   "outputs": [
    {
     "data": {
      "image/png": "[encoded data removed]",
      "text/plain": [
       "<Figure size 576x864 with 1 Axes>"
      ]
     },
     "metadata": {},
     "output_type": "display_data"
    }
   ],
   "source": [
    "plt.figure(figsize=(8,12))\n",
    "sns.lineplot(x=depth, y=training_scores, color = \"b\",label = \"training_scores\")\n",
    "sns.lineplot(x=depth, y=cv_scores, color = \"r\",label = \"cv_scores\")\n",
    "sns.scatterplot(x=depth, y=training_scores, color = \"b\",label = \"training_scores\")\n",
    "sns.scatterplot(x=depth, y=cv_scores, color = \"r\",label = \"cv_scores\")\n",
    "sns.set_style()\n",
    "plt.legend()\n",
    "plt.yticks(np.arange(min(cv_scores)-0.1,max(training_scores)+0.1,0.01))\n",
    "plt.show()"
   ]
  },
  {
   "cell_type": "code",
   "execution_count": 48,
   "metadata": {},
   "outputs": [
    {
     "data": {
      "text/html": [
       "<div>\n",
       "<style scoped>\n",
       "    .dataframe tbody tr th:only-of-type {\n",
       "        vertical-align: middle;\n",
       "    }\n",
       "\n",
       "    .dataframe tbody tr th {\n",
       "        vertical-align: top;\n",
       "    }\n",
       "\n",
       "    .dataframe thead th {\n",
       "        text-align: right;\n",
       "    }\n",
       "</style>\n",
       "<table border=\"1\" class=\"dataframe\">\n",
       "  <thead>\n",
       "    <tr style=\"text-align: right;\">\n",
       "      <th></th>\n",
       "      <th>Depth</th>\n",
       "      <th>Training scores</th>\n",
       "      <th>Cross val scores</th>\n",
       "    </tr>\n",
       "  </thead>\n",
       "  <tbody>\n",
       "    <tr>\n",
       "      <th>0</th>\n",
       "      <td>4</td>\n",
       "      <td>0.714784</td>\n",
       "      <td>0.706018</td>\n",
       "    </tr>\n",
       "    <tr>\n",
       "      <th>1</th>\n",
       "      <td>5</td>\n",
       "      <td>0.721291</td>\n",
       "      <td>0.708937</td>\n",
       "    </tr>\n",
       "    <tr>\n",
       "      <th>2</th>\n",
       "      <td>6</td>\n",
       "      <td>0.732920</td>\n",
       "      <td>0.709861</td>\n",
       "    </tr>\n",
       "    <tr>\n",
       "      <th>3</th>\n",
       "      <td>7</td>\n",
       "      <td>0.747353</td>\n",
       "      <td>0.712785</td>\n",
       "    </tr>\n",
       "    <tr>\n",
       "      <th>4</th>\n",
       "      <td>8</td>\n",
       "      <td>0.772185</td>\n",
       "      <td>0.715692</td>\n",
       "    </tr>\n",
       "    <tr>\n",
       "      <th>5</th>\n",
       "      <td>9</td>\n",
       "      <td>0.792373</td>\n",
       "      <td>0.720121</td>\n",
       "    </tr>\n",
       "  </tbody>\n",
       "</table>\n",
       "</div>"
      ],
      "text/plain": [
       "   Depth  Training scores  Cross val scores\n",
       "0      4         0.714784          0.706018\n",
       "1      5         0.721291          0.708937\n",
       "2      6         0.732920          0.709861\n",
       "3      7         0.747353          0.712785\n",
       "4      8         0.772185          0.715692\n",
       "5      9         0.792373          0.720121"
      ]
     },
     "execution_count": 48,
     "metadata": {},
     "output_type": "execute_result"
    }
   ],
   "source": [
    "xgboost_results = pd.DataFrame({\"Depth\":depth,\"Training scores\": training_scores,\"Cross val scores\":cv_scores})\n",
    "xgboost_results"
   ]
  },
  {
   "cell_type": "markdown",
   "metadata": {},
   "source": [
    "Model starts overfitting drastically after depth 6. this is best case for xgboostclassifier."
   ]
  },
  {
   "cell_type": "markdown",
   "metadata": {},
   "source": [
    "### 4. b] ROC curve for XGBoost (depth = 6)"
   ]
  },
  {
   "cell_type": "code",
   "execution_count": 49,
   "metadata": {},
   "outputs": [
    {
     "data": {
      "image/png": "[encoded data removed]",
      "text/plain": [
       "<Figure size 720x720 with 1 Axes>"
      ]
     },
     "metadata": {},
     "output_type": "display_data"
    }
   ],
   "source": [
    "roc_(xgb.XGBClassifier(max_depth=6, use_label_encoder=False, eval_metric= \"logloss\"), x_train,y_train)"
   ]
  },
  {
   "cell_type": "markdown",
   "metadata": {},
   "source": [
    "### 4. c] Results for xgboost: "
   ]
  },
  {
   "cell_type": "code",
   "execution_count": 50,
   "metadata": {},
   "outputs": [
    {
     "name": "stdout",
     "output_type": "stream",
     "text": [
      "\n",
      "*********************************** SCORES ***********************************\n",
      "\n"
     ]
    },
    {
     "data": {
      "text/html": [
       "<div>\n",
       "<style scoped>\n",
       "    .dataframe tbody tr th:only-of-type {\n",
       "        vertical-align: middle;\n",
       "    }\n",
       "\n",
       "    .dataframe tbody tr th {\n",
       "        vertical-align: top;\n",
       "    }\n",
       "\n",
       "    .dataframe thead th {\n",
       "        text-align: right;\n",
       "    }\n",
       "</style>\n",
       "<table border=\"1\" class=\"dataframe\">\n",
       "  <thead>\n",
       "    <tr style=\"text-align: right;\">\n",
       "      <th></th>\n",
       "      <th>Thresholds</th>\n",
       "      <th>Training precision</th>\n",
       "      <th>Training F1 score</th>\n",
       "      <th>Training Recall</th>\n",
       "      <th>Testing precision</th>\n",
       "      <th>Testing F1 score</th>\n",
       "      <th>Testing Recall</th>\n",
       "    </tr>\n",
       "  </thead>\n",
       "  <tbody>\n",
       "    <tr>\n",
       "      <th>0</th>\n",
       "      <td>0.05</td>\n",
       "      <td>0.506434</td>\n",
       "      <td>0.672333</td>\n",
       "      <td>0.999873</td>\n",
       "      <td>0.511786</td>\n",
       "      <td>0.675808</td>\n",
       "      <td>0.994550</td>\n",
       "    </tr>\n",
       "    <tr>\n",
       "      <th>1</th>\n",
       "      <td>0.10</td>\n",
       "      <td>0.523861</td>\n",
       "      <td>0.687082</td>\n",
       "      <td>0.998047</td>\n",
       "      <td>0.530259</td>\n",
       "      <td>0.687641</td>\n",
       "      <td>0.977879</td>\n",
       "    </tr>\n",
       "    <tr>\n",
       "      <th>2</th>\n",
       "      <td>0.15</td>\n",
       "      <td>0.547423</td>\n",
       "      <td>0.705569</td>\n",
       "      <td>0.992210</td>\n",
       "      <td>0.546186</td>\n",
       "      <td>0.695796</td>\n",
       "      <td>0.958285</td>\n",
       "    </tr>\n",
       "    <tr>\n",
       "      <th>3</th>\n",
       "      <td>0.20</td>\n",
       "      <td>0.572773</td>\n",
       "      <td>0.723507</td>\n",
       "      <td>0.981911</td>\n",
       "      <td>0.558627</td>\n",
       "      <td>0.700927</td>\n",
       "      <td>0.940502</td>\n",
       "    </tr>\n",
       "    <tr>\n",
       "      <th>4</th>\n",
       "      <td>0.25</td>\n",
       "      <td>0.597883</td>\n",
       "      <td>0.738500</td>\n",
       "      <td>0.965602</td>\n",
       "      <td>0.568712</td>\n",
       "      <td>0.704534</td>\n",
       "      <td>0.925585</td>\n",
       "    </tr>\n",
       "    <tr>\n",
       "      <th>5</th>\n",
       "      <td>0.30</td>\n",
       "      <td>0.624112</td>\n",
       "      <td>0.750081</td>\n",
       "      <td>0.939758</td>\n",
       "      <td>0.576908</td>\n",
       "      <td>0.706980</td>\n",
       "      <td>0.912780</td>\n",
       "    </tr>\n",
       "    <tr>\n",
       "      <th>6</th>\n",
       "      <td>0.35</td>\n",
       "      <td>0.650812</td>\n",
       "      <td>0.756952</td>\n",
       "      <td>0.904458</td>\n",
       "      <td>0.583989</td>\n",
       "      <td>0.708422</td>\n",
       "      <td>0.900240</td>\n",
       "    </tr>\n",
       "    <tr>\n",
       "      <th>7</th>\n",
       "      <td>0.40</td>\n",
       "      <td>0.680566</td>\n",
       "      <td>0.758447</td>\n",
       "      <td>0.856456</td>\n",
       "      <td>0.589751</td>\n",
       "      <td>0.708815</td>\n",
       "      <td>0.888114</td>\n",
       "    </tr>\n",
       "    <tr>\n",
       "      <th>8</th>\n",
       "      <td>0.45</td>\n",
       "      <td>0.713926</td>\n",
       "      <td>0.751912</td>\n",
       "      <td>0.794168</td>\n",
       "      <td>0.596728</td>\n",
       "      <td>0.709992</td>\n",
       "      <td>0.876327</td>\n",
       "    </tr>\n",
       "    <tr>\n",
       "      <th>9</th>\n",
       "      <td>0.50</td>\n",
       "      <td>0.753541</td>\n",
       "      <td>0.732920</td>\n",
       "      <td>0.713397</td>\n",
       "      <td>0.605702</td>\n",
       "      <td>0.711516</td>\n",
       "      <td>0.862127</td>\n",
       "    </tr>\n",
       "    <tr>\n",
       "      <th>10</th>\n",
       "      <td>0.55</td>\n",
       "      <td>0.797804</td>\n",
       "      <td>0.701786</td>\n",
       "      <td>0.626397</td>\n",
       "      <td>0.616386</td>\n",
       "      <td>0.712363</td>\n",
       "      <td>0.843740</td>\n",
       "    </tr>\n",
       "    <tr>\n",
       "      <th>11</th>\n",
       "      <td>0.60</td>\n",
       "      <td>0.844331</td>\n",
       "      <td>0.656912</td>\n",
       "      <td>0.537582</td>\n",
       "      <td>0.630830</td>\n",
       "      <td>0.712517</td>\n",
       "      <td>0.818508</td>\n",
       "    </tr>\n",
       "    <tr>\n",
       "      <th>12</th>\n",
       "      <td>0.65</td>\n",
       "      <td>0.898117</td>\n",
       "      <td>0.596994</td>\n",
       "      <td>0.447091</td>\n",
       "      <td>0.652329</td>\n",
       "      <td>0.710912</td>\n",
       "      <td>0.781055</td>\n",
       "    </tr>\n",
       "    <tr>\n",
       "      <th>13</th>\n",
       "      <td>0.70</td>\n",
       "      <td>0.948801</td>\n",
       "      <td>0.533412</td>\n",
       "      <td>0.370991</td>\n",
       "      <td>0.682329</td>\n",
       "      <td>0.703234</td>\n",
       "      <td>0.725461</td>\n",
       "    </tr>\n",
       "    <tr>\n",
       "      <th>14</th>\n",
       "      <td>0.75</td>\n",
       "      <td>0.992852</td>\n",
       "      <td>0.468544</td>\n",
       "      <td>0.306622</td>\n",
       "      <td>0.729436</td>\n",
       "      <td>0.678840</td>\n",
       "      <td>0.634809</td>\n",
       "    </tr>\n",
       "    <tr>\n",
       "      <th>15</th>\n",
       "      <td>0.80</td>\n",
       "      <td>0.999523</td>\n",
       "      <td>0.450675</td>\n",
       "      <td>0.290925</td>\n",
       "      <td>0.788876</td>\n",
       "      <td>0.628735</td>\n",
       "      <td>0.522639</td>\n",
       "    </tr>\n",
       "    <tr>\n",
       "      <th>16</th>\n",
       "      <td>0.85</td>\n",
       "      <td>1.000000</td>\n",
       "      <td>0.444722</td>\n",
       "      <td>0.285944</td>\n",
       "      <td>0.871157</td>\n",
       "      <td>0.538351</td>\n",
       "      <td>0.389537</td>\n",
       "    </tr>\n",
       "    <tr>\n",
       "      <th>17</th>\n",
       "      <td>0.90</td>\n",
       "      <td>1.000000</td>\n",
       "      <td>0.438364</td>\n",
       "      <td>0.280708</td>\n",
       "      <td>0.946965</td>\n",
       "      <td>0.429176</td>\n",
       "      <td>0.277462</td>\n",
       "    </tr>\n",
       "    <tr>\n",
       "      <th>18</th>\n",
       "      <td>0.95</td>\n",
       "      <td>1.000000</td>\n",
       "      <td>0.400263</td>\n",
       "      <td>0.250205</td>\n",
       "      <td>0.979470</td>\n",
       "      <td>0.350219</td>\n",
       "      <td>0.213231</td>\n",
       "    </tr>\n",
       "  </tbody>\n",
       "</table>\n",
       "</div>"
      ],
      "text/plain": [
       "    Thresholds  Training precision  Training F1 score  Training Recall  \\\n",
       "0         0.05            0.506434           0.672333         0.999873   \n",
       "1         0.10            0.523861           0.687082         0.998047   \n",
       "2         0.15            0.547423           0.705569         0.992210   \n",
       "3         0.20            0.572773           0.723507         0.981911   \n",
       "4         0.25            0.597883           0.738500         0.965602   \n",
       "5         0.30            0.624112           0.750081         0.939758   \n",
       "6         0.35            0.650812           0.756952         0.904458   \n",
       "7         0.40            0.680566           0.758447         0.856456   \n",
       "8         0.45            0.713926           0.751912         0.794168   \n",
       "9         0.50            0.753541           0.732920         0.713397   \n",
       "10        0.55            0.797804           0.701786         0.626397   \n",
       "11        0.60            0.844331           0.656912         0.537582   \n",
       "12        0.65            0.898117           0.596994         0.447091   \n",
       "13        0.70            0.948801           0.533412         0.370991   \n",
       "14        0.75            0.992852           0.468544         0.306622   \n",
       "15        0.80            0.999523           0.450675         0.290925   \n",
       "16        0.85            1.000000           0.444722         0.285944   \n",
       "17        0.90            1.000000           0.438364         0.280708   \n",
       "18        0.95            1.000000           0.400263         0.250205   \n",
       "\n",
       "    Testing precision  Testing F1 score  Testing Recall  \n",
       "0            0.511786          0.675808        0.994550  \n",
       "1            0.530259          0.687641        0.977879  \n",
       "2            0.546186          0.695796        0.958285  \n",
       "3            0.558627          0.700927        0.940502  \n",
       "4            0.568712          0.704534        0.925585  \n",
       "5            0.576908          0.706980        0.912780  \n",
       "6            0.583989          0.708422        0.900240  \n",
       "7            0.589751          0.708815        0.888114  \n",
       "8            0.596728          0.709992        0.876327  \n",
       "9            0.605702          0.711516        0.862127  \n",
       "10           0.616386          0.712363        0.843740  \n",
       "11           0.630830          0.712517        0.818508  \n",
       "12           0.652329          0.710912        0.781055  \n",
       "13           0.682329          0.703234        0.725461  \n",
       "14           0.729436          0.678840        0.634809  \n",
       "15           0.788876          0.628735        0.522639  \n",
       "16           0.871157          0.538351        0.389537  \n",
       "17           0.946965          0.429176        0.277462  \n",
       "18           0.979470          0.350219        0.213231  "
      ]
     },
     "execution_count": 50,
     "metadata": {},
     "output_type": "execute_result"
    }
   ],
   "source": [
    "scoresdf(xgb.XGBClassifier(max_depth=6, use_label_encoder=False, eval_metric= \"logloss\"), x_train, y_train, x_cv, y_cv)"
   ]
  },
  {
   "cell_type": "markdown",
   "metadata": {},
   "source": [
    "# 5. Summarizing the results and conclusion"
   ]
  },
  {
   "cell_type": "code",
   "execution_count": 51,
   "metadata": {},
   "outputs": [
    {
     "data": {
      "text/plain": [
       "<sklearn.metrics._plot.roc_curve.RocCurveDisplay at 0x2e4bee5cf48>"
      ]
     },
     "execution_count": 51,
     "metadata": {},
     "output_type": "execute_result"
    },
    {
     "data": {
      "image/png": "[encoded data removed]",
      "text/plain": [
       "<Figure size 432x288 with 1 Axes>"
      ]
     },
     "metadata": {},
     "output_type": "display_data"
    }
   ],
   "source": [
    "disp =plot_roc_curve(LR, x_train,y_train)\n",
    "plot_roc_curve(DT, x_train,y_train, ax=disp.ax_)\n",
    "plot_roc_curve(RF, x_train,y_train, ax=disp.ax_)\n",
    "plot_roc_curve(xg, x_train,y_train, ax=disp.ax_)"
   ]
  },
  {
   "cell_type": "markdown",
   "metadata": {},
   "source": [
    "**We were given a vehicle loan dataset with objective of finding the people who may default.**\n",
    "\n",
    "given dataset consists of:\n",
    "\n",
    "1. Training data with 233154 datapoints and 41 features.\n",
    "\n",
    "2. Testing data with 112392 datapoints and 40 features.\n",
    "\n",
    "\n",
    "-First, we started with basic data cleaning operations like missing values handling and converting required columns into appropriate format. \n",
    "-Second step was trying to extract information from data using fundamental libraries such as pandas, numpy as matplotlib.  \n",
    "\n",
    "-Since this was a case of imbalanced data, oversampling using SMOTE has been done.\n",
    "\n",
    "-data was split into 3 parts, training, cross validation and testing. 30% data was taken for cross validation and 30% of remaining data was taken for testing purpose.\n",
    "\n",
    "-Data was standardized and then taken for modelling.\n",
    "\n",
    "\n",
    "**Metrics used for measurement of performance:**\n",
    "\n",
    "1. Precision\n",
    "\n",
    "2. F1 score\n",
    "\n",
    "3. Recall\n",
    "\n",
    "\n",
    "**4 machine learning algorithms were applied on data:**\n",
    "\n",
    "1. Logistic regression. \n",
    "\n",
    "2. Decision tree\n",
    "\n",
    "3. Random forest\n",
    "\n",
    "4. Extreme boost\n",
    "\n",
    "\n",
    "\n",
    "1. Logistic regression: Best hyperparameters were found using gridsearch and then checked for all the metrics across various thresholds.\n",
    "\n",
    "2. Decision tree, random forest and xgboost: checked for various depths, best depth was found and then checked for across all thresholds for all metrics.\n",
    "\n",
    "\n",
    "\n",
    "Best model can be chosen according to requirement.\n",
    "\n",
    "**Since objective of this study is to find the vehical loan defaulter, clearly recall is more important than precision so we can give slight edge to recall but again, you can not have 'bad' precision because then you will be classifying a lot more people as defaulters than required. so a proper balance needs to be found and it can be found checking all scores dataframes across all models.**"
   ]
  },
  {
   "cell_type": "code",
   "execution_count": null,
   "metadata": {},
   "outputs": [],
   "source": []
  }
 ],
 "metadata": {
  "kernelspec": {
   "display_name": "Python 3",
   "language": "python",
   "name": "python3"
  },
  "language_info": {
   "codemirror_mode": {
    "name": "ipython",
    "version": 3
   },
   "file_extension": ".py",
   "mimetype": "text/x-python",
   "name": "python",
   "nbconvert_exporter": "python",
   "pygments_lexer": "ipython3",
   "version": "3.7.6"
  }
 },
 "nbformat": 4,
 "nbformat_minor": 4
}
