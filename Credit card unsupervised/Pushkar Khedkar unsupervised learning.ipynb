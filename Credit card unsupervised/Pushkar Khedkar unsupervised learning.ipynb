{
 "cells": [
  {
   "cell_type": "markdown",
   "metadata": {},
   "source": [
    "# MACHINE LEARNING PAPER - II\n",
    "1. Unsupervised learning\n",
    "<br>\n",
    "Submitted by: Pushkar Khedkar\n",
    "\n",
    "<br>\n",
    "Given Dataset: \"Credit_card\" data.\n",
    "<br>"
   ]
  },
  {
   "cell_type": "markdown",
   "metadata": {},
   "source": [
    "### ATTRIBUTES INFORMATION"
   ]
  },
  {
   "cell_type": "markdown",
   "metadata": {},
   "source": [
    "1) CUSTID: Identification of Credit Card holder (Categorical) \n",
    "\n",
    "2) BALANCE: Balance amount left in their account to make purchases \n",
    "\n",
    "3) BALANCEFREQUENCY: How frequently the Balance is updated, score between 0 and 1 (1 = frequently updated, 0 = not frequently updated) \n",
    "\n",
    "4) PURCHASES: Amount of purchases made from account \n",
    "\n",
    "5) ONEOFFPURCHASES: Maximum purchase amount done in one-go \n",
    "\n",
    "6) INSTALLMENTSPURCHASES: Amount of purchase done in installment \n",
    "\n",
    "7) CASHADVANCE: Cash in advance given by the user \n",
    "\n",
    "8) PURCHASESFREQUENCY: How frequently the Purchases are being made, score between 0 and 1 (1 = frequently purchased, 0 = not frequently purchased) \n",
    "\n",
    "9) ONEOFFPURCHASESFREQUENCY: How frequently Purchases are happening in one-go (1 = frequently purchased, 0 = not frequently purchased) \n",
    "\n",
    "10) PURCHASESINSTALLMENTSFREQUENCY: How frequently purchases in installments are being done (1 = frequently done, 0 = not frequently done) \n",
    "\n",
    "11) CASHADVANCEFREQUENCY: How frequently the cash in advance being paid \n",
    "\n",
    "12) CASHADVANCETRX: Number of Transactions made with \"Cash in Advanced\" \n",
    "\n",
    "13) PURCHASESTRX: Number of purchase transactions made \n",
    "\n",
    "14) CREDITLIMIT: Limit of Credit Card for user \n",
    "\n",
    "15) PAYMENTS: Amount of Payment done by user \n",
    "\n",
    "16) MINIMUM_PAYMENTS: Minimum amount of payments made by user\n",
    "\n",
    "17) PRCFULLPAYMENT: Percent of full payment paid by user \n",
    "\n",
    "18) TENURE: Tenure of credit card service for user\n",
    "\n",
    "=================================================================================\n",
    "\n"
   ]
  },
  {
   "cell_type": "markdown",
   "metadata": {},
   "source": [
    "### OBJECTIVES\n",
    "\n",
    "Q1. What does the primary analysis of several categorical features reveal?\n",
    "\n",
    "Q2.Perform the following Exploratory Data Analysis tasks:\n",
    "a. Missing Value Analysis\n",
    "b. Outlier Treatment using the Z-score method\n",
    "c. Deal with correlated variables\n",
    "\n",
    "Q3. Perform dimensionality reduction using PCA such that the 95% of the variance is explained\n",
    "\n",
    "\n",
    "Q4. Find the optimum value of k for k-means clustering using the elbow method. Plot the elbow curve.\n",
    "\n",
    "\n",
    "Q5. Find the optimum value of k for k-means clustering using the silhouette score method and specify the number of observations in each cluster using a bar plot.\n",
    "\n",
    "\n",
    "Q.6 Build a K-means clustering model using the optimum value of K."
   ]
  },
  {
   "cell_type": "code",
   "execution_count": 1,
   "metadata": {},
   "outputs": [],
   "source": [
    "# importing essential liabraries\n",
    "import pandas as pd\n",
    "import numpy as np\n",
    "import matplotlib.pyplot as plt\n",
    "import seaborn as sns\n",
    "from sklearn.decomposition import PCA\n",
    "from sklearn.preprocessing import StandardScaler, Normalizer, MinMaxScaler\n",
    "from sklearn.cluster import KMeans\n",
    "from sklearn.metrics import silhouette_score\n",
    "from sklearn import metrics"
   ]
  },
  {
   "cell_type": "code",
   "execution_count": 2,
   "metadata": {},
   "outputs": [],
   "source": [
    "#loading data\n",
    "df = pd.read_csv(\"credit_card.csv\")"
   ]
  },
  {
   "cell_type": "code",
   "execution_count": 3,
   "metadata": {},
   "outputs": [
    {
     "name": "stdout",
     "output_type": "stream",
     "text": [
      "dataset has 8950 datapoints and 18 features.\n"
     ]
    }
   ],
   "source": [
    "print(\"dataset has {} datapoints and {} features.\".format(df.shape[0], df.shape[1]))"
   ]
  },
  {
   "cell_type": "markdown",
   "metadata": {},
   "source": [
    "# 1] Primary analysis of categorical features:"
   ]
  },
  {
   "cell_type": "code",
   "execution_count": 4,
   "metadata": {},
   "outputs": [
    {
     "name": "stdout",
     "output_type": "stream",
     "text": [
      "<class 'pandas.core.frame.DataFrame'>\n",
      "RangeIndex: 8950 entries, 0 to 8949\n",
      "Data columns (total 18 columns):\n",
      " #   Column                            Non-Null Count  Dtype  \n",
      "---  ------                            --------------  -----  \n",
      " 0   CUST_ID                           8950 non-null   object \n",
      " 1   BALANCE                           8950 non-null   float64\n",
      " 2   BALANCE_FREQUENCY                 8950 non-null   float64\n",
      " 3   PURCHASES                         8950 non-null   float64\n",
      " 4   ONEOFF_PURCHASES                  8950 non-null   float64\n",
      " 5   INSTALLMENTS_PURCHASES            8950 non-null   float64\n",
      " 6   CASH_ADVANCE                      8950 non-null   float64\n",
      " 7   PURCHASES_FREQUENCY               8950 non-null   float64\n",
      " 8   ONEOFF_PURCHASES_FREQUENCY        8950 non-null   float64\n",
      " 9   PURCHASES_INSTALLMENTS_FREQUENCY  8950 non-null   float64\n",
      " 10  CASH_ADVANCE_FREQUENCY            8950 non-null   float64\n",
      " 11  CASH_ADVANCE_TRX                  8950 non-null   int64  \n",
      " 12  PURCHASES_TRX                     8950 non-null   int64  \n",
      " 13  CREDIT_LIMIT                      8949 non-null   float64\n",
      " 14  PAYMENTS                          8950 non-null   float64\n",
      " 15  MINIMUM_PAYMENTS                  8637 non-null   float64\n",
      " 16  PRC_FULL_PAYMENT                  8950 non-null   float64\n",
      " 17  TENURE                            8950 non-null   int64  \n",
      "dtypes: float64(14), int64(3), object(1)\n",
      "memory usage: 1.2+ MB\n"
     ]
    }
   ],
   "source": [
    "df.info()     #checking dtypes of each column"
   ]
  },
  {
   "cell_type": "markdown",
   "metadata": {},
   "source": [
    "<br>\n",
    "There are no categorical features in dataset."
   ]
  },
  {
   "cell_type": "markdown",
   "metadata": {},
   "source": [
    "# 2] Exploratory Data Analysis tasks:\n",
    "\n",
    "## 2 a. Missing Value Analysis"
   ]
  },
  {
   "cell_type": "code",
   "execution_count": 5,
   "metadata": {},
   "outputs": [
    {
     "data": {
      "text/plain": [
       "CUST_ID                               0\n",
       "BALANCE                               0\n",
       "BALANCE_FREQUENCY                     0\n",
       "PURCHASES                             0\n",
       "ONEOFF_PURCHASES                      0\n",
       "INSTALLMENTS_PURCHASES                0\n",
       "CASH_ADVANCE                          0\n",
       "PURCHASES_FREQUENCY                   0\n",
       "ONEOFF_PURCHASES_FREQUENCY            0\n",
       "PURCHASES_INSTALLMENTS_FREQUENCY      0\n",
       "CASH_ADVANCE_FREQUENCY                0\n",
       "CASH_ADVANCE_TRX                      0\n",
       "PURCHASES_TRX                         0\n",
       "CREDIT_LIMIT                          1\n",
       "PAYMENTS                              0\n",
       "MINIMUM_PAYMENTS                    313\n",
       "PRC_FULL_PAYMENT                      0\n",
       "TENURE                                0\n",
       "dtype: int64"
      ]
     },
     "execution_count": 5,
     "metadata": {},
     "output_type": "execute_result"
    }
   ],
   "source": [
    "df.isnull().sum()"
   ]
  },
  {
   "cell_type": "markdown",
   "metadata": {},
   "source": [
    "<br>\n",
    "There are only two columns with null values.\n",
    "\n",
    "CREDIT_LIMIT                       :    1\n",
    "\n",
    "MINIMUM_PAYMENTS             :        313"
   ]
  },
  {
   "cell_type": "code",
   "execution_count": 6,
   "metadata": {},
   "outputs": [],
   "source": [
    "df[\"CREDIT_LIMIT\"].fillna(df[\"CREDIT_LIMIT\"].median(), inplace =True) #filling with median of data"
   ]
  },
  {
   "cell_type": "code",
   "execution_count": 7,
   "metadata": {},
   "outputs": [
    {
     "data": {
      "image/png": "[encoded data removed]",
      "text/plain": [
       "<Figure size 720x360 with 1 Axes>"
      ]
     },
     "metadata": {
      "needs_background": "light"
     },
     "output_type": "display_data"
    }
   ],
   "source": [
    "# Visualizing \"MINIMUM_PAYMENTS\" column to understand its distribution.\n",
    "plt.figure(figsize=(10,5))\n",
    "plt.xlim(0,6000)\n",
    "plt.xlabel('MINIMUM_PAYMENTS')\n",
    "plt.ylabel('Density')\n",
    "sns.kdeplot(df['MINIMUM_PAYMENTS'],shade=True)\n",
    "plt.vlines(df['MINIMUM_PAYMENTS'].median(),0,0.0007, label = \"median = {}\".format(df['MINIMUM_PAYMENTS'].median()),linestyles = \"dotted\")\n",
    "plt.vlines(df['MINIMUM_PAYMENTS'].mean(),0,0.0007, label = \"mean = {}\".format(df['MINIMUM_PAYMENTS'].mean()))\n",
    "plt.legend()\n",
    "plt.show()"
   ]
  },
  {
   "cell_type": "code",
   "execution_count": 8,
   "metadata": {},
   "outputs": [
    {
     "name": "stdout",
     "output_type": "stream",
     "text": [
      "Percentage of Null values in *MINIMUM_PAYMENTS* columns is 3.4972067039106145 % .\n"
     ]
    }
   ],
   "source": [
    "# Distribution is right-skewed and median lies at 312.34 and mean lies at 864.20.\n",
    "print(\"Percentage of Null values in *MINIMUM_PAYMENTS* columns is {}\"\n",
    ".format(df[\"MINIMUM_PAYMENTS\"].isnull().sum()*100/df.shape[0]),\"% .\")"
   ]
  },
  {
   "cell_type": "code",
   "execution_count": 9,
   "metadata": {},
   "outputs": [],
   "source": [
    "# null values can be filled using regression. \n",
    "# since null values are only 3.5 % and looking at time-constraint, filling NaN values using median."
   ]
  },
  {
   "cell_type": "code",
   "execution_count": 10,
   "metadata": {},
   "outputs": [],
   "source": [
    "df[\"MINIMUM_PAYMENTS\"].fillna(df[\"MINIMUM_PAYMENTS\"].median(), inplace=True)"
   ]
  },
  {
   "cell_type": "code",
   "execution_count": 11,
   "metadata": {},
   "outputs": [],
   "source": [
    "df.drop(columns=\"CUST_ID\", inplace=True)"
   ]
  },
  {
   "cell_type": "markdown",
   "metadata": {},
   "source": [
    "## 2.b  Outlier Treatment using the Z-score method"
   ]
  },
  {
   "cell_type": "code",
   "execution_count": 12,
   "metadata": {},
   "outputs": [],
   "source": [
    "# Formula for Z-score: Z-score = (x -mean) / std.deviation\n",
    "#creating function to find outliers:\n",
    "\n",
    "def z_score(x,i):\n",
    "    z_score = (x - df[i].mean())/df[i].std()\n",
    "    if z_score > 3:\n",
    "        return np.nan\n",
    "    else:\n",
    "        return x"
   ]
  },
  {
   "cell_type": "code",
   "execution_count": 13,
   "metadata": {},
   "outputs": [],
   "source": [
    "for i in df.columns:\n",
    "    df[i]= df[i].apply(lambda x: z_score(x,i))"
   ]
  },
  {
   "cell_type": "code",
   "execution_count": 14,
   "metadata": {},
   "outputs": [
    {
     "data": {
      "text/plain": [
       "BALANCE                             196\n",
       "BALANCE_FREQUENCY                     0\n",
       "PURCHASES                           135\n",
       "ONEOFF_PURCHASES                    122\n",
       "INSTALLMENTS_PURCHASES              137\n",
       "CASH_ADVANCE                        182\n",
       "PURCHASES_FREQUENCY                   0\n",
       "ONEOFF_PURCHASES_FREQUENCY            0\n",
       "PURCHASES_INSTALLMENTS_FREQUENCY      0\n",
       "CASH_ADVANCE_FREQUENCY              199\n",
       "CASH_ADVANCE_TRX                    172\n",
       "PURCHASES_TRX                       185\n",
       "CREDIT_LIMIT                        152\n",
       "PAYMENTS                            159\n",
       "MINIMUM_PAYMENTS                    102\n",
       "PRC_FULL_PAYMENT                      0\n",
       "TENURE                                0\n",
       "dtype: int64"
      ]
     },
     "execution_count": 14,
     "metadata": {},
     "output_type": "execute_result"
    }
   ],
   "source": [
    "df.isnull().sum()   #These are the % of outliers in the data"
   ]
  },
  {
   "cell_type": "markdown",
   "metadata": {},
   "source": [
    "Since these outliers occupy very small percent of data and, since its a credit card data, there is an extremely small chance that there could be an error recording the data.\n",
    "for simplicity, we will fill these outliers with median of the data."
   ]
  },
  {
   "cell_type": "code",
   "execution_count": 15,
   "metadata": {},
   "outputs": [],
   "source": [
    "for i in df.columns:\n",
    "    df[i] = df[i].fillna(df[i].median())"
   ]
  },
  {
   "cell_type": "markdown",
   "metadata": {},
   "source": [
    "## 2 c. Dealing with correlated variables"
   ]
  },
  {
   "cell_type": "code",
   "execution_count": 16,
   "metadata": {},
   "outputs": [],
   "source": [
    "df_corr = df.corr()"
   ]
  },
  {
   "cell_type": "code",
   "execution_count": 17,
   "metadata": {},
   "outputs": [
    {
     "data": {
      "text/plain": [
       "<matplotlib.axes._subplots.AxesSubplot at 0x203c31ae088>"
      ]
     },
     "execution_count": 17,
     "metadata": {},
     "output_type": "execute_result"
    },
    {
     "data": {
      "image/png": "[encoded data removed]",
      "text/plain": [
       "<Figure size 576x432 with 2 Axes>"
      ]
     },
     "metadata": {
      "needs_background": "light"
     },
     "output_type": "display_data"
    }
   ],
   "source": [
    "plt.figure(figsize=(8,6))\n",
    "sns.heatmap(df_corr[(df_corr >= 0.70) | (df_corr<= -0.70) ], annot=True)"
   ]
  },
  {
   "cell_type": "markdown",
   "metadata": {},
   "source": [
    "High correlation between 3 pairs of columns is found.\n",
    "columns are:\n",
    "1. one-off purchases and purchases (0.79) --- approx(0.80)\n",
    "2. purchases frequency and purchases installments frequency (0.86)\n",
    "3. cash advance frequency and cash advance TRX (0.76)\n",
    "\n",
    "There are various methods to deal with high correlation, we will stick to the simplest one : Removing any one column out of the pair. we will let 3rd pair be since its quite lesser than 0.8."
   ]
  },
  {
   "cell_type": "code",
   "execution_count": 18,
   "metadata": {},
   "outputs": [],
   "source": [
    "df.drop(columns = [\"ONEOFF_PURCHASES\",\"PURCHASES_INSTALLMENTS_FREQUENCY\"], inplace=True)"
   ]
  },
  {
   "cell_type": "markdown",
   "metadata": {},
   "source": [
    "# 3] Performing dimensionality reduction using PCA such that the 95% of the variance is explained:"
   ]
  },
  {
   "cell_type": "code",
   "execution_count": 19,
   "metadata": {},
   "outputs": [],
   "source": [
    "# Standardizing the data first\n",
    "nz = Normalizer()\n",
    "df_nor = nz.fit_transform(df)"
   ]
  },
  {
   "cell_type": "code",
   "execution_count": 20,
   "metadata": {},
   "outputs": [
    {
     "data": {
      "text/plain": [
       "array([0.35725702, 0.28402429, 0.16862434, 0.08600037, 0.06420119])"
      ]
     },
     "execution_count": 20,
     "metadata": {},
     "output_type": "execute_result"
    }
   ],
   "source": [
    "pca = PCA(n_components=0.95)\n",
    "pca.fit_transform(df_nor)\n",
    "pca.explained_variance_ratio_     "
   ]
  },
  {
   "cell_type": "code",
   "execution_count": 21,
   "metadata": {},
   "outputs": [
    {
     "name": "stdout",
     "output_type": "stream",
     "text": [
      "components required to explain 95% varience : 5\n"
     ]
    }
   ],
   "source": [
    "print(\"components required to explain 95% varience : {}\".format(len(pca.explained_variance_ratio_)))"
   ]
  },
  {
   "cell_type": "markdown",
   "metadata": {},
   "source": [
    "# 4] Finding the optimum value of k for k-means clustering using the elbow method. Plotting the elbow curve."
   ]
  },
  {
   "cell_type": "code",
   "execution_count": 22,
   "metadata": {},
   "outputs": [],
   "source": [
    "#standardizing the data\n",
    "sc = StandardScaler()\n",
    "df_std = sc.fit_transform(df)"
   ]
  },
  {
   "cell_type": "code",
   "execution_count": 23,
   "metadata": {},
   "outputs": [],
   "source": [
    "wcss = []\n",
    "for i in range(1,10):\n",
    "    kmeans = KMeans(n_clusters=i)\n",
    "    kmeans.fit(df_std)\n",
    "    wcss.append(kmeans.inertia_)"
   ]
  },
  {
   "cell_type": "code",
   "execution_count": 24,
   "metadata": {},
   "outputs": [
    {
     "data": {
      "text/plain": [
       "Text(0, 0.5, 'wcss')"
      ]
     },
     "execution_count": 24,
     "metadata": {},
     "output_type": "execute_result"
    },
    {
     "data": {
      "image/png": "[encoded data removed]",
      "text/plain": [
       "<Figure size 432x288 with 1 Axes>"
      ]
     },
     "metadata": {
      "needs_background": "light"
     },
     "output_type": "display_data"
    }
   ],
   "source": [
    "plt.plot(range(1,10),wcss)\n",
    "plt.xlabel(\"no. of clusters\")\n",
    "plt.ylabel(\"wcss\")"
   ]
  },
  {
   "cell_type": "markdown",
   "metadata": {},
   "source": [
    " Looking at elbow graph, k-value of 3 can be taken for clustering model."
   ]
  },
  {
   "cell_type": "markdown",
   "metadata": {},
   "source": [
    "# 5] optimum value of k for k-means clustering using the silhouette score method and the number of observations in each cluster using a bar plot"
   ]
  },
  {
   "cell_type": "code",
   "execution_count": 25,
   "metadata": {},
   "outputs": [
    {
     "name": "stdout",
     "output_type": "stream",
     "text": [
      "For 2 clusters, silhouette score is 0.21143104839309834\n",
      "For 3 clusters, silhouette score is 0.21508546268827136\n",
      "For 4 clusters, silhouette score is 0.16238611017811175\n",
      "For 5 clusters, silhouette score is 0.15652674735800745\n",
      "For 6 clusters, silhouette score is 0.16733403957511797\n"
     ]
    }
   ],
   "source": [
    "for i in range(2,7) :\n",
    "    kmeans = KMeans(n_clusters= i, random_state= 14)\n",
    "    pred = kmeans.fit_predict(df_std)\n",
    "    sil_score = silhouette_score(df_std, pred, random_state= 87)\n",
    "    print(\"For {} clusters, silhouette score is {}\".format(i, sil_score))"
   ]
  },
  {
   "cell_type": "markdown",
   "metadata": {},
   "source": [
    "# 6] Build a K-means clustering model using the optimum value of K."
   ]
  },
  {
   "cell_type": "code",
   "execution_count": 26,
   "metadata": {},
   "outputs": [],
   "source": [
    "#since elbow and silhouette scores are giving k=3 value, we will proceed with 3. "
   ]
  },
  {
   "cell_type": "code",
   "execution_count": 27,
   "metadata": {},
   "outputs": [
    {
     "data": {
      "text/plain": [
       "KMeans(n_clusters=3, random_state=78)"
      ]
     },
     "execution_count": 27,
     "metadata": {},
     "output_type": "execute_result"
    }
   ],
   "source": [
    "#taking k=3\n",
    "kmeans= KMeans(n_clusters= 3, random_state= 78)\n",
    "kmeans.fit(df)"
   ]
  },
  {
   "cell_type": "code",
   "execution_count": 28,
   "metadata": {},
   "outputs": [],
   "source": [
    "df['Cluster'] = kmeans.fit_predict(df)"
   ]
  },
  {
   "cell_type": "code",
   "execution_count": 29,
   "metadata": {},
   "outputs": [
    {
     "data": {
      "text/plain": [
       "1    5032\n",
       "0    2584\n",
       "2    1334\n",
       "Name: Cluster, dtype: int64"
      ]
     },
     "execution_count": 29,
     "metadata": {},
     "output_type": "execute_result"
    }
   ],
   "source": [
    "df[\"Cluster\"].value_counts()"
   ]
  },
  {
   "cell_type": "code",
   "execution_count": 30,
   "metadata": {},
   "outputs": [
    {
     "data": {
      "text/plain": [
       "<matplotlib.axes._subplots.AxesSubplot at 0x203c3acd248>"
      ]
     },
     "execution_count": 30,
     "metadata": {},
     "output_type": "execute_result"
    },
    {
     "data": {
      "image/png": "[encoded data removed]",
      "text/plain": [
       "<Figure size 432x288 with 1 Axes>"
      ]
     },
     "metadata": {
      "needs_background": "light"
     },
     "output_type": "display_data"
    }
   ],
   "source": [
    "df[\"Cluster\"].value_counts().plot(kind=\"bar\")"
   ]
  },
  {
   "cell_type": "markdown",
   "metadata": {},
   "source": [
    "# CONCLUSION : "
   ]
  },
  {
   "cell_type": "markdown",
   "metadata": {},
   "source": [
    "Firstly, given data \"credit card\" was loaded and checked for missing values.\n",
    "There were no missing values in the dataset.\n",
    "\n",
    "outliers were found out and taken care using median since median is a robust measure than mean.\n",
    "\n",
    "columns with high correlation found out and dealt.\n",
    "\n",
    "PCA was implemented and it was found out that 5 features were needed to explain 95% of variance.\n",
    "\n",
    "In K-means algorithm, elbow-method and silhouette score method was exercised to find out the right value of clusters. It was found out to be 3."
   ]
  }
 ],
 "metadata": {
  "kernelspec": {
   "display_name": "Python 3",
   "language": "python",
   "name": "python3"
  },
  "language_info": {
   "codemirror_mode": {
    "name": "ipython",
    "version": 3
   },
   "file_extension": ".py",
   "mimetype": "text/x-python",
   "name": "python",
   "nbconvert_exporter": "python",
   "pygments_lexer": "ipython3",
   "version": "3.7.6"
  }
 },
 "nbformat": 4,
 "nbformat_minor": 4
}
