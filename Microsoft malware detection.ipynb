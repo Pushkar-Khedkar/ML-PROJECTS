{
 "cells": [
  {
   "cell_type": "code",
   "execution_count": 170,
   "metadata": {},
   "outputs": [],
   "source": [
    "import warnings\n",
    "import shutil\n",
    "import os\n",
    "import pandas as pd\n",
    "import matplotlib\n",
    "import matplotlib.pyplot as plt\n",
    "import seaborn as sns\n",
    "import numpy as np\n",
    "import pickle\n",
    "import pandas as pd\n",
    "from sklearn.metrics import log_loss\n",
    "from sklearn.metrics import confusion_matrix\n",
    "from sklearn.model_selection import train_test_split\n",
    "from tqdm import tqdm\n",
    "from tensorflow.keras.layers import Dense, Flatten, Activation, Dropout , BatchNormalization\n",
    "from tensorflow.keras.models import Sequential\n",
    "from tensorflow.keras.optimizers import Adam\n",
    "from tensorflow.keras.utils import normalize"
   ]
  },
  {
   "cell_type": "code",
   "execution_count": 171,
   "metadata": {},
   "outputs": [
    {
     "name": "stdout",
     "output_type": "stream",
     "text": [
      "H:\\Microsoft assignment\n"
     ]
    }
   ],
   "source": [
    "os.chdir(\"H:\\\\Microsoft assignment\")\n",
    "print(os.getcwd())"
   ]
  },
  {
   "cell_type": "raw",
   "metadata": {},
   "source": [
    "#separating byte files and asm files \n",
    "\n",
    "source = 'train'\n",
    "destination = 'byteFiles'\n",
    "\n",
    "if not os.path.isdir(destination):\n",
    "    os.makedirs(destination)\n",
    "\n",
    "if os.path.isdir(source):\n",
    "    os.rename(source,'asmFiles')\n",
    "    source='asmFiles\\\\'\n",
    "    asm_files = os.listdir(source)\n",
    "    for file in asm_files:\n",
    "        if (file.endswith(\"bytes\")):\n",
    "            shutil.move(source+file,destination)"
   ]
  },
  {
   "cell_type": "markdown",
   "metadata": {},
   "source": [
    "# Checking class imbalance"
   ]
  },
  {
   "cell_type": "code",
   "execution_count": 172,
   "metadata": {},
   "outputs": [],
   "source": [
    "df = pd.read_csv(\"trainLabels.csv\")"
   ]
  },
  {
   "cell_type": "code",
   "execution_count": 173,
   "metadata": {},
   "outputs": [
    {
     "data": {
      "image/png": "[encoded data removed]",
      "text/plain": [
       "<Figure size 1080x432 with 1 Axes>"
      ]
     },
     "metadata": {
      "needs_background": "light"
     },
     "output_type": "display_data"
    }
   ],
   "source": [
    "plt.figure(figsize=(15,6))\n",
    "df_percentage = pd.DataFrame(df[\"Class\"].value_counts()*100/df.shape[0])\n",
    "df_percentage.reset_index(drop=False, inplace=True)\n",
    "ax= sns.barplot(x=\"index\", y= \"Class\", data=df_percentage)\n",
    "ax.yaxis.set_ticks(np.linspace(0, 100, 21))\n",
    "plt.ylim(0,30)\n",
    "plt.ylabel(\"Class-percentage\")\n",
    "plt.xlabel(\"Classes\")\n",
    "plt.show()"
   ]
  },
  {
   "cell_type": "markdown",
   "metadata": {},
   "source": [
    "# Feature extraction"
   ]
  },
  {
   "cell_type": "markdown",
   "metadata": {},
   "source": [
    "## Sizes of files "
   ]
  },
  {
   "cell_type": "code",
   "execution_count": 174,
   "metadata": {},
   "outputs": [
    {
     "data": {
      "text/html": [
       "<div>\n",
       "<style scoped>\n",
       "    .dataframe tbody tr th:only-of-type {\n",
       "        vertical-align: middle;\n",
       "    }\n",
       "\n",
       "    .dataframe tbody tr th {\n",
       "        vertical-align: top;\n",
       "    }\n",
       "\n",
       "    .dataframe thead th {\n",
       "        text-align: right;\n",
       "    }\n",
       "</style>\n",
       "<table border=\"1\" class=\"dataframe\">\n",
       "  <thead>\n",
       "    <tr style=\"text-align: right;\">\n",
       "      <th></th>\n",
       "      <th>Id</th>\n",
       "      <th>Class</th>\n",
       "    </tr>\n",
       "  </thead>\n",
       "  <tbody>\n",
       "    <tr>\n",
       "      <th>1541</th>\n",
       "      <td>01IsoiSMh5gxyDYTl4CB</td>\n",
       "      <td>2</td>\n",
       "    </tr>\n",
       "    <tr>\n",
       "      <th>8627</th>\n",
       "      <td>01SuzwMJEIXsK7A8dQbl</td>\n",
       "      <td>8</td>\n",
       "    </tr>\n",
       "  </tbody>\n",
       "</table>\n",
       "</div>"
      ],
      "text/plain": [
       "                        Id  Class\n",
       "1541  01IsoiSMh5gxyDYTl4CB      2\n",
       "8627  01SuzwMJEIXsK7A8dQbl      8"
      ]
     },
     "execution_count": 174,
     "metadata": {},
     "output_type": "execute_result"
    }
   ],
   "source": [
    "df.sort_values(by=\"Id\", inplace=True)\n",
    "df.head(2)"
   ]
  },
  {
   "cell_type": "code",
   "execution_count": 175,
   "metadata": {},
   "outputs": [],
   "source": [
    "files=os.listdir('byteFiles')\n",
    "files.sort()"
   ]
  },
  {
   "cell_type": "code",
   "execution_count": 176,
   "metadata": {},
   "outputs": [
    {
     "data": {
      "text/plain": [
       "['01IsoiSMh5gxyDYTl4CB.bytes', '01SuzwMJEIXsK7A8dQbl.bytes']"
      ]
     },
     "execution_count": 176,
     "metadata": {},
     "output_type": "execute_result"
    }
   ],
   "source": [
    "files[0:2]"
   ]
  },
  {
   "cell_type": "code",
   "execution_count": 177,
   "metadata": {},
   "outputs": [
    {
     "name": "stdout",
     "output_type": "stream",
     "text": [
      "H:\\Microsoft assignment\\byteFiles\n"
     ]
    }
   ],
   "source": [
    "os.chdir(\"H:\\\\Microsoft assignment\\\\byteFiles\")\n",
    "print(os.getcwd())"
   ]
  },
  {
   "cell_type": "code",
   "execution_count": 178,
   "metadata": {},
   "outputs": [],
   "source": [
    "sizes_in_mb = []\n",
    "for file in files:\n",
    "    if os.path.isfile(file):\n",
    "        sizes_in_mb.append(((os.path.getsize(file))/1024)/1024)\n",
    "df[\"sizes_in_mb\"] = sizes_in_mb"
   ]
  },
  {
   "cell_type": "code",
   "execution_count": 179,
   "metadata": {},
   "outputs": [],
   "source": [
    "df[\"sizes_in_mb\"] = df[\"sizes_in_mb\"]*df[\"sizes_in_mb\"]"
   ]
  },
  {
   "cell_type": "code",
   "execution_count": 180,
   "metadata": {},
   "outputs": [
    {
     "data": {
      "text/plain": [
       "1541    42.983134\n",
       "8627     0.192690\n",
       "9855    25.127114\n",
       "9856    21.178871\n",
       "0        0.461975\n",
       "          ...    \n",
       "7413     0.218355\n",
       "7425     0.353700\n",
       "7426     4.942372\n",
       "7428     0.697975\n",
       "7431     4.942372\n",
       "Name: sizes_in_mb, Length: 10868, dtype: float64"
      ]
     },
     "execution_count": 180,
     "metadata": {},
     "output_type": "execute_result"
    }
   ],
   "source": [
    "df[\"sizes_in_mb\"]"
   ]
  },
  {
   "cell_type": "code",
   "execution_count": 181,
   "metadata": {},
   "outputs": [
    {
     "data": {
      "text/plain": [
       "<matplotlib.axes._subplots.AxesSubplot at 0x18eebc80248>"
      ]
     },
     "execution_count": 181,
     "metadata": {},
     "output_type": "execute_result"
    },
    {
     "data": {
      "image/png": "[encoded data removed]",
      "text/plain": [
       "<Figure size 864x504 with 1 Axes>"
      ]
     },
     "metadata": {
      "needs_background": "light"
     },
     "output_type": "display_data"
    }
   ],
   "source": [
    "plt.figure(figsize=(12,7))\n",
    "plt.ylim(0,30)\n",
    "sns.boxplot(x=\"Class\",y=\"sizes_in_mb\", data=df)"
   ]
  },
  {
   "cell_type": "code",
   "execution_count": 182,
   "metadata": {},
   "outputs": [
    {
     "name": "stdout",
     "output_type": "stream",
     "text": [
      "H:\\Microsoft assignment\n"
     ]
    }
   ],
   "source": [
    "os.chdir(\"H:\\\\Microsoft assignment\")\n",
    "print(os.getcwd())"
   ]
  },
  {
   "cell_type": "raw",
   "metadata": {},
   "source": [
    "final_dict = {}\n",
    "flag=0\n",
    "compare_elements = []\n",
    "for bytefile in tqdm(sorted(os.listdir(\"byteFiles\"))):\n",
    "    main_list=[]\n",
    "    with open(\"H:\\\\Microsoft assignment\\\\byteFiles\\\\\"+bytefile) as file:\n",
    "        for lines in file:\n",
    "            temp_list= lines.split()\n",
    "            for i in temp_list:\n",
    "                main_list.append(i)\n",
    "    final_list=[]\n",
    "    for i in main_list:\n",
    "        if len(i)<3:\n",
    "            final_list.append(i)\n",
    "    if flag==0:\n",
    "        arr = np.array(final_list)\n",
    "        (element, count)= np.unique(arr, return_counts=True)\n",
    "        compare_elements.extend(element)\n",
    "        for i in element:\n",
    "            final_dict[i]=[]\n",
    "        for i,j in zip(element,count):\n",
    "            final_dict[i].append(j)\n",
    "    else:\n",
    "        arr = np.array(final_list)\n",
    "        (element, count)= np.unique(arr, return_counts=True)\n",
    "        for i in list(set(compare_elements)-set(element)):\n",
    "            final_dict[i].append(0)\n",
    "        for i,j in zip(element,count):\n",
    "            final_dict[i].append(j)\n",
    "    flag = flag+1"
   ]
  },
  {
   "cell_type": "raw",
   "metadata": {},
   "source": [
    "with open('features for microsoft_bytefiles', 'wb') as feature_dict:\n",
    "    pickle.dump(final_dict, feature_dict)"
   ]
  },
  {
   "cell_type": "code",
   "execution_count": 183,
   "metadata": {},
   "outputs": [],
   "source": [
    "with open(\"features for microsoft_bytefiles\", \"rb\") as load_dict:\n",
    "    loaded_dictionary = pickle.load(load_dict)"
   ]
  },
  {
   "cell_type": "code",
   "execution_count": 184,
   "metadata": {},
   "outputs": [
    {
     "data": {
      "text/html": [
       "<div>\n",
       "<style scoped>\n",
       "    .dataframe tbody tr th:only-of-type {\n",
       "        vertical-align: middle;\n",
       "    }\n",
       "\n",
       "    .dataframe tbody tr th {\n",
       "        vertical-align: top;\n",
       "    }\n",
       "\n",
       "    .dataframe thead th {\n",
       "        text-align: right;\n",
       "    }\n",
       "</style>\n",
       "<table border=\"1\" class=\"dataframe\">\n",
       "  <thead>\n",
       "    <tr style=\"text-align: right;\">\n",
       "      <th></th>\n",
       "      <th>00</th>\n",
       "      <th>01</th>\n",
       "      <th>02</th>\n",
       "      <th>03</th>\n",
       "      <th>04</th>\n",
       "      <th>05</th>\n",
       "      <th>06</th>\n",
       "      <th>07</th>\n",
       "      <th>08</th>\n",
       "      <th>09</th>\n",
       "      <th>...</th>\n",
       "      <th>F6</th>\n",
       "      <th>F7</th>\n",
       "      <th>F8</th>\n",
       "      <th>F9</th>\n",
       "      <th>FA</th>\n",
       "      <th>FB</th>\n",
       "      <th>FC</th>\n",
       "      <th>FD</th>\n",
       "      <th>FE</th>\n",
       "      <th>FF</th>\n",
       "    </tr>\n",
       "  </thead>\n",
       "  <tbody>\n",
       "    <tr>\n",
       "      <th>0</th>\n",
       "      <td>39755</td>\n",
       "      <td>8337</td>\n",
       "      <td>7249</td>\n",
       "      <td>7186</td>\n",
       "      <td>8663</td>\n",
       "      <td>6844</td>\n",
       "      <td>8420</td>\n",
       "      <td>7589</td>\n",
       "      <td>9291</td>\n",
       "      <td>358</td>\n",
       "      <td>...</td>\n",
       "      <td>290</td>\n",
       "      <td>451</td>\n",
       "      <td>6536</td>\n",
       "      <td>439</td>\n",
       "      <td>281</td>\n",
       "      <td>302</td>\n",
       "      <td>7639</td>\n",
       "      <td>518</td>\n",
       "      <td>17001</td>\n",
       "      <td>54902</td>\n",
       "    </tr>\n",
       "    <tr>\n",
       "      <th>1</th>\n",
       "      <td>19764</td>\n",
       "      <td>710</td>\n",
       "      <td>302</td>\n",
       "      <td>433</td>\n",
       "      <td>559</td>\n",
       "      <td>410</td>\n",
       "      <td>262</td>\n",
       "      <td>249</td>\n",
       "      <td>422</td>\n",
       "      <td>223</td>\n",
       "      <td>...</td>\n",
       "      <td>483</td>\n",
       "      <td>847</td>\n",
       "      <td>947</td>\n",
       "      <td>350</td>\n",
       "      <td>209</td>\n",
       "      <td>239</td>\n",
       "      <td>653</td>\n",
       "      <td>221</td>\n",
       "      <td>242</td>\n",
       "      <td>2199</td>\n",
       "    </tr>\n",
       "    <tr>\n",
       "      <th>2</th>\n",
       "      <td>601905</td>\n",
       "      <td>3905</td>\n",
       "      <td>2816</td>\n",
       "      <td>3832</td>\n",
       "      <td>3345</td>\n",
       "      <td>3242</td>\n",
       "      <td>3650</td>\n",
       "      <td>3201</td>\n",
       "      <td>2965</td>\n",
       "      <td>3205</td>\n",
       "      <td>...</td>\n",
       "      <td>3271</td>\n",
       "      <td>2804</td>\n",
       "      <td>3687</td>\n",
       "      <td>3101</td>\n",
       "      <td>3211</td>\n",
       "      <td>3097</td>\n",
       "      <td>2758</td>\n",
       "      <td>3099</td>\n",
       "      <td>2759</td>\n",
       "      <td>5753</td>\n",
       "    </tr>\n",
       "    <tr>\n",
       "      <th>3</th>\n",
       "      <td>93506</td>\n",
       "      <td>9542</td>\n",
       "      <td>2568</td>\n",
       "      <td>2438</td>\n",
       "      <td>8925</td>\n",
       "      <td>9330</td>\n",
       "      <td>9007</td>\n",
       "      <td>2342</td>\n",
       "      <td>9107</td>\n",
       "      <td>2457</td>\n",
       "      <td>...</td>\n",
       "      <td>2598</td>\n",
       "      <td>2325</td>\n",
       "      <td>2358</td>\n",
       "      <td>2242</td>\n",
       "      <td>2885</td>\n",
       "      <td>2863</td>\n",
       "      <td>2471</td>\n",
       "      <td>2786</td>\n",
       "      <td>2680</td>\n",
       "      <td>49144</td>\n",
       "    </tr>\n",
       "    <tr>\n",
       "      <th>4</th>\n",
       "      <td>21091</td>\n",
       "      <td>1213</td>\n",
       "      <td>726</td>\n",
       "      <td>817</td>\n",
       "      <td>1257</td>\n",
       "      <td>625</td>\n",
       "      <td>550</td>\n",
       "      <td>523</td>\n",
       "      <td>1078</td>\n",
       "      <td>473</td>\n",
       "      <td>...</td>\n",
       "      <td>446</td>\n",
       "      <td>478</td>\n",
       "      <td>873</td>\n",
       "      <td>485</td>\n",
       "      <td>462</td>\n",
       "      <td>516</td>\n",
       "      <td>1133</td>\n",
       "      <td>471</td>\n",
       "      <td>761</td>\n",
       "      <td>7998</td>\n",
       "    </tr>\n",
       "    <tr>\n",
       "      <th>...</th>\n",
       "      <td>...</td>\n",
       "      <td>...</td>\n",
       "      <td>...</td>\n",
       "      <td>...</td>\n",
       "      <td>...</td>\n",
       "      <td>...</td>\n",
       "      <td>...</td>\n",
       "      <td>...</td>\n",
       "      <td>...</td>\n",
       "      <td>...</td>\n",
       "      <td>...</td>\n",
       "      <td>...</td>\n",
       "      <td>...</td>\n",
       "      <td>...</td>\n",
       "      <td>...</td>\n",
       "      <td>...</td>\n",
       "      <td>...</td>\n",
       "      <td>...</td>\n",
       "      <td>...</td>\n",
       "      <td>...</td>\n",
       "      <td>...</td>\n",
       "    </tr>\n",
       "    <tr>\n",
       "      <th>10863</th>\n",
       "      <td>5535</td>\n",
       "      <td>443</td>\n",
       "      <td>435</td>\n",
       "      <td>486</td>\n",
       "      <td>522</td>\n",
       "      <td>324</td>\n",
       "      <td>451</td>\n",
       "      <td>321</td>\n",
       "      <td>464</td>\n",
       "      <td>345</td>\n",
       "      <td>...</td>\n",
       "      <td>418</td>\n",
       "      <td>331</td>\n",
       "      <td>458</td>\n",
       "      <td>322</td>\n",
       "      <td>456</td>\n",
       "      <td>332</td>\n",
       "      <td>443</td>\n",
       "      <td>330</td>\n",
       "      <td>413</td>\n",
       "      <td>369</td>\n",
       "    </tr>\n",
       "    <tr>\n",
       "      <th>10864</th>\n",
       "      <td>4545</td>\n",
       "      <td>423</td>\n",
       "      <td>363</td>\n",
       "      <td>436</td>\n",
       "      <td>520</td>\n",
       "      <td>408</td>\n",
       "      <td>402</td>\n",
       "      <td>383</td>\n",
       "      <td>422</td>\n",
       "      <td>362</td>\n",
       "      <td>...</td>\n",
       "      <td>416</td>\n",
       "      <td>474</td>\n",
       "      <td>396</td>\n",
       "      <td>390</td>\n",
       "      <td>365</td>\n",
       "      <td>390</td>\n",
       "      <td>412</td>\n",
       "      <td>369</td>\n",
       "      <td>377</td>\n",
       "      <td>469</td>\n",
       "    </tr>\n",
       "    <tr>\n",
       "      <th>10865</th>\n",
       "      <td>5165</td>\n",
       "      <td>1159</td>\n",
       "      <td>1111</td>\n",
       "      <td>1198</td>\n",
       "      <td>1248</td>\n",
       "      <td>1107</td>\n",
       "      <td>1129</td>\n",
       "      <td>1047</td>\n",
       "      <td>1111</td>\n",
       "      <td>1203</td>\n",
       "      <td>...</td>\n",
       "      <td>1090</td>\n",
       "      <td>1180</td>\n",
       "      <td>1146</td>\n",
       "      <td>1173</td>\n",
       "      <td>1106</td>\n",
       "      <td>1107</td>\n",
       "      <td>1108</td>\n",
       "      <td>1099</td>\n",
       "      <td>1104</td>\n",
       "      <td>1266</td>\n",
       "    </tr>\n",
       "    <tr>\n",
       "      <th>10866</th>\n",
       "      <td>5701</td>\n",
       "      <td>637</td>\n",
       "      <td>460</td>\n",
       "      <td>771</td>\n",
       "      <td>538</td>\n",
       "      <td>557</td>\n",
       "      <td>460</td>\n",
       "      <td>566</td>\n",
       "      <td>477</td>\n",
       "      <td>599</td>\n",
       "      <td>...</td>\n",
       "      <td>455</td>\n",
       "      <td>601</td>\n",
       "      <td>506</td>\n",
       "      <td>543</td>\n",
       "      <td>461</td>\n",
       "      <td>559</td>\n",
       "      <td>475</td>\n",
       "      <td>552</td>\n",
       "      <td>485</td>\n",
       "      <td>643</td>\n",
       "    </tr>\n",
       "    <tr>\n",
       "      <th>10867</th>\n",
       "      <td>5268</td>\n",
       "      <td>1177</td>\n",
       "      <td>1072</td>\n",
       "      <td>1222</td>\n",
       "      <td>1238</td>\n",
       "      <td>1159</td>\n",
       "      <td>1143</td>\n",
       "      <td>1126</td>\n",
       "      <td>1149</td>\n",
       "      <td>1141</td>\n",
       "      <td>...</td>\n",
       "      <td>1140</td>\n",
       "      <td>1218</td>\n",
       "      <td>1125</td>\n",
       "      <td>1094</td>\n",
       "      <td>1154</td>\n",
       "      <td>1088</td>\n",
       "      <td>1113</td>\n",
       "      <td>1114</td>\n",
       "      <td>1107</td>\n",
       "      <td>1178</td>\n",
       "    </tr>\n",
       "  </tbody>\n",
       "</table>\n",
       "<p>10868 rows × 257 columns</p>\n",
       "</div>"
      ],
      "text/plain": [
       "           00    01    02    03    04    05    06    07    08    09  ...  \\\n",
       "0       39755  8337  7249  7186  8663  6844  8420  7589  9291   358  ...   \n",
       "1       19764   710   302   433   559   410   262   249   422   223  ...   \n",
       "2      601905  3905  2816  3832  3345  3242  3650  3201  2965  3205  ...   \n",
       "3       93506  9542  2568  2438  8925  9330  9007  2342  9107  2457  ...   \n",
       "4       21091  1213   726   817  1257   625   550   523  1078   473  ...   \n",
       "...       ...   ...   ...   ...   ...   ...   ...   ...   ...   ...  ...   \n",
       "10863    5535   443   435   486   522   324   451   321   464   345  ...   \n",
       "10864    4545   423   363   436   520   408   402   383   422   362  ...   \n",
       "10865    5165  1159  1111  1198  1248  1107  1129  1047  1111  1203  ...   \n",
       "10866    5701   637   460   771   538   557   460   566   477   599  ...   \n",
       "10867    5268  1177  1072  1222  1238  1159  1143  1126  1149  1141  ...   \n",
       "\n",
       "         F6    F7    F8    F9    FA    FB    FC    FD     FE     FF  \n",
       "0       290   451  6536   439   281   302  7639   518  17001  54902  \n",
       "1       483   847   947   350   209   239   653   221    242   2199  \n",
       "2      3271  2804  3687  3101  3211  3097  2758  3099   2759   5753  \n",
       "3      2598  2325  2358  2242  2885  2863  2471  2786   2680  49144  \n",
       "4       446   478   873   485   462   516  1133   471    761   7998  \n",
       "...     ...   ...   ...   ...   ...   ...   ...   ...    ...    ...  \n",
       "10863   418   331   458   322   456   332   443   330    413    369  \n",
       "10864   416   474   396   390   365   390   412   369    377    469  \n",
       "10865  1090  1180  1146  1173  1106  1107  1108  1099   1104   1266  \n",
       "10866   455   601   506   543   461   559   475   552    485    643  \n",
       "10867  1140  1218  1125  1094  1154  1088  1113  1114   1107   1178  \n",
       "\n",
       "[10868 rows x 257 columns]"
      ]
     },
     "execution_count": 184,
     "metadata": {},
     "output_type": "execute_result"
    }
   ],
   "source": [
    "pd.DataFrame(loaded_dictionary)"
   ]
  },
  {
   "cell_type": "code",
   "execution_count": 185,
   "metadata": {},
   "outputs": [],
   "source": [
    "df.reset_index(drop=True,inplace=True)"
   ]
  },
  {
   "cell_type": "code",
   "execution_count": 186,
   "metadata": {},
   "outputs": [],
   "source": [
    "df = pd.concat([df, pd.DataFrame(loaded_dictionary)], axis=1)"
   ]
  },
  {
   "cell_type": "code",
   "execution_count": 187,
   "metadata": {},
   "outputs": [
    {
     "data": {
      "text/html": [
       "<div>\n",
       "<style scoped>\n",
       "    .dataframe tbody tr th:only-of-type {\n",
       "        vertical-align: middle;\n",
       "    }\n",
       "\n",
       "    .dataframe tbody tr th {\n",
       "        vertical-align: top;\n",
       "    }\n",
       "\n",
       "    .dataframe thead th {\n",
       "        text-align: right;\n",
       "    }\n",
       "</style>\n",
       "<table border=\"1\" class=\"dataframe\">\n",
       "  <thead>\n",
       "    <tr style=\"text-align: right;\">\n",
       "      <th></th>\n",
       "      <th>Id</th>\n",
       "      <th>Class</th>\n",
       "      <th>sizes_in_mb</th>\n",
       "      <th>00</th>\n",
       "      <th>01</th>\n",
       "      <th>02</th>\n",
       "      <th>03</th>\n",
       "      <th>04</th>\n",
       "      <th>05</th>\n",
       "      <th>06</th>\n",
       "      <th>...</th>\n",
       "      <th>F6</th>\n",
       "      <th>F7</th>\n",
       "      <th>F8</th>\n",
       "      <th>F9</th>\n",
       "      <th>FA</th>\n",
       "      <th>FB</th>\n",
       "      <th>FC</th>\n",
       "      <th>FD</th>\n",
       "      <th>FE</th>\n",
       "      <th>FF</th>\n",
       "    </tr>\n",
       "  </thead>\n",
       "  <tbody>\n",
       "    <tr>\n",
       "      <th>0</th>\n",
       "      <td>01IsoiSMh5gxyDYTl4CB</td>\n",
       "      <td>2</td>\n",
       "      <td>42.983134</td>\n",
       "      <td>39755</td>\n",
       "      <td>8337</td>\n",
       "      <td>7249</td>\n",
       "      <td>7186</td>\n",
       "      <td>8663</td>\n",
       "      <td>6844</td>\n",
       "      <td>8420</td>\n",
       "      <td>...</td>\n",
       "      <td>290</td>\n",
       "      <td>451</td>\n",
       "      <td>6536</td>\n",
       "      <td>439</td>\n",
       "      <td>281</td>\n",
       "      <td>302</td>\n",
       "      <td>7639</td>\n",
       "      <td>518</td>\n",
       "      <td>17001</td>\n",
       "      <td>54902</td>\n",
       "    </tr>\n",
       "    <tr>\n",
       "      <th>1</th>\n",
       "      <td>01SuzwMJEIXsK7A8dQbl</td>\n",
       "      <td>8</td>\n",
       "      <td>0.192690</td>\n",
       "      <td>19764</td>\n",
       "      <td>710</td>\n",
       "      <td>302</td>\n",
       "      <td>433</td>\n",
       "      <td>559</td>\n",
       "      <td>410</td>\n",
       "      <td>262</td>\n",
       "      <td>...</td>\n",
       "      <td>483</td>\n",
       "      <td>847</td>\n",
       "      <td>947</td>\n",
       "      <td>350</td>\n",
       "      <td>209</td>\n",
       "      <td>239</td>\n",
       "      <td>653</td>\n",
       "      <td>221</td>\n",
       "      <td>242</td>\n",
       "      <td>2199</td>\n",
       "    </tr>\n",
       "    <tr>\n",
       "      <th>2</th>\n",
       "      <td>01azqd4InC7m9JpocGv5</td>\n",
       "      <td>9</td>\n",
       "      <td>25.127114</td>\n",
       "      <td>601905</td>\n",
       "      <td>3905</td>\n",
       "      <td>2816</td>\n",
       "      <td>3832</td>\n",
       "      <td>3345</td>\n",
       "      <td>3242</td>\n",
       "      <td>3650</td>\n",
       "      <td>...</td>\n",
       "      <td>3271</td>\n",
       "      <td>2804</td>\n",
       "      <td>3687</td>\n",
       "      <td>3101</td>\n",
       "      <td>3211</td>\n",
       "      <td>3097</td>\n",
       "      <td>2758</td>\n",
       "      <td>3099</td>\n",
       "      <td>2759</td>\n",
       "      <td>5753</td>\n",
       "    </tr>\n",
       "    <tr>\n",
       "      <th>3</th>\n",
       "      <td>01jsnpXSAlgw6aPeDxrU</td>\n",
       "      <td>9</td>\n",
       "      <td>21.178871</td>\n",
       "      <td>93506</td>\n",
       "      <td>9542</td>\n",
       "      <td>2568</td>\n",
       "      <td>2438</td>\n",
       "      <td>8925</td>\n",
       "      <td>9330</td>\n",
       "      <td>9007</td>\n",
       "      <td>...</td>\n",
       "      <td>2598</td>\n",
       "      <td>2325</td>\n",
       "      <td>2358</td>\n",
       "      <td>2242</td>\n",
       "      <td>2885</td>\n",
       "      <td>2863</td>\n",
       "      <td>2471</td>\n",
       "      <td>2786</td>\n",
       "      <td>2680</td>\n",
       "      <td>49144</td>\n",
       "    </tr>\n",
       "    <tr>\n",
       "      <th>4</th>\n",
       "      <td>01kcPWA9K2BOxQeS5Rju</td>\n",
       "      <td>1</td>\n",
       "      <td>0.461975</td>\n",
       "      <td>21091</td>\n",
       "      <td>1213</td>\n",
       "      <td>726</td>\n",
       "      <td>817</td>\n",
       "      <td>1257</td>\n",
       "      <td>625</td>\n",
       "      <td>550</td>\n",
       "      <td>...</td>\n",
       "      <td>446</td>\n",
       "      <td>478</td>\n",
       "      <td>873</td>\n",
       "      <td>485</td>\n",
       "      <td>462</td>\n",
       "      <td>516</td>\n",
       "      <td>1133</td>\n",
       "      <td>471</td>\n",
       "      <td>761</td>\n",
       "      <td>7998</td>\n",
       "    </tr>\n",
       "  </tbody>\n",
       "</table>\n",
       "<p>5 rows × 260 columns</p>\n",
       "</div>"
      ],
      "text/plain": [
       "                     Id  Class  sizes_in_mb      00    01    02    03    04  \\\n",
       "0  01IsoiSMh5gxyDYTl4CB      2    42.983134   39755  8337  7249  7186  8663   \n",
       "1  01SuzwMJEIXsK7A8dQbl      8     0.192690   19764   710   302   433   559   \n",
       "2  01azqd4InC7m9JpocGv5      9    25.127114  601905  3905  2816  3832  3345   \n",
       "3  01jsnpXSAlgw6aPeDxrU      9    21.178871   93506  9542  2568  2438  8925   \n",
       "4  01kcPWA9K2BOxQeS5Rju      1     0.461975   21091  1213   726   817  1257   \n",
       "\n",
       "     05    06  ...    F6    F7    F8    F9    FA    FB    FC    FD     FE  \\\n",
       "0  6844  8420  ...   290   451  6536   439   281   302  7639   518  17001   \n",
       "1   410   262  ...   483   847   947   350   209   239   653   221    242   \n",
       "2  3242  3650  ...  3271  2804  3687  3101  3211  3097  2758  3099   2759   \n",
       "3  9330  9007  ...  2598  2325  2358  2242  2885  2863  2471  2786   2680   \n",
       "4   625   550  ...   446   478   873   485   462   516  1133   471    761   \n",
       "\n",
       "      FF  \n",
       "0  54902  \n",
       "1   2199  \n",
       "2   5753  \n",
       "3  49144  \n",
       "4   7998  \n",
       "\n",
       "[5 rows x 260 columns]"
      ]
     },
     "execution_count": 187,
     "metadata": {},
     "output_type": "execute_result"
    }
   ],
   "source": [
    "df.head()"
   ]
  },
  {
   "cell_type": "markdown",
   "metadata": {},
   "source": [
    "# test-train-split"
   ]
  },
  {
   "cell_type": "code",
   "execution_count": 188,
   "metadata": {},
   "outputs": [],
   "source": [
    "x = df.drop(columns=[\"Id\",\"Class\"])\n",
    "y = df[\"Class\"]\n",
    "from imblearn.over_sampling import SMOTE\n",
    "sm = SMOTE(random_state=29)\n",
    "x,y = sm.fit_resample(x,y)"
   ]
  },
  {
   "cell_type": "code",
   "execution_count": 189,
   "metadata": {},
   "outputs": [],
   "source": [
    "x_train, x_test, y_train, y_test = train_test_split(x, y, test_size= 0.3, random_state = 32)\n",
    "x_train, x_cv, y_train, y_cv = train_test_split(x_train, y_train, test_size= 0.3, random_state = 36)"
   ]
  },
  {
   "cell_type": "code",
   "execution_count": 190,
   "metadata": {},
   "outputs": [],
   "source": [
    "y_conf = y_test"
   ]
  },
  {
   "cell_type": "code",
   "execution_count": 191,
   "metadata": {},
   "outputs": [],
   "source": [
    "cvshape = x_cv.shape\n",
    "testshape = x_test.shape"
   ]
  },
  {
   "cell_type": "code",
   "execution_count": 192,
   "metadata": {},
   "outputs": [],
   "source": [
    "#from sklearn.preprocessing import StandardScaler\n",
    "x_train = normalize(x_train)\n",
    "x_cv = normalize(x_cv)\n",
    "x_test = normalize(x_test)"
   ]
  },
  {
   "cell_type": "markdown",
   "metadata": {},
   "source": [
    "# Random model"
   ]
  },
  {
   "cell_type": "code",
   "execution_count": 193,
   "metadata": {},
   "outputs": [
    {
     "name": "stdout",
     "output_type": "stream",
     "text": [
      "CV Logloss for random model:  2.5016828725912226\n",
      "Test Logloss for random model:  2.51113062133029\n"
     ]
    }
   ],
   "source": [
    "from sklearn.metrics import log_loss\n",
    "\n",
    "#log-loss on cv data:\n",
    "rand_matrics = np.zeros((cvshape[0],9))\n",
    "for i in range(0,cvshape[0]):\n",
    "    random_ints = np.random.rand(1,9)\n",
    "    rand_matrics[i] = (random_ints/sum(sum(random_ints)))[0]\n",
    "print(\"CV Logloss for random model: \",log_loss(y_cv,rand_matrics))\n",
    "\n",
    "#log-loss on test data:\n",
    "rand_matrics = np.zeros((testshape[0],9))\n",
    "for i in range(0,testshape[0]):\n",
    "    random_ints = np.random.rand(1,9)\n",
    "    rand_matrics[i] = (random_ints/sum(sum(random_ints)))[0]\n",
    "print(\"Test Logloss for random model: \",log_loss(y_test,rand_matrics))  "
   ]
  },
  {
   "cell_type": "markdown",
   "metadata": {},
   "source": [
    "# MLP model"
   ]
  },
  {
   "cell_type": "code",
   "execution_count": 194,
   "metadata": {},
   "outputs": [],
   "source": [
    "batch_size = 20\n",
    "epochs = 20"
   ]
  },
  {
   "cell_type": "code",
   "execution_count": 195,
   "metadata": {},
   "outputs": [],
   "source": [
    "y_train_dl = pd.get_dummies(y_train)\n",
    "y_cv_dl = pd.get_dummies(y_cv)\n",
    "y_test_dl = pd.get_dummies(y_test)"
   ]
  },
  {
   "cell_type": "code",
   "execution_count": 196,
   "metadata": {},
   "outputs": [],
   "source": [
    "model = Sequential()\n",
    "model.add(Dense(512, activation = \"relu\", input_shape=(x_train.shape[1],)))\n",
    "model.add(BatchNormalization())   # Adding batch normalization\n",
    "model.add(Dropout(0.3))  # Adding a dropout layer\n",
    "model.add(Dense(256, activation = \"relu\"))\n",
    "model.add(BatchNormalization())\n",
    "model.add(Dropout(0.3))\n",
    "model.add(Dense(512, activation = \"relu\"))\n",
    "model.add(BatchNormalization())\n",
    "model.add(Dropout(0.3))\n",
    "# Adding a dense output layer with softmax activation\n",
    "model.add(Dense(9, activation='softmax'))\n",
    "#model.summary()"
   ]
  },
  {
   "cell_type": "code",
   "execution_count": 197,
   "metadata": {},
   "outputs": [],
   "source": [
    "model.compile(loss='categorical_crossentropy',optimizer='adam',metrics=['accuracy'])"
   ]
  },
  {
   "cell_type": "code",
   "execution_count": 198,
   "metadata": {},
   "outputs": [
    {
     "name": "stdout",
     "output_type": "stream",
     "text": [
      "Epoch 1/20\n",
      "649/649 [==============================] - 3s 3ms/step - loss: 0.9724 - accuracy: 0.6805 - val_loss: 0.7766 - val_accuracy: 0.5918\n",
      "Epoch 2/20\n",
      "649/649 [==============================] - 2s 3ms/step - loss: 0.5274 - accuracy: 0.8303 - val_loss: 0.4645 - val_accuracy: 0.8286\n",
      "Epoch 3/20\n",
      "649/649 [==============================] - 2s 3ms/step - loss: 0.4083 - accuracy: 0.8771 - val_loss: 0.6398 - val_accuracy: 0.8471\n",
      "Epoch 4/20\n",
      "649/649 [==============================] - 2s 3ms/step - loss: 0.3501 - accuracy: 0.8895 - val_loss: 0.4439 - val_accuracy: 0.8128\n",
      "Epoch 5/20\n",
      "649/649 [==============================] - 2s 3ms/step - loss: 0.2979 - accuracy: 0.9099 - val_loss: 0.2720 - val_accuracy: 0.9243\n",
      "Epoch 6/20\n",
      "649/649 [==============================] - 2s 3ms/step - loss: 0.2667 - accuracy: 0.9181 - val_loss: 0.1894 - val_accuracy: 0.9579\n",
      "Epoch 7/20\n",
      "649/649 [==============================] - 2s 3ms/step - loss: 0.2444 - accuracy: 0.9299 - val_loss: 0.2049 - val_accuracy: 0.9572\n",
      "Epoch 8/20\n",
      "649/649 [==============================] - 2s 3ms/step - loss: 0.2437 - accuracy: 0.9272 - val_loss: 0.1602 - val_accuracy: 0.9639\n",
      "Epoch 9/20\n",
      "649/649 [==============================] - 2s 4ms/step - loss: 0.2121 - accuracy: 0.9377 - val_loss: 0.1738 - val_accuracy: 0.9599\n",
      "Epoch 10/20\n",
      "649/649 [==============================] - 2s 4ms/step - loss: 0.2267 - accuracy: 0.9349 - val_loss: 0.1773 - val_accuracy: 0.9540\n",
      "Epoch 11/20\n",
      "649/649 [==============================] - 2s 4ms/step - loss: 0.2120 - accuracy: 0.9366 - val_loss: 0.1699 - val_accuracy: 0.9648\n",
      "Epoch 12/20\n",
      "649/649 [==============================] - 2s 3ms/step - loss: 0.2006 - accuracy: 0.9414 - val_loss: 0.3174 - val_accuracy: 0.8745\n",
      "Epoch 13/20\n",
      "649/649 [==============================] - 2s 3ms/step - loss: 0.1885 - accuracy: 0.9440 - val_loss: 0.1662 - val_accuracy: 0.9601\n",
      "Epoch 14/20\n",
      "649/649 [==============================] - 2s 3ms/step - loss: 0.1842 - accuracy: 0.9478 - val_loss: 0.1706 - val_accuracy: 0.9648\n",
      "Epoch 15/20\n",
      "649/649 [==============================] - 2s 3ms/step - loss: 0.1782 - accuracy: 0.9483 - val_loss: 0.1542 - val_accuracy: 0.9622\n",
      "Epoch 16/20\n",
      "649/649 [==============================] - 2s 3ms/step - loss: 0.1865 - accuracy: 0.9452 - val_loss: 0.1902 - val_accuracy: 0.9599\n",
      "Epoch 17/20\n",
      "649/649 [==============================] - 2s 3ms/step - loss: 0.1736 - accuracy: 0.9489 - val_loss: 0.1530 - val_accuracy: 0.9621\n",
      "Epoch 18/20\n",
      "649/649 [==============================] - 2s 3ms/step - loss: 0.1572 - accuracy: 0.9531 - val_loss: 0.1481 - val_accuracy: 0.9684\n",
      "Epoch 19/20\n",
      "649/649 [==============================] - 3s 5ms/step - loss: 0.1493 - accuracy: 0.9551 - val_loss: 0.1808 - val_accuracy: 0.9362\n",
      "Epoch 20/20\n",
      "649/649 [==============================] - 3s 5ms/step - loss: 0.1490 - accuracy: 0.9551 - val_loss: 0.1406 - val_accuracy: 0.9684\n"
     ]
    },
    {
     "data": {
      "text/plain": [
       "<keras.callbacks.History at 0x18ee7f77f88>"
      ]
     },
     "execution_count": 198,
     "metadata": {},
     "output_type": "execute_result"
    }
   ],
   "source": [
    "model.fit(x_train, y_train_dl, batch_size=batch_size, validation_data=(x_cv, y_cv_dl), epochs=epochs)"
   ]
  },
  {
   "cell_type": "code",
   "execution_count": 199,
   "metadata": {},
   "outputs": [],
   "source": [
    "predictions = model.predict(x_test)\n",
    "classes = np.argmax(predictions, axis=1)+1"
   ]
  },
  {
   "cell_type": "code",
   "execution_count": 200,
   "metadata": {},
   "outputs": [
    {
     "name": "stdout",
     "output_type": "stream",
     "text": [
      "Log-loss on test data:  0.11301937911199128\n"
     ]
    }
   ],
   "source": [
    "print(\"Log-loss on test data: \",log_loss(y_test,predictions))"
   ]
  },
  {
   "cell_type": "code",
   "execution_count": 201,
   "metadata": {},
   "outputs": [
    {
     "data": {
      "text/plain": [
       "array([[845,   0,   0,   0,   4,   7,   9,   5,   0],\n",
       "       [  4, 849,   3,   5,   2,   7,   1,  10,   6],\n",
       "       [  0,   0, 875,   1,   0,   0,   2,   0,   0],\n",
       "       [  0,   0,   9, 916,   0,   0,   6,   0,   0],\n",
       "       [  0,   0,   0,   0, 857,   9,   4,   0,   0],\n",
       "       [ 15,   0,   0,   8,   3, 783,   6,   9,   7],\n",
       "       [  3,   0,   0,   1,   0,  10, 845,   0,   0],\n",
       "       [ 17,   2,   0,   2,  18,  10,   5, 863,   3],\n",
       "       [  9,   0,   0,   2,   0,   5,   0,   5, 877]], dtype=int64)"
      ]
     },
     "execution_count": 201,
     "metadata": {},
     "output_type": "execute_result"
    }
   ],
   "source": [
    "confusion_matrix(np.asarray(y_conf),classes)"
   ]
  },
  {
   "cell_type": "code",
   "execution_count": 202,
   "metadata": {},
   "outputs": [],
   "source": [
    "# Plotting confusion metrics"
   ]
  },
  {
   "cell_type": "code",
   "execution_count": 203,
   "metadata": {},
   "outputs": [
    {
     "data": {
      "image/png": "[encoded data removed]",
      "text/plain": [
       "<Figure size 1080x720 with 2 Axes>"
      ]
     },
     "metadata": {
      "needs_background": "light"
     },
     "output_type": "display_data"
    }
   ],
   "source": [
    "malwares = [\"Ramnit\",\"Lollipop\", \"Kelihos_ver3\", \"Vundo\",\"Simda\", \"Tracur\", \"Kelihos_ver1\",\"Obfuscator.ACY\",\"Gatak\"]\n",
    "plt.figure(figsize=(15,10))\n",
    "ax= sns.heatmap(confusion_matrix(np.asarray(y_conf),classes), annot=True,cmap=\"gray\",\n",
    "           xticklabels=malwares, yticklabels=malwares)\n",
    "ax.set_title(\"PREDICTED CLASS\")\n",
    "plt.ylabel(\"ACTUAL CLASS\")\n",
    "ax.xaxis.tick_top()\n",
    "plt.show()"
   ]
  },
  {
   "cell_type": "markdown",
   "metadata": {},
   "source": [
    "# Random-Forest model"
   ]
  },
  {
   "cell_type": "code",
   "execution_count": 204,
   "metadata": {},
   "outputs": [],
   "source": [
    "from sklearn.ensemble import ExtraTreesClassifier\n",
    "model = ExtraTreesClassifier()"
   ]
  },
  {
   "cell_type": "code",
   "execution_count": 205,
   "metadata": {},
   "outputs": [],
   "source": [
    "#for confusion \n",
    "model.fit(x_train,y_train)\n",
    "ETC_train = model.predict(x_train)\n",
    "ETC_y_pred_cv = model.predict(x_cv)\n",
    "ETC_y_pred_test = model.predict(x_test)"
   ]
  },
  {
   "cell_type": "code",
   "execution_count": 206,
   "metadata": {},
   "outputs": [],
   "source": [
    "y_pred_train = model.predict_proba(x_train)\n",
    "y_pred_cv = model.predict_proba(x_cv)\n",
    "y_pred_test = model.predict_proba(x_test)"
   ]
  },
  {
   "cell_type": "code",
   "execution_count": 207,
   "metadata": {},
   "outputs": [],
   "source": [
    "lg_cv = log_loss(y_cv,y_pred_cv)\n",
    "lg_test = log_loss(y_test,y_pred_test)"
   ]
  },
  {
   "cell_type": "code",
   "execution_count": 208,
   "metadata": {},
   "outputs": [],
   "source": [
    "ERT_lg_CV = lg_cv"
   ]
  },
  {
   "cell_type": "code",
   "execution_count": 209,
   "metadata": {},
   "outputs": [],
   "source": [
    "ERT_lg_test = lg_test"
   ]
  },
  {
   "cell_type": "code",
   "execution_count": 210,
   "metadata": {},
   "outputs": [
    {
     "data": {
      "text/plain": [
       "(0.08500303873357824, 0.07253923960436397)"
      ]
     },
     "execution_count": 210,
     "metadata": {},
     "output_type": "execute_result"
    }
   ],
   "source": [
    "ERT_lg_CV,ETC_lg_test"
   ]
  },
  {
   "cell_type": "markdown",
   "metadata": {},
   "source": [
    "# LR"
   ]
  },
  {
   "cell_type": "code",
   "execution_count": 211,
   "metadata": {},
   "outputs": [],
   "source": [
    "from sklearn.linear_model import LogisticRegression\n",
    "model = LogisticRegression()\n",
    "model.fit(x_train,y_train)\n",
    "y_pred_train = model.predict_proba(x_train)\n",
    "y_pred_cv = model.predict_proba(x_cv)\n",
    "y_pred_test = model.predict_proba(x_test)"
   ]
  },
  {
   "cell_type": "code",
   "execution_count": 212,
   "metadata": {},
   "outputs": [],
   "source": [
    "LR_train = model.predict(x_train)\n",
    "LR_y_pred_cv = model.predict(x_cv)\n",
    "LR_y_pred_test = model.predict(x_test)"
   ]
  },
  {
   "cell_type": "code",
   "execution_count": 213,
   "metadata": {},
   "outputs": [],
   "source": [
    "lg_cv = log_loss(y_cv,y_pred_cv)\n",
    "lg_test = log_loss(y_test,y_pred_test)"
   ]
  },
  {
   "cell_type": "code",
   "execution_count": 214,
   "metadata": {},
   "outputs": [],
   "source": [
    "LR_lg_CV = lg_cv\n",
    "LR_lg_test = lg_test"
   ]
  },
  {
   "cell_type": "code",
   "execution_count": 215,
   "metadata": {},
   "outputs": [
    {
     "data": {
      "text/plain": [
       "0.9890773462371697"
      ]
     },
     "execution_count": 215,
     "metadata": {},
     "output_type": "execute_result"
    }
   ],
   "source": [
    "LR_lg_CV"
   ]
  },
  {
   "cell_type": "code",
   "execution_count": 216,
   "metadata": {},
   "outputs": [
    {
     "data": {
      "text/plain": [
       "0.9655987653651273"
      ]
     },
     "execution_count": 216,
     "metadata": {},
     "output_type": "execute_result"
    }
   ],
   "source": [
    "LR_lg_test"
   ]
  },
  {
   "cell_type": "markdown",
   "metadata": {},
   "source": [
    "# XGB"
   ]
  },
  {
   "cell_type": "code",
   "execution_count": 217,
   "metadata": {},
   "outputs": [],
   "source": [
    "from xgboost import XGBClassifier\n",
    "model = XGBClassifier(eval_metric=\"mlogloss\")\n",
    "model.fit(x_train,y_train)\n",
    "y_pred_train = model.predict_proba(x_train)\n",
    "y_pred_cv = model.predict_proba(x_cv)\n",
    "y_pred_test = model.predict_proba(x_test)"
   ]
  },
  {
   "cell_type": "code",
   "execution_count": 218,
   "metadata": {},
   "outputs": [],
   "source": [
    "XGB_train = model.predict(x_train)\n",
    "XGB_y_pred_cv = model.predict(x_cv)\n",
    "XGB_y_pred_test = model.predict(x_test)"
   ]
  },
  {
   "cell_type": "code",
   "execution_count": 219,
   "metadata": {},
   "outputs": [],
   "source": [
    "lg_cv = log_loss(y_cv,y_pred_cv)\n",
    "lg_test = log_loss(y_test,y_pred_test)"
   ]
  },
  {
   "cell_type": "code",
   "execution_count": 220,
   "metadata": {},
   "outputs": [],
   "source": [
    "XGB_lg_CV = lg_cv\n",
    "XGB_lg_test = lg_test"
   ]
  },
  {
   "cell_type": "code",
   "execution_count": 221,
   "metadata": {},
   "outputs": [
    {
     "data": {
      "text/plain": [
       "(0.02893253606395405, 0.025429293468910937)"
      ]
     },
     "execution_count": 221,
     "metadata": {},
     "output_type": "execute_result"
    }
   ],
   "source": [
    "(XGB_lg_CV,XGB_lg_test)"
   ]
  },
  {
   "cell_type": "code",
   "execution_count": 222,
   "metadata": {},
   "outputs": [],
   "source": [
    "Resultsdf = pd.DataFrame({\"Name\":[\"Extra trees classifier\",\"Logistic regression\",\"XGBoost\"],\n",
    "                          \"CV-logloss\":[ERT_lg_CV,LR_lg_CV,XGB_lg_CV],\n",
    "                          \"Test-logloss\":[ERT_lg_test,LR_lg_test,XGB_lg_test]})"
   ]
  },
  {
   "cell_type": "code",
   "execution_count": 223,
   "metadata": {},
   "outputs": [
    {
     "data": {
      "text/html": [
       "<div>\n",
       "<style scoped>\n",
       "    .dataframe tbody tr th:only-of-type {\n",
       "        vertical-align: middle;\n",
       "    }\n",
       "\n",
       "    .dataframe tbody tr th {\n",
       "        vertical-align: top;\n",
       "    }\n",
       "\n",
       "    .dataframe thead th {\n",
       "        text-align: right;\n",
       "    }\n",
       "</style>\n",
       "<table border=\"1\" class=\"dataframe\">\n",
       "  <thead>\n",
       "    <tr style=\"text-align: right;\">\n",
       "      <th></th>\n",
       "      <th>Name</th>\n",
       "      <th>CV-logloss</th>\n",
       "      <th>Test-logloss</th>\n",
       "    </tr>\n",
       "  </thead>\n",
       "  <tbody>\n",
       "    <tr>\n",
       "      <th>0</th>\n",
       "      <td>Extra trees classifier</td>\n",
       "      <td>0.085003</td>\n",
       "      <td>0.073951</td>\n",
       "    </tr>\n",
       "    <tr>\n",
       "      <th>1</th>\n",
       "      <td>Logistic regression</td>\n",
       "      <td>0.989077</td>\n",
       "      <td>0.965599</td>\n",
       "    </tr>\n",
       "    <tr>\n",
       "      <th>2</th>\n",
       "      <td>XGBoost</td>\n",
       "      <td>0.028933</td>\n",
       "      <td>0.025429</td>\n",
       "    </tr>\n",
       "  </tbody>\n",
       "</table>\n",
       "</div>"
      ],
      "text/plain": [
       "                     Name  CV-logloss  Test-logloss\n",
       "0  Extra trees classifier    0.085003      0.073951\n",
       "1     Logistic regression    0.989077      0.965599\n",
       "2                 XGBoost    0.028933      0.025429"
      ]
     },
     "execution_count": 223,
     "metadata": {},
     "output_type": "execute_result"
    }
   ],
   "source": [
    "Resultsdf"
   ]
  },
  {
   "cell_type": "markdown",
   "metadata": {},
   "source": [
    "# Confusion metrics for Extra trees classifier"
   ]
  },
  {
   "cell_type": "code",
   "execution_count": 224,
   "metadata": {},
   "outputs": [
    {
     "data": {
      "image/png": "[encoded data removed]",
      "text/plain": [
       "<Figure size 1080x720 with 2 Axes>"
      ]
     },
     "metadata": {
      "needs_background": "light"
     },
     "output_type": "display_data"
    }
   ],
   "source": [
    "plt.figure(figsize=(15,10))\n",
    "ax= sns.heatmap(confusion_matrix(y_test,ETC_y_pred_test), annot=True,cmap=\"gray\",\n",
    "           xticklabels=malwares, yticklabels=malwares)\n",
    "ax.set_title(\"PREDICTED CLASS\")\n",
    "plt.ylabel(\"ACTUAL CLASS\")\n",
    "ax.xaxis.tick_top()\n",
    "plt.show()"
   ]
  },
  {
   "cell_type": "code",
   "execution_count": 225,
   "metadata": {},
   "outputs": [
    {
     "data": {
      "image/png": "[encoded data removed]",
      "text/plain": [
       "<Figure size 1080x720 with 2 Axes>"
      ]
     },
     "metadata": {
      "needs_background": "light"
     },
     "output_type": "display_data"
    }
   ],
   "source": [
    "plt.figure(figsize=(15,10))\n",
    "ax= sns.heatmap(confusion_matrix(y_test,LR_y_pred_test), annot=True,cmap=\"gray\",\n",
    "           xticklabels=malwares, yticklabels=malwares)\n",
    "ax.set_title(\"PREDICTED CLASS\")\n",
    "plt.ylabel(\"ACTUAL CLASS\")\n",
    "ax.xaxis.tick_top()\n",
    "plt.show()"
   ]
  },
  {
   "cell_type": "code",
   "execution_count": 226,
   "metadata": {},
   "outputs": [
    {
     "data": {
      "image/png": "[encoded data removed]",
      "text/plain": [
       "<Figure size 1080x720 with 2 Axes>"
      ]
     },
     "metadata": {
      "needs_background": "light"
     },
     "output_type": "display_data"
    }
   ],
   "source": [
    "plt.figure(figsize=(15,10))\n",
    "ax= sns.heatmap(confusion_matrix(y_test,XGB_y_pred_test), annot=True,cmap=\"gray\",\n",
    "           xticklabels=malwares, yticklabels=malwares)\n",
    "ax.set_title(\"PREDICTED CLASS\")\n",
    "plt.ylabel(\"ACTUAL CLASS\")\n",
    "ax.xaxis.tick_top()\n",
    "plt.show()"
   ]
  },
  {
   "cell_type": "code",
   "execution_count": 227,
   "metadata": {},
   "outputs": [
    {
     "data": {
      "text/plain": [
       "(10868, 260)"
      ]
     },
     "execution_count": 227,
     "metadata": {},
     "output_type": "execute_result"
    }
   ],
   "source": [
    "df.shape"
   ]
  },
  {
   "cell_type": "code",
   "execution_count": null,
   "metadata": {},
   "outputs": [],
   "source": []
  }
 ],
 "metadata": {
  "kernelspec": {
   "display_name": "Python 3",
   "language": "python",
   "name": "python3"
  },
  "language_info": {
   "codemirror_mode": {
    "name": "ipython",
    "version": 3
   },
   "file_extension": ".py",
   "mimetype": "text/x-python",
   "name": "python",
   "nbconvert_exporter": "python",
   "pygments_lexer": "ipython3",
   "version": "3.7.6"
  }
 },
 "nbformat": 4,
 "nbformat_minor": 4
}
