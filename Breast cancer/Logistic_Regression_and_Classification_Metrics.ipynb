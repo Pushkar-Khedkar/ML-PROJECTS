{
 "cells": [
  {
   "cell_type": "code",
   "execution_count": 1,
   "metadata": {
    "id": "v55NZaLLav4R"
   },
   "outputs": [],
   "source": [
    "import sklearn.datasets as datasets\n",
    "import pandas as pd\n",
    "import numpy as np\n",
    "import matplotlib.pyplot as plt\n",
    "import seaborn as sns"
   ]
  },
  {
   "cell_type": "code",
   "execution_count": 2,
   "metadata": {
    "id": "e8iWisaocC0S"
   },
   "outputs": [],
   "source": [
    "## Loading Breast Cancer data set\n",
    "X,y = datasets.load_breast_cancer(return_X_y= True)"
   ]
  },
  {
   "cell_type": "code",
   "execution_count": 3,
   "metadata": {
    "colab": {
     "base_uri": "https://localhost:8080/"
    },
    "id": "yupUN8JbcT7b",
    "outputId": "c771f804-ca84-4465-f3f2-b20f9e49c0a3"
   },
   "outputs": [
    {
     "data": {
      "text/plain": [
       "(569, 30)"
      ]
     },
     "execution_count": 3,
     "metadata": {},
     "output_type": "execute_result"
    }
   ],
   "source": [
    "X.shape  # we have 30 Features and 569 observation"
   ]
  },
  {
   "cell_type": "code",
   "execution_count": 4,
   "metadata": {
    "id": "mNkcY5UacVzL"
   },
   "outputs": [],
   "source": [
    "feature_name = datasets.load_breast_cancer().feature_names\n",
    "target_name = datasets.load_breast_cancer().target_names"
   ]
  },
  {
   "cell_type": "code",
   "execution_count": 5,
   "metadata": {
    "id": "Zyudxgbqcntm"
   },
   "outputs": [],
   "source": [
    "df = pd.DataFrame(X,columns = feature_name)\n",
    "df['target']=y"
   ]
  },
  {
   "cell_type": "code",
   "execution_count": 6,
   "metadata": {
    "colab": {
     "base_uri": "https://localhost:8080/",
     "height": 254
    },
    "id": "VladPu1tc1Vc",
    "outputId": "0afadb57-ee05-4b64-8754-f69a78116173"
   },
   "outputs": [
    {
     "data": {
      "text/html": [
       "<div>\n",
       "<style scoped>\n",
       "    .dataframe tbody tr th:only-of-type {\n",
       "        vertical-align: middle;\n",
       "    }\n",
       "\n",
       "    .dataframe tbody tr th {\n",
       "        vertical-align: top;\n",
       "    }\n",
       "\n",
       "    .dataframe thead th {\n",
       "        text-align: right;\n",
       "    }\n",
       "</style>\n",
       "<table border=\"1\" class=\"dataframe\">\n",
       "  <thead>\n",
       "    <tr style=\"text-align: right;\">\n",
       "      <th></th>\n",
       "      <th>mean radius</th>\n",
       "      <th>mean texture</th>\n",
       "      <th>mean perimeter</th>\n",
       "      <th>mean area</th>\n",
       "      <th>mean smoothness</th>\n",
       "      <th>mean compactness</th>\n",
       "      <th>mean concavity</th>\n",
       "      <th>mean concave points</th>\n",
       "      <th>mean symmetry</th>\n",
       "      <th>mean fractal dimension</th>\n",
       "      <th>...</th>\n",
       "      <th>worst texture</th>\n",
       "      <th>worst perimeter</th>\n",
       "      <th>worst area</th>\n",
       "      <th>worst smoothness</th>\n",
       "      <th>worst compactness</th>\n",
       "      <th>worst concavity</th>\n",
       "      <th>worst concave points</th>\n",
       "      <th>worst symmetry</th>\n",
       "      <th>worst fractal dimension</th>\n",
       "      <th>target</th>\n",
       "    </tr>\n",
       "  </thead>\n",
       "  <tbody>\n",
       "    <tr>\n",
       "      <th>0</th>\n",
       "      <td>17.99</td>\n",
       "      <td>10.38</td>\n",
       "      <td>122.80</td>\n",
       "      <td>1001.0</td>\n",
       "      <td>0.11840</td>\n",
       "      <td>0.27760</td>\n",
       "      <td>0.3001</td>\n",
       "      <td>0.14710</td>\n",
       "      <td>0.2419</td>\n",
       "      <td>0.07871</td>\n",
       "      <td>...</td>\n",
       "      <td>17.33</td>\n",
       "      <td>184.60</td>\n",
       "      <td>2019.0</td>\n",
       "      <td>0.1622</td>\n",
       "      <td>0.6656</td>\n",
       "      <td>0.7119</td>\n",
       "      <td>0.2654</td>\n",
       "      <td>0.4601</td>\n",
       "      <td>0.11890</td>\n",
       "      <td>0</td>\n",
       "    </tr>\n",
       "    <tr>\n",
       "      <th>1</th>\n",
       "      <td>20.57</td>\n",
       "      <td>17.77</td>\n",
       "      <td>132.90</td>\n",
       "      <td>1326.0</td>\n",
       "      <td>0.08474</td>\n",
       "      <td>0.07864</td>\n",
       "      <td>0.0869</td>\n",
       "      <td>0.07017</td>\n",
       "      <td>0.1812</td>\n",
       "      <td>0.05667</td>\n",
       "      <td>...</td>\n",
       "      <td>23.41</td>\n",
       "      <td>158.80</td>\n",
       "      <td>1956.0</td>\n",
       "      <td>0.1238</td>\n",
       "      <td>0.1866</td>\n",
       "      <td>0.2416</td>\n",
       "      <td>0.1860</td>\n",
       "      <td>0.2750</td>\n",
       "      <td>0.08902</td>\n",
       "      <td>0</td>\n",
       "    </tr>\n",
       "    <tr>\n",
       "      <th>2</th>\n",
       "      <td>19.69</td>\n",
       "      <td>21.25</td>\n",
       "      <td>130.00</td>\n",
       "      <td>1203.0</td>\n",
       "      <td>0.10960</td>\n",
       "      <td>0.15990</td>\n",
       "      <td>0.1974</td>\n",
       "      <td>0.12790</td>\n",
       "      <td>0.2069</td>\n",
       "      <td>0.05999</td>\n",
       "      <td>...</td>\n",
       "      <td>25.53</td>\n",
       "      <td>152.50</td>\n",
       "      <td>1709.0</td>\n",
       "      <td>0.1444</td>\n",
       "      <td>0.4245</td>\n",
       "      <td>0.4504</td>\n",
       "      <td>0.2430</td>\n",
       "      <td>0.3613</td>\n",
       "      <td>0.08758</td>\n",
       "      <td>0</td>\n",
       "    </tr>\n",
       "    <tr>\n",
       "      <th>3</th>\n",
       "      <td>11.42</td>\n",
       "      <td>20.38</td>\n",
       "      <td>77.58</td>\n",
       "      <td>386.1</td>\n",
       "      <td>0.14250</td>\n",
       "      <td>0.28390</td>\n",
       "      <td>0.2414</td>\n",
       "      <td>0.10520</td>\n",
       "      <td>0.2597</td>\n",
       "      <td>0.09744</td>\n",
       "      <td>...</td>\n",
       "      <td>26.50</td>\n",
       "      <td>98.87</td>\n",
       "      <td>567.7</td>\n",
       "      <td>0.2098</td>\n",
       "      <td>0.8663</td>\n",
       "      <td>0.6869</td>\n",
       "      <td>0.2575</td>\n",
       "      <td>0.6638</td>\n",
       "      <td>0.17300</td>\n",
       "      <td>0</td>\n",
       "    </tr>\n",
       "    <tr>\n",
       "      <th>4</th>\n",
       "      <td>20.29</td>\n",
       "      <td>14.34</td>\n",
       "      <td>135.10</td>\n",
       "      <td>1297.0</td>\n",
       "      <td>0.10030</td>\n",
       "      <td>0.13280</td>\n",
       "      <td>0.1980</td>\n",
       "      <td>0.10430</td>\n",
       "      <td>0.1809</td>\n",
       "      <td>0.05883</td>\n",
       "      <td>...</td>\n",
       "      <td>16.67</td>\n",
       "      <td>152.20</td>\n",
       "      <td>1575.0</td>\n",
       "      <td>0.1374</td>\n",
       "      <td>0.2050</td>\n",
       "      <td>0.4000</td>\n",
       "      <td>0.1625</td>\n",
       "      <td>0.2364</td>\n",
       "      <td>0.07678</td>\n",
       "      <td>0</td>\n",
       "    </tr>\n",
       "  </tbody>\n",
       "</table>\n",
       "<p>5 rows × 31 columns</p>\n",
       "</div>"
      ],
      "text/plain": [
       "   mean radius  mean texture  mean perimeter  mean area  mean smoothness  \\\n",
       "0        17.99         10.38          122.80     1001.0          0.11840   \n",
       "1        20.57         17.77          132.90     1326.0          0.08474   \n",
       "2        19.69         21.25          130.00     1203.0          0.10960   \n",
       "3        11.42         20.38           77.58      386.1          0.14250   \n",
       "4        20.29         14.34          135.10     1297.0          0.10030   \n",
       "\n",
       "   mean compactness  mean concavity  mean concave points  mean symmetry  \\\n",
       "0           0.27760          0.3001              0.14710         0.2419   \n",
       "1           0.07864          0.0869              0.07017         0.1812   \n",
       "2           0.15990          0.1974              0.12790         0.2069   \n",
       "3           0.28390          0.2414              0.10520         0.2597   \n",
       "4           0.13280          0.1980              0.10430         0.1809   \n",
       "\n",
       "   mean fractal dimension  ...  worst texture  worst perimeter  worst area  \\\n",
       "0                 0.07871  ...          17.33           184.60      2019.0   \n",
       "1                 0.05667  ...          23.41           158.80      1956.0   \n",
       "2                 0.05999  ...          25.53           152.50      1709.0   \n",
       "3                 0.09744  ...          26.50            98.87       567.7   \n",
       "4                 0.05883  ...          16.67           152.20      1575.0   \n",
       "\n",
       "   worst smoothness  worst compactness  worst concavity  worst concave points  \\\n",
       "0            0.1622             0.6656           0.7119                0.2654   \n",
       "1            0.1238             0.1866           0.2416                0.1860   \n",
       "2            0.1444             0.4245           0.4504                0.2430   \n",
       "3            0.2098             0.8663           0.6869                0.2575   \n",
       "4            0.1374             0.2050           0.4000                0.1625   \n",
       "\n",
       "   worst symmetry  worst fractal dimension  target  \n",
       "0          0.4601                  0.11890       0  \n",
       "1          0.2750                  0.08902       0  \n",
       "2          0.3613                  0.08758       0  \n",
       "3          0.6638                  0.17300       0  \n",
       "4          0.2364                  0.07678       0  \n",
       "\n",
       "[5 rows x 31 columns]"
      ]
     },
     "execution_count": 6,
     "metadata": {},
     "output_type": "execute_result"
    }
   ],
   "source": [
    "df.head()"
   ]
  },
  {
   "cell_type": "code",
   "execution_count": 7,
   "metadata": {},
   "outputs": [
    {
     "data": {
      "text/plain": [
       "Index(['mean radius', 'mean texture', 'mean perimeter', 'mean area',\n",
       "       'mean smoothness', 'mean compactness', 'mean concavity',\n",
       "       'mean concave points', 'mean symmetry', 'mean fractal dimension',\n",
       "       'radius error', 'texture error', 'perimeter error', 'area error',\n",
       "       'smoothness error', 'compactness error', 'concavity error',\n",
       "       'concave points error', 'symmetry error', 'fractal dimension error',\n",
       "       'worst radius', 'worst texture', 'worst perimeter', 'worst area',\n",
       "       'worst smoothness', 'worst compactness', 'worst concavity',\n",
       "       'worst concave points', 'worst symmetry', 'worst fractal dimension',\n",
       "       'target'],\n",
       "      dtype='object')"
      ]
     },
     "execution_count": 7,
     "metadata": {},
     "output_type": "execute_result"
    }
   ],
   "source": [
    "df.columns"
   ]
  },
  {
   "cell_type": "code",
   "execution_count": null,
   "metadata": {
    "colab": {
     "base_uri": "https://localhost:8080/"
    },
    "id": "UZliydLcc_zA",
    "outputId": "b2fef29a-a039-4f64-9349-a87eb4362f2b"
   },
   "outputs": [
    {
     "data": {
      "text/plain": [
       "mean radius                0.0\n",
       "mean texture               0.0\n",
       "mean perimeter             0.0\n",
       "mean area                  0.0\n",
       "mean smoothness            0.0\n",
       "mean compactness           0.0\n",
       "mean concavity             0.0\n",
       "mean concave points        0.0\n",
       "mean symmetry              0.0\n",
       "mean fractal dimension     0.0\n",
       "radius error               0.0\n",
       "texture error              0.0\n",
       "perimeter error            0.0\n",
       "area error                 0.0\n",
       "smoothness error           0.0\n",
       "compactness error          0.0\n",
       "concavity error            0.0\n",
       "concave points error       0.0\n",
       "symmetry error             0.0\n",
       "fractal dimension error    0.0\n",
       "worst radius               0.0\n",
       "worst texture              0.0\n",
       "worst perimeter            0.0\n",
       "worst area                 0.0\n",
       "worst smoothness           0.0\n",
       "worst compactness          0.0\n",
       "worst concavity            0.0\n",
       "worst concave points       0.0\n",
       "worst symmetry             0.0\n",
       "worst fractal dimension    0.0\n",
       "target                     0.0\n",
       "dtype: float64"
      ]
     },
     "execution_count": 12,
     "metadata": {
      "tags": []
     },
     "output_type": "execute_result"
    }
   ],
   "source": [
    "#checking for Missing Values\n",
    "df.isna().sum()*100/len(df)"
   ]
  },
  {
   "cell_type": "markdown",
   "metadata": {
    "id": "mGkJGQqDdqgU"
   },
   "source": [
    "## EDA"
   ]
  },
  {
   "cell_type": "code",
   "execution_count": null,
   "metadata": {
    "colab": {
     "base_uri": "https://localhost:8080/",
     "height": 279
    },
    "id": "Jkrpo07qdmj7",
    "outputId": "c2172bc0-0018-44c1-d941-a382aadbc7d3"
   },
   "outputs": [
    {
     "data": {
      "image/png": "[encoded data removed]",
      "text/plain": [
       "<Figure size 432x288 with 1 Axes>"
      ]
     },
     "metadata": {
      "needs_background": "light",
      "tags": []
     },
     "output_type": "display_data"
    }
   ],
   "source": [
    "## Class Distribution of Target Variable ( Actual Values )\n",
    "df_distribution = df[['target','mean area']].groupby('target').count().reset_index(drop=False)\n",
    "plt.figure()\n",
    "sns.barplot(x='target',y='mean area',data = df_distribution)\n",
    "plt.show()"
   ]
  },
  {
   "cell_type": "code",
   "execution_count": null,
   "metadata": {
    "colab": {
     "base_uri": "https://localhost:8080/",
     "height": 295
    },
    "id": "UTTS7w8ud5pV",
    "outputId": "6020a171-e6ed-47a1-e355-af878103e3c9"
   },
   "outputs": [
    {
     "data": {
      "image/png": "[encoded data removed]",
      "text/plain": [
       "<Figure size 432x288 with 1 Axes>"
      ]
     },
     "metadata": {
      "needs_background": "light",
      "tags": []
     },
     "output_type": "display_data"
    }
   ],
   "source": [
    "## Class Distribution in % terms\n",
    "df_dist = (df[['target','mean area']].groupby('target').count()*100/len(df)).reset_index(drop=False)\n",
    "plt.figure()\n",
    "sns.barplot(x='target',y='mean area',data = df_dist)\n",
    "plt.ylabel('% Class Distribution')\n",
    "plt.title(\"Class Distribution of Cancer\")\n",
    "plt.ylim(0,100)\n",
    "plt.show()"
   ]
  },
  {
   "cell_type": "code",
   "execution_count": null,
   "metadata": {
    "colab": {
     "base_uri": "https://localhost:8080/",
     "height": 279
    },
    "id": "FACnHv4xel36",
    "outputId": "c1af0b20-d355-4796-f2e6-9b83d5c95ac0"
   },
   "outputs": [
    {
     "data": {
      "image/png": "[encoded data removed]",
      "text/plain": [
       "<Figure size 432x288 with 1 Axes>"
      ]
     },
     "metadata": {
      "needs_background": "light",
      "tags": []
     },
     "output_type": "display_data"
    }
   ],
   "source": [
    "## Mean Area vs Worst Area\n",
    "plt.figure()\n",
    "sns.scatterplot(x='mean area',y='worst area',data = df,hue='target')\n",
    "plt.show()"
   ]
  },
  {
   "cell_type": "code",
   "execution_count": null,
   "metadata": {
    "colab": {
     "base_uri": "https://localhost:8080/",
     "height": 279
    },
    "id": "Stbia2atgT0H",
    "outputId": "7e4cac5a-7c14-40ab-ec97-7ffecffa3515"
   },
   "outputs": [
    {
     "data": {
      "image/png": "[encoded data removed]",
      "text/plain": [
       "<Figure size 432x288 with 1 Axes>"
      ]
     },
     "metadata": {
      "needs_background": "light",
      "tags": []
     },
     "output_type": "display_data"
    }
   ],
   "source": [
    "## Mean Area vs Worst Area\n",
    "plt.figure()\n",
    "sns.scatterplot(x='mean radius',y='worst radius',data = df,hue='target')\n",
    "plt.axvline(15)\n",
    "plt.axhline(20)\n",
    "plt.show()"
   ]
  },
  {
   "cell_type": "code",
   "execution_count": null,
   "metadata": {
    "colab": {
     "base_uri": "https://localhost:8080/",
     "height": 301
    },
    "id": "gxxIF8P2hsAt",
    "outputId": "74962a3a-2da4-47ba-80ad-89e787688f80"
   },
   "outputs": [
    {
     "data": {
      "text/plain": [
       "<matplotlib.lines.Line2D at 0x7f518df79e90>"
      ]
     },
     "execution_count": 41,
     "metadata": {
      "tags": []
     },
     "output_type": "execute_result"
    },
    {
     "data": {
      "image/png": "[encoded data removed]",
      "text/plain": [
       "<Figure size 432x288 with 1 Axes>"
      ]
     },
     "metadata": {
      "needs_background": "light",
      "tags": []
     },
     "output_type": "display_data"
    }
   ],
   "source": [
    "sns.scatterplot(x='worst radius',y='radius error',data=df,hue='target')\n",
    "plt.axhline(1)"
   ]
  },
  {
   "cell_type": "markdown",
   "metadata": {
    "id": "Urx98DU4jW0g"
   },
   "source": [
    "## Modelling"
   ]
  },
  {
   "cell_type": "code",
   "execution_count": null,
   "metadata": {
    "id": "WaWra8bAiqem"
   },
   "outputs": [],
   "source": [
    "## Train Test Split\n",
    "\n",
    "from sklearn.model_selection import train_test_split"
   ]
  },
  {
   "cell_type": "code",
   "execution_count": null,
   "metadata": {
    "id": "8n3U-PAulcsx"
   },
   "outputs": [],
   "source": [
    "train,test = train_test_split(df,test_size =0.2,random_state =1 )"
   ]
  },
  {
   "cell_type": "code",
   "execution_count": null,
   "metadata": {
    "id": "8pYJoyFQll-T"
   },
   "outputs": [],
   "source": [
    "x_train = train.drop('target',axis =1)\n",
    "y_train = train['target']\n",
    "x_test = test.drop('target',axis=1)\n",
    "y_test = test['target']"
   ]
  },
  {
   "cell_type": "markdown",
   "metadata": {
    "id": "OyFK3UVVl55s"
   },
   "source": [
    "### Vanilla Logistic Regression Model"
   ]
  },
  {
   "cell_type": "code",
   "execution_count": null,
   "metadata": {
    "id": "y6DRmyQ_l8dc"
   },
   "outputs": [],
   "source": [
    "from sklearn.linear_model import LogisticRegression"
   ]
  },
  {
   "cell_type": "code",
   "execution_count": null,
   "metadata": {
    "id": "dby_TClnmAun"
   },
   "outputs": [],
   "source": [
    "model = LogisticRegression(penalty='l2',C=0.000001,class_weight=None) ## This will create a non regularized Logistic Regression"
   ]
  },
  {
   "cell_type": "code",
   "execution_count": null,
   "metadata": {
    "colab": {
     "base_uri": "https://localhost:8080/"
    },
    "id": "2ChABGV5mhlh",
    "outputId": "fe17f939-3788-4362-8824-eba8b2716edf"
   },
   "outputs": [
    {
     "data": {
      "text/plain": [
       "LogisticRegression(C=1e-06, class_weight=None, dual=False, fit_intercept=True,\n",
       "                   intercept_scaling=1, l1_ratio=None, max_iter=100,\n",
       "                   multi_class='auto', n_jobs=None, penalty='l2',\n",
       "                   random_state=None, solver='lbfgs', tol=0.0001, verbose=0,\n",
       "                   warm_start=False)"
      ]
     },
     "execution_count": 50,
     "metadata": {
      "tags": []
     },
     "output_type": "execute_result"
    }
   ],
   "source": [
    "model.fit(x_train,y_train)"
   ]
  },
  {
   "cell_type": "code",
   "execution_count": null,
   "metadata": {
    "id": "7CCMVUwAmk4x"
   },
   "outputs": [],
   "source": [
    "y_train_predict = model.predict(x_train) ## you will get predicted class with threshold of 50\n",
    "y_train_proba = model.predict_proba(x_train) ## you will get probability values"
   ]
  },
  {
   "cell_type": "code",
   "execution_count": null,
   "metadata": {
    "id": "vZTGfZWqmyBd"
   },
   "outputs": [],
   "source": [
    "from sklearn.metrics import confusion_matrix\n",
    "from sklearn.metrics import plot_confusion_matrix"
   ]
  },
  {
   "cell_type": "code",
   "execution_count": null,
   "metadata": {
    "id": "tcfbdGPtmzRH"
   },
   "outputs": [],
   "source": [
    "def proba_class(y_proba,threshold = 0.5):\n",
    "    predicted_class = [1 if a[1] > threshold else 0 for a in y_proba]\n",
    "    return np.array(predicted_class)"
   ]
  },
  {
   "cell_type": "code",
   "execution_count": null,
   "metadata": {
    "colab": {
     "base_uri": "https://localhost:8080/"
    },
    "id": "Rk2r826OoaLL",
    "outputId": "c63bc081-c757-45ea-ba1f-3f952a4131a0"
   },
   "outputs": [
    {
     "data": {
      "text/plain": [
       "array([[139,  31],\n",
       "       [  7, 278]])"
      ]
     },
     "execution_count": 61,
     "metadata": {
      "tags": []
     },
     "output_type": "execute_result"
    }
   ],
   "source": [
    "## Create Confusion Matrix with different threshold\n",
    "y_pred_train = proba_class(y_train_proba,0.5)\n",
    "confusion_matrix(y_train,y_pred_train)"
   ]
  },
  {
   "cell_type": "code",
   "execution_count": null,
   "metadata": {
    "colab": {
     "base_uri": "https://localhost:8080/",
     "height": 279
    },
    "id": "vVUm_30dorYj",
    "outputId": "cd84a2b7-410c-4be3-fb93-2a654156eb0b"
   },
   "outputs": [
    {
     "data": {
      "image/png": "[encoded data removed]",
      "text/plain": [
       "<Figure size 432x288 with 2 Axes>"
      ]
     },
     "metadata": {
      "needs_background": "light",
      "tags": []
     },
     "output_type": "display_data"
    }
   ],
   "source": [
    "## Visualize your confusion Matrix\n",
    "plot_confusion_matrix(model, x_train, y_train)\n",
    "plt.show()  "
   ]
  },
  {
   "cell_type": "code",
   "execution_count": null,
   "metadata": {
    "id": "kKAPqkK_pObl"
   },
   "outputs": [],
   "source": [
    "## Precision Recall Values\n",
    "\n",
    "from sklearn.metrics import precision_score,recall_score,fbeta_score"
   ]
  },
  {
   "cell_type": "code",
   "execution_count": null,
   "metadata": {
    "id": "vIapoQa6rPDS"
   },
   "outputs": [],
   "source": [
    "def classification_metics(y_actual,y_pred):\n",
    "    precision = precision_score(y_actual,y_pred)\n",
    "    recall= recall_score(y_actual,y_pred)\n",
    "    fb = fbeta_score(y_actual,y_pred,beta =1)\n",
    "    return(precision,recall,fb)"
   ]
  },
  {
   "cell_type": "code",
   "execution_count": null,
   "metadata": {
    "colab": {
     "base_uri": "https://localhost:8080/"
    },
    "id": "vn0wwBt6ruFO",
    "outputId": "64bb9838-e2f6-4300-9b85-1c11ddaa3046"
   },
   "outputs": [
    {
     "name": "stdout",
     "output_type": "stream",
     "text": [
      "Precision :0.9 Recall:0.98 F1-Score:0.94\n"
     ]
    }
   ],
   "source": [
    "classification_metics(y_train,y_pred_train)"
   ]
  },
  {
   "cell_type": "code",
   "execution_count": null,
   "metadata": {
    "colab": {
     "base_uri": "https://localhost:8080/"
    },
    "id": "sfN3HqS1ryYd",
    "outputId": "ca573ca6-f57f-415f-d984-bffa7b0aad55"
   },
   "outputs": [
    {
     "name": "stdout",
     "output_type": "stream",
     "text": [
      "Threshold: 0.1\n",
      "Precision :0.8 Recall:1.0 F1-Score:0.89\n",
      "Threshold: 0.2\n",
      "Precision :0.83 Recall:1.0 F1-Score:0.9\n",
      "Threshold: 0.3\n",
      "Precision :0.85 Recall:0.99 F1-Score:0.91\n",
      "Threshold: 0.4\n",
      "Precision :0.87 Recall:0.99 F1-Score:0.93\n",
      "Threshold: 0.5\n",
      "Precision :0.9 Recall:0.98 F1-Score:0.94\n",
      "Threshold: 0.6\n",
      "Precision :0.91 Recall:0.95 F1-Score:0.93\n",
      "Threshold: 0.7\n",
      "Precision :0.95 Recall:0.9 F1-Score:0.93\n",
      "Threshold: 0.8\n",
      "Precision :0.98 Recall:0.83 F1-Score:0.9\n",
      "Threshold: 0.9\n",
      "Precision :0.98 Recall:0.6 F1-Score:0.75\n"
     ]
    }
   ],
   "source": [
    "thresholds=[]\n",
    "prec=[]\n",
    "recall=[]\n",
    "fb=[]\n",
    "for threshold in range(10,100,10):\n",
    "    trsh = threshold/100\n",
    "    y_pred_train = proba_class(y_train_proba,trsh)\n",
    "    print(\"Threshold: {}\".format(trsh))\n",
    "    p,r,f=classification_metics(y_train,y_pred_train)\n",
    "    prec.append(p)\n",
    "    recall.append(r)\n",
    "    fb.append(f)\n",
    "    thresholds.append(trsh)"
   ]
  },
  {
   "cell_type": "code",
   "execution_count": null,
   "metadata": {
    "colab": {
     "base_uri": "https://localhost:8080/",
     "height": 295
    },
    "id": "yjcMT6mTu3dJ",
    "outputId": "c604d68a-df56-41f5-d292-eb678139e5cb"
   },
   "outputs": [
    {
     "data": {
      "image/png": "[encoded data removed]",
      "text/plain": [
       "<Figure size 432x288 with 1 Axes>"
      ]
     },
     "metadata": {
      "needs_background": "light",
      "tags": []
     },
     "output_type": "display_data"
    }
   ],
   "source": [
    "sns.lineplot(x=thresholds ,y =prec)\n",
    "sns.lineplot(x=thresholds,y=recall)\n",
    "plt.xlabel('Threshold')\n",
    "plt.title('Precision Recall Curve')\n",
    "plt.show()"
   ]
  },
  {
   "cell_type": "code",
   "execution_count": null,
   "metadata": {
    "id": "5JItJ3vfsJKm"
   },
   "outputs": [],
   "source": [
    "### ROC AUC Curve\n",
    "from sklearn.metrics import roc_curve\n",
    "fpr, tpr, thresholds = roc_curve(y_train, [a[1] for a in y_train_proba])"
   ]
  },
  {
   "cell_type": "code",
   "execution_count": null,
   "metadata": {
    "colab": {
     "base_uri": "https://localhost:8080/",
     "height": 295
    },
    "id": "Ml1oDYA2s4YE",
    "outputId": "d7ac57ac-f5ff-46d5-ee2d-430705c0aeed"
   },
   "outputs": [
    {
     "data": {
      "image/png": "[encoded data removed]",
      "text/plain": [
       "<Figure size 432x288 with 1 Axes>"
      ]
     },
     "metadata": {
      "needs_background": "light",
      "tags": []
     },
     "output_type": "display_data"
    }
   ],
   "source": [
    "sns.lineplot(x=fpr,y=tpr,color='red')\n",
    "plt.title(\"ROC AUC Curve\")\n",
    "plt.xlabel(\"FPR\")\n",
    "plt.ylabel('TPR')\n",
    "plt.show()"
   ]
  },
  {
   "cell_type": "code",
   "execution_count": null,
   "metadata": {
    "id": "LWJCuUG4s7CX"
   },
   "outputs": [],
   "source": [
    "roc_auc = pd.DataFrame(fpr,columns = ['FPR'])\n",
    "roc_auc['TPR'] = tpr\n",
    "roc_auc['Threshold'] = thresholds"
   ]
  },
  {
   "cell_type": "code",
   "execution_count": null,
   "metadata": {
    "colab": {
     "base_uri": "https://localhost:8080/",
     "height": 1000
    },
    "id": "lkG-eSJ-tHrk",
    "outputId": "cf7e8527-2fda-440e-a4c8-466f40dc36f1"
   },
   "outputs": [
    {
     "data": {
      "text/html": [
       "<div>\n",
       "<style scoped>\n",
       "    .dataframe tbody tr th:only-of-type {\n",
       "        vertical-align: middle;\n",
       "    }\n",
       "\n",
       "    .dataframe tbody tr th {\n",
       "        vertical-align: top;\n",
       "    }\n",
       "\n",
       "    .dataframe thead th {\n",
       "        text-align: right;\n",
       "    }\n",
       "</style>\n",
       "<table border=\"1\" class=\"dataframe\">\n",
       "  <thead>\n",
       "    <tr style=\"text-align: right;\">\n",
       "      <th></th>\n",
       "      <th>FPR</th>\n",
       "      <th>TPR</th>\n",
       "      <th>Threshold</th>\n",
       "    </tr>\n",
       "  </thead>\n",
       "  <tbody>\n",
       "    <tr>\n",
       "      <th>0</th>\n",
       "      <td>0.000000</td>\n",
       "      <td>0.000000</td>\n",
       "      <td>1.994012e+00</td>\n",
       "    </tr>\n",
       "    <tr>\n",
       "      <th>1</th>\n",
       "      <td>0.000000</td>\n",
       "      <td>0.003509</td>\n",
       "      <td>9.940120e-01</td>\n",
       "    </tr>\n",
       "    <tr>\n",
       "      <th>2</th>\n",
       "      <td>0.000000</td>\n",
       "      <td>0.361404</td>\n",
       "      <td>9.477971e-01</td>\n",
       "    </tr>\n",
       "    <tr>\n",
       "      <th>3</th>\n",
       "      <td>0.005882</td>\n",
       "      <td>0.361404</td>\n",
       "      <td>9.472056e-01</td>\n",
       "    </tr>\n",
       "    <tr>\n",
       "      <th>4</th>\n",
       "      <td>0.005882</td>\n",
       "      <td>0.505263</td>\n",
       "      <td>9.246012e-01</td>\n",
       "    </tr>\n",
       "    <tr>\n",
       "      <th>5</th>\n",
       "      <td>0.011765</td>\n",
       "      <td>0.505263</td>\n",
       "      <td>9.243333e-01</td>\n",
       "    </tr>\n",
       "    <tr>\n",
       "      <th>6</th>\n",
       "      <td>0.011765</td>\n",
       "      <td>0.578947</td>\n",
       "      <td>9.081924e-01</td>\n",
       "    </tr>\n",
       "    <tr>\n",
       "      <th>7</th>\n",
       "      <td>0.017647</td>\n",
       "      <td>0.578947</td>\n",
       "      <td>9.081741e-01</td>\n",
       "    </tr>\n",
       "    <tr>\n",
       "      <th>8</th>\n",
       "      <td>0.017647</td>\n",
       "      <td>0.789474</td>\n",
       "      <td>8.209803e-01</td>\n",
       "    </tr>\n",
       "    <tr>\n",
       "      <th>9</th>\n",
       "      <td>0.023529</td>\n",
       "      <td>0.789474</td>\n",
       "      <td>8.199744e-01</td>\n",
       "    </tr>\n",
       "    <tr>\n",
       "      <th>10</th>\n",
       "      <td>0.023529</td>\n",
       "      <td>0.810526</td>\n",
       "      <td>8.068676e-01</td>\n",
       "    </tr>\n",
       "    <tr>\n",
       "      <th>11</th>\n",
       "      <td>0.029412</td>\n",
       "      <td>0.810526</td>\n",
       "      <td>8.065856e-01</td>\n",
       "    </tr>\n",
       "    <tr>\n",
       "      <th>12</th>\n",
       "      <td>0.029412</td>\n",
       "      <td>0.845614</td>\n",
       "      <td>7.922756e-01</td>\n",
       "    </tr>\n",
       "    <tr>\n",
       "      <th>13</th>\n",
       "      <td>0.035294</td>\n",
       "      <td>0.845614</td>\n",
       "      <td>7.857883e-01</td>\n",
       "    </tr>\n",
       "    <tr>\n",
       "      <th>14</th>\n",
       "      <td>0.035294</td>\n",
       "      <td>0.852632</td>\n",
       "      <td>7.839276e-01</td>\n",
       "    </tr>\n",
       "    <tr>\n",
       "      <th>15</th>\n",
       "      <td>0.041176</td>\n",
       "      <td>0.852632</td>\n",
       "      <td>7.816785e-01</td>\n",
       "    </tr>\n",
       "    <tr>\n",
       "      <th>16</th>\n",
       "      <td>0.041176</td>\n",
       "      <td>0.863158</td>\n",
       "      <td>7.790319e-01</td>\n",
       "    </tr>\n",
       "    <tr>\n",
       "      <th>17</th>\n",
       "      <td>0.047059</td>\n",
       "      <td>0.863158</td>\n",
       "      <td>7.731822e-01</td>\n",
       "    </tr>\n",
       "    <tr>\n",
       "      <th>18</th>\n",
       "      <td>0.047059</td>\n",
       "      <td>0.866667</td>\n",
       "      <td>7.710318e-01</td>\n",
       "    </tr>\n",
       "    <tr>\n",
       "      <th>19</th>\n",
       "      <td>0.058824</td>\n",
       "      <td>0.866667</td>\n",
       "      <td>7.626928e-01</td>\n",
       "    </tr>\n",
       "    <tr>\n",
       "      <th>20</th>\n",
       "      <td>0.058824</td>\n",
       "      <td>0.870175</td>\n",
       "      <td>7.571279e-01</td>\n",
       "    </tr>\n",
       "    <tr>\n",
       "      <th>21</th>\n",
       "      <td>0.064706</td>\n",
       "      <td>0.870175</td>\n",
       "      <td>7.571273e-01</td>\n",
       "    </tr>\n",
       "    <tr>\n",
       "      <th>22</th>\n",
       "      <td>0.064706</td>\n",
       "      <td>0.884211</td>\n",
       "      <td>7.346035e-01</td>\n",
       "    </tr>\n",
       "    <tr>\n",
       "      <th>23</th>\n",
       "      <td>0.070588</td>\n",
       "      <td>0.884211</td>\n",
       "      <td>7.321205e-01</td>\n",
       "    </tr>\n",
       "    <tr>\n",
       "      <th>24</th>\n",
       "      <td>0.070588</td>\n",
       "      <td>0.887719</td>\n",
       "      <td>7.257570e-01</td>\n",
       "    </tr>\n",
       "    <tr>\n",
       "      <th>25</th>\n",
       "      <td>0.076471</td>\n",
       "      <td>0.887719</td>\n",
       "      <td>7.180765e-01</td>\n",
       "    </tr>\n",
       "    <tr>\n",
       "      <th>26</th>\n",
       "      <td>0.076471</td>\n",
       "      <td>0.905263</td>\n",
       "      <td>6.936525e-01</td>\n",
       "    </tr>\n",
       "    <tr>\n",
       "      <th>27</th>\n",
       "      <td>0.100000</td>\n",
       "      <td>0.905263</td>\n",
       "      <td>6.832915e-01</td>\n",
       "    </tr>\n",
       "    <tr>\n",
       "      <th>28</th>\n",
       "      <td>0.100000</td>\n",
       "      <td>0.908772</td>\n",
       "      <td>6.830462e-01</td>\n",
       "    </tr>\n",
       "    <tr>\n",
       "      <th>29</th>\n",
       "      <td>0.105882</td>\n",
       "      <td>0.908772</td>\n",
       "      <td>6.804237e-01</td>\n",
       "    </tr>\n",
       "    <tr>\n",
       "      <th>30</th>\n",
       "      <td>0.105882</td>\n",
       "      <td>0.915789</td>\n",
       "      <td>6.682629e-01</td>\n",
       "    </tr>\n",
       "    <tr>\n",
       "      <th>31</th>\n",
       "      <td>0.117647</td>\n",
       "      <td>0.915789</td>\n",
       "      <td>6.604523e-01</td>\n",
       "    </tr>\n",
       "    <tr>\n",
       "      <th>32</th>\n",
       "      <td>0.117647</td>\n",
       "      <td>0.926316</td>\n",
       "      <td>6.553901e-01</td>\n",
       "    </tr>\n",
       "    <tr>\n",
       "      <th>33</th>\n",
       "      <td>0.123529</td>\n",
       "      <td>0.926316</td>\n",
       "      <td>6.546705e-01</td>\n",
       "    </tr>\n",
       "    <tr>\n",
       "      <th>34</th>\n",
       "      <td>0.123529</td>\n",
       "      <td>0.936842</td>\n",
       "      <td>6.471907e-01</td>\n",
       "    </tr>\n",
       "    <tr>\n",
       "      <th>35</th>\n",
       "      <td>0.135294</td>\n",
       "      <td>0.936842</td>\n",
       "      <td>6.434703e-01</td>\n",
       "    </tr>\n",
       "    <tr>\n",
       "      <th>36</th>\n",
       "      <td>0.135294</td>\n",
       "      <td>0.943860</td>\n",
       "      <td>6.269365e-01</td>\n",
       "    </tr>\n",
       "    <tr>\n",
       "      <th>37</th>\n",
       "      <td>0.141176</td>\n",
       "      <td>0.943860</td>\n",
       "      <td>6.214249e-01</td>\n",
       "    </tr>\n",
       "    <tr>\n",
       "      <th>38</th>\n",
       "      <td>0.141176</td>\n",
       "      <td>0.947368</td>\n",
       "      <td>6.169056e-01</td>\n",
       "    </tr>\n",
       "    <tr>\n",
       "      <th>39</th>\n",
       "      <td>0.152941</td>\n",
       "      <td>0.947368</td>\n",
       "      <td>6.021613e-01</td>\n",
       "    </tr>\n",
       "    <tr>\n",
       "      <th>40</th>\n",
       "      <td>0.152941</td>\n",
       "      <td>0.961404</td>\n",
       "      <td>5.813923e-01</td>\n",
       "    </tr>\n",
       "    <tr>\n",
       "      <th>41</th>\n",
       "      <td>0.164706</td>\n",
       "      <td>0.961404</td>\n",
       "      <td>5.752049e-01</td>\n",
       "    </tr>\n",
       "    <tr>\n",
       "      <th>42</th>\n",
       "      <td>0.164706</td>\n",
       "      <td>0.968421</td>\n",
       "      <td>5.637406e-01</td>\n",
       "    </tr>\n",
       "    <tr>\n",
       "      <th>43</th>\n",
       "      <td>0.176471</td>\n",
       "      <td>0.968421</td>\n",
       "      <td>5.466174e-01</td>\n",
       "    </tr>\n",
       "    <tr>\n",
       "      <th>44</th>\n",
       "      <td>0.176471</td>\n",
       "      <td>0.975439</td>\n",
       "      <td>5.167825e-01</td>\n",
       "    </tr>\n",
       "    <tr>\n",
       "      <th>45</th>\n",
       "      <td>0.205882</td>\n",
       "      <td>0.975439</td>\n",
       "      <td>4.686441e-01</td>\n",
       "    </tr>\n",
       "    <tr>\n",
       "      <th>46</th>\n",
       "      <td>0.205882</td>\n",
       "      <td>0.982456</td>\n",
       "      <td>4.601451e-01</td>\n",
       "    </tr>\n",
       "    <tr>\n",
       "      <th>47</th>\n",
       "      <td>0.211765</td>\n",
       "      <td>0.982456</td>\n",
       "      <td>4.463917e-01</td>\n",
       "    </tr>\n",
       "    <tr>\n",
       "      <th>48</th>\n",
       "      <td>0.211765</td>\n",
       "      <td>0.985965</td>\n",
       "      <td>4.283841e-01</td>\n",
       "    </tr>\n",
       "    <tr>\n",
       "      <th>49</th>\n",
       "      <td>0.241176</td>\n",
       "      <td>0.985965</td>\n",
       "      <td>4.112469e-01</td>\n",
       "    </tr>\n",
       "    <tr>\n",
       "      <th>50</th>\n",
       "      <td>0.241176</td>\n",
       "      <td>0.989474</td>\n",
       "      <td>4.091785e-01</td>\n",
       "    </tr>\n",
       "    <tr>\n",
       "      <th>51</th>\n",
       "      <td>0.294118</td>\n",
       "      <td>0.989474</td>\n",
       "      <td>3.159995e-01</td>\n",
       "    </tr>\n",
       "    <tr>\n",
       "      <th>52</th>\n",
       "      <td>0.294118</td>\n",
       "      <td>0.992982</td>\n",
       "      <td>3.135295e-01</td>\n",
       "    </tr>\n",
       "    <tr>\n",
       "      <th>53</th>\n",
       "      <td>0.300000</td>\n",
       "      <td>0.992982</td>\n",
       "      <td>3.075796e-01</td>\n",
       "    </tr>\n",
       "    <tr>\n",
       "      <th>54</th>\n",
       "      <td>0.300000</td>\n",
       "      <td>0.996491</td>\n",
       "      <td>2.701291e-01</td>\n",
       "    </tr>\n",
       "    <tr>\n",
       "      <th>55</th>\n",
       "      <td>0.417647</td>\n",
       "      <td>0.996491</td>\n",
       "      <td>1.020834e-01</td>\n",
       "    </tr>\n",
       "    <tr>\n",
       "      <th>56</th>\n",
       "      <td>0.417647</td>\n",
       "      <td>1.000000</td>\n",
       "      <td>1.005346e-01</td>\n",
       "    </tr>\n",
       "    <tr>\n",
       "      <th>57</th>\n",
       "      <td>1.000000</td>\n",
       "      <td>1.000000</td>\n",
       "      <td>2.409665e-10</td>\n",
       "    </tr>\n",
       "  </tbody>\n",
       "</table>\n",
       "</div>"
      ],
      "text/plain": [
       "         FPR       TPR     Threshold\n",
       "0   0.000000  0.000000  1.994012e+00\n",
       "1   0.000000  0.003509  9.940120e-01\n",
       "2   0.000000  0.361404  9.477971e-01\n",
       "3   0.005882  0.361404  9.472056e-01\n",
       "4   0.005882  0.505263  9.246012e-01\n",
       "5   0.011765  0.505263  9.243333e-01\n",
       "6   0.011765  0.578947  9.081924e-01\n",
       "7   0.017647  0.578947  9.081741e-01\n",
       "8   0.017647  0.789474  8.209803e-01\n",
       "9   0.023529  0.789474  8.199744e-01\n",
       "10  0.023529  0.810526  8.068676e-01\n",
       "11  0.029412  0.810526  8.065856e-01\n",
       "12  0.029412  0.845614  7.922756e-01\n",
       "13  0.035294  0.845614  7.857883e-01\n",
       "14  0.035294  0.852632  7.839276e-01\n",
       "15  0.041176  0.852632  7.816785e-01\n",
       "16  0.041176  0.863158  7.790319e-01\n",
       "17  0.047059  0.863158  7.731822e-01\n",
       "18  0.047059  0.866667  7.710318e-01\n",
       "19  0.058824  0.866667  7.626928e-01\n",
       "20  0.058824  0.870175  7.571279e-01\n",
       "21  0.064706  0.870175  7.571273e-01\n",
       "22  0.064706  0.884211  7.346035e-01\n",
       "23  0.070588  0.884211  7.321205e-01\n",
       "24  0.070588  0.887719  7.257570e-01\n",
       "25  0.076471  0.887719  7.180765e-01\n",
       "26  0.076471  0.905263  6.936525e-01\n",
       "27  0.100000  0.905263  6.832915e-01\n",
       "28  0.100000  0.908772  6.830462e-01\n",
       "29  0.105882  0.908772  6.804237e-01\n",
       "30  0.105882  0.915789  6.682629e-01\n",
       "31  0.117647  0.915789  6.604523e-01\n",
       "32  0.117647  0.926316  6.553901e-01\n",
       "33  0.123529  0.926316  6.546705e-01\n",
       "34  0.123529  0.936842  6.471907e-01\n",
       "35  0.135294  0.936842  6.434703e-01\n",
       "36  0.135294  0.943860  6.269365e-01\n",
       "37  0.141176  0.943860  6.214249e-01\n",
       "38  0.141176  0.947368  6.169056e-01\n",
       "39  0.152941  0.947368  6.021613e-01\n",
       "40  0.152941  0.961404  5.813923e-01\n",
       "41  0.164706  0.961404  5.752049e-01\n",
       "42  0.164706  0.968421  5.637406e-01\n",
       "43  0.176471  0.968421  5.466174e-01\n",
       "44  0.176471  0.975439  5.167825e-01\n",
       "45  0.205882  0.975439  4.686441e-01\n",
       "46  0.205882  0.982456  4.601451e-01\n",
       "47  0.211765  0.982456  4.463917e-01\n",
       "48  0.211765  0.985965  4.283841e-01\n",
       "49  0.241176  0.985965  4.112469e-01\n",
       "50  0.241176  0.989474  4.091785e-01\n",
       "51  0.294118  0.989474  3.159995e-01\n",
       "52  0.294118  0.992982  3.135295e-01\n",
       "53  0.300000  0.992982  3.075796e-01\n",
       "54  0.300000  0.996491  2.701291e-01\n",
       "55  0.417647  0.996491  1.020834e-01\n",
       "56  0.417647  1.000000  1.005346e-01\n",
       "57  1.000000  1.000000  2.409665e-10"
      ]
     },
     "execution_count": 85,
     "metadata": {
      "tags": []
     },
     "output_type": "execute_result"
    }
   ],
   "source": [
    "roc_auc"
   ]
  },
  {
   "cell_type": "code",
   "execution_count": null,
   "metadata": {
    "id": "wehSCC3ut31W"
   },
   "outputs": [],
   "source": [
    "def classification_report(y_actual,y_proba):\n",
    "    thresh=[]\n",
    "    prec=[]\n",
    "    recall=[]\n",
    "    fb=[]\n",
    "    for threshold in range(10,100,10):\n",
    "    trsh = threshold/100\n",
    "    y_pred_train = [1 if a > trsh else 0 for a in y_proba]\n",
    "    p,r,f=classification_metics(y_train,y_pred_train)\n",
    "    prec.append(p)\n",
    "    recall.append(r)\n",
    "    fb.append(f)\n",
    "    thresh.append(trsh)\n",
    "    fpr, tpr, thresholds = roc_curve(y_train, y_proba)\n",
    "  \n",
    "    f, (ax1, ax2) = plt.subplots(1, 2)\n",
    "    ax1.plot(thresh, prec,label = 'precision')\n",
    "    ax1.plot(thresh,recall,label = 'recall')\n",
    "    ax1.set_title('PR Curve')\n",
    "    ax2.plot(fpr,tpr,color='red',label ='ROC-AUC')\n",
    "    ax2.set_title(\"ROC AUC Curve\")\n",
    "    plt.show()"
   ]
  },
  {
   "cell_type": "code",
   "execution_count": null,
   "metadata": {
    "colab": {
     "base_uri": "https://localhost:8080/",
     "height": 281
    },
    "id": "cdKajs71zSRk",
    "outputId": "2632806a-84d9-4890-fea6-6a31e439ed4a"
   },
   "outputs": [
    {
     "data": {
      "image/png": "[encoded data removed]",
      "text/plain": [
       "<Figure size 432x288 with 2 Axes>"
      ]
     },
     "metadata": {
      "needs_background": "light",
      "tags": []
     },
     "output_type": "display_data"
    }
   ],
   "source": [
    "classification_report(y_train,y_train_proba)"
   ]
  },
  {
   "cell_type": "code",
   "execution_count": null,
   "metadata": {
    "colab": {
     "base_uri": "https://localhost:8080/",
     "height": 281
    },
    "id": "evo27td2zVb6",
    "outputId": "958e46bb-c53c-46b7-8342-bb66c8159f20"
   },
   "outputs": [
    {
     "data": {
      "image/png": "[encoded data removed]",
      "text/plain": [
       "<Figure size 432x288 with 2 Axes>"
      ]
     },
     "metadata": {
      "needs_background": "light",
      "tags": []
     },
     "output_type": "display_data"
    }
   ],
   "source": [
    "model = LogisticRegression(penalty='l2',C=0.000001,class_weight=None) ## This will create a non regularized Logistic Regression\n",
    "model.fit(x_train,y_train)\n",
    "y_train_proba= [a[1] for a in model.predict_proba(x_train)]\n",
    "classification_report(y_train,y_train_proba)"
   ]
  },
  {
   "cell_type": "code",
   "execution_count": null,
   "metadata": {
    "colab": {
     "base_uri": "https://localhost:8080/"
    },
    "id": "W80FIdxz0zwD",
    "outputId": "bcd16fde-5e64-42cc-fe96-e76bbccf731f"
   },
   "outputs": [
    {
     "data": {
      "text/plain": [
       "(0.8701298701298701, 0.9305555555555556, 0.8993288590604027)"
      ]
     },
     "execution_count": 149,
     "metadata": {
      "tags": []
     },
     "output_type": "execute_result"
    }
   ],
   "source": [
    "## Test Data\n",
    "y_test_proba = model.predict_proba(x_test)\n",
    "y_tst = [1 if a[1]> 0.65 else 0 for a in y_test_proba]\n",
    "classification_metics(y_test,y_tst)"
   ]
  },
  {
   "cell_type": "code",
   "execution_count": null,
   "metadata": {
    "colab": {
     "base_uri": "https://localhost:8080/",
     "height": 417
    },
    "id": "ophODN9p3Q-4",
    "outputId": "608ebf5f-6752-4865-9c3a-0164d38c4e55"
   },
   "outputs": [
    {
     "name": "stderr",
     "output_type": "stream",
     "text": [
      "/usr/local/lib/python3.7/dist-packages/sklearn/linear_model/_logistic.py:940: ConvergenceWarning: lbfgs failed to converge (status=1):\n",
      "STOP: TOTAL NO. of ITERATIONS REACHED LIMIT.\n",
      "\n",
      "Increase the number of iterations (max_iter) or scale the data as shown in:\n",
      "    https://scikit-learn.org/stable/modules/preprocessing.html\n",
      "Please also refer to the documentation for alternative solver options:\n",
      "    https://scikit-learn.org/stable/modules/linear_model.html#logistic-regression\n",
      "  extra_warning_msg=_LOGISTIC_SOLVER_CONVERGENCE_MSG)\n"
     ]
    },
    {
     "data": {
      "image/png": "[encoded data removed]",
      "text/plain": [
       "<Figure size 432x288 with 2 Axes>"
      ]
     },
     "metadata": {
      "needs_background": "light",
      "tags": []
     },
     "output_type": "display_data"
    }
   ],
   "source": [
    "model = LogisticRegression(penalty='l2',C=5,class_weight='balanced') ## This will create a non regularized Logistic Regression\n",
    "model.fit(x_train,y_train)\n",
    "y_train_proba= [a[1] for a in model.predict_proba(x_train)]\n",
    "classification_report(y_train,y_train_proba)"
   ]
  },
  {
   "cell_type": "code",
   "execution_count": null,
   "metadata": {
    "colab": {
     "base_uri": "https://localhost:8080/"
    },
    "id": "E3BddQ-E3eLP",
    "outputId": "e3144fd8-f24e-4cd8-d87b-fdc01680c010"
   },
   "outputs": [
    {
     "data": {
      "text/plain": [
       "(0.9577464788732394, 0.9444444444444444, 0.951048951048951)"
      ]
     },
     "execution_count": 154,
     "metadata": {
      "tags": []
     },
     "output_type": "execute_result"
    }
   ],
   "source": [
    "## Test Data\n",
    "y_test_proba = model.predict_proba(x_test)\n",
    "y_tst = [1 if a[1]> 0.65 else 0 for a in y_test_proba]\n",
    "classification_metics(y_test,y_tst)"
   ]
  },
  {
   "cell_type": "code",
   "execution_count": null,
   "metadata": {
    "id": "lrJ-VYYq3nnc"
   },
   "outputs": [],
   "source": [
    "#### Grid Search\n",
    "from sklearn.model_selection import GridSearchCV"
   ]
  },
  {
   "cell_type": "code",
   "execution_count": null,
   "metadata": {
    "id": "E_0v9KyG4Gu5"
   },
   "outputs": [],
   "source": [
    "params = {'C':[0.1,1,5,10,15,20],\n",
    "          'class_weight':[None,'balanced']}\n",
    "model = GridSearchCV(LogisticRegression(),param_grid=params,scoring='roc_auc',cv=5,n_jobs = -1)"
   ]
  },
  {
   "cell_type": "code",
   "execution_count": null,
   "metadata": {
    "colab": {
     "base_uri": "https://localhost:8080/"
    },
    "id": "bNzLJxK34gMq",
    "outputId": "48502e92-fd28-42f0-bdd0-cb1e802f6015"
   },
   "outputs": [
    {
     "name": "stderr",
     "output_type": "stream",
     "text": [
      "/usr/local/lib/python3.7/dist-packages/sklearn/linear_model/_logistic.py:940: ConvergenceWarning: lbfgs failed to converge (status=1):\n",
      "STOP: TOTAL NO. of ITERATIONS REACHED LIMIT.\n",
      "\n",
      "Increase the number of iterations (max_iter) or scale the data as shown in:\n",
      "    https://scikit-learn.org/stable/modules/preprocessing.html\n",
      "Please also refer to the documentation for alternative solver options:\n",
      "    https://scikit-learn.org/stable/modules/linear_model.html#logistic-regression\n",
      "  extra_warning_msg=_LOGISTIC_SOLVER_CONVERGENCE_MSG)\n"
     ]
    },
    {
     "data": {
      "text/plain": [
       "GridSearchCV(cv=5, error_score=nan,\n",
       "             estimator=LogisticRegression(C=1.0, class_weight=None, dual=False,\n",
       "                                          fit_intercept=True,\n",
       "                                          intercept_scaling=1, l1_ratio=None,\n",
       "                                          max_iter=100, multi_class='auto',\n",
       "                                          n_jobs=None, penalty='l2',\n",
       "                                          random_state=None, solver='lbfgs',\n",
       "                                          tol=0.0001, verbose=0,\n",
       "                                          warm_start=False),\n",
       "             iid='deprecated', n_jobs=-1,\n",
       "             param_grid={'C': [0.1, 1, 5, 10, 15, 20],\n",
       "                         'class_weight': [None, 'balanced']},\n",
       "             pre_dispatch='2*n_jobs', refit=True, return_train_score=False,\n",
       "             scoring='roc_auc', verbose=0)"
      ]
     },
     "execution_count": 160,
     "metadata": {
      "tags": []
     },
     "output_type": "execute_result"
    }
   ],
   "source": [
    "model.fit(x_train,y_train)"
   ]
  },
  {
   "cell_type": "code",
   "execution_count": null,
   "metadata": {
    "colab": {
     "base_uri": "https://localhost:8080/"
    },
    "id": "zuVE3a_m4rwU",
    "outputId": "bffcff35-2385-497c-8bce-180ab9300fa1"
   },
   "outputs": [
    {
     "data": {
      "text/plain": [
       "LogisticRegression(C=1, class_weight=None, dual=False, fit_intercept=True,\n",
       "                   intercept_scaling=1, l1_ratio=None, max_iter=100,\n",
       "                   multi_class='auto', n_jobs=None, penalty='l2',\n",
       "                   random_state=None, solver='lbfgs', tol=0.0001, verbose=0,\n",
       "                   warm_start=False)"
      ]
     },
     "execution_count": 161,
     "metadata": {
      "tags": []
     },
     "output_type": "execute_result"
    }
   ],
   "source": [
    "model.best_estimator_"
   ]
  },
  {
   "cell_type": "code",
   "execution_count": null,
   "metadata": {
    "colab": {
     "base_uri": "https://localhost:8080/",
     "height": 281
    },
    "id": "7X8-D44T4vv1",
    "outputId": "1b201841-8f9c-4793-a98e-45f3aca63e8c"
   },
   "outputs": [
    {
     "data": {
      "image/png": "[encoded data removed]",
      "text/plain": [
       "<Figure size 432x288 with 2 Axes>"
      ]
     },
     "metadata": {
      "needs_background": "light",
      "tags": []
     },
     "output_type": "display_data"
    }
   ],
   "source": [
    "y_train_proba= [a[1] for a in model.predict_proba(x_train)]\n",
    "classification_report(y_train,y_train_proba)"
   ]
  },
  {
   "cell_type": "code",
   "execution_count": null,
   "metadata": {
    "colab": {
     "base_uri": "https://localhost:8080/"
    },
    "id": "xxfnfVyV40xQ",
    "outputId": "1f42fd54-a1d5-4cd9-fd79-7e127550ee3f"
   },
   "outputs": [
    {
     "data": {
      "text/plain": [
       "(0.9583333333333334, 0.9583333333333334, 0.9583333333333334)"
      ]
     },
     "execution_count": 163,
     "metadata": {
      "tags": []
     },
     "output_type": "execute_result"
    }
   ],
   "source": [
    "## Test Data\n",
    "y_test_proba = model.predict_proba(x_test)\n",
    "y_tst = [1 if a[1]> 0.65 else 0 for a in y_test_proba]\n",
    "classification_metics(y_test,y_tst)"
   ]
  }
 ],
 "metadata": {
  "colab": {
   "name": "Logistic Regression and Classification Metrics.ipynb",
   "provenance": []
  },
  "kernelspec": {
   "display_name": "Python 3",
   "language": "python",
   "name": "python3"
  },
  "language_info": {
   "codemirror_mode": {
    "name": "ipython",
    "version": 3
   },
   "file_extension": ".py",
   "mimetype": "text/x-python",
   "name": "python",
   "nbconvert_exporter": "python",
   "pygments_lexer": "ipython3",
   "version": "3.7.6"
  }
 },
 "nbformat": 4,
 "nbformat_minor": 4
}
