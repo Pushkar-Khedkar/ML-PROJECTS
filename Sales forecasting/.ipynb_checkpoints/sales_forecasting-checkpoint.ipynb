{
 "cells": [
  {
   "cell_type": "markdown",
   "metadata": {},
   "source": [
    "# DEEP LEARNING EXAM PAPER - II"
   ]
  },
  {
   "cell_type": "markdown",
   "metadata": {},
   "source": [
    "submitted by: Pushkar Khedkar"
   ]
  },
  {
   "cell_type": "markdown",
   "metadata": {},
   "source": [
    "**SALES FORECASTING**\n",
    "\n",
    "A company named ‘XYZ’ sells a variety of health products for people of all ages. Company management has decided to make key decisions on their logistics, supply and production for which they want to check the sales figures for a certain set of years which will help them to invest their bucks and time in taking decisions on key factors.\n",
    "Goal: As a Deep Learning Engineer in the company, you are given historical data with respect to multiple regions of India and years (2005 to 2016). Your goal is to forecast sales for the years 2017 and 2018.\n",
    "Constraints: You should use only LSTM to forecast sales (Should not use any other ML or DL\n",
    "models to generate results).\n",
    "Data Description: Historical sales data of XYZ company from 2005 to 2016. Attribute\n",
    "Information:\n",
    "1. HQ - This attribute represents HeadQuarters of the company.\n",
    "2. Country - This attribute represents the country of the outlet.\n",
    "3. State_of_outlet - This attribute represents the state of the outlet.\n",
    "4. City_of_outlet - This attribute represents the city of the outlet.\n",
    "5. Month - This attribute represents month(ranging from 1 to 12 )\n",
    "6. Day - This attribute represents day of the month(ranging from 1 to 31)\n",
    "7. Year - This attribute represents year(ranging from 2005 to 2016)\n",
    "8. Total_Sales - Target variable (total sales on particular day). This is basically the sale index value. For eg: if value is 60 then you can assume total sale happened is 60*10,000 USD.\n",
    "\n",
    "*Provided Files*:\n",
    "\n",
    "**Train Data:** \n",
    "This contains a csv file consisting of data from years 2005 to 2016. Use this data for training the model and forecast sales for the years 2017 and 2018.\n",
    "\n",
    "**Evaluation Criteria:**\n",
    "The evaluation metric for this problem statement is the Mean Absolute Error"
   ]
  },
  {
   "cell_type": "code",
   "execution_count": 1,
   "metadata": {},
   "outputs": [],
   "source": [
    "#importing essential liabraries\n",
    "import pandas as pd\n",
    "import numpy as np\n",
    "import matplotlib.pyplot as plt\n",
    "import seaborn as sns\n",
    "from dateutil import parser\n",
    "from sklearn.model_selection import train_test_split\n",
    "from sklearn.preprocessing import MinMaxScaler\n",
    "from tensorflow.keras.preprocessing.sequence import TimeseriesGenerator\n",
    "from tensorflow.keras.models import Sequential\n",
    "from tensorflow.keras.layers import Dense , LSTM\n",
    "from tensorflow.keras.callbacks import EarlyStopping\n",
    "from sklearn.metrics import mean_squared_error\n",
    "import warnings\n",
    "from pandas.core.common import SettingWithCopyWarning\n",
    "warnings.simplefilter(action=\"ignore\", category=SettingWithCopyWarning)"
   ]
  },
  {
   "cell_type": "code",
   "execution_count": 2,
   "metadata": {},
   "outputs": [],
   "source": [
    "#loading the data\n",
    "df = pd.read_excel('Sales Forecasting_Train Data.xlsx')"
   ]
  },
  {
   "cell_type": "code",
   "execution_count": 3,
   "metadata": {},
   "outputs": [
    {
     "data": {
      "text/html": [
       "<div>\n",
       "<style scoped>\n",
       "    .dataframe tbody tr th:only-of-type {\n",
       "        vertical-align: middle;\n",
       "    }\n",
       "\n",
       "    .dataframe tbody tr th {\n",
       "        vertical-align: top;\n",
       "    }\n",
       "\n",
       "    .dataframe thead th {\n",
       "        text-align: right;\n",
       "    }\n",
       "</style>\n",
       "<table border=\"1\" class=\"dataframe\">\n",
       "  <thead>\n",
       "    <tr style=\"text-align: right;\">\n",
       "      <th></th>\n",
       "      <th>HQ</th>\n",
       "      <th>Country</th>\n",
       "      <th>State_of_outlet</th>\n",
       "      <th>City_of_outlet</th>\n",
       "      <th>Month</th>\n",
       "      <th>Day</th>\n",
       "      <th>Year</th>\n",
       "      <th>Total_Sales</th>\n",
       "    </tr>\n",
       "  </thead>\n",
       "  <tbody>\n",
       "    <tr>\n",
       "      <th>0</th>\n",
       "      <td>Asia</td>\n",
       "      <td>India</td>\n",
       "      <td>NaN</td>\n",
       "      <td>Bombay (Mumbai)</td>\n",
       "      <td>1</td>\n",
       "      <td>1</td>\n",
       "      <td>2005</td>\n",
       "      <td>72.2</td>\n",
       "    </tr>\n",
       "    <tr>\n",
       "      <th>1</th>\n",
       "      <td>Asia</td>\n",
       "      <td>India</td>\n",
       "      <td>NaN</td>\n",
       "      <td>Bombay (Mumbai)</td>\n",
       "      <td>1</td>\n",
       "      <td>2</td>\n",
       "      <td>2005</td>\n",
       "      <td>72.7</td>\n",
       "    </tr>\n",
       "    <tr>\n",
       "      <th>2</th>\n",
       "      <td>Asia</td>\n",
       "      <td>India</td>\n",
       "      <td>NaN</td>\n",
       "      <td>Bombay (Mumbai)</td>\n",
       "      <td>1</td>\n",
       "      <td>3</td>\n",
       "      <td>2005</td>\n",
       "      <td>74.3</td>\n",
       "    </tr>\n",
       "    <tr>\n",
       "      <th>3</th>\n",
       "      <td>Asia</td>\n",
       "      <td>India</td>\n",
       "      <td>NaN</td>\n",
       "      <td>Bombay (Mumbai)</td>\n",
       "      <td>1</td>\n",
       "      <td>4</td>\n",
       "      <td>2005</td>\n",
       "      <td>78.9</td>\n",
       "    </tr>\n",
       "    <tr>\n",
       "      <th>4</th>\n",
       "      <td>Asia</td>\n",
       "      <td>India</td>\n",
       "      <td>NaN</td>\n",
       "      <td>Bombay (Mumbai)</td>\n",
       "      <td>1</td>\n",
       "      <td>5</td>\n",
       "      <td>2005</td>\n",
       "      <td>81.5</td>\n",
       "    </tr>\n",
       "  </tbody>\n",
       "</table>\n",
       "</div>"
      ],
      "text/plain": [
       "     HQ Country  State_of_outlet   City_of_outlet  Month  Day  Year  \\\n",
       "0  Asia   India              NaN  Bombay (Mumbai)      1    1  2005   \n",
       "1  Asia   India              NaN  Bombay (Mumbai)      1    2  2005   \n",
       "2  Asia   India              NaN  Bombay (Mumbai)      1    3  2005   \n",
       "3  Asia   India              NaN  Bombay (Mumbai)      1    4  2005   \n",
       "4  Asia   India              NaN  Bombay (Mumbai)      1    5  2005   \n",
       "\n",
       "   Total_Sales  \n",
       "0         72.2  \n",
       "1         72.7  \n",
       "2         74.3  \n",
       "3         78.9  \n",
       "4         81.5  "
      ]
     },
     "execution_count": 3,
     "metadata": {},
     "output_type": "execute_result"
    }
   ],
   "source": [
    "df.head()"
   ]
  },
  {
   "cell_type": "code",
   "execution_count": 4,
   "metadata": {},
   "outputs": [
    {
     "name": "stdout",
     "output_type": "stream",
     "text": [
      "Dataset contains 17536 datapoints and 8 features.\n"
     ]
    }
   ],
   "source": [
    "print(\"Dataset contains {} datapoints and {} features.\".format(df.shape[0],df.shape[1]))"
   ]
  },
  {
   "cell_type": "code",
   "execution_count": 5,
   "metadata": {},
   "outputs": [],
   "source": [
    "df1 = df.copy()   #keeping the copy of original dataframe before proceeding further"
   ]
  },
  {
   "cell_type": "code",
   "execution_count": 6,
   "metadata": {},
   "outputs": [
    {
     "data": {
      "text/plain": [
       "HQ                     0\n",
       "Country                0\n",
       "State_of_outlet    17536\n",
       "City_of_outlet         0\n",
       "Month                  0\n",
       "Day                    0\n",
       "Year                   0\n",
       "Total_Sales            0\n",
       "dtype: int64"
      ]
     },
     "execution_count": 6,
     "metadata": {},
     "output_type": "execute_result"
    }
   ],
   "source": [
    "df.isnull().sum()"
   ]
  },
  {
   "cell_type": "code",
   "execution_count": 7,
   "metadata": {},
   "outputs": [],
   "source": [
    "#dropping state of outlet since it has all the null values. dropping other irrelevent features as well.\n",
    "df.drop(columns= [\"State_of_outlet\",\"City_of_outlet\",\"Country\",\"HQ\"],inplace = True)"
   ]
  },
  {
   "cell_type": "code",
   "execution_count": 8,
   "metadata": {},
   "outputs": [],
   "source": [
    "#creating a datetime column\n",
    "df['Date'] = df[\"Day\"].astype(str) +\"-\"+ df[\"Month\"].astype(str)+\"-\"+ df[\"Year\"].astype(str)\n",
    "df[\"Date\"] = df[\"Date\"].apply(lambda x: parser.parse(x))"
   ]
  },
  {
   "cell_type": "code",
   "execution_count": 9,
   "metadata": {},
   "outputs": [],
   "source": [
    "df.drop(columns=[\"Day\",\"Month\",\"Year\"], inplace=True)"
   ]
  },
  {
   "cell_type": "code",
   "execution_count": 10,
   "metadata": {},
   "outputs": [
    {
     "data": {
      "text/html": [
       "<div>\n",
       "<style scoped>\n",
       "    .dataframe tbody tr th:only-of-type {\n",
       "        vertical-align: middle;\n",
       "    }\n",
       "\n",
       "    .dataframe tbody tr th {\n",
       "        vertical-align: top;\n",
       "    }\n",
       "\n",
       "    .dataframe thead th {\n",
       "        text-align: right;\n",
       "    }\n",
       "</style>\n",
       "<table border=\"1\" class=\"dataframe\">\n",
       "  <thead>\n",
       "    <tr style=\"text-align: right;\">\n",
       "      <th></th>\n",
       "      <th>Total_Sales</th>\n",
       "      <th>Date</th>\n",
       "    </tr>\n",
       "  </thead>\n",
       "  <tbody>\n",
       "    <tr>\n",
       "      <th>0</th>\n",
       "      <td>72.2</td>\n",
       "      <td>2005-01-01</td>\n",
       "    </tr>\n",
       "    <tr>\n",
       "      <th>1</th>\n",
       "      <td>72.7</td>\n",
       "      <td>2005-02-01</td>\n",
       "    </tr>\n",
       "    <tr>\n",
       "      <th>2</th>\n",
       "      <td>74.3</td>\n",
       "      <td>2005-03-01</td>\n",
       "    </tr>\n",
       "    <tr>\n",
       "      <th>3</th>\n",
       "      <td>78.9</td>\n",
       "      <td>2005-04-01</td>\n",
       "    </tr>\n",
       "    <tr>\n",
       "      <th>4</th>\n",
       "      <td>81.5</td>\n",
       "      <td>2005-05-01</td>\n",
       "    </tr>\n",
       "  </tbody>\n",
       "</table>\n",
       "</div>"
      ],
      "text/plain": [
       "   Total_Sales       Date\n",
       "0         72.2 2005-01-01\n",
       "1         72.7 2005-02-01\n",
       "2         74.3 2005-03-01\n",
       "3         78.9 2005-04-01\n",
       "4         81.5 2005-05-01"
      ]
     },
     "execution_count": 10,
     "metadata": {},
     "output_type": "execute_result"
    }
   ],
   "source": [
    "df.head()"
   ]
  },
  {
   "cell_type": "code",
   "execution_count": 11,
   "metadata": {},
   "outputs": [],
   "source": [
    "monthly_sales = df.groupby(pd.Grouper(key='Date',freq='M')).sum() #sales per month"
   ]
  },
  {
   "cell_type": "code",
   "execution_count": 12,
   "metadata": {},
   "outputs": [
    {
     "data": {
      "text/html": [
       "<div>\n",
       "<style scoped>\n",
       "    .dataframe tbody tr th:only-of-type {\n",
       "        vertical-align: middle;\n",
       "    }\n",
       "\n",
       "    .dataframe tbody tr th {\n",
       "        vertical-align: top;\n",
       "    }\n",
       "\n",
       "    .dataframe thead th {\n",
       "        text-align: right;\n",
       "    }\n",
       "</style>\n",
       "<table border=\"1\" class=\"dataframe\">\n",
       "  <thead>\n",
       "    <tr style=\"text-align: right;\">\n",
       "      <th></th>\n",
       "      <th>Total_Sales</th>\n",
       "    </tr>\n",
       "    <tr>\n",
       "      <th>Date</th>\n",
       "      <th></th>\n",
       "    </tr>\n",
       "  </thead>\n",
       "  <tbody>\n",
       "    <tr>\n",
       "      <th>2005-01-31</th>\n",
       "      <td>9062.2</td>\n",
       "    </tr>\n",
       "    <tr>\n",
       "      <th>2005-02-28</th>\n",
       "      <td>8638.0</td>\n",
       "    </tr>\n",
       "    <tr>\n",
       "      <th>2005-03-31</th>\n",
       "      <td>9988.6</td>\n",
       "    </tr>\n",
       "    <tr>\n",
       "      <th>2005-04-30</th>\n",
       "      <td>9925.9</td>\n",
       "    </tr>\n",
       "    <tr>\n",
       "      <th>2005-05-31</th>\n",
       "      <td>10591.7</td>\n",
       "    </tr>\n",
       "  </tbody>\n",
       "</table>\n",
       "</div>"
      ],
      "text/plain": [
       "            Total_Sales\n",
       "Date                   \n",
       "2005-01-31       9062.2\n",
       "2005-02-28       8638.0\n",
       "2005-03-31       9988.6\n",
       "2005-04-30       9925.9\n",
       "2005-05-31      10591.7"
      ]
     },
     "execution_count": 12,
     "metadata": {},
     "output_type": "execute_result"
    }
   ],
   "source": [
    "monthly_sales.head()"
   ]
  },
  {
   "cell_type": "code",
   "execution_count": 13,
   "metadata": {},
   "outputs": [
    {
     "data": {
      "text/plain": [
       "(144, 1)"
      ]
     },
     "execution_count": 13,
     "metadata": {},
     "output_type": "execute_result"
    }
   ],
   "source": [
    "monthly_sales.shape"
   ]
  },
  {
   "cell_type": "markdown",
   "metadata": {},
   "source": [
    "### Train-test split"
   ]
  },
  {
   "cell_type": "markdown",
   "metadata": {},
   "source": [
    "We take 80% data for training and 20% data for testing. but we have to do this in orderly fashion. we take last 20% rows for testing and use first 80% for training purpose."
   ]
  },
  {
   "cell_type": "code",
   "execution_count": 14,
   "metadata": {},
   "outputs": [],
   "source": [
    "train_df, test_df = train_test_split(monthly_sales, shuffle=False, test_size= 0.2, random_state=13)"
   ]
  },
  {
   "cell_type": "code",
   "execution_count": 15,
   "metadata": {},
   "outputs": [
    {
     "name": "stdout",
     "output_type": "stream",
     "text": [
      "No. of months of in training data:  115\n",
      "No. of months of in testing data:  29\n"
     ]
    }
   ],
   "source": [
    "print(\"No. of months of in training data: \", train_df.shape[0])\n",
    "print(\"No. of months of in testing data: \", test_df.shape[0])"
   ]
  },
  {
   "cell_type": "code",
   "execution_count": 16,
   "metadata": {},
   "outputs": [
    {
     "data": {
      "text/html": [
       "<div>\n",
       "<style scoped>\n",
       "    .dataframe tbody tr th:only-of-type {\n",
       "        vertical-align: middle;\n",
       "    }\n",
       "\n",
       "    .dataframe tbody tr th {\n",
       "        vertical-align: top;\n",
       "    }\n",
       "\n",
       "    .dataframe thead th {\n",
       "        text-align: right;\n",
       "    }\n",
       "</style>\n",
       "<table border=\"1\" class=\"dataframe\">\n",
       "  <thead>\n",
       "    <tr style=\"text-align: right;\">\n",
       "      <th></th>\n",
       "      <th>Total_Sales</th>\n",
       "    </tr>\n",
       "    <tr>\n",
       "      <th>Date</th>\n",
       "      <th></th>\n",
       "    </tr>\n",
       "  </thead>\n",
       "  <tbody>\n",
       "    <tr>\n",
       "      <th>2014-03-31</th>\n",
       "      <td>10044.2</td>\n",
       "    </tr>\n",
       "    <tr>\n",
       "      <th>2014-04-30</th>\n",
       "      <td>10113.1</td>\n",
       "    </tr>\n",
       "    <tr>\n",
       "      <th>2014-05-31</th>\n",
       "      <td>10624.6</td>\n",
       "    </tr>\n",
       "    <tr>\n",
       "      <th>2014-06-30</th>\n",
       "      <td>9617.6</td>\n",
       "    </tr>\n",
       "    <tr>\n",
       "      <th>2014-07-31</th>\n",
       "      <td>10426.1</td>\n",
       "    </tr>\n",
       "  </tbody>\n",
       "</table>\n",
       "</div>"
      ],
      "text/plain": [
       "            Total_Sales\n",
       "Date                   \n",
       "2014-03-31      10044.2\n",
       "2014-04-30      10113.1\n",
       "2014-05-31      10624.6\n",
       "2014-06-30       9617.6\n",
       "2014-07-31      10426.1"
      ]
     },
     "execution_count": 16,
     "metadata": {},
     "output_type": "execute_result"
    }
   ],
   "source": [
    "train_df.tail()"
   ]
  },
  {
   "cell_type": "code",
   "execution_count": 17,
   "metadata": {},
   "outputs": [
    {
     "data": {
      "text/html": [
       "<div>\n",
       "<style scoped>\n",
       "    .dataframe tbody tr th:only-of-type {\n",
       "        vertical-align: middle;\n",
       "    }\n",
       "\n",
       "    .dataframe tbody tr th {\n",
       "        vertical-align: top;\n",
       "    }\n",
       "\n",
       "    .dataframe thead th {\n",
       "        text-align: right;\n",
       "    }\n",
       "</style>\n",
       "<table border=\"1\" class=\"dataframe\">\n",
       "  <thead>\n",
       "    <tr style=\"text-align: right;\">\n",
       "      <th></th>\n",
       "      <th>Total_Sales</th>\n",
       "    </tr>\n",
       "    <tr>\n",
       "      <th>Date</th>\n",
       "      <th></th>\n",
       "    </tr>\n",
       "  </thead>\n",
       "  <tbody>\n",
       "    <tr>\n",
       "      <th>2016-08-31</th>\n",
       "      <td>10461.8</td>\n",
       "    </tr>\n",
       "    <tr>\n",
       "      <th>2016-09-30</th>\n",
       "      <td>9871.1</td>\n",
       "    </tr>\n",
       "    <tr>\n",
       "      <th>2016-10-31</th>\n",
       "      <td>9521.9</td>\n",
       "    </tr>\n",
       "    <tr>\n",
       "      <th>2016-11-30</th>\n",
       "      <td>8769.0</td>\n",
       "    </tr>\n",
       "    <tr>\n",
       "      <th>2016-12-31</th>\n",
       "      <td>9430.3</td>\n",
       "    </tr>\n",
       "  </tbody>\n",
       "</table>\n",
       "</div>"
      ],
      "text/plain": [
       "            Total_Sales\n",
       "Date                   \n",
       "2016-08-31      10461.8\n",
       "2016-09-30       9871.1\n",
       "2016-10-31       9521.9\n",
       "2016-11-30       8769.0\n",
       "2016-12-31       9430.3"
      ]
     },
     "execution_count": 17,
     "metadata": {},
     "output_type": "execute_result"
    }
   ],
   "source": [
    "test_df.tail()"
   ]
  },
  {
   "cell_type": "markdown",
   "metadata": {},
   "source": [
    "### Scaling the data:"
   ]
  },
  {
   "cell_type": "code",
   "execution_count": 18,
   "metadata": {},
   "outputs": [],
   "source": [
    "MMS = MinMaxScaler()\n",
    "train = MMS.fit_transform(train_df)\n",
    "test = MMS.transform(test_df)"
   ]
  },
  {
   "cell_type": "markdown",
   "metadata": {},
   "source": [
    "# LSTM MODEL"
   ]
  },
  {
   "cell_type": "code",
   "execution_count": 19,
   "metadata": {},
   "outputs": [],
   "source": [
    "TSG = TimeseriesGenerator(train , train , length= 100, batch_size=1)    #Time series Generator"
   ]
  },
  {
   "cell_type": "code",
   "execution_count": 20,
   "metadata": {},
   "outputs": [],
   "source": [
    "# defining model\n",
    "model=Sequential()\n",
    "model.add(LSTM(50,return_sequences=True,input_shape=(100,1)))\n",
    "model.add(LSTM(50,return_sequences=True))\n",
    "model.add(LSTM(50))\n",
    "model.add(Dense(1))\n",
    "model.compile(loss='mean_squared_error',optimizer='adam')"
   ]
  },
  {
   "cell_type": "code",
   "execution_count": 21,
   "metadata": {},
   "outputs": [],
   "source": [
    "val_gen= TimeseriesGenerator(test ,test , length= 20 ,batch_size=1)\n",
    "early_stop = EarlyStopping(monitor = 'val_loss', patience= 2)"
   ]
  },
  {
   "cell_type": "code",
   "execution_count": 22,
   "metadata": {},
   "outputs": [
    {
     "name": "stdout",
     "output_type": "stream",
     "text": [
      "Epoch 1/100\n",
      "15/15 [==============================] - 4s 100ms/step - loss: 0.1200 - val_loss: 0.0787\n",
      "Epoch 2/100\n",
      "15/15 [==============================] - 1s 52ms/step - loss: 0.1306 - val_loss: 0.1224\n",
      "Epoch 3/100\n",
      "15/15 [==============================] - 1s 52ms/step - loss: 0.0799 - val_loss: 0.0638\n",
      "Epoch 4/100\n",
      "15/15 [==============================] - 1s 52ms/step - loss: 0.0709 - val_loss: 0.0856\n",
      "Epoch 5/100\n",
      "15/15 [==============================] - 1s 52ms/step - loss: 0.0742 - val_loss: 0.0635\n",
      "Epoch 6/100\n",
      "15/15 [==============================] - 1s 52ms/step - loss: 0.0767 - val_loss: 0.0842\n",
      "Epoch 7/100\n",
      "15/15 [==============================] - 1s 52ms/step - loss: 0.0753 - val_loss: 0.0649\n",
      "Epoch 8/100\n",
      "15/15 [==============================] - 1s 52ms/step - loss: 0.0686 - val_loss: 0.0747\n",
      "Epoch 9/100\n",
      "15/15 [==============================] - 1s 52ms/step - loss: 0.0735 - val_loss: 0.0717\n",
      "Epoch 10/100\n",
      "15/15 [==============================] - 1s 52ms/step - loss: 0.0696 - val_loss: 0.0630\n",
      "Epoch 11/100\n",
      "15/15 [==============================] - 1s 53ms/step - loss: 0.0679 - val_loss: 0.0613\n",
      "Epoch 12/100\n",
      "15/15 [==============================] - 1s 53ms/step - loss: 0.0696 - val_loss: 0.0686\n",
      "Epoch 13/100\n",
      "15/15 [==============================] - 1s 53ms/step - loss: 0.0657 - val_loss: 0.0633\n",
      "Epoch 14/100\n",
      "15/15 [==============================] - 1s 53ms/step - loss: 0.0641 - val_loss: 0.0701\n",
      "Epoch 15/100\n",
      "15/15 [==============================] - 1s 53ms/step - loss: 0.0669 - val_loss: 0.0668\n",
      "Epoch 16/100\n",
      "15/15 [==============================] - 1s 53ms/step - loss: 0.0647 - val_loss: 0.0642\n",
      "Epoch 17/100\n",
      "15/15 [==============================] - 1s 52ms/step - loss: 0.0615 - val_loss: 0.0702\n",
      "Epoch 18/100\n",
      "15/15 [==============================] - 1s 52ms/step - loss: 0.0673 - val_loss: 0.0546\n",
      "Epoch 19/100\n",
      "15/15 [==============================] - 1s 52ms/step - loss: 0.0679 - val_loss: 0.0500\n",
      "Epoch 20/100\n",
      "15/15 [==============================] - 1s 52ms/step - loss: 0.0645 - val_loss: 0.0386\n",
      "Epoch 21/100\n",
      "15/15 [==============================] - 1s 53ms/step - loss: 0.0414 - val_loss: 0.0247\n",
      "Epoch 22/100\n",
      "15/15 [==============================] - 1s 52ms/step - loss: 0.0345 - val_loss: 0.0129\n",
      "Epoch 23/100\n",
      "15/15 [==============================] - 1s 53ms/step - loss: 0.0331 - val_loss: 0.0107\n",
      "Epoch 24/100\n",
      "15/15 [==============================] - 1s 52ms/step - loss: 0.0386 - val_loss: 0.0107\n",
      "Epoch 25/100\n",
      "15/15 [==============================] - 1s 52ms/step - loss: 0.0282 - val_loss: 0.0123\n",
      "Epoch 26/100\n",
      "15/15 [==============================] - 1s 53ms/step - loss: 0.0365 - val_loss: 0.0130\n",
      "Epoch 27/100\n",
      "15/15 [==============================] - 1s 53ms/step - loss: 0.0281 - val_loss: 0.0098\n",
      "Epoch 28/100\n",
      "15/15 [==============================] - 1s 52ms/step - loss: 0.0287 - val_loss: 0.0161\n",
      "Epoch 29/100\n",
      "15/15 [==============================] - 1s 52ms/step - loss: 0.0327 - val_loss: 0.0107\n",
      "Epoch 30/100\n",
      "15/15 [==============================] - 1s 52ms/step - loss: 0.0311 - val_loss: 0.0107\n",
      "Epoch 31/100\n",
      "15/15 [==============================] - 1s 52ms/step - loss: 0.0319 - val_loss: 0.0099\n",
      "Epoch 32/100\n",
      "15/15 [==============================] - 1s 53ms/step - loss: 0.0286 - val_loss: 0.0093\n",
      "Epoch 33/100\n",
      "15/15 [==============================] - 1s 52ms/step - loss: 0.0294 - val_loss: 0.0102\n",
      "Epoch 34/100\n",
      "15/15 [==============================] - 1s 52ms/step - loss: 0.0259 - val_loss: 0.0102\n",
      "Epoch 35/100\n",
      "15/15 [==============================] - 1s 52ms/step - loss: 0.0307 - val_loss: 0.0095\n",
      "Epoch 36/100\n",
      "15/15 [==============================] - 1s 52ms/step - loss: 0.0287 - val_loss: 0.0131\n",
      "Epoch 37/100\n",
      "15/15 [==============================] - 1s 53ms/step - loss: 0.0272 - val_loss: 0.0097\n",
      "Epoch 38/100\n",
      "15/15 [==============================] - 1s 53ms/step - loss: 0.0255 - val_loss: 0.0125\n",
      "Epoch 39/100\n",
      "15/15 [==============================] - 1s 52ms/step - loss: 0.0270 - val_loss: 0.0097\n",
      "Epoch 40/100\n",
      "15/15 [==============================] - 1s 53ms/step - loss: 0.0264 - val_loss: 0.0149\n",
      "Epoch 41/100\n",
      "15/15 [==============================] - 1s 52ms/step - loss: 0.0291 - val_loss: 0.0127\n",
      "Epoch 42/100\n",
      "15/15 [==============================] - 1s 52ms/step - loss: 0.0251 - val_loss: 0.0102\n",
      "Epoch 43/100\n",
      "15/15 [==============================] - 1s 52ms/step - loss: 0.0259 - val_loss: 0.0121\n",
      "Epoch 44/100\n",
      "15/15 [==============================] - 1s 52ms/step - loss: 0.0253 - val_loss: 0.0159\n",
      "Epoch 45/100\n",
      "15/15 [==============================] - 1s 52ms/step - loss: 0.0364 - val_loss: 0.0173\n",
      "Epoch 46/100\n",
      "15/15 [==============================] - 1s 52ms/step - loss: 0.0219 - val_loss: 0.0132\n",
      "Epoch 47/100\n",
      "15/15 [==============================] - 1s 52ms/step - loss: 0.0321 - val_loss: 0.0221\n",
      "Epoch 48/100\n",
      "15/15 [==============================] - 1s 53ms/step - loss: 0.0251 - val_loss: 0.0117\n",
      "Epoch 49/100\n",
      "15/15 [==============================] - 1s 52ms/step - loss: 0.0239 - val_loss: 0.0130\n",
      "Epoch 50/100\n",
      "15/15 [==============================] - 1s 53ms/step - loss: 0.0244 - val_loss: 0.0130\n",
      "Epoch 51/100\n",
      "15/15 [==============================] - 1s 52ms/step - loss: 0.0262 - val_loss: 0.0216\n",
      "Epoch 52/100\n",
      "15/15 [==============================] - 1s 53ms/step - loss: 0.0244 - val_loss: 0.0114\n",
      "Epoch 53/100\n",
      "15/15 [==============================] - 1s 52ms/step - loss: 0.0222 - val_loss: 0.0148\n",
      "Epoch 54/100\n",
      "15/15 [==============================] - 1s 52ms/step - loss: 0.0184 - val_loss: 0.0155\n",
      "Epoch 55/100\n",
      "15/15 [==============================] - 1s 52ms/step - loss: 0.0233 - val_loss: 0.0145\n",
      "Epoch 56/100\n",
      "15/15 [==============================] - 1s 52ms/step - loss: 0.0206 - val_loss: 0.0166\n",
      "Epoch 57/100\n",
      "15/15 [==============================] - 1s 52ms/step - loss: 0.0209 - val_loss: 0.0143\n",
      "Epoch 58/100\n",
      "15/15 [==============================] - 1s 52ms/step - loss: 0.0306 - val_loss: 0.0245\n",
      "Epoch 59/100\n",
      "15/15 [==============================] - 1s 52ms/step - loss: 0.0228 - val_loss: 0.0164\n",
      "Epoch 60/100\n",
      "15/15 [==============================] - 1s 53ms/step - loss: 0.0270 - val_loss: 0.0165\n",
      "Epoch 61/100\n",
      "15/15 [==============================] - 1s 53ms/step - loss: 0.0271 - val_loss: 0.0151\n",
      "Epoch 62/100\n",
      "15/15 [==============================] - 1s 53ms/step - loss: 0.0246 - val_loss: 0.0170\n",
      "Epoch 63/100\n",
      "15/15 [==============================] - 1s 52ms/step - loss: 0.0200 - val_loss: 0.0184\n",
      "Epoch 64/100\n",
      "15/15 [==============================] - 1s 52ms/step - loss: 0.0198 - val_loss: 0.0171\n",
      "Epoch 65/100\n",
      "15/15 [==============================] - 1s 52ms/step - loss: 0.0174 - val_loss: 0.0176\n",
      "Epoch 66/100\n",
      "15/15 [==============================] - 1s 53ms/step - loss: 0.0222 - val_loss: 0.0217\n",
      "Epoch 67/100\n",
      "15/15 [==============================] - 1s 52ms/step - loss: 0.0178 - val_loss: 0.0182\n",
      "Epoch 68/100\n",
      "15/15 [==============================] - 1s 52ms/step - loss: 0.0193 - val_loss: 0.0221\n",
      "Epoch 69/100\n",
      "15/15 [==============================] - 1s 53ms/step - loss: 0.0199 - val_loss: 0.0201\n",
      "Epoch 70/100\n",
      "15/15 [==============================] - 1s 52ms/step - loss: 0.0166 - val_loss: 0.0236\n",
      "Epoch 71/100\n",
      "15/15 [==============================] - 1s 53ms/step - loss: 0.0229 - val_loss: 0.0203\n",
      "Epoch 72/100\n",
      "15/15 [==============================] - 1s 54ms/step - loss: 0.0179 - val_loss: 0.0231\n",
      "Epoch 73/100\n",
      "15/15 [==============================] - 1s 53ms/step - loss: 0.0194 - val_loss: 0.0226\n",
      "Epoch 74/100\n",
      "15/15 [==============================] - 1s 52ms/step - loss: 0.0215 - val_loss: 0.0198\n",
      "Epoch 75/100\n",
      "15/15 [==============================] - 1s 52ms/step - loss: 0.0237 - val_loss: 0.0230\n",
      "Epoch 76/100\n",
      "15/15 [==============================] - 1s 53ms/step - loss: 0.0273 - val_loss: 0.0183\n",
      "Epoch 77/100\n",
      "15/15 [==============================] - 1s 53ms/step - loss: 0.0224 - val_loss: 0.0113\n",
      "Epoch 78/100\n",
      "15/15 [==============================] - 1s 53ms/step - loss: 0.0257 - val_loss: 0.0193\n",
      "Epoch 79/100\n",
      "15/15 [==============================] - 1s 53ms/step - loss: 0.0369 - val_loss: 0.0188\n",
      "Epoch 80/100\n",
      "15/15 [==============================] - 1s 52ms/step - loss: 0.0237 - val_loss: 0.0208\n",
      "Epoch 81/100\n",
      "15/15 [==============================] - 1s 53ms/step - loss: 0.0273 - val_loss: 0.0125\n",
      "Epoch 82/100\n",
      "15/15 [==============================] - 1s 52ms/step - loss: 0.0244 - val_loss: 0.0171\n",
      "Epoch 83/100\n",
      "15/15 [==============================] - 1s 53ms/step - loss: 0.0243 - val_loss: 0.0149\n",
      "Epoch 84/100\n",
      "15/15 [==============================] - 1s 52ms/step - loss: 0.0173 - val_loss: 0.0155\n",
      "Epoch 85/100\n",
      "15/15 [==============================] - 1s 52ms/step - loss: 0.0223 - val_loss: 0.0162\n",
      "Epoch 86/100\n",
      "15/15 [==============================] - 1s 53ms/step - loss: 0.0203 - val_loss: 0.0165\n",
      "Epoch 87/100\n",
      "15/15 [==============================] - 1s 54ms/step - loss: 0.0205 - val_loss: 0.0159\n",
      "Epoch 88/100\n",
      "15/15 [==============================] - 1s 52ms/step - loss: 0.0240 - val_loss: 0.0185\n",
      "Epoch 89/100\n",
      "15/15 [==============================] - 1s 53ms/step - loss: 0.0187 - val_loss: 0.0161\n",
      "Epoch 90/100\n",
      "15/15 [==============================] - 1s 53ms/step - loss: 0.0191 - val_loss: 0.0160\n",
      "Epoch 91/100\n",
      "15/15 [==============================] - 1s 53ms/step - loss: 0.0202 - val_loss: 0.0188\n",
      "Epoch 92/100\n",
      "15/15 [==============================] - 1s 53ms/step - loss: 0.0184 - val_loss: 0.0202\n",
      "Epoch 93/100\n",
      "15/15 [==============================] - 1s 52ms/step - loss: 0.0187 - val_loss: 0.0173\n",
      "Epoch 94/100\n",
      "15/15 [==============================] - 1s 53ms/step - loss: 0.0181 - val_loss: 0.0160\n",
      "Epoch 95/100\n",
      "15/15 [==============================] - 1s 52ms/step - loss: 0.0241 - val_loss: 0.0192\n",
      "Epoch 96/100\n",
      "15/15 [==============================] - 1s 53ms/step - loss: 0.0236 - val_loss: 0.0161\n",
      "Epoch 97/100\n",
      "15/15 [==============================] - 1s 52ms/step - loss: 0.0174 - val_loss: 0.0170\n",
      "Epoch 98/100\n",
      "15/15 [==============================] - 1s 53ms/step - loss: 0.0162 - val_loss: 0.0180\n",
      "Epoch 99/100\n",
      "15/15 [==============================] - 1s 52ms/step - loss: 0.0261 - val_loss: 0.0176\n",
      "Epoch 100/100\n",
      "15/15 [==============================] - 1s 52ms/step - loss: 0.0199 - val_loss: 0.0197\n"
     ]
    },
    {
     "data": {
      "text/plain": [
       "<keras.callbacks.History at 0x1a3e0131e88>"
      ]
     },
     "execution_count": 22,
     "metadata": {},
     "output_type": "execute_result"
    }
   ],
   "source": [
    "model.fit(TSG , epochs=100 , validation_data=val_gen)  #fitting the model"
   ]
  },
  {
   "cell_type": "code",
   "execution_count": 23,
   "metadata": {},
   "outputs": [
    {
     "data": {
      "text/plain": [
       "<matplotlib.axes._subplots.AxesSubplot at 0x1a3ee754f48>"
      ]
     },
     "execution_count": 23,
     "metadata": {},
     "output_type": "execute_result"
    },
    {
     "data": {
      "image/png": "[encoded data removed]",
      "text/plain": [
       "<Figure size 432x288 with 1 Axes>"
      ]
     },
     "metadata": {
      "needs_background": "light"
     },
     "output_type": "display_data"
    }
   ],
   "source": [
    "(pd.DataFrame(model.history.history)).plot()  #plotting loss"
   ]
  },
  {
   "cell_type": "markdown",
   "metadata": {},
   "source": [
    "# Evaulation (TEST)"
   ]
  },
  {
   "cell_type": "code",
   "execution_count": 24,
   "metadata": {},
   "outputs": [],
   "source": [
    "pred_test = []\n",
    "eval_c_1 = train[-100:]\n",
    "eval_c = eval_c_1.reshape((1, 100, 1))\n",
    "for i in range(len(test)):\n",
    "    pred_c = model.predict(eval_c)[0]\n",
    "    pred_test.append(pred_c) \n",
    "    eval_c = np.append(eval_c[:,1:,:],[[pred_c]], axis=1)"
   ]
  },
  {
   "cell_type": "code",
   "execution_count": 25,
   "metadata": {},
   "outputs": [],
   "source": [
    "final_pred = MMS.inverse_transform(pred_test)"
   ]
  },
  {
   "cell_type": "code",
   "execution_count": 26,
   "metadata": {},
   "outputs": [],
   "source": [
    "test_df['predicted sales'] = final_pred"
   ]
  },
  {
   "cell_type": "code",
   "execution_count": 27,
   "metadata": {},
   "outputs": [
    {
     "data": {
      "text/plain": [
       "<matplotlib.axes._subplots.AxesSubplot at 0x1a3efb36548>"
      ]
     },
     "execution_count": 27,
     "metadata": {},
     "output_type": "execute_result"
    },
    {
     "data": {
      "image/png": "[encoded data removed]",
      "text/plain": [
       "<Figure size 432x288 with 1 Axes>"
      ]
     },
     "metadata": {
      "needs_background": "light"
     },
     "output_type": "display_data"
    }
   ],
   "source": [
    "test_df.plot()"
   ]
  },
  {
   "cell_type": "markdown",
   "metadata": {},
   "source": [
    "# MEAN SQUARED ERROR"
   ]
  },
  {
   "cell_type": "code",
   "execution_count": 28,
   "metadata": {},
   "outputs": [
    {
     "data": {
      "text/plain": [
       "205393.69277684728"
      ]
     },
     "execution_count": 28,
     "metadata": {},
     "output_type": "execute_result"
    }
   ],
   "source": [
    "mean_squared_error(test_df['Total_Sales'] , test_df['predicted sales'])"
   ]
  },
  {
   "cell_type": "code",
   "execution_count": 29,
   "metadata": {},
   "outputs": [
    {
     "data": {
      "text/plain": [
       "453.2038093141399"
      ]
     },
     "execution_count": 29,
     "metadata": {},
     "output_type": "execute_result"
    }
   ],
   "source": [
    "#RMSE\n",
    "np.sqrt(mean_squared_error(test_df['Total_Sales'] , test_df['predicted sales']))"
   ]
  },
  {
   "cell_type": "markdown",
   "metadata": {},
   "source": [
    "# FORECASTING"
   ]
  },
  {
   "cell_type": "code",
   "execution_count": 30,
   "metadata": {},
   "outputs": [
    {
     "name": "stdout",
     "output_type": "stream",
     "text": [
      "Epoch 1/50\n",
      "120/120 [==============================] - 1s 4ms/step - loss: 0.0783\n",
      "Epoch 2/50\n",
      "120/120 [==============================] - 0s 4ms/step - loss: 0.0635\n",
      "Epoch 3/50\n",
      "120/120 [==============================] - 0s 4ms/step - loss: 0.0554\n",
      "Epoch 4/50\n",
      "120/120 [==============================] - 0s 4ms/step - loss: 0.0573\n",
      "Epoch 5/50\n",
      "120/120 [==============================] - 0s 4ms/step - loss: 0.0448\n",
      "Epoch 6/50\n",
      "120/120 [==============================] - 0s 4ms/step - loss: 0.0405\n",
      "Epoch 7/50\n",
      "120/120 [==============================] - 0s 4ms/step - loss: 0.0285\n",
      "Epoch 8/50\n",
      "120/120 [==============================] - 0s 4ms/step - loss: 0.0289\n",
      "Epoch 9/50\n",
      "120/120 [==============================] - 0s 4ms/step - loss: 0.0252\n",
      "Epoch 10/50\n",
      "120/120 [==============================] - 0s 4ms/step - loss: 0.0204\n",
      "Epoch 11/50\n",
      "120/120 [==============================] - 0s 4ms/step - loss: 0.0175\n",
      "Epoch 12/50\n",
      "120/120 [==============================] - 0s 4ms/step - loss: 0.0184\n",
      "Epoch 13/50\n",
      "120/120 [==============================] - 0s 4ms/step - loss: 0.0143\n",
      "Epoch 14/50\n",
      "120/120 [==============================] - 0s 4ms/step - loss: 0.0167\n",
      "Epoch 15/50\n",
      "120/120 [==============================] - 0s 4ms/step - loss: 0.0144\n",
      "Epoch 16/50\n",
      "120/120 [==============================] - 0s 4ms/step - loss: 0.0150\n",
      "Epoch 17/50\n",
      "120/120 [==============================] - 0s 4ms/step - loss: 0.0164\n",
      "Epoch 18/50\n",
      "120/120 [==============================] - 0s 4ms/step - loss: 0.0140\n",
      "Epoch 19/50\n",
      "120/120 [==============================] - 0s 4ms/step - loss: 0.0149\n",
      "Epoch 20/50\n",
      "120/120 [==============================] - 0s 4ms/step - loss: 0.0138\n",
      "Epoch 21/50\n",
      "120/120 [==============================] - 0s 4ms/step - loss: 0.0134\n",
      "Epoch 22/50\n",
      "120/120 [==============================] - 0s 4ms/step - loss: 0.0148\n",
      "Epoch 23/50\n",
      "120/120 [==============================] - 0s 4ms/step - loss: 0.0142\n",
      "Epoch 24/50\n",
      "120/120 [==============================] - 0s 4ms/step - loss: 0.0150\n",
      "Epoch 25/50\n",
      "120/120 [==============================] - 0s 4ms/step - loss: 0.0133\n",
      "Epoch 26/50\n",
      "120/120 [==============================] - 0s 4ms/step - loss: 0.0136\n",
      "Epoch 27/50\n",
      "120/120 [==============================] - 0s 4ms/step - loss: 0.0140\n",
      "Epoch 28/50\n",
      "120/120 [==============================] - 0s 4ms/step - loss: 0.0138\n",
      "Epoch 29/50\n",
      "120/120 [==============================] - 0s 4ms/step - loss: 0.0136\n",
      "Epoch 30/50\n",
      "120/120 [==============================] - 0s 4ms/step - loss: 0.0131\n",
      "Epoch 31/50\n",
      "120/120 [==============================] - 0s 4ms/step - loss: 0.0135\n",
      "Epoch 32/50\n",
      "120/120 [==============================] - 0s 4ms/step - loss: 0.0141\n",
      "Epoch 33/50\n",
      "120/120 [==============================] - 0s 4ms/step - loss: 0.0133\n",
      "Epoch 34/50\n",
      "120/120 [==============================] - 0s 4ms/step - loss: 0.0123\n",
      "Epoch 35/50\n",
      "120/120 [==============================] - 0s 4ms/step - loss: 0.0127\n",
      "Epoch 36/50\n",
      "120/120 [==============================] - 0s 4ms/step - loss: 0.0134\n",
      "Epoch 37/50\n",
      "120/120 [==============================] - 0s 4ms/step - loss: 0.0136\n",
      "Epoch 38/50\n",
      "120/120 [==============================] - 0s 4ms/step - loss: 0.0123\n",
      "Epoch 39/50\n",
      "120/120 [==============================] - 0s 4ms/step - loss: 0.0131\n",
      "Epoch 40/50\n",
      "120/120 [==============================] - 0s 4ms/step - loss: 0.0141\n",
      "Epoch 41/50\n",
      "120/120 [==============================] - 0s 4ms/step - loss: 0.0133\n",
      "Epoch 42/50\n",
      "120/120 [==============================] - 0s 4ms/step - loss: 0.0129\n",
      "Epoch 43/50\n",
      "120/120 [==============================] - 0s 4ms/step - loss: 0.0128\n",
      "Epoch 44/50\n",
      "120/120 [==============================] - 0s 4ms/step - loss: 0.0122\n",
      "Epoch 45/50\n",
      "120/120 [==============================] - 0s 4ms/step - loss: 0.0119\n",
      "Epoch 46/50\n",
      "120/120 [==============================] - 0s 4ms/step - loss: 0.0118\n",
      "Epoch 47/50\n",
      "120/120 [==============================] - 0s 4ms/step - loss: 0.0124\n",
      "Epoch 48/50\n",
      "120/120 [==============================] - 0s 4ms/step - loss: 0.0124\n",
      "Epoch 49/50\n",
      "120/120 [==============================] - 0s 4ms/step - loss: 0.0123\n",
      "Epoch 50/50\n",
      "120/120 [==============================] - 0s 4ms/step - loss: 0.0121\n"
     ]
    },
    {
     "data": {
      "text/plain": [
       "<keras.callbacks.History at 0x1a3f1e95e48>"
      ]
     },
     "execution_count": 30,
     "metadata": {},
     "output_type": "execute_result"
    }
   ],
   "source": [
    "final_train = MMS.fit_transform(monthly_sales)\n",
    "TSG = TimeseriesGenerator(final_train,final_train,length=24,batch_size=1)\n",
    "model = Sequential()\n",
    "model.add(LSTM(100, activation = 'relu' , input_shape= (24,1)))\n",
    "model.add(Dense(1))\n",
    "model.compile(optimizer = 'adam' , loss='mse')\n",
    "model.fit(TSG ,epochs= 50)"
   ]
  },
  {
   "cell_type": "code",
   "execution_count": 31,
   "metadata": {},
   "outputs": [],
   "source": [
    "forecast_list = []\n",
    "period = 24  #24 months\n",
    "eval_c_1 = train[-24:]\n",
    "eval_c = eval_c_1.reshape((1, 24, 1))\n",
    "for i in range(period):\n",
    "    pred_c = model.predict(eval_c)[0]\n",
    "    forecast_list.append(pred_c) \n",
    "    eval_c = np.append(eval_c[:,1:,:],[[pred_c]], axis=1)\n",
    "forecast_list = MMS.inverse_transform(forecast_list)\n",
    "fc_index = pd.date_range(start='2017-01-31',periods=period,freq='M')\n",
    "forecasted_sales = pd.DataFrame(data=forecast_list,index=fc_index,columns=['Forecast'])"
   ]
  },
  {
   "cell_type": "markdown",
   "metadata": {},
   "source": [
    "# COMBINED PLOT OF MONTHLY SALES AND FORECASTED SALES"
   ]
  },
  {
   "cell_type": "code",
   "execution_count": 34,
   "metadata": {},
   "outputs": [
    {
     "data": {
      "image/png": "[encoded data removed]",
      "text/plain": [
       "<Figure size 720x432 with 1 Axes>"
      ]
     },
     "metadata": {
      "needs_background": "light"
     },
     "output_type": "display_data"
    }
   ],
   "source": [
    "ax= monthly_sales.plot(figsize=(10,6))\n",
    "forecasted_sales.plot(ax=ax)\n",
    "plt.xlim('2014-01-31','2018-12-31')\n",
    "plt.ylabel(\"* 10000 USD\")     #multiply y axis values by 10000 to get sales in USD\n",
    "plt.show()"
   ]
  }
 ],
 "metadata": {
  "kernelspec": {
   "display_name": "Python 3",
   "language": "python",
   "name": "python3"
  },
  "language_info": {
   "codemirror_mode": {
    "name": "ipython",
    "version": 3
   },
   "file_extension": ".py",
   "mimetype": "text/x-python",
   "name": "python",
   "nbconvert_exporter": "python",
   "pygments_lexer": "ipython3",
   "version": "3.7.6"
  }
 },
 "nbformat": 4,
 "nbformat_minor": 4
}
